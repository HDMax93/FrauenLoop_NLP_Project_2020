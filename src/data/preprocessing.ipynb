{
 "cells": [
  {
   "cell_type": "code",
   "execution_count": 15,
   "metadata": {},
   "outputs": [],
   "source": [
    "### Import packages for preprocessing\n",
    "\n",
    "import pandas as pd\n",
    "import string\n",
    "import spacy\n",
    "\n",
    "## Import packages to create absolute file path & make code independent of operating system\n",
    "\n",
    "from pathlib import Path\n",
    "import os.path\n"
   ]
  },
  {
   "cell_type": "code",
   "execution_count": 2,
   "metadata": {},
   "outputs": [],
   "source": [
    "### Verify that spaCy was installed and that models and data were successfully downloaded\n",
    "\n",
    "nlp = spacy.load('en_core_web_sm')"
   ]
  },
  {
   "cell_type": "code",
   "execution_count": 8,
   "metadata": {},
   "outputs": [],
   "source": [
    "### CSV-data into a dataframe\n",
    "\n",
    "base_path = Path(\"__file__\").parent\n",
    "\n",
    "full_path = (base_path / \"../../data/raw/stackoverflow_raw.csv\").resolve()\n",
    "\n",
    "df_stackoverflow = pd.read_csv(os.path.join(full_path))"
   ]
  },
  {
   "cell_type": "code",
   "execution_count": 11,
   "metadata": {},
   "outputs": [
    {
     "output_type": "execute_result",
     "data": {
      "text/plain": "   Unnamed: 0  question_id  question_id_check  \\\n0           0      1859864            1859864   \n1           1     59920382           59920382   \n2           2     60142014           60142014   \n3           3     57150458           57150458   \n4           4     57066427           57066427   \n\n                                      question_title  \\\n0          How to create an integer array in Python?   \n1  How can I add rows with same string value in s...   \n2  Custom Sort Using a Comma Separated String Bas...   \n3        Can a Retry be configured to retry on null?   \n4  Sum multiple columns that have specific name i...   \n\n                                       question_text  accepted_answer_id  \\\n0  <p>It should not be so hard. I mean in C, </p>...           1859889.0   \n1  <p>i have tried to make this df to the on afte...          59920693.0   \n2  <p>This is an extension to my original questio...          60142496.0   \n3  <p>I am just starting out with resilience4j an...          57151117.0   \n4  <p>I would like to sum the values of <code>Var...          57067383.0   \n\n   answer_count  comment_count community_owned_date  \\\n0             8              3                  NaN   \n1             2              3                  NaN   \n2             1              3                  NaN   \n3             1              2                  NaN   \n4             4              2                  NaN   \n\n                      creation_date  ...  last_editor_display_name  \\\n0  2009-12-07 13:08:31.840000+00:00  ...                       NaN   \n1  2020-01-26 16:32:52.357000+00:00  ...                       NaN   \n2  2020-02-09 22:37:36.787000+00:00  ...                       NaN   \n3  2019-07-22 16:48:52.310000+00:00  ...                       NaN   \n4  2019-07-16 22:52:19.370000+00:00  ...                       NaN   \n\n  last_editor_user_id owner_display_name owner_user_id  post_type_id score  \\\n0                 NaN                NaN      226353.0             1    33   \n1          10035985.0                NaN    12786329.0             1     0   \n2          10018602.0                NaN    10018602.0             1     1   \n3                 NaN                NaN     1997707.0             1     1   \n4             89482.0                NaN    11725370.0             1     2   \n\n                tags  view_count  answer_id  \\\n0      python|arrays      244103   56431492   \n1      python|pandas          32   59920693   \n2          excel|vba          36   60142496   \n3  java|resilience4j          77   57151117   \n4              r|sum          92   57067383   \n\n                                         answer_text  \n0  <pre><code>import numpy as np\\n\\nnew_array=np....  \n1  <p>you need <code>reset_index()</code> along w...  \n2  <p>I couldn't get the <code>Worksheet.Sort</co...  \n3  <p>Create a custom <code>RetryConfig</code> wi...  \n4  <p>Another <code>dplyr</code> way is to use he...  \n\n[5 rows x 23 columns]",
      "text/html": "<div>\n<style scoped>\n    .dataframe tbody tr th:only-of-type {\n        vertical-align: middle;\n    }\n\n    .dataframe tbody tr th {\n        vertical-align: top;\n    }\n\n    .dataframe thead th {\n        text-align: right;\n    }\n</style>\n<table border=\"1\" class=\"dataframe\">\n  <thead>\n    <tr style=\"text-align: right;\">\n      <th></th>\n      <th>Unnamed: 0</th>\n      <th>question_id</th>\n      <th>question_id_check</th>\n      <th>question_title</th>\n      <th>question_text</th>\n      <th>accepted_answer_id</th>\n      <th>answer_count</th>\n      <th>comment_count</th>\n      <th>community_owned_date</th>\n      <th>creation_date</th>\n      <th>...</th>\n      <th>last_editor_display_name</th>\n      <th>last_editor_user_id</th>\n      <th>owner_display_name</th>\n      <th>owner_user_id</th>\n      <th>post_type_id</th>\n      <th>score</th>\n      <th>tags</th>\n      <th>view_count</th>\n      <th>answer_id</th>\n      <th>answer_text</th>\n    </tr>\n  </thead>\n  <tbody>\n    <tr>\n      <th>0</th>\n      <td>0</td>\n      <td>1859864</td>\n      <td>1859864</td>\n      <td>How to create an integer array in Python?</td>\n      <td>&lt;p&gt;It should not be so hard. I mean in C, &lt;/p&gt;...</td>\n      <td>1859889.0</td>\n      <td>8</td>\n      <td>3</td>\n      <td>NaN</td>\n      <td>2009-12-07 13:08:31.840000+00:00</td>\n      <td>...</td>\n      <td>NaN</td>\n      <td>NaN</td>\n      <td>NaN</td>\n      <td>226353.0</td>\n      <td>1</td>\n      <td>33</td>\n      <td>python|arrays</td>\n      <td>244103</td>\n      <td>56431492</td>\n      <td>&lt;pre&gt;&lt;code&gt;import numpy as np\\n\\nnew_array=np....</td>\n    </tr>\n    <tr>\n      <th>1</th>\n      <td>1</td>\n      <td>59920382</td>\n      <td>59920382</td>\n      <td>How can I add rows with same string value in s...</td>\n      <td>&lt;p&gt;i have tried to make this df to the on afte...</td>\n      <td>59920693.0</td>\n      <td>2</td>\n      <td>3</td>\n      <td>NaN</td>\n      <td>2020-01-26 16:32:52.357000+00:00</td>\n      <td>...</td>\n      <td>NaN</td>\n      <td>10035985.0</td>\n      <td>NaN</td>\n      <td>12786329.0</td>\n      <td>1</td>\n      <td>0</td>\n      <td>python|pandas</td>\n      <td>32</td>\n      <td>59920693</td>\n      <td>&lt;p&gt;you need &lt;code&gt;reset_index()&lt;/code&gt; along w...</td>\n    </tr>\n    <tr>\n      <th>2</th>\n      <td>2</td>\n      <td>60142014</td>\n      <td>60142014</td>\n      <td>Custom Sort Using a Comma Separated String Bas...</td>\n      <td>&lt;p&gt;This is an extension to my original questio...</td>\n      <td>60142496.0</td>\n      <td>1</td>\n      <td>3</td>\n      <td>NaN</td>\n      <td>2020-02-09 22:37:36.787000+00:00</td>\n      <td>...</td>\n      <td>NaN</td>\n      <td>10018602.0</td>\n      <td>NaN</td>\n      <td>10018602.0</td>\n      <td>1</td>\n      <td>1</td>\n      <td>excel|vba</td>\n      <td>36</td>\n      <td>60142496</td>\n      <td>&lt;p&gt;I couldn't get the &lt;code&gt;Worksheet.Sort&lt;/co...</td>\n    </tr>\n    <tr>\n      <th>3</th>\n      <td>3</td>\n      <td>57150458</td>\n      <td>57150458</td>\n      <td>Can a Retry be configured to retry on null?</td>\n      <td>&lt;p&gt;I am just starting out with resilience4j an...</td>\n      <td>57151117.0</td>\n      <td>1</td>\n      <td>2</td>\n      <td>NaN</td>\n      <td>2019-07-22 16:48:52.310000+00:00</td>\n      <td>...</td>\n      <td>NaN</td>\n      <td>NaN</td>\n      <td>NaN</td>\n      <td>1997707.0</td>\n      <td>1</td>\n      <td>1</td>\n      <td>java|resilience4j</td>\n      <td>77</td>\n      <td>57151117</td>\n      <td>&lt;p&gt;Create a custom &lt;code&gt;RetryConfig&lt;/code&gt; wi...</td>\n    </tr>\n    <tr>\n      <th>4</th>\n      <td>4</td>\n      <td>57066427</td>\n      <td>57066427</td>\n      <td>Sum multiple columns that have specific name i...</td>\n      <td>&lt;p&gt;I would like to sum the values of &lt;code&gt;Var...</td>\n      <td>57067383.0</td>\n      <td>4</td>\n      <td>2</td>\n      <td>NaN</td>\n      <td>2019-07-16 22:52:19.370000+00:00</td>\n      <td>...</td>\n      <td>NaN</td>\n      <td>89482.0</td>\n      <td>NaN</td>\n      <td>11725370.0</td>\n      <td>1</td>\n      <td>2</td>\n      <td>r|sum</td>\n      <td>92</td>\n      <td>57067383</td>\n      <td>&lt;p&gt;Another &lt;code&gt;dplyr&lt;/code&gt; way is to use he...</td>\n    </tr>\n  </tbody>\n</table>\n<p>5 rows × 23 columns</p>\n</div>"
     },
     "metadata": {},
     "execution_count": 11
    }
   ],
   "source": [
    "df_stackoverflow.head()"
   ]
  },
  {
   "cell_type": "code",
   "execution_count": 12,
   "metadata": {},
   "outputs": [
    {
     "output_type": "execute_result",
     "data": {
      "text/plain": "(1789030, 23)"
     },
     "metadata": {},
     "execution_count": 12
    }
   ],
   "source": [
    "df_stackoverflow.shape"
   ]
  },
  {
   "cell_type": "code",
   "execution_count": 13,
   "metadata": {},
   "outputs": [
    {
     "output_type": "stream",
     "name": "stdout",
     "text": "<class 'pandas.core.frame.DataFrame'>\nRangeIndex: 1789030 entries, 0 to 1789029\nData columns (total 23 columns):\n #   Column                    Dtype  \n---  ------                    -----  \n 0   Unnamed: 0                int64  \n 1   question_id               int64  \n 2   question_id_check         int64  \n 3   question_title            object \n 4   question_text             object \n 5   accepted_answer_id        float64\n 6   answer_count              int64  \n 7   comment_count             int64  \n 8   community_owned_date      object \n 9   creation_date             object \n 10  favorite_count            float64\n 11  last_activity_date        object \n 12  last_edit_date            object \n 13  last_editor_display_name  object \n 14  last_editor_user_id       float64\n 15  owner_display_name        object \n 16  owner_user_id             float64\n 17  post_type_id              int64  \n 18  score                     int64  \n 19  tags                      object \n 20  view_count                int64  \n 21  answer_id                 int64  \n 22  answer_text               object \ndtypes: float64(4), int64(9), object(10)\nmemory usage: 313.9+ MB\n"
    }
   ],
   "source": [
    "df_stackoverflow.info()"
   ]
  },
  {
   "cell_type": "code",
   "execution_count": 14,
   "metadata": {},
   "outputs": [
    {
     "output_type": "execute_result",
     "data": {
      "text/plain": " 0       841004\n 1       362374\n 2       140655\n-1       110430\n 3        62476\n          ...  \n 1232         1\n 2730         1\n 1699         1\n 2266         1\n 2486         1\nName: score, Length: 1510, dtype: int64"
     },
     "metadata": {},
     "execution_count": 14
    }
   ],
   "source": [
    "df_stackoverflow.score.value_counts()"
   ]
  },
  {
   "cell_type": "code",
   "execution_count": null,
   "metadata": {},
   "outputs": [],
   "source": [
    "### https://towardsdatascience.com/machine-learning-for-text-classification-using-spacy-in-python-b276b4051a49\n",
    "\n",
    "### Code from Laura for preprocessing \n",
    "\n",
    "\"\"\"\n",
    "Main script to preprocess a list of texts\n",
    "\"\"\"\n",
    "\n",
    "from utils.data_wranglers import wrangle_amazon_reviews, sample_amazon_reviews, \\\n",
    "    get_amazon_review\n",
    "from utils.spacy_helpers import text2tokens_, text2sentences, text2sentences_custom, text2tokens\n",
    "\n",
    "#\n",
    "# read data\n",
    "#\n",
    "\n",
    "df = wrangle_amazon_reviews()\n",
    "# sample_review = sample_amazon_reviews(df, 1)[0]\n",
    "# review_0 = get_amazon_review(df, 0)\n",
    "review_0_raw = df.loc[0, 'customer_reviews']\n",
    "\n",
    "#\n",
    "# splitting sentences\n",
    "#\n",
    "\n",
    "sentences = text2sentences(review_0_raw)\n",
    "sentences_custom = text2sentences_custom(review_0_raw)\n",
    "\n",
    "#\n",
    "# tokenization\n",
    "#\n",
    "\n",
    "# tokenize a sentence\n",
    "tokens = text2tokens(sentences[0])\n",
    "tokens_ = text2tokens_(sentences[0])\n",
    "[print(t) for t in tokens_]\n",
    "\n",
    "#\n",
    "# output\n",
    "#\n",
    "\n",
    "print('original review:', review_0_raw)\n",
    "print('sentences:', sentences)\n",
    "print('sentences custom:', sentences_custom)\n",
    "print('tokens:', tokens)"
   ]
  },
  {
   "cell_type": "code",
   "execution_count": null,
   "metadata": {},
   "outputs": [],
   "source": [
    "### Tokenization\n"
   ]
  },
  {
   "cell_type": "code",
   "execution_count": null,
   "metadata": {},
   "outputs": [],
   "source": [
    "### Removing stopwords\n",
    "\n"
   ]
  },
  {
   "cell_type": "code",
   "execution_count": null,
   "metadata": {},
   "outputs": [],
   "source": [
    "### Lemmatization\n",
    "\n"
   ]
  },
  {
   "cell_type": "code",
   "execution_count": null,
   "metadata": {},
   "outputs": [],
   "source": [
    "### Part of speech tagging\n",
    "\n"
   ]
  },
  {
   "cell_type": "code",
   "execution_count": null,
   "metadata": {},
   "outputs": [],
   "source": [
    "### Dependency parsing\n",
    "\n"
   ]
  },
  {
   "cell_type": "code",
   "execution_count": null,
   "metadata": {},
   "outputs": [],
   "source": [
    "### Word vectorization\n",
    "\n"
   ]
  }
 ],
 "metadata": {
  "language_info": {
   "codemirror_mode": {
    "name": "ipython",
    "version": 3
   },
   "file_extension": ".py",
   "mimetype": "text/x-python",
   "name": "python",
   "nbconvert_exporter": "python",
   "pygments_lexer": "ipython3",
   "version": "3.8.3-final"
  },
  "orig_nbformat": 2,
  "kernelspec": {
   "name": "python38364bitflnlp20condaf19e36b5e4a44bd2add7a160d1759c9a",
   "display_name": "Python 3.8.3 64-bit ('FLNLP20': conda)"
  }
 },
 "nbformat": 4,
 "nbformat_minor": 2
}