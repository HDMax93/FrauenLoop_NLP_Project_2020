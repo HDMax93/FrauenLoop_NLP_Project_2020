{
 "cells": [
  {
   "cell_type": "code",
   "execution_count": 1,
   "metadata": {},
   "outputs": [],
   "source": [
    "### Import packages for authentication\n",
    "\n",
    "from google.cloud import bigquery\n",
    "from google.oauth2 import service_account\n",
    "\n",
    "### Import packages for converting query results into dataframe\n",
    "\n",
    "import pandas as pd \n",
    "\n",
    "## Import packages to create absolute file path &  make code independent of operating system\n",
    "\n",
    "from pathlib import Path\n",
    "import os.path"
   ]
  },
  {
   "cell_type": "code",
   "execution_count": 6,
   "metadata": {},
   "outputs": [],
   "source": [
    "### Authentication \n",
    "\n",
    "base_path = Path(\"__file__\").parent\n",
    "full_path = (base_path / \"../data/raw/GoogleBigQuery_key.json\").resolve()\n",
    "\n",
    "credentials = service_account.Credentials.from_service_account_file(os.path.join(full_path))"
   ]
  },
  {
   "cell_type": "code",
   "execution_count": 8,
   "metadata": {},
   "outputs": [],
   "source": [
    "### Construct a BigQuery client object.\n",
    "\n",
    "client = bigquery.Client(credentials=credentials, \n",
    "project = credentials.project_id)"
   ]
  },
  {
   "cell_type": "code",
   "execution_count": 9,
   "metadata": {},
   "outputs": [
    {
     "output_type": "stream",
     "name": "stdout",
     "text": "['badges', 'comments', 'post_history', 'post_links', 'posts_answers', 'posts_moderator_nomination', 'posts_orphaned_tag_wiki', 'posts_privilege_wiki', 'posts_questions', 'posts_tag_wiki', 'posts_tag_wiki_excerpt', 'posts_wiki_placeholder', 'stackoverflow_posts', 'tags', 'users', 'votes']\n"
    }
   ],
   "source": [
    "### Getting overview of Stack Overflow tables\n",
    "\n",
    "stackoverflow = client.dataset('stackoverflow', project= 'bigquery-public-data')\n",
    "print([x.table_id for x in client.list_tables(stackoverflow)])"
   ]
  },
  {
   "cell_type": "code",
   "execution_count": 6,
   "metadata": {},
   "outputs": [],
   "source": [
    "### Make an API request\n",
    "\n",
    "query = \"\"\"\n",
    "SELECT\n",
    "      pq.score, pq.id as question_id, pa.parent_id as question_id_check, pq.title as question_title, pq.body as question_text, pq.answer_count,\n",
    "      pq.comment_count, pq.creation_date, pq.tags, pq.view_count, pa.body as answer_text\n",
    "FROM `bigquery-public-data.stackoverflow.posts_questions` pq\n",
    "INNER JOIN `bigquery-public-data.stackoverflow.posts_answers` pa ON pq.id = pa.parent_id\n",
    "WHERE pa.creation_date > \"2019-05-30 00:00:00.000 UTC\"\n",
    "\"\"\"\n",
    "\n",
    "dataframe = (\n",
    "    client.query(query)\n",
    "    .result()\n",
    "    .to_dataframe()\n",
    ")"
   ]
  },
  {
   "cell_type": "code",
   "execution_count": 20,
   "metadata": {
    "tags": []
   },
   "outputs": [
    {
     "output_type": "display_data",
     "data": {
      "text/plain": "         Unnamed: 0  Unnamed: 0.1  score  question_id  question_id_check  \\\n0                 0             0     -2     59318968           59318968   \n1                 1             1    117     14940660           14940660   \n2                 2             2      1     43315796           43315796   \n3                 3             3      0     57089771           57089771   \n4                 4             4      1     57429407           57429407   \n...             ...           ...    ...          ...                ...   \n2463026     2463027       2463027      1     60836246           60836246   \n2463027     2463028       2463028     -1     59485298           59485298   \n2463028     2463029       2463029     -1     57494584           57494584   \n2463029     2463030       2463030      1     57648623           57648623   \n2463030     2463031       2463031      1     57617812           57617812   \n\n                                            question_title  \\\n0        how can i have an logout option in my flutter ...   \n1        What's Mongoose error Cast to ObjectId failed ...   \n2                           Angular2- Radio button testing   \n3        Filter out records in specified day of week in...   \n4        Serializing a map getting an additional empty ...   \n...                                                    ...   \n2463026                 Standard library ABI compatibility   \n2463027  Why view.height is 3 times bigger than actual ...   \n2463028                 C# MVC Ajax call returns undefined   \n2463029  How to create an expandeble multible imagebutt...   \n2463030  Is it possible to regex match a certain group ...   \n\n                                             question_text  answer_count  \\\n0        <p>i have developed an admin app in that i hav...             2   \n1        <p>When sending a request to <code>/customers/...            21   \n2        <p>I'm trying to test an HTML radio button wit...             2   \n3        <p>I have inner query which is returning a spe...             2   \n4        <p>I am trying to serialize an object of <code...             1   \n...                                                    ...           ...   \n2463026  <p>Suppose we have a shared library which acce...             2   \n2463027  <p>I have an ImageView with height set to 120d...             5   \n2463028  <p>I am new to ajax, am trying to send usernam...             2   \n2463029  <p>I want to have multiple images displayed in...             1   \n2463030  <p>I'm trying to filter out files from a direc...             2   \n\n         comment_count                     creation_date  favorite_count  \\\n0                    1  2019-12-13 08:47:25.110000+00:00             NaN   \n1                    0  2013-02-18 16:18:03.700000+00:00            31.0   \n2                    7  2017-04-10 05:49:49.340000+00:00             NaN   \n3                    7  2019-07-18 08:02:50.267000+00:00             1.0   \n4                    8  2019-08-09 11:45:44.507000+00:00             NaN   \n...                ...                               ...             ...   \n2463026              0  2020-03-24 17:28:38.407000+00:00             NaN   \n2463027              0  2019-12-26 07:31:51.597000+00:00             NaN   \n2463028              3  2019-08-14 12:21:15.717000+00:00             NaN   \n2463029              4  2019-08-25 18:20:28.320000+00:00             0.0   \n2463030              4  2019-08-22 22:39:29.743000+00:00             1.0   \n\n                                                  tags  view_count  \\\n0        firebase|flutter|dart|firebase-authentication         189   \n1                                     mongodb|mongoose      166823   \n2               angular|karma-jasmine|angular2-testing        2018   \n3             sql|database|postgresql|date|inner-query         124   \n4                                               c++|qt          53   \n...                                                ...         ...   \n2463026                                  linux|gcc|g++          41   \n2463027                        android|xml|kotlin|view          72   \n2463028       javascript|c#|ajax|model-view-controller         131   \n2463029                               c#|xamarin.forms          52   \n2463030                                   python|regex          65   \n\n                                               answer_text score_cat  \n0        <p>replace this line</p>\\n\\n<pre><code>Navigat...       bad  \n1        <p>If anyone runs into this, \\nwhat solved it ...     great  \n2        <p>id attributes do need to be unique.  To mak...      good  \n3        <pre><code>SELECT id, to_char(markupdate, 'Day...       bad  \n4        <p>You need to test the stream <em>after</em> ...      good  \n...                                                    ...       ...  \n2463026  <p>ABIs in practice are not linked to the stan...      good  \n2463027  <p>Because in xml file you have given size in ...       bad  \n2463028  <p>Specific to your case, you can refer to thi...       bad  \n2463029  <p>I solved the problem by placing the grid in...      good  \n2463030  <p>You could also use a single lookahead to as...      good  \n\n[2463031 rows x 15 columns]",
      "text/html": "<div>\n<style scoped>\n    .dataframe tbody tr th:only-of-type {\n        vertical-align: middle;\n    }\n\n    .dataframe tbody tr th {\n        vertical-align: top;\n    }\n\n    .dataframe thead th {\n        text-align: right;\n    }\n</style>\n<table border=\"1\" class=\"dataframe\">\n  <thead>\n    <tr style=\"text-align: right;\">\n      <th></th>\n      <th>Unnamed: 0</th>\n      <th>Unnamed: 0.1</th>\n      <th>score</th>\n      <th>question_id</th>\n      <th>question_id_check</th>\n      <th>question_title</th>\n      <th>question_text</th>\n      <th>answer_count</th>\n      <th>comment_count</th>\n      <th>creation_date</th>\n      <th>favorite_count</th>\n      <th>tags</th>\n      <th>view_count</th>\n      <th>answer_text</th>\n      <th>score_cat</th>\n    </tr>\n  </thead>\n  <tbody>\n    <tr>\n      <th>0</th>\n      <td>0</td>\n      <td>0</td>\n      <td>-2</td>\n      <td>59318968</td>\n      <td>59318968</td>\n      <td>how can i have an logout option in my flutter ...</td>\n      <td>&lt;p&gt;i have developed an admin app in that i hav...</td>\n      <td>2</td>\n      <td>1</td>\n      <td>2019-12-13 08:47:25.110000+00:00</td>\n      <td>NaN</td>\n      <td>firebase|flutter|dart|firebase-authentication</td>\n      <td>189</td>\n      <td>&lt;p&gt;replace this line&lt;/p&gt;\\n\\n&lt;pre&gt;&lt;code&gt;Navigat...</td>\n      <td>bad</td>\n    </tr>\n    <tr>\n      <th>1</th>\n      <td>1</td>\n      <td>1</td>\n      <td>117</td>\n      <td>14940660</td>\n      <td>14940660</td>\n      <td>What's Mongoose error Cast to ObjectId failed ...</td>\n      <td>&lt;p&gt;When sending a request to &lt;code&gt;/customers/...</td>\n      <td>21</td>\n      <td>0</td>\n      <td>2013-02-18 16:18:03.700000+00:00</td>\n      <td>31.0</td>\n      <td>mongodb|mongoose</td>\n      <td>166823</td>\n      <td>&lt;p&gt;If anyone runs into this, \\nwhat solved it ...</td>\n      <td>great</td>\n    </tr>\n    <tr>\n      <th>2</th>\n      <td>2</td>\n      <td>2</td>\n      <td>1</td>\n      <td>43315796</td>\n      <td>43315796</td>\n      <td>Angular2- Radio button testing</td>\n      <td>&lt;p&gt;I'm trying to test an HTML radio button wit...</td>\n      <td>2</td>\n      <td>7</td>\n      <td>2017-04-10 05:49:49.340000+00:00</td>\n      <td>NaN</td>\n      <td>angular|karma-jasmine|angular2-testing</td>\n      <td>2018</td>\n      <td>&lt;p&gt;id attributes do need to be unique.  To mak...</td>\n      <td>good</td>\n    </tr>\n    <tr>\n      <th>3</th>\n      <td>3</td>\n      <td>3</td>\n      <td>0</td>\n      <td>57089771</td>\n      <td>57089771</td>\n      <td>Filter out records in specified day of week in...</td>\n      <td>&lt;p&gt;I have inner query which is returning a spe...</td>\n      <td>2</td>\n      <td>7</td>\n      <td>2019-07-18 08:02:50.267000+00:00</td>\n      <td>1.0</td>\n      <td>sql|database|postgresql|date|inner-query</td>\n      <td>124</td>\n      <td>&lt;pre&gt;&lt;code&gt;SELECT id, to_char(markupdate, 'Day...</td>\n      <td>bad</td>\n    </tr>\n    <tr>\n      <th>4</th>\n      <td>4</td>\n      <td>4</td>\n      <td>1</td>\n      <td>57429407</td>\n      <td>57429407</td>\n      <td>Serializing a map getting an additional empty ...</td>\n      <td>&lt;p&gt;I am trying to serialize an object of &lt;code...</td>\n      <td>1</td>\n      <td>8</td>\n      <td>2019-08-09 11:45:44.507000+00:00</td>\n      <td>NaN</td>\n      <td>c++|qt</td>\n      <td>53</td>\n      <td>&lt;p&gt;You need to test the stream &lt;em&gt;after&lt;/em&gt; ...</td>\n      <td>good</td>\n    </tr>\n    <tr>\n      <th>...</th>\n      <td>...</td>\n      <td>...</td>\n      <td>...</td>\n      <td>...</td>\n      <td>...</td>\n      <td>...</td>\n      <td>...</td>\n      <td>...</td>\n      <td>...</td>\n      <td>...</td>\n      <td>...</td>\n      <td>...</td>\n      <td>...</td>\n      <td>...</td>\n      <td>...</td>\n    </tr>\n    <tr>\n      <th>2463026</th>\n      <td>2463027</td>\n      <td>2463027</td>\n      <td>1</td>\n      <td>60836246</td>\n      <td>60836246</td>\n      <td>Standard library ABI compatibility</td>\n      <td>&lt;p&gt;Suppose we have a shared library which acce...</td>\n      <td>2</td>\n      <td>0</td>\n      <td>2020-03-24 17:28:38.407000+00:00</td>\n      <td>NaN</td>\n      <td>linux|gcc|g++</td>\n      <td>41</td>\n      <td>&lt;p&gt;ABIs in practice are not linked to the stan...</td>\n      <td>good</td>\n    </tr>\n    <tr>\n      <th>2463027</th>\n      <td>2463028</td>\n      <td>2463028</td>\n      <td>-1</td>\n      <td>59485298</td>\n      <td>59485298</td>\n      <td>Why view.height is 3 times bigger than actual ...</td>\n      <td>&lt;p&gt;I have an ImageView with height set to 120d...</td>\n      <td>5</td>\n      <td>0</td>\n      <td>2019-12-26 07:31:51.597000+00:00</td>\n      <td>NaN</td>\n      <td>android|xml|kotlin|view</td>\n      <td>72</td>\n      <td>&lt;p&gt;Because in xml file you have given size in ...</td>\n      <td>bad</td>\n    </tr>\n    <tr>\n      <th>2463028</th>\n      <td>2463029</td>\n      <td>2463029</td>\n      <td>-1</td>\n      <td>57494584</td>\n      <td>57494584</td>\n      <td>C# MVC Ajax call returns undefined</td>\n      <td>&lt;p&gt;I am new to ajax, am trying to send usernam...</td>\n      <td>2</td>\n      <td>3</td>\n      <td>2019-08-14 12:21:15.717000+00:00</td>\n      <td>NaN</td>\n      <td>javascript|c#|ajax|model-view-controller</td>\n      <td>131</td>\n      <td>&lt;p&gt;Specific to your case, you can refer to thi...</td>\n      <td>bad</td>\n    </tr>\n    <tr>\n      <th>2463029</th>\n      <td>2463030</td>\n      <td>2463030</td>\n      <td>1</td>\n      <td>57648623</td>\n      <td>57648623</td>\n      <td>How to create an expandeble multible imagebutt...</td>\n      <td>&lt;p&gt;I want to have multiple images displayed in...</td>\n      <td>1</td>\n      <td>4</td>\n      <td>2019-08-25 18:20:28.320000+00:00</td>\n      <td>0.0</td>\n      <td>c#|xamarin.forms</td>\n      <td>52</td>\n      <td>&lt;p&gt;I solved the problem by placing the grid in...</td>\n      <td>good</td>\n    </tr>\n    <tr>\n      <th>2463030</th>\n      <td>2463031</td>\n      <td>2463031</td>\n      <td>1</td>\n      <td>57617812</td>\n      <td>57617812</td>\n      <td>Is it possible to regex match a certain group ...</td>\n      <td>&lt;p&gt;I'm trying to filter out files from a direc...</td>\n      <td>2</td>\n      <td>4</td>\n      <td>2019-08-22 22:39:29.743000+00:00</td>\n      <td>1.0</td>\n      <td>python|regex</td>\n      <td>65</td>\n      <td>&lt;p&gt;You could also use a single lookahead to as...</td>\n      <td>good</td>\n    </tr>\n  </tbody>\n</table>\n<p>2463031 rows × 15 columns</p>\n</div>"
     },
     "metadata": {}
    }
   ],
   "source": [
    "### Display query results\n",
    "\n",
    "display(dataframe)"
   ]
  },
  {
   "cell_type": "code",
   "execution_count": 11,
   "metadata": {},
   "outputs": [
    {
     "output_type": "execute_result",
     "data": {
      "text/plain": "Unnamed: 0                 0\nUnnamed: 0.1               0\nscore                      0\nquestion_id                0\nquestion_id_check          0\nquestion_title             0\nquestion_text              0\nanswer_count               0\ncomment_count              0\ncreation_date              0\nfavorite_count       1972453\ntags                       0\nview_count                 0\nanswer_text                0\nscore_cat                  0\ndtype: int64"
     },
     "metadata": {},
     "execution_count": 11
    }
   ],
   "source": [
    "### Check for null values\n",
    "\n",
    "dataframe.isnull().values.any()\n",
    "dataframe.isnull().sum()"
   ]
  },
  {
   "cell_type": "code",
   "execution_count": 10,
   "metadata": {},
   "outputs": [],
   "source": [
    "### Dropping null value from tags column, given that it has only one missing value\n",
    "\n",
    "dataframe = dataframe[dataframe['tags'].notnull()]\n",
    "dataframe = dataframe.reset_index()[dataframe.columns]"
   ]
  },
  {
   "cell_type": "code",
   "execution_count": 8,
   "metadata": {},
   "outputs": [
    {
     "output_type": "execute_result",
     "data": {
      "text/plain": "         Unnamed: 0  Unnamed: 0.1         score   question_id  \\\ncount  2.463032e+06  2.463032e+06  2.463032e+06  2.463032e+06   \nmean   1.231516e+06  1.231516e+06  7.616748e+00  5.524083e+07   \nstd    7.110162e+05  7.110162e+05  9.774564e+01  1.147648e+07   \nmin    0.000000e+00  0.000000e+00 -6.000000e+01  9.000000e+00   \n25%    6.157578e+05  6.157578e+05  0.000000e+00  5.695817e+07   \n50%    1.231516e+06  1.231516e+06  0.000000e+00  5.861256e+07   \n75%    1.847273e+06  1.847273e+06  1.000000e+00  6.030418e+07   \nmax    2.463031e+06  2.463031e+06  2.442600e+04  6.211193e+07   \n\n       question_id_check  answer_count  comment_count  favorite_count  \\\ncount       2.463032e+06  2.463032e+06   2.463032e+06   490578.000000   \nmean        5.524083e+07  2.386682e+00   1.992953e+00       10.519249   \nstd         1.147648e+07  3.070207e+00   2.692686e+00       70.801543   \nmin         9.000000e+00  1.000000e+00   0.000000e+00        0.000000   \n25%         5.695817e+07  1.000000e+00   0.000000e+00        1.000000   \n50%         5.861256e+07  2.000000e+00   1.000000e+00        1.000000   \n75%         6.030418e+07  3.000000e+00   3.000000e+00        4.000000   \nmax         6.211193e+07  1.080000e+02   7.400000e+01    11010.000000   \n\n         view_count  \ncount  2.463032e+06  \nmean   7.561019e+03  \nstd    7.230365e+04  \nmin    2.000000e+00  \n25%    3.900000e+01  \n50%    6.400000e+01  \n75%    2.150000e+02  \nmax    8.606901e+06  ",
      "text/html": "<div>\n<style scoped>\n    .dataframe tbody tr th:only-of-type {\n        vertical-align: middle;\n    }\n\n    .dataframe tbody tr th {\n        vertical-align: top;\n    }\n\n    .dataframe thead th {\n        text-align: right;\n    }\n</style>\n<table border=\"1\" class=\"dataframe\">\n  <thead>\n    <tr style=\"text-align: right;\">\n      <th></th>\n      <th>Unnamed: 0</th>\n      <th>Unnamed: 0.1</th>\n      <th>score</th>\n      <th>question_id</th>\n      <th>question_id_check</th>\n      <th>answer_count</th>\n      <th>comment_count</th>\n      <th>favorite_count</th>\n      <th>view_count</th>\n    </tr>\n  </thead>\n  <tbody>\n    <tr>\n      <th>count</th>\n      <td>2.463032e+06</td>\n      <td>2.463032e+06</td>\n      <td>2.463032e+06</td>\n      <td>2.463032e+06</td>\n      <td>2.463032e+06</td>\n      <td>2.463032e+06</td>\n      <td>2.463032e+06</td>\n      <td>490578.000000</td>\n      <td>2.463032e+06</td>\n    </tr>\n    <tr>\n      <th>mean</th>\n      <td>1.231516e+06</td>\n      <td>1.231516e+06</td>\n      <td>7.616748e+00</td>\n      <td>5.524083e+07</td>\n      <td>5.524083e+07</td>\n      <td>2.386682e+00</td>\n      <td>1.992953e+00</td>\n      <td>10.519249</td>\n      <td>7.561019e+03</td>\n    </tr>\n    <tr>\n      <th>std</th>\n      <td>7.110162e+05</td>\n      <td>7.110162e+05</td>\n      <td>9.774564e+01</td>\n      <td>1.147648e+07</td>\n      <td>1.147648e+07</td>\n      <td>3.070207e+00</td>\n      <td>2.692686e+00</td>\n      <td>70.801543</td>\n      <td>7.230365e+04</td>\n    </tr>\n    <tr>\n      <th>min</th>\n      <td>0.000000e+00</td>\n      <td>0.000000e+00</td>\n      <td>-6.000000e+01</td>\n      <td>9.000000e+00</td>\n      <td>9.000000e+00</td>\n      <td>1.000000e+00</td>\n      <td>0.000000e+00</td>\n      <td>0.000000</td>\n      <td>2.000000e+00</td>\n    </tr>\n    <tr>\n      <th>25%</th>\n      <td>6.157578e+05</td>\n      <td>6.157578e+05</td>\n      <td>0.000000e+00</td>\n      <td>5.695817e+07</td>\n      <td>5.695817e+07</td>\n      <td>1.000000e+00</td>\n      <td>0.000000e+00</td>\n      <td>1.000000</td>\n      <td>3.900000e+01</td>\n    </tr>\n    <tr>\n      <th>50%</th>\n      <td>1.231516e+06</td>\n      <td>1.231516e+06</td>\n      <td>0.000000e+00</td>\n      <td>5.861256e+07</td>\n      <td>5.861256e+07</td>\n      <td>2.000000e+00</td>\n      <td>1.000000e+00</td>\n      <td>1.000000</td>\n      <td>6.400000e+01</td>\n    </tr>\n    <tr>\n      <th>75%</th>\n      <td>1.847273e+06</td>\n      <td>1.847273e+06</td>\n      <td>1.000000e+00</td>\n      <td>6.030418e+07</td>\n      <td>6.030418e+07</td>\n      <td>3.000000e+00</td>\n      <td>3.000000e+00</td>\n      <td>4.000000</td>\n      <td>2.150000e+02</td>\n    </tr>\n    <tr>\n      <th>max</th>\n      <td>2.463031e+06</td>\n      <td>2.463031e+06</td>\n      <td>2.442600e+04</td>\n      <td>6.211193e+07</td>\n      <td>6.211193e+07</td>\n      <td>1.080000e+02</td>\n      <td>7.400000e+01</td>\n      <td>11010.000000</td>\n      <td>8.606901e+06</td>\n    </tr>\n  </tbody>\n</table>\n</div>"
     },
     "metadata": {},
     "execution_count": 8
    }
   ],
   "source": [
    "### Summarization of variables for only numeric\n",
    "\n",
    "dataframe.describe()\n",
    "\n",
    "# mean score is 7.6 while 50% percentile / median score is 0."
   ]
  },
  {
   "cell_type": "code",
   "execution_count": 2,
   "metadata": {},
   "outputs": [],
   "source": [
    "### Temporary code to quickly open dataset\n",
    "\n",
    "dataframe = pd.read_csv(\"/Users/HenriekeMax/Documents/Career_Development/GitHub/FrauenLoop_NLP_Project_2020/data/raw/stackoverflow_raw.csv\")"
   ]
  },
  {
   "cell_type": "code",
   "execution_count": 18,
   "metadata": {},
   "outputs": [],
   "source": [
    "### Assign category (bad, good, great) for score\n",
    "\n",
    "score_bucketing = lambda x: 'bad' if x <= 0 else 'good' if (x >= 1 and x <= 19) else 'great' if x >= 20 else None\n",
    "\n",
    "dataframe['score_cat'] = dataframe['score'].apply(score_bucketing)"
   ]
  },
  {
   "cell_type": "code",
   "execution_count": 19,
   "metadata": {
    "tags": []
   },
   "outputs": [
    {
     "output_type": "stream",
     "name": "stdout",
     "text": "score_cat unique values in column\n['bad' 'great' 'good'] \n\n"
    }
   ],
   "source": [
    "print(\"{} unique values in column\".format('score_cat'))\n",
    "print(\"{}\".format(dataframe['score_cat'].unique()),\"\\n\")"
   ]
  },
  {
   "cell_type": "code",
   "execution_count": 21,
   "metadata": {
    "tags": []
   },
   "outputs": [
    {
     "output_type": "stream",
     "name": "stdout",
     "text": "<class 'pandas.core.frame.DataFrame'>\nRangeIndex: 2463031 entries, 0 to 2463030\nData columns (total 15 columns):\n #   Column             Dtype  \n---  ------             -----  \n 0   Unnamed: 0         int64  \n 1   Unnamed: 0.1       int64  \n 2   score              int64  \n 3   question_id        int64  \n 4   question_id_check  int64  \n 5   question_title     object \n 6   question_text      object \n 7   answer_count       int64  \n 8   comment_count      int64  \n 9   creation_date      object \n 10  favorite_count     float64\n 11  tags               object \n 12  view_count         int64  \n 13  answer_text        object \n 14  score_cat          object \ndtypes: float64(1), int64(8), object(6)\nmemory usage: 281.9+ MB\nNone\n"
    }
   ],
   "source": [
    "### Look at the data to understand the type and missing values\n",
    "\n",
    "print(dataframe.info())"
   ]
  },
  {
   "cell_type": "code",
   "execution_count": 6,
   "metadata": {},
   "outputs": [
    {
     "output_type": "display_data",
     "data": {
      "text/plain": "         Unnamed: 0  Unnamed: 0.1  score  question_id  question_id_check  \\\n0                 0             0     -2     59318968           59318968   \n1                 1             1    117     14940660           14940660   \n2                 2             2      1     43315796           43315796   \n3                 3             3      0     57089771           57089771   \n4                 4             4      1     57429407           57429407   \n...             ...           ...    ...          ...                ...   \n2463027     2463027       2463027      1     60836246           60836246   \n2463028     2463028       2463028     -1     59485298           59485298   \n2463029     2463029       2463029     -1     57494584           57494584   \n2463030     2463030       2463030      1     57648623           57648623   \n2463031     2463031       2463031      1     57617812           57617812   \n\n                                            question_title  \\\n0        how can i have an logout option in my flutter ...   \n1        What's Mongoose error Cast to ObjectId failed ...   \n2                           Angular2- Radio button testing   \n3        Filter out records in specified day of week in...   \n4        Serializing a map getting an additional empty ...   \n...                                                    ...   \n2463027                 Standard library ABI compatibility   \n2463028  Why view.height is 3 times bigger than actual ...   \n2463029                 C# MVC Ajax call returns undefined   \n2463030  How to create an expandeble multible imagebutt...   \n2463031  Is it possible to regex match a certain group ...   \n\n                                             question_text  answer_count  \\\n0        <p>i have developed an admin app in that i hav...             2   \n1        <p>When sending a request to <code>/customers/...            21   \n2        <p>I'm trying to test an HTML radio button wit...             2   \n3        <p>I have inner query which is returning a spe...             2   \n4        <p>I am trying to serialize an object of <code...             1   \n...                                                    ...           ...   \n2463027  <p>Suppose we have a shared library which acce...             2   \n2463028  <p>I have an ImageView with height set to 120d...             5   \n2463029  <p>I am new to ajax, am trying to send usernam...             2   \n2463030  <p>I want to have multiple images displayed in...             1   \n2463031  <p>I'm trying to filter out files from a direc...             2   \n\n         comment_count                     creation_date  favorite_count  \\\n0                    1  2019-12-13 08:47:25.110000+00:00             NaN   \n1                    0  2013-02-18 16:18:03.700000+00:00            31.0   \n2                    7  2017-04-10 05:49:49.340000+00:00             NaN   \n3                    7  2019-07-18 08:02:50.267000+00:00             1.0   \n4                    8  2019-08-09 11:45:44.507000+00:00             NaN   \n...                ...                               ...             ...   \n2463027              0  2020-03-24 17:28:38.407000+00:00             NaN   \n2463028              0  2019-12-26 07:31:51.597000+00:00             NaN   \n2463029              3  2019-08-14 12:21:15.717000+00:00             NaN   \n2463030              4  2019-08-25 18:20:28.320000+00:00             0.0   \n2463031              4  2019-08-22 22:39:29.743000+00:00             1.0   \n\n                                                  tags  view_count  \\\n0        firebase|flutter|dart|firebase-authentication         189   \n1                                     mongodb|mongoose      166823   \n2               angular|karma-jasmine|angular2-testing        2018   \n3             sql|database|postgresql|date|inner-query         124   \n4                                               c++|qt          53   \n...                                                ...         ...   \n2463027                                  linux|gcc|g++          41   \n2463028                        android|xml|kotlin|view          72   \n2463029       javascript|c#|ajax|model-view-controller         131   \n2463030                               c#|xamarin.forms          52   \n2463031                                   python|regex          65   \n\n                                               answer_text score_cat  \n0        <p>replace this line</p>\\n\\n<pre><code>Navigat...       bad  \n1        <p>If anyone runs into this, \\nwhat solved it ...     great  \n2        <p>id attributes do need to be unique.  To mak...      good  \n3        <pre><code>SELECT id, to_char(markupdate, 'Day...       bad  \n4        <p>You need to test the stream <em>after</em> ...      good  \n...                                                    ...       ...  \n2463027  <p>ABIs in practice are not linked to the stan...      good  \n2463028  <p>Because in xml file you have given size in ...       bad  \n2463029  <p>Specific to your case, you can refer to thi...       bad  \n2463030  <p>I solved the problem by placing the grid in...      good  \n2463031  <p>You could also use a single lookahead to as...      good  \n\n[2463032 rows x 15 columns]",
      "text/html": "<div>\n<style scoped>\n    .dataframe tbody tr th:only-of-type {\n        vertical-align: middle;\n    }\n\n    .dataframe tbody tr th {\n        vertical-align: top;\n    }\n\n    .dataframe thead th {\n        text-align: right;\n    }\n</style>\n<table border=\"1\" class=\"dataframe\">\n  <thead>\n    <tr style=\"text-align: right;\">\n      <th></th>\n      <th>Unnamed: 0</th>\n      <th>Unnamed: 0.1</th>\n      <th>score</th>\n      <th>question_id</th>\n      <th>question_id_check</th>\n      <th>question_title</th>\n      <th>question_text</th>\n      <th>answer_count</th>\n      <th>comment_count</th>\n      <th>creation_date</th>\n      <th>favorite_count</th>\n      <th>tags</th>\n      <th>view_count</th>\n      <th>answer_text</th>\n      <th>score_cat</th>\n    </tr>\n  </thead>\n  <tbody>\n    <tr>\n      <th>0</th>\n      <td>0</td>\n      <td>0</td>\n      <td>-2</td>\n      <td>59318968</td>\n      <td>59318968</td>\n      <td>how can i have an logout option in my flutter ...</td>\n      <td>&lt;p&gt;i have developed an admin app in that i hav...</td>\n      <td>2</td>\n      <td>1</td>\n      <td>2019-12-13 08:47:25.110000+00:00</td>\n      <td>NaN</td>\n      <td>firebase|flutter|dart|firebase-authentication</td>\n      <td>189</td>\n      <td>&lt;p&gt;replace this line&lt;/p&gt;\\n\\n&lt;pre&gt;&lt;code&gt;Navigat...</td>\n      <td>bad</td>\n    </tr>\n    <tr>\n      <th>1</th>\n      <td>1</td>\n      <td>1</td>\n      <td>117</td>\n      <td>14940660</td>\n      <td>14940660</td>\n      <td>What's Mongoose error Cast to ObjectId failed ...</td>\n      <td>&lt;p&gt;When sending a request to &lt;code&gt;/customers/...</td>\n      <td>21</td>\n      <td>0</td>\n      <td>2013-02-18 16:18:03.700000+00:00</td>\n      <td>31.0</td>\n      <td>mongodb|mongoose</td>\n      <td>166823</td>\n      <td>&lt;p&gt;If anyone runs into this, \\nwhat solved it ...</td>\n      <td>great</td>\n    </tr>\n    <tr>\n      <th>2</th>\n      <td>2</td>\n      <td>2</td>\n      <td>1</td>\n      <td>43315796</td>\n      <td>43315796</td>\n      <td>Angular2- Radio button testing</td>\n      <td>&lt;p&gt;I'm trying to test an HTML radio button wit...</td>\n      <td>2</td>\n      <td>7</td>\n      <td>2017-04-10 05:49:49.340000+00:00</td>\n      <td>NaN</td>\n      <td>angular|karma-jasmine|angular2-testing</td>\n      <td>2018</td>\n      <td>&lt;p&gt;id attributes do need to be unique.  To mak...</td>\n      <td>good</td>\n    </tr>\n    <tr>\n      <th>3</th>\n      <td>3</td>\n      <td>3</td>\n      <td>0</td>\n      <td>57089771</td>\n      <td>57089771</td>\n      <td>Filter out records in specified day of week in...</td>\n      <td>&lt;p&gt;I have inner query which is returning a spe...</td>\n      <td>2</td>\n      <td>7</td>\n      <td>2019-07-18 08:02:50.267000+00:00</td>\n      <td>1.0</td>\n      <td>sql|database|postgresql|date|inner-query</td>\n      <td>124</td>\n      <td>&lt;pre&gt;&lt;code&gt;SELECT id, to_char(markupdate, 'Day...</td>\n      <td>bad</td>\n    </tr>\n    <tr>\n      <th>4</th>\n      <td>4</td>\n      <td>4</td>\n      <td>1</td>\n      <td>57429407</td>\n      <td>57429407</td>\n      <td>Serializing a map getting an additional empty ...</td>\n      <td>&lt;p&gt;I am trying to serialize an object of &lt;code...</td>\n      <td>1</td>\n      <td>8</td>\n      <td>2019-08-09 11:45:44.507000+00:00</td>\n      <td>NaN</td>\n      <td>c++|qt</td>\n      <td>53</td>\n      <td>&lt;p&gt;You need to test the stream &lt;em&gt;after&lt;/em&gt; ...</td>\n      <td>good</td>\n    </tr>\n    <tr>\n      <th>...</th>\n      <td>...</td>\n      <td>...</td>\n      <td>...</td>\n      <td>...</td>\n      <td>...</td>\n      <td>...</td>\n      <td>...</td>\n      <td>...</td>\n      <td>...</td>\n      <td>...</td>\n      <td>...</td>\n      <td>...</td>\n      <td>...</td>\n      <td>...</td>\n      <td>...</td>\n    </tr>\n    <tr>\n      <th>2463027</th>\n      <td>2463027</td>\n      <td>2463027</td>\n      <td>1</td>\n      <td>60836246</td>\n      <td>60836246</td>\n      <td>Standard library ABI compatibility</td>\n      <td>&lt;p&gt;Suppose we have a shared library which acce...</td>\n      <td>2</td>\n      <td>0</td>\n      <td>2020-03-24 17:28:38.407000+00:00</td>\n      <td>NaN</td>\n      <td>linux|gcc|g++</td>\n      <td>41</td>\n      <td>&lt;p&gt;ABIs in practice are not linked to the stan...</td>\n      <td>good</td>\n    </tr>\n    <tr>\n      <th>2463028</th>\n      <td>2463028</td>\n      <td>2463028</td>\n      <td>-1</td>\n      <td>59485298</td>\n      <td>59485298</td>\n      <td>Why view.height is 3 times bigger than actual ...</td>\n      <td>&lt;p&gt;I have an ImageView with height set to 120d...</td>\n      <td>5</td>\n      <td>0</td>\n      <td>2019-12-26 07:31:51.597000+00:00</td>\n      <td>NaN</td>\n      <td>android|xml|kotlin|view</td>\n      <td>72</td>\n      <td>&lt;p&gt;Because in xml file you have given size in ...</td>\n      <td>bad</td>\n    </tr>\n    <tr>\n      <th>2463029</th>\n      <td>2463029</td>\n      <td>2463029</td>\n      <td>-1</td>\n      <td>57494584</td>\n      <td>57494584</td>\n      <td>C# MVC Ajax call returns undefined</td>\n      <td>&lt;p&gt;I am new to ajax, am trying to send usernam...</td>\n      <td>2</td>\n      <td>3</td>\n      <td>2019-08-14 12:21:15.717000+00:00</td>\n      <td>NaN</td>\n      <td>javascript|c#|ajax|model-view-controller</td>\n      <td>131</td>\n      <td>&lt;p&gt;Specific to your case, you can refer to thi...</td>\n      <td>bad</td>\n    </tr>\n    <tr>\n      <th>2463030</th>\n      <td>2463030</td>\n      <td>2463030</td>\n      <td>1</td>\n      <td>57648623</td>\n      <td>57648623</td>\n      <td>How to create an expandeble multible imagebutt...</td>\n      <td>&lt;p&gt;I want to have multiple images displayed in...</td>\n      <td>1</td>\n      <td>4</td>\n      <td>2019-08-25 18:20:28.320000+00:00</td>\n      <td>0.0</td>\n      <td>c#|xamarin.forms</td>\n      <td>52</td>\n      <td>&lt;p&gt;I solved the problem by placing the grid in...</td>\n      <td>good</td>\n    </tr>\n    <tr>\n      <th>2463031</th>\n      <td>2463031</td>\n      <td>2463031</td>\n      <td>1</td>\n      <td>57617812</td>\n      <td>57617812</td>\n      <td>Is it possible to regex match a certain group ...</td>\n      <td>&lt;p&gt;I'm trying to filter out files from a direc...</td>\n      <td>2</td>\n      <td>4</td>\n      <td>2019-08-22 22:39:29.743000+00:00</td>\n      <td>1.0</td>\n      <td>python|regex</td>\n      <td>65</td>\n      <td>&lt;p&gt;You could also use a single lookahead to as...</td>\n      <td>good</td>\n    </tr>\n  </tbody>\n</table>\n<p>2463032 rows × 15 columns</p>\n</div>"
     },
     "metadata": {}
    }
   ],
   "source": [
    "display(dataframe)"
   ]
  },
  {
   "cell_type": "code",
   "execution_count": 11,
   "metadata": {},
   "outputs": [],
   "source": [
    "### Save dataframe to a csv file\n",
    "\n",
    "base_path = Path(\"__file__\").parent\n",
    "full_path = (base_path / \"../data/raw/stackoverflow_raw.csv\").resolve()\n",
    "\n",
    "dataframe.to_csv(os.path.join(full_path))"
   ]
  },
  {
   "cell_type": "code",
   "execution_count": 25,
   "metadata": {},
   "outputs": [],
   "source": [
    "### Sample equal amounts of data rows for \"bad\", \"good\" and \"great\" answers from main dataset\n",
    "\n",
    "stackoverflow = dataframe.groupby('score_cat', group_keys=False).apply(lambda x: x.sample(n=10000, random_state = 1)).reset_index(drop=True)"
   ]
  },
  {
   "cell_type": "code",
   "execution_count": 26,
   "metadata": {},
   "outputs": [
    {
     "output_type": "execute_result",
     "data": {
      "text/plain": "great    10000\ngood     10000\nbad      10000\nName: score_cat, dtype: int64"
     },
     "metadata": {},
     "execution_count": 26
    }
   ],
   "source": [
    "### Check if equal sampling of \"bad\", \"good\", and \"great\" answers was successful\n",
    "\n",
    "stackoverflow.score_cat.value_counts()"
   ]
  },
  {
   "cell_type": "code",
   "execution_count": 28,
   "metadata": {},
   "outputs": [],
   "source": [
    "### Save sample of dataframe to a csv file\n",
    "\n",
    "base_path = Path(\"__file__\").parent\n",
    "full_path = (base_path / \"../data/raw/stackoverflow_raw_sample.csv\").resolve()\n",
    "stackoverflow.to_csv(os.path.join(full_path))"
   ]
  }
 ],
 "metadata": {
  "language_info": {
   "codemirror_mode": {
    "name": "ipython",
    "version": 3
   },
   "file_extension": ".py",
   "mimetype": "text/x-python",
   "name": "python",
   "nbconvert_exporter": "python",
   "pygments_lexer": "ipython3",
   "version": "3.8.0-final"
  },
  "orig_nbformat": 2,
  "kernelspec": {
   "name": "python38064bitstackconda62acee1f2fa049ee9302fd58619215ba",
   "display_name": "Python 3.8.0 64-bit ('stack': conda)"
  }
 },
 "nbformat": 4,
 "nbformat_minor": 2
}