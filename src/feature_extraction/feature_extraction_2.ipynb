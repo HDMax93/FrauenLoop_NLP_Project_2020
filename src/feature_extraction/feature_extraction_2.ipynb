{
 "cells": [
  {
   "cell_type": "code",
   "execution_count": 2,
   "metadata": {},
   "outputs": [],
   "source": [
    "### Import packages for data manipulation\n",
    "\n",
    "import pandas as pd\n",
    "import numpy as np\n",
    "import re\n",
    "\n",
    "### Import packages to create absolute file path & make code independent of operating system\n",
    "\n",
    "from pathlib import Path\n",
    "import os.path\n",
    "\n",
    "import warnings\n",
    "warnings.filterwarnings(\"ignore\")\n",
    "\n",
    "### Import packages for feature extraction\n",
    "\n",
    "from sklearn.base import BaseEstimator, TransformerMixin\n",
    "from sklearn.feature_extraction.text import TfidfVectorizer\n",
    "from sklearn.model_selection import train_test_split\n",
    "from sklearn.linear_model import SGDClassifier\n",
    "from sklearn.pipeline import Pipeline, FeatureUnion\n",
    "from sklearn.metrics import accuracy_score, classification_report\n",
    "from sklearn.naive_bayes import GaussianNB, MultinomialNB, BernoulliNB"
   ]
  },
  {
   "cell_type": "code",
   "execution_count": 3,
   "metadata": {},
   "outputs": [],
   "source": [
    "### Read in dataset\n",
    "\n",
    "base_path = Path(\"__file__\").parent\n",
    "\n",
    "full_path = (base_path / \"../../data/processed/stackoverflow_preprocessed.csv\").resolve()\n",
    "\n",
    "stackoverflow = pd.read_csv(os.path.join(full_path))"
   ]
  },
  {
   "cell_type": "code",
   "execution_count": 3,
   "metadata": {},
   "outputs": [],
   "source": [
    "stackoverflow = pd.read_csv(\"/Users/HenriekeMax/Documents/Career_Development/GitHub/FrauenLoop_NLP_Project_2020/data/processed/stackoverflow_preprocessed.csv\")"
   ]
  },
  {
   "cell_type": "code",
   "execution_count": 2,
   "metadata": {},
   "outputs": [
    {
     "output_type": "error",
     "ename": "NameError",
     "evalue": "name 'stackoverflow' is not defined",
     "traceback": [
      "\u001b[0;31m---------------------------------------------------------------------------\u001b[0m",
      "\u001b[0;31mNameError\u001b[0m                                 Traceback (most recent call last)",
      "\u001b[0;32m<ipython-input-2-12134b1e29b7>\u001b[0m in \u001b[0;36m<module>\u001b[0;34m\u001b[0m\n\u001b[0;32m----> 1\u001b[0;31m \u001b[0mstackoverflow\u001b[0m\u001b[0;34m.\u001b[0m\u001b[0mhead\u001b[0m\u001b[0;34m(\u001b[0m\u001b[0;34m)\u001b[0m\u001b[0;34m\u001b[0m\u001b[0;34m\u001b[0m\u001b[0m\n\u001b[0m",
      "\u001b[0;31mNameError\u001b[0m: name 'stackoverflow' is not defined"
     ]
    }
   ],
   "source": [
    "stackoverflow.head()"
   ]
  },
  {
   "cell_type": "code",
   "execution_count": null,
   "metadata": {},
   "outputs": [],
   "source": [
    "### Count number of words in an answer\n",
    "\n",
    "class WordCounter(BaseEstimator, TransformerMixin):\n",
    "\n",
    "    def __init__(self, df):\n",
    "        pass\n",
    "\n",
    "    def transform(self, df):\n",
    "        ### Prepare list for results\n",
    "        results = []\n",
    "        ### Variable name to compute number of words on\n",
    "        name = df.columns\n",
    "        ### Make into list\n",
    "        answer_list = df[name[0]].tolist()\n",
    "        ### Compute number of words for each answer\n",
    "        for answer in answer_list:\n",
    "            wordcount = len(re.findall(r'\\w+', str(answer)))\n",
    "            results.append(wordcount)\n",
    "        ### Make into a pandas df\n",
    "        df_new = pd.DataFrame.from_records(results)\n",
    "        ### Add suffix\n",
    "        df_new = df_new.add_suffix(name)\n",
    "        return df_new\n",
    "\n",
    "    def fit(self, df, y=None):\n",
    "        ### Unless error returns self\n",
    "        return self"
   ]
  },
  {
   "cell_type": "code",
   "execution_count": 5,
   "metadata": {},
   "outputs": [],
   "source": [
    "### Define function to count \n",
    "\n",
    "def wordcounter(x):\n",
    "    x = len(re.findall(r'\\w+', x))\n",
    "    return x"
   ]
  },
  {
   "cell_type": "code",
   "execution_count": null,
   "metadata": {},
   "outputs": [],
   "source": [
    "### Define function to count number of words in an answer\n",
    "\n",
    "def wordcounter(x):\n",
    "    x = len(re.findall(r'\\w+', str(x)))\n",
    "    return x"
   ]
  },
  {
   "cell_type": "code",
   "execution_count": null,
   "metadata": {},
   "outputs": [],
   "source": [
    "### Feature extraction: Get wordcount of stackoverflow answers\n",
    "\n",
    "stackoverflow['answer_wordcount'] = stackoverflow['answer_text_clean'].apply(wordcounter)"
   ]
  },
  {
   "cell_type": "code",
   "execution_count": null,
   "metadata": {},
   "outputs": [],
   "source": [
    "### Check of possible patterns in wordcount and answer score\n",
    "\n",
    "stackoverflow.groupby(['score_cat', 'answer_wordcount']).size().unstack(fill_value=0)"
   ]
  },
  {
   "cell_type": "code",
   "execution_count": null,
   "metadata": {},
   "outputs": [],
   "source": [
    "### Make score_cat column into type category and assign numeric category codes\n",
    "\n",
    "stackoverflow['score_cat'] = stackoverflow['score_cat'].astype('category')\n",
    "stackoverflow['score_cat'] = stackoverflow.score_cat.cat.codes\n",
    "stackoverflow_copy = stackoverflow.copy()\n",
    "\n",
    "### Make integer to be able to show heatmap in next step\n",
    "\n",
    "stackoverflow_copy['score_cat_int'] = stackoverflow_copy.score_cat.astype(int)"
   ]
  },
  {
   "cell_type": "code",
   "execution_count": null,
   "metadata": {},
   "outputs": [],
   "source": [
    "### Heatmap to check relationship of score_cat and answer_wordcount\n",
    "\n",
    "df = pd.DataFrame(stackoverflow_copy, columns=['score_cat_int', 'answer_wordcount'])\n",
    "corrMatrix = df.corr()\n",
    "sns.heatmap(corrMatrix, annot=True)\n",
    "plt.show()"
   ]
  },
  {
   "cell_type": "code",
   "execution_count": null,
   "metadata": {},
   "outputs": [],
   "source": [
    "### Creating a binary feature \"code\" holding info on whether or not stackoverflow answer contains code\n",
    "def codecheck(x):\n",
    "    x = 1 if '<code>' in x else 0\n",
    "    return x"
   ]
  },
  {
   "cell_type": "code",
   "execution_count": null,
   "metadata": {},
   "outputs": [],
   "source": [
    "### Check of possible patterns in code existence and answer score\n",
    "\n",
    "stack_new.groupby(['score_cat', 'code_binary']).size().unstack(fill_value=0)"
   ]
  },
  {
   "cell_type": "code",
   "execution_count": null,
   "metadata": {},
   "outputs": [],
   "source": [
    "### Creating a feature \"code count\" holding info on how many code-snippets an answer contains\n",
    "\n",
    "def codecount(x):\n",
    "    x = x.count(\"<code>\")\n",
    "    return x"
   ]
  },
  {
   "cell_type": "code",
   "execution_count": null,
   "metadata": {},
   "outputs": [],
   "source": [
    "### Check of possible patterns in number of code snippets and answer score\n",
    "\n",
    "stackoverflow['code_count'] = stackoverflow['answer_text'].apply(codecount)\n",
    "stackoverflow.groupby(['score_cat', 'code_count']).size().unstack(fill_value=0)"
   ]
  },
  {
   "cell_type": "code",
   "execution_count": 7,
   "metadata": {},
   "outputs": [],
   "source": [
    "vectorizer = TfidfVectorizer()\n",
    "\n",
    "X = vectorizer.fit_transform(stackoverflow['answer_text_clean'].apply(lambda x: np.str_(x)))\n",
    "\n",
    "feature_names = vectorizer.get_feature_names()\n",
    "\n",
    "X = X.toarray()"
   ]
  },
  {
   "cell_type": "code",
   "execution_count": 8,
   "metadata": {},
   "outputs": [
    {
     "output_type": "execute_result",
     "data": {
      "text/plain": "(30000, 138096)"
     },
     "metadata": {},
     "execution_count": 8
    }
   ],
   "source": [
    "X.shape"
   ]
  },
  {
   "cell_type": "code",
   "execution_count": 9,
   "metadata": {},
   "outputs": [],
   "source": [
    "y = stackoverflow['score_cat']"
   ]
  },
  {
   "cell_type": "code",
   "execution_count": 10,
   "metadata": {},
   "outputs": [
    {
     "output_type": "execute_result",
     "data": {
      "text/plain": "(30000,)"
     },
     "metadata": {},
     "execution_count": 10
    }
   ],
   "source": [
    "y.shape"
   ]
  },
  {
   "cell_type": "code",
   "execution_count": 11,
   "metadata": {},
   "outputs": [],
   "source": [
    "X_train, X_test, y_train, y_test = train_test_split(X, y, test_size = 0.3, random_state = 1)\n",
    "\n",
    "model = BernoulliNB()\n",
    "model.fit(X_train, y_train)\n",
    "y_predict = model.predict(X_test)\n",
    "\n",
    "print(accuracy_score(y_test, y_predict))\n",
    "print(classification_report(y_test, y_predict))\n",
    "pd.crosstab(y_test, y_predict)"
   ]
  }
 ],
 "metadata": {
  "language_info": {
   "codemirror_mode": {
    "name": "ipython",
    "version": 3
   },
   "file_extension": ".py",
   "mimetype": "text/x-python",
   "name": "python",
   "nbconvert_exporter": "python",
   "pygments_lexer": "ipython3",
   "version": "3.8.0-final"
  },
  "orig_nbformat": 2,
  "kernelspec": {
   "name": "python38064bitstackconda62acee1f2fa049ee9302fd58619215ba",
   "display_name": "Python 3.8.0 64-bit ('stack': conda)"
  }
 },
 "nbformat": 4,
 "nbformat_minor": 2
}