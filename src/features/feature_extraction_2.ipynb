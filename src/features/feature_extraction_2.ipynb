{
 "cells": [
  {
   "cell_type": "code",
   "execution_count": 2,
   "metadata": {},
   "outputs": [],
   "source": [
    "### Import packages for data manipulation\n",
    "\n",
    "import pandas as pd\n",
    "import numpy as np\n",
    "import re\n",
    "\n",
    "### Import packages to create absolute file path & make code independent of operating system\n",
    "\n",
    "from pathlib import Path\n",
    "import os.path\n",
    "\n",
    "import warnings\n",
    "warnings.filterwarnings(\"ignore\")\n",
    "\n",
    "### Import packages for feature extraction\n",
    "\n",
    "from sklearn.base import BaseEstimator, TransformerMixin\n",
    "from sklearn.feature_extraction.text import TfidfVectorizer\n",
    "from sklearn.model_selection import train_test_split\n",
    "from sklearn.linear_model import SGDClassifier\n",
    "from sklearn.pipeline import Pipeline, FeatureUnion\n",
    "from sklearn.metrics import accuracy_score, classification_report\n",
    "from sklearn.naive_bayes import GaussianNB, MultinomialNB, BernoulliNB"
   ]
  },
  {
   "cell_type": "code",
   "execution_count": 3,
   "metadata": {},
   "outputs": [],
   "source": [
    "### Read in dataset\n",
    "\n",
    "base_path = Path(\"__file__\").parent\n",
    "\n",
    "full_path = (base_path / \"../../data/processed/stackoverflow_preprocessed.csv\").resolve()\n",
    "\n",
    "stackoverflow = pd.read_csv(os.path.join(full_path))"
   ]
  },
  {
   "cell_type": "code",
   "execution_count": 3,
   "metadata": {},
   "outputs": [],
   "source": [
    "stackoverflow = pd.read_csv(\"/Users/HenriekeMax/Documents/Career_Development/GitHub/FrauenLoop_NLP_Project_2020/data/processed/stackoverflow_preprocessed.csv\")"
   ]
  },
  {
   "cell_type": "code",
   "execution_count": 4,
   "metadata": {},
   "outputs": [
    {
     "output_type": "execute_result",
     "data": {
      "text/plain": "   Unnamed: 0  score                                     question_title  \\\n0           0      0      How to avoid Bot repeating command in groups?   \n1           1     -3        how to host Asp.net core web application..?   \n2           2      0  discord.ext.commands.errors.MissingRequiredArg...   \n3           3      0                 JPA not saving to DB on WildFly 16   \n4           4      0  Conditionally rendering an array within an arr...   \n\n                                       question_text  answer_count  \\\n0  <p>I created a new Telegram Bot which maintain...             2   \n1  <p>I have more confusion with hosting my appli...             2   \n2  <p>i would like make a command for set permiss...             2   \n3  <p>After migrating from Wildfly-8.2.0 to Wildf...             1   \n4  <p>I've tried many of the methods outlined by ...             1   \n\n   comment_count                     creation_date  favorite_count  \\\n0              0  2019-08-23 14:05:29.463000+00:00             0.0   \n1              0  2020-04-27 22:38:03.737000+00:00             NaN   \n2              0  2020-02-21 01:10:53.553000+00:00             NaN   \n3              1  2019-11-03 23:51:01.683000+00:00             NaN   \n4              5  2020-02-23 03:24:42.360000+00:00             NaN   \n\n                                            tags  view_count  \\\n0               telegram-bot|python-telegram-bot          79   \n1      asp.net-core|shared-hosting|cloud-hosting          47   \n2                  discord.py|discord.py-rewrite         103   \n3  jpa|jakarta-ee|persistence|jpa-2.1|wildfly-16          22   \n4                        javascript|html|reactjs          40   \n\n                                         answer_text score_cat  \\\n0  <p>The bot only is replying message, not creat...       bad   \n1  <p>If choose their windows cloud hosting platf...       bad   \n2  <p>What you're doing right now, is <strong>req...       bad   \n3  <p>What was missing is to add the \"eclipselink...       bad   \n4  <p>You need to trigger a re-render. This is do...       bad   \n\n                                question_title_clean  \\\n0                     avoid bot repeat command group   \n1                  host asp net core web application   \n2  discord ext command error missingrequiredargum...   \n3                                jpa save db wildfly   \n4  conditionally render array within array within...   \n\n                                 question_text_clean  \\\n0  create new telegram bot maintain simple list c...   \n1  confusion host application build application a...   \n2  would like make command set permission text ch...   \n3  migrate wildfly wildfly jee application launch...   \n4  ive try many method outline user dice im sure ...   \n\n                               tags_clean  \\\n0           telegrambot pythontelegrambot   \n1  asp netcore sharedhosting cloudhosting   \n2            discord py discord pyrewrite   \n3   jpa jakartaee persistence jpa wildfly   \n4                 javascript html reactjs   \n\n                                   answer_text_clean  \n0   bot reply message create message use sendmessage  \n1  choose window cloud host platform net core wor...  \n2  right now require guild argument command bot a...  \n3  miss add eclipselink jar file wildfly module s...  \n4  need trigger rerender do call tell content com...  ",
      "text/html": "<div>\n<style scoped>\n    .dataframe tbody tr th:only-of-type {\n        vertical-align: middle;\n    }\n\n    .dataframe tbody tr th {\n        vertical-align: top;\n    }\n\n    .dataframe thead th {\n        text-align: right;\n    }\n</style>\n<table border=\"1\" class=\"dataframe\">\n  <thead>\n    <tr style=\"text-align: right;\">\n      <th></th>\n      <th>Unnamed: 0</th>\n      <th>score</th>\n      <th>question_title</th>\n      <th>question_text</th>\n      <th>answer_count</th>\n      <th>comment_count</th>\n      <th>creation_date</th>\n      <th>favorite_count</th>\n      <th>tags</th>\n      <th>view_count</th>\n      <th>answer_text</th>\n      <th>score_cat</th>\n      <th>question_title_clean</th>\n      <th>question_text_clean</th>\n      <th>tags_clean</th>\n      <th>answer_text_clean</th>\n    </tr>\n  </thead>\n  <tbody>\n    <tr>\n      <th>0</th>\n      <td>0</td>\n      <td>0</td>\n      <td>How to avoid Bot repeating command in groups?</td>\n      <td>&lt;p&gt;I created a new Telegram Bot which maintain...</td>\n      <td>2</td>\n      <td>0</td>\n      <td>2019-08-23 14:05:29.463000+00:00</td>\n      <td>0.0</td>\n      <td>telegram-bot|python-telegram-bot</td>\n      <td>79</td>\n      <td>&lt;p&gt;The bot only is replying message, not creat...</td>\n      <td>bad</td>\n      <td>avoid bot repeat command group</td>\n      <td>create new telegram bot maintain simple list c...</td>\n      <td>telegrambot pythontelegrambot</td>\n      <td>bot reply message create message use sendmessage</td>\n    </tr>\n    <tr>\n      <th>1</th>\n      <td>1</td>\n      <td>-3</td>\n      <td>how to host Asp.net core web application..?</td>\n      <td>&lt;p&gt;I have more confusion with hosting my appli...</td>\n      <td>2</td>\n      <td>0</td>\n      <td>2020-04-27 22:38:03.737000+00:00</td>\n      <td>NaN</td>\n      <td>asp.net-core|shared-hosting|cloud-hosting</td>\n      <td>47</td>\n      <td>&lt;p&gt;If choose their windows cloud hosting platf...</td>\n      <td>bad</td>\n      <td>host asp net core web application</td>\n      <td>confusion host application build application a...</td>\n      <td>asp netcore sharedhosting cloudhosting</td>\n      <td>choose window cloud host platform net core wor...</td>\n    </tr>\n    <tr>\n      <th>2</th>\n      <td>2</td>\n      <td>0</td>\n      <td>discord.ext.commands.errors.MissingRequiredArg...</td>\n      <td>&lt;p&gt;i would like make a command for set permiss...</td>\n      <td>2</td>\n      <td>0</td>\n      <td>2020-02-21 01:10:53.553000+00:00</td>\n      <td>NaN</td>\n      <td>discord.py|discord.py-rewrite</td>\n      <td>103</td>\n      <td>&lt;p&gt;What you're doing right now, is &lt;strong&gt;req...</td>\n      <td>bad</td>\n      <td>discord ext command error missingrequiredargum...</td>\n      <td>would like make command set permission text ch...</td>\n      <td>discord py discord pyrewrite</td>\n      <td>right now require guild argument command bot a...</td>\n    </tr>\n    <tr>\n      <th>3</th>\n      <td>3</td>\n      <td>0</td>\n      <td>JPA not saving to DB on WildFly 16</td>\n      <td>&lt;p&gt;After migrating from Wildfly-8.2.0 to Wildf...</td>\n      <td>1</td>\n      <td>1</td>\n      <td>2019-11-03 23:51:01.683000+00:00</td>\n      <td>NaN</td>\n      <td>jpa|jakarta-ee|persistence|jpa-2.1|wildfly-16</td>\n      <td>22</td>\n      <td>&lt;p&gt;What was missing is to add the \"eclipselink...</td>\n      <td>bad</td>\n      <td>jpa save db wildfly</td>\n      <td>migrate wildfly wildfly jee application launch...</td>\n      <td>jpa jakartaee persistence jpa wildfly</td>\n      <td>miss add eclipselink jar file wildfly module s...</td>\n    </tr>\n    <tr>\n      <th>4</th>\n      <td>4</td>\n      <td>0</td>\n      <td>Conditionally rendering an array within an arr...</td>\n      <td>&lt;p&gt;I've tried many of the methods outlined by ...</td>\n      <td>1</td>\n      <td>5</td>\n      <td>2020-02-23 03:24:42.360000+00:00</td>\n      <td>NaN</td>\n      <td>javascript|html|reactjs</td>\n      <td>40</td>\n      <td>&lt;p&gt;You need to trigger a re-render. This is do...</td>\n      <td>bad</td>\n      <td>conditionally render array within array within...</td>\n      <td>ive try many method outline user dice im sure ...</td>\n      <td>javascript html reactjs</td>\n      <td>need trigger rerender do call tell content com...</td>\n    </tr>\n  </tbody>\n</table>\n</div>"
     },
     "metadata": {},
     "execution_count": 4
    }
   ],
   "source": [
    "stackoverflow.head()"
   ]
  },
  {
   "cell_type": "code",
   "execution_count": 5,
   "metadata": {},
   "outputs": [],
   "source": [
    "### Define function to count \n",
    "\n",
    "def wordcounter(x):\n",
    "    x = len(re.findall(r'\\w+', x))\n",
    "    return x"
   ]
  },
  {
   "cell_type": "code",
   "execution_count": 6,
   "metadata": {},
   "outputs": [
    {
     "output_type": "error",
     "ename": "TypeError",
     "evalue": "expected string or bytes-like object",
     "traceback": [
      "\u001b[0;31m---------------------------------------------------------------------------\u001b[0m",
      "\u001b[0;31mTypeError\u001b[0m                                 Traceback (most recent call last)",
      "\u001b[0;32m<ipython-input-6-002a6d58b2b0>\u001b[0m in \u001b[0;36m<module>\u001b[0;34m\u001b[0m\n\u001b[1;32m      1\u001b[0m \u001b[0;31m### Feature extraction\u001b[0m\u001b[0;34m\u001b[0m\u001b[0;34m\u001b[0m\u001b[0;34m\u001b[0m\u001b[0m\n\u001b[1;32m      2\u001b[0m \u001b[0;34m\u001b[0m\u001b[0m\n\u001b[0;32m----> 3\u001b[0;31m \u001b[0mstackoverflow\u001b[0m\u001b[0;34m[\u001b[0m\u001b[0;34m'answer_wordcount'\u001b[0m\u001b[0;34m]\u001b[0m \u001b[0;34m=\u001b[0m \u001b[0mstackoverflow\u001b[0m\u001b[0;34m[\u001b[0m\u001b[0;34m'answer_text_clean'\u001b[0m\u001b[0;34m]\u001b[0m\u001b[0;34m.\u001b[0m\u001b[0mapply\u001b[0m\u001b[0;34m(\u001b[0m\u001b[0mwordcounter\u001b[0m\u001b[0;34m)\u001b[0m\u001b[0;34m\u001b[0m\u001b[0;34m\u001b[0m\u001b[0m\n\u001b[0m",
      "\u001b[0;32m~/anaconda3/envs/stack/lib/python3.8/site-packages/pandas/core/series.py\u001b[0m in \u001b[0;36mapply\u001b[0;34m(self, func, convert_dtype, args, **kwds)\u001b[0m\n\u001b[1;32m   3846\u001b[0m             \u001b[0;32melse\u001b[0m\u001b[0;34m:\u001b[0m\u001b[0;34m\u001b[0m\u001b[0;34m\u001b[0m\u001b[0m\n\u001b[1;32m   3847\u001b[0m                 \u001b[0mvalues\u001b[0m \u001b[0;34m=\u001b[0m \u001b[0mself\u001b[0m\u001b[0;34m.\u001b[0m\u001b[0mastype\u001b[0m\u001b[0;34m(\u001b[0m\u001b[0mobject\u001b[0m\u001b[0;34m)\u001b[0m\u001b[0;34m.\u001b[0m\u001b[0mvalues\u001b[0m\u001b[0;34m\u001b[0m\u001b[0;34m\u001b[0m\u001b[0m\n\u001b[0;32m-> 3848\u001b[0;31m                 \u001b[0mmapped\u001b[0m \u001b[0;34m=\u001b[0m \u001b[0mlib\u001b[0m\u001b[0;34m.\u001b[0m\u001b[0mmap_infer\u001b[0m\u001b[0;34m(\u001b[0m\u001b[0mvalues\u001b[0m\u001b[0;34m,\u001b[0m \u001b[0mf\u001b[0m\u001b[0;34m,\u001b[0m \u001b[0mconvert\u001b[0m\u001b[0;34m=\u001b[0m\u001b[0mconvert_dtype\u001b[0m\u001b[0;34m)\u001b[0m\u001b[0;34m\u001b[0m\u001b[0;34m\u001b[0m\u001b[0m\n\u001b[0m\u001b[1;32m   3849\u001b[0m \u001b[0;34m\u001b[0m\u001b[0m\n\u001b[1;32m   3850\u001b[0m         \u001b[0;32mif\u001b[0m \u001b[0mlen\u001b[0m\u001b[0;34m(\u001b[0m\u001b[0mmapped\u001b[0m\u001b[0;34m)\u001b[0m \u001b[0;32mand\u001b[0m \u001b[0misinstance\u001b[0m\u001b[0;34m(\u001b[0m\u001b[0mmapped\u001b[0m\u001b[0;34m[\u001b[0m\u001b[0;36m0\u001b[0m\u001b[0;34m]\u001b[0m\u001b[0;34m,\u001b[0m \u001b[0mSeries\u001b[0m\u001b[0;34m)\u001b[0m\u001b[0;34m:\u001b[0m\u001b[0;34m\u001b[0m\u001b[0;34m\u001b[0m\u001b[0m\n",
      "\u001b[0;32mpandas/_libs/lib.pyx\u001b[0m in \u001b[0;36mpandas._libs.lib.map_infer\u001b[0;34m()\u001b[0m\n",
      "\u001b[0;32m<ipython-input-5-f5a179d042c3>\u001b[0m in \u001b[0;36mwordcounter\u001b[0;34m(x)\u001b[0m\n\u001b[1;32m      2\u001b[0m \u001b[0;34m\u001b[0m\u001b[0m\n\u001b[1;32m      3\u001b[0m \u001b[0;32mdef\u001b[0m \u001b[0mwordcounter\u001b[0m\u001b[0;34m(\u001b[0m\u001b[0mx\u001b[0m\u001b[0;34m)\u001b[0m\u001b[0;34m:\u001b[0m\u001b[0;34m\u001b[0m\u001b[0;34m\u001b[0m\u001b[0m\n\u001b[0;32m----> 4\u001b[0;31m     \u001b[0mx\u001b[0m \u001b[0;34m=\u001b[0m \u001b[0mlen\u001b[0m\u001b[0;34m(\u001b[0m\u001b[0mre\u001b[0m\u001b[0;34m.\u001b[0m\u001b[0mfindall\u001b[0m\u001b[0;34m(\u001b[0m\u001b[0;34mr'\\w+'\u001b[0m\u001b[0;34m,\u001b[0m \u001b[0mx\u001b[0m\u001b[0;34m)\u001b[0m\u001b[0;34m)\u001b[0m\u001b[0;34m\u001b[0m\u001b[0;34m\u001b[0m\u001b[0m\n\u001b[0m\u001b[1;32m      5\u001b[0m     \u001b[0;32mreturn\u001b[0m \u001b[0mx\u001b[0m\u001b[0;34m\u001b[0m\u001b[0;34m\u001b[0m\u001b[0m\n",
      "\u001b[0;32m~/anaconda3/envs/stack/lib/python3.8/re.py\u001b[0m in \u001b[0;36mfindall\u001b[0;34m(pattern, string, flags)\u001b[0m\n\u001b[1;32m    237\u001b[0m \u001b[0;34m\u001b[0m\u001b[0m\n\u001b[1;32m    238\u001b[0m     Empty matches are included in the result.\"\"\"\n\u001b[0;32m--> 239\u001b[0;31m     \u001b[0;32mreturn\u001b[0m \u001b[0m_compile\u001b[0m\u001b[0;34m(\u001b[0m\u001b[0mpattern\u001b[0m\u001b[0;34m,\u001b[0m \u001b[0mflags\u001b[0m\u001b[0;34m)\u001b[0m\u001b[0;34m.\u001b[0m\u001b[0mfindall\u001b[0m\u001b[0;34m(\u001b[0m\u001b[0mstring\u001b[0m\u001b[0;34m)\u001b[0m\u001b[0;34m\u001b[0m\u001b[0;34m\u001b[0m\u001b[0m\n\u001b[0m\u001b[1;32m    240\u001b[0m \u001b[0;34m\u001b[0m\u001b[0m\n\u001b[1;32m    241\u001b[0m \u001b[0;32mdef\u001b[0m \u001b[0mfinditer\u001b[0m\u001b[0;34m(\u001b[0m\u001b[0mpattern\u001b[0m\u001b[0;34m,\u001b[0m \u001b[0mstring\u001b[0m\u001b[0;34m,\u001b[0m \u001b[0mflags\u001b[0m\u001b[0;34m=\u001b[0m\u001b[0;36m0\u001b[0m\u001b[0;34m)\u001b[0m\u001b[0;34m:\u001b[0m\u001b[0;34m\u001b[0m\u001b[0;34m\u001b[0m\u001b[0m\n",
      "\u001b[0;31mTypeError\u001b[0m: expected string or bytes-like object"
     ]
    }
   ],
   "source": [
    "### Feature extraction\n",
    "\n",
    "stackoverflow['answer_wordcount'] = stackoverflow['answer_text_clean'].apply(wordcounter)"
   ]
  },
  {
   "cell_type": "code",
   "execution_count": 7,
   "metadata": {},
   "outputs": [],
   "source": [
    "vectorizer = TfidfVectorizer()\n",
    "\n",
    "X = vectorizer.fit_transform(stackoverflow['answer_text_clean'].apply(lambda x: np.str_(x)))\n",
    "\n",
    "feature_names = vectorizer.get_feature_names()\n",
    "\n",
    "X = X.toarray()"
   ]
  },
  {
   "cell_type": "code",
   "execution_count": 8,
   "metadata": {},
   "outputs": [
    {
     "output_type": "execute_result",
     "data": {
      "text/plain": "(30000, 138096)"
     },
     "metadata": {},
     "execution_count": 8
    }
   ],
   "source": [
    "X.shape"
   ]
  },
  {
   "cell_type": "code",
   "execution_count": 9,
   "metadata": {},
   "outputs": [],
   "source": [
    "y = stackoverflow['score_cat']"
   ]
  },
  {
   "cell_type": "code",
   "execution_count": 10,
   "metadata": {},
   "outputs": [
    {
     "output_type": "execute_result",
     "data": {
      "text/plain": "(30000,)"
     },
     "metadata": {},
     "execution_count": 10
    }
   ],
   "source": [
    "y.shape"
   ]
  },
  {
   "cell_type": "code",
   "execution_count": 11,
   "metadata": {},
   "outputs": [],
   "source": [
    "X_train, X_test, y_train, y_test = train_test_split(X, y, test_size = 0.3, random_state = 1)\n",
    "\n",
    "model = BernoulliNB()\n",
    "model.fit(X_train, y_train)\n",
    "y_predict = model.predict(X_test)\n",
    "\n",
    "print(accuracy_score(y_test, y_predict))\n",
    "print(classification_report(y_test, y_predict))\n",
    "pd.crosstab(y_test, y_predict)"
   ]
  }
 ],
 "metadata": {
  "language_info": {
   "codemirror_mode": {
    "name": "ipython",
    "version": 3
   },
   "file_extension": ".py",
   "mimetype": "text/x-python",
   "name": "python",
   "nbconvert_exporter": "python",
   "pygments_lexer": "ipython3",
   "version": "3.8.0-final"
  },
  "orig_nbformat": 2,
  "kernelspec": {
   "name": "python38064bitstackconda62acee1f2fa049ee9302fd58619215ba",
   "display_name": "Python 3.8.0 64-bit ('stack': conda)"
  }
 },
 "nbformat": 4,
 "nbformat_minor": 2
}