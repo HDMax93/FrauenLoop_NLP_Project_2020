{
 "cells": [
  {
   "cell_type": "code",
   "execution_count": 62,
   "metadata": {},
   "outputs": [],
   "source": [
    "### Import packages to create absolute file path & make code independent of operating system\n",
    "\n",
    "from pathlib import Path\n",
    "import os.path\n",
    "\n",
    "import warnings\n",
    "warnings.filterwarnings(\"ignore\")\n",
    "\n",
    "### Import packages for data manipulation\n",
    "\n",
    "import pandas as pd\n",
    "import numpy as np\n",
    "import re\n",
    "\n",
    "### Import packages to visualize data\n",
    "\n",
    "import matplotlib.pyplot as plt\n",
    "import seaborn as sns\n",
    "\n",
    "### Import packages for feature extraction\n",
    "\n",
    "from sklearn.base import BaseEstimator, TransformerMixin\n",
    "from sklearn.feature_extraction.text import TfidfVectorizer\n",
    "\n",
    "### Import packages for modeling\n",
    "from sklearn.model_selection import train_test_split\n",
    "from sklearn.pipeline import Pipeline, FeatureUnion\n",
    "from sklearn.linear_model import SGDClassifier\n",
    "from sklearn.neighbors import KNeighborsClassifier\n",
    "from sklearn.ensemble import RandomForestClassifier, GradientBoostingClassifier\n",
    "\n",
    "### Import packages for model selection and performance assessment\n",
    "from sklearn import model_selection\n",
    "from sklearn.model_selection import train_test_split, KFold, StratifiedKFold, cross_val_score, RandomizedSearchCV, GridSearchCV, learning_curve\n",
    "from sklearn import metrics\n",
    "from sklearn.metrics import accuracy_score, log_loss, classification_report, precision_recall_fscore_support\n",
    "from sklearn.metrics import roc_curve, roc_auc_score, confusion_matrix, mean_squared_error, f1_score"
   ]
  },
  {
   "cell_type": "code",
   "execution_count": 26,
   "metadata": {
    "tags": []
   },
   "outputs": [
    {
     "output_type": "stream",
     "name": "stdout",
     "text": "/Users/HenriekeMax/Documents/Career_Development/GitHub/FrauenLoop_NLP_Project_2020/src/features\n"
    }
   ],
   "source": [
    "### Read in dataset\n",
    "\n",
    "print(os.getcwd())\n",
    "\n",
    "base_path = Path(\"__file__\").parent\n",
    "full_path = (base_path / \"../../data/processed/stackoverflow_preprocessed.csv\").resolve()\n",
    "# Depending on running this in interactive shell vs. terminal, I need to include GitHub/FrauenLoop_NLP_Project_2020 in filepath or not...\n",
    "\n",
    "stackoverflow = pd.read_csv(os.path.join(full_path))"
   ]
  },
  {
   "cell_type": "code",
   "execution_count": null,
   "metadata": {},
   "outputs": [],
   "source": [
    "stackoverflow = pd.read_csv(\"/Users/HenriekeMax/Documents/Career_Development/GitHub/FrauenLoop_NLP_Project_2020/data/processed/stackoverflow_preprocessed.csv\")"
   ]
  },
  {
   "cell_type": "code",
   "execution_count": 27,
   "metadata": {
    "tags": []
   },
   "outputs": [
    {
     "output_type": "execute_result",
     "data": {
      "text/plain": "   Unnamed: 0  score                                     question_title  \\\n0           0      0      How to avoid Bot repeating command in groups?   \n1           1     -3        how to host Asp.net core web application..?   \n2           2      0  discord.ext.commands.errors.MissingRequiredArg...   \n3           3      0                 JPA not saving to DB on WildFly 16   \n4           4      0  Conditionally rendering an array within an arr...   \n\n                                       question_text  answer_count  \\\n0  <p>I created a new Telegram Bot which maintain...             2   \n1  <p>I have more confusion with hosting my appli...             2   \n2  <p>i would like make a command for set permiss...             2   \n3  <p>After migrating from Wildfly-8.2.0 to Wildf...             1   \n4  <p>I've tried many of the methods outlined by ...             1   \n\n   comment_count                     creation_date  favorite_count  \\\n0              0  2019-08-23 14:05:29.463000+00:00             0.0   \n1              0  2020-04-27 22:38:03.737000+00:00             NaN   \n2              0  2020-02-21 01:10:53.553000+00:00             NaN   \n3              1  2019-11-03 23:51:01.683000+00:00             NaN   \n4              5  2020-02-23 03:24:42.360000+00:00             NaN   \n\n                                            tags  view_count  \\\n0               telegram-bot|python-telegram-bot          79   \n1      asp.net-core|shared-hosting|cloud-hosting          47   \n2                  discord.py|discord.py-rewrite         103   \n3  jpa|jakarta-ee|persistence|jpa-2.1|wildfly-16          22   \n4                        javascript|html|reactjs          40   \n\n                                         answer_text score_cat  \\\n0  <p>The bot only is replying message, not creat...       bad   \n1  <p>If choose their windows cloud hosting platf...       bad   \n2  <p>What you're doing right now, is <strong>req...       bad   \n3  <p>What was missing is to add the \"eclipselink...       bad   \n4  <p>You need to trigger a re-render. This is do...       bad   \n\n                                question_title_clean  \\\n0                     avoid bot repeat command group   \n1                  host asp net core web application   \n2  discord ext command error missingrequiredargum...   \n3                                jpa save db wildfly   \n4  conditionally render array within array within...   \n\n                                 question_text_clean  \\\n0  create new telegram bot maintain simple list c...   \n1  confusion host application build application a...   \n2  would like make command set permission text ch...   \n3  migrate wildfly wildfly jee application launch...   \n4  ive try many method outline user dice im sure ...   \n\n                               tags_clean  \\\n0           telegrambot pythontelegrambot   \n1  asp netcore sharedhosting cloudhosting   \n2            discord py discord pyrewrite   \n3   jpa jakartaee persistence jpa wildfly   \n4                 javascript html reactjs   \n\n                                   answer_text_clean  answer_wordcount  \n0   bot reply message create message use sendmessage                 7  \n1  choose window cloud host platform net core wor...                22  \n2  right now require guild argument command bot a...                92  \n3  miss add eclipselink jar file wildfly module s...                34  \n4  need trigger rerender do call tell content com...                82  ",
      "text/html": "<div>\n<style scoped>\n    .dataframe tbody tr th:only-of-type {\n        vertical-align: middle;\n    }\n\n    .dataframe tbody tr th {\n        vertical-align: top;\n    }\n\n    .dataframe thead th {\n        text-align: right;\n    }\n</style>\n<table border=\"1\" class=\"dataframe\">\n  <thead>\n    <tr style=\"text-align: right;\">\n      <th></th>\n      <th>Unnamed: 0</th>\n      <th>score</th>\n      <th>question_title</th>\n      <th>question_text</th>\n      <th>answer_count</th>\n      <th>comment_count</th>\n      <th>creation_date</th>\n      <th>favorite_count</th>\n      <th>tags</th>\n      <th>view_count</th>\n      <th>answer_text</th>\n      <th>score_cat</th>\n      <th>question_title_clean</th>\n      <th>question_text_clean</th>\n      <th>tags_clean</th>\n      <th>answer_text_clean</th>\n      <th>answer_wordcount</th>\n    </tr>\n  </thead>\n  <tbody>\n    <tr>\n      <th>0</th>\n      <td>0</td>\n      <td>0</td>\n      <td>How to avoid Bot repeating command in groups?</td>\n      <td>&lt;p&gt;I created a new Telegram Bot which maintain...</td>\n      <td>2</td>\n      <td>0</td>\n      <td>2019-08-23 14:05:29.463000+00:00</td>\n      <td>0.0</td>\n      <td>telegram-bot|python-telegram-bot</td>\n      <td>79</td>\n      <td>&lt;p&gt;The bot only is replying message, not creat...</td>\n      <td>bad</td>\n      <td>avoid bot repeat command group</td>\n      <td>create new telegram bot maintain simple list c...</td>\n      <td>telegrambot pythontelegrambot</td>\n      <td>bot reply message create message use sendmessage</td>\n      <td>7</td>\n    </tr>\n    <tr>\n      <th>1</th>\n      <td>1</td>\n      <td>-3</td>\n      <td>how to host Asp.net core web application..?</td>\n      <td>&lt;p&gt;I have more confusion with hosting my appli...</td>\n      <td>2</td>\n      <td>0</td>\n      <td>2020-04-27 22:38:03.737000+00:00</td>\n      <td>NaN</td>\n      <td>asp.net-core|shared-hosting|cloud-hosting</td>\n      <td>47</td>\n      <td>&lt;p&gt;If choose their windows cloud hosting platf...</td>\n      <td>bad</td>\n      <td>host asp net core web application</td>\n      <td>confusion host application build application a...</td>\n      <td>asp netcore sharedhosting cloudhosting</td>\n      <td>choose window cloud host platform net core wor...</td>\n      <td>22</td>\n    </tr>\n    <tr>\n      <th>2</th>\n      <td>2</td>\n      <td>0</td>\n      <td>discord.ext.commands.errors.MissingRequiredArg...</td>\n      <td>&lt;p&gt;i would like make a command for set permiss...</td>\n      <td>2</td>\n      <td>0</td>\n      <td>2020-02-21 01:10:53.553000+00:00</td>\n      <td>NaN</td>\n      <td>discord.py|discord.py-rewrite</td>\n      <td>103</td>\n      <td>&lt;p&gt;What you're doing right now, is &lt;strong&gt;req...</td>\n      <td>bad</td>\n      <td>discord ext command error missingrequiredargum...</td>\n      <td>would like make command set permission text ch...</td>\n      <td>discord py discord pyrewrite</td>\n      <td>right now require guild argument command bot a...</td>\n      <td>92</td>\n    </tr>\n    <tr>\n      <th>3</th>\n      <td>3</td>\n      <td>0</td>\n      <td>JPA not saving to DB on WildFly 16</td>\n      <td>&lt;p&gt;After migrating from Wildfly-8.2.0 to Wildf...</td>\n      <td>1</td>\n      <td>1</td>\n      <td>2019-11-03 23:51:01.683000+00:00</td>\n      <td>NaN</td>\n      <td>jpa|jakarta-ee|persistence|jpa-2.1|wildfly-16</td>\n      <td>22</td>\n      <td>&lt;p&gt;What was missing is to add the \"eclipselink...</td>\n      <td>bad</td>\n      <td>jpa save db wildfly</td>\n      <td>migrate wildfly wildfly jee application launch...</td>\n      <td>jpa jakartaee persistence jpa wildfly</td>\n      <td>miss add eclipselink jar file wildfly module s...</td>\n      <td>34</td>\n    </tr>\n    <tr>\n      <th>4</th>\n      <td>4</td>\n      <td>0</td>\n      <td>Conditionally rendering an array within an arr...</td>\n      <td>&lt;p&gt;I've tried many of the methods outlined by ...</td>\n      <td>1</td>\n      <td>5</td>\n      <td>2020-02-23 03:24:42.360000+00:00</td>\n      <td>NaN</td>\n      <td>javascript|html|reactjs</td>\n      <td>40</td>\n      <td>&lt;p&gt;You need to trigger a re-render. This is do...</td>\n      <td>bad</td>\n      <td>conditionally render array within array within...</td>\n      <td>ive try many method outline user dice im sure ...</td>\n      <td>javascript html reactjs</td>\n      <td>need trigger rerender do call tell content com...</td>\n      <td>82</td>\n    </tr>\n  </tbody>\n</table>\n</div>"
     },
     "metadata": {},
     "execution_count": 27
    }
   ],
   "source": [
    "### Print out dataset for overview\n",
    "\n",
    "stackoverflow.head()"
   ]
  },
  {
   "cell_type": "code",
   "execution_count": 28,
   "metadata": {
    "tags": []
   },
   "outputs": [
    {
     "output_type": "stream",
     "name": "stdout",
     "text": "<class 'pandas.core.frame.DataFrame'>\nRangeIndex: 30000 entries, 0 to 29999\nData columns (total 17 columns):\n #   Column                Non-Null Count  Dtype  \n---  ------                --------------  -----  \n 0   Unnamed: 0            30000 non-null  int64  \n 1   score                 30000 non-null  int64  \n 2   question_title        30000 non-null  object \n 3   question_text         30000 non-null  object \n 4   answer_count          30000 non-null  int64  \n 5   comment_count         30000 non-null  int64  \n 6   creation_date         30000 non-null  object \n 7   favorite_count        13550 non-null  float64\n 8   tags                  30000 non-null  object \n 9   view_count            30000 non-null  int64  \n 10  answer_text           30000 non-null  object \n 11  score_cat             30000 non-null  object \n 12  question_title_clean  29999 non-null  object \n 13  question_text_clean   30000 non-null  object \n 14  tags_clean            29707 non-null  object \n 15  answer_text_clean     29987 non-null  object \n 16  answer_wordcount      30000 non-null  int64  \ndtypes: float64(1), int64(6), object(10)\nmemory usage: 3.9+ MB\n"
    }
   ],
   "source": [
    "### Print out variable types for overview\n",
    "\n",
    "stackoverflow.info()"
   ]
  },
  {
   "cell_type": "code",
   "execution_count": 29,
   "metadata": {},
   "outputs": [
    {
     "output_type": "execute_result",
     "data": {
      "text/plain": "Unnamed: 0              False\nscore                   False\nquestion_title          False\nquestion_text           False\nanswer_count            False\ncomment_count           False\ncreation_date           False\nfavorite_count           True\ntags                    False\nview_count              False\nanswer_text             False\nscore_cat               False\nquestion_title_clean     True\nquestion_text_clean     False\ntags_clean               True\nanswer_text_clean        True\nanswer_wordcount        False\ndtype: bool"
     },
     "metadata": {},
     "execution_count": 29
    }
   ],
   "source": [
    "### Figure out how to deal with missing values for answer_text_clean, tags_clean and question_title_clean\n",
    "\n",
    "stackoverflow.isna().any()"
   ]
  },
  {
   "cell_type": "code",
   "execution_count": 30,
   "metadata": {},
   "outputs": [],
   "source": [
    "stackoverflow = stackoverflow.drop(['favorite_count'] , axis=1)"
   ]
  },
  {
   "cell_type": "code",
   "execution_count": 31,
   "metadata": {},
   "outputs": [],
   "source": [
    "### Drop all observations / rows with any missing values\n",
    "\n",
    "stackoverflow = stackoverflow.dropna()"
   ]
  },
  {
   "cell_type": "code",
   "execution_count": 32,
   "metadata": {},
   "outputs": [],
   "source": [
    "### Define function to count number of words in an answer\n",
    "\n",
    "def wordcounter(x):\n",
    "    x = len(re.findall(r'\\w+', str(x)))\n",
    "    return x"
   ]
  },
  {
   "cell_type": "code",
   "execution_count": 33,
   "metadata": {},
   "outputs": [],
   "source": [
    "### Feature extraction: Get wordcount of stackoverflow answers\n",
    "\n",
    "stackoverflow['answer_wordcount'] = stackoverflow['answer_text_clean'].apply(wordcounter)"
   ]
  },
  {
   "cell_type": "code",
   "execution_count": 34,
   "metadata": {},
   "outputs": [
    {
     "output_type": "execute_result",
     "data": {
      "text/plain": "answer_wordcount  1     2     3     4     5     6     7     8     9     10    \\\nscore_cat                                                                      \nbad                 10    23    35    62    59    78    97   119   136   135   \ngood                 5    16    24    38    53    71   110    93   103   131   \ngreat               10    15    48    79    87   123   129   139   181   165   \n\nanswer_wordcount  ...  1337  1364  1449  1490  1521  1668  1919  1933  2019  \\\nscore_cat         ...                                                         \nbad               ...     1     0     0     0     0     1     1     0     0   \ngood              ...     0     1     1     0     1     0     0     0     1   \ngreat             ...     0     0     0     1     0     0     0     1     0   \n\nanswer_wordcount  2108  \nscore_cat               \nbad                  0  \ngood                 1  \ngreat                0  \n\n[3 rows x 561 columns]",
      "text/html": "<div>\n<style scoped>\n    .dataframe tbody tr th:only-of-type {\n        vertical-align: middle;\n    }\n\n    .dataframe tbody tr th {\n        vertical-align: top;\n    }\n\n    .dataframe thead th {\n        text-align: right;\n    }\n</style>\n<table border=\"1\" class=\"dataframe\">\n  <thead>\n    <tr style=\"text-align: right;\">\n      <th>answer_wordcount</th>\n      <th>1</th>\n      <th>2</th>\n      <th>3</th>\n      <th>4</th>\n      <th>5</th>\n      <th>6</th>\n      <th>7</th>\n      <th>8</th>\n      <th>9</th>\n      <th>10</th>\n      <th>...</th>\n      <th>1337</th>\n      <th>1364</th>\n      <th>1449</th>\n      <th>1490</th>\n      <th>1521</th>\n      <th>1668</th>\n      <th>1919</th>\n      <th>1933</th>\n      <th>2019</th>\n      <th>2108</th>\n    </tr>\n    <tr>\n      <th>score_cat</th>\n      <th></th>\n      <th></th>\n      <th></th>\n      <th></th>\n      <th></th>\n      <th></th>\n      <th></th>\n      <th></th>\n      <th></th>\n      <th></th>\n      <th></th>\n      <th></th>\n      <th></th>\n      <th></th>\n      <th></th>\n      <th></th>\n      <th></th>\n      <th></th>\n      <th></th>\n      <th></th>\n      <th></th>\n    </tr>\n  </thead>\n  <tbody>\n    <tr>\n      <th>bad</th>\n      <td>10</td>\n      <td>23</td>\n      <td>35</td>\n      <td>62</td>\n      <td>59</td>\n      <td>78</td>\n      <td>97</td>\n      <td>119</td>\n      <td>136</td>\n      <td>135</td>\n      <td>...</td>\n      <td>1</td>\n      <td>0</td>\n      <td>0</td>\n      <td>0</td>\n      <td>0</td>\n      <td>1</td>\n      <td>1</td>\n      <td>0</td>\n      <td>0</td>\n      <td>0</td>\n    </tr>\n    <tr>\n      <th>good</th>\n      <td>5</td>\n      <td>16</td>\n      <td>24</td>\n      <td>38</td>\n      <td>53</td>\n      <td>71</td>\n      <td>110</td>\n      <td>93</td>\n      <td>103</td>\n      <td>131</td>\n      <td>...</td>\n      <td>0</td>\n      <td>1</td>\n      <td>1</td>\n      <td>0</td>\n      <td>1</td>\n      <td>0</td>\n      <td>0</td>\n      <td>0</td>\n      <td>1</td>\n      <td>1</td>\n    </tr>\n    <tr>\n      <th>great</th>\n      <td>10</td>\n      <td>15</td>\n      <td>48</td>\n      <td>79</td>\n      <td>87</td>\n      <td>123</td>\n      <td>129</td>\n      <td>139</td>\n      <td>181</td>\n      <td>165</td>\n      <td>...</td>\n      <td>0</td>\n      <td>0</td>\n      <td>0</td>\n      <td>1</td>\n      <td>0</td>\n      <td>0</td>\n      <td>0</td>\n      <td>1</td>\n      <td>0</td>\n      <td>0</td>\n    </tr>\n  </tbody>\n</table>\n<p>3 rows × 561 columns</p>\n</div>"
     },
     "metadata": {},
     "execution_count": 34
    }
   ],
   "source": [
    "### Check of possible patterns in wordcount and answer score\n",
    "\n",
    "stackoverflow.groupby(['score_cat', 'answer_wordcount']).size().unstack(fill_value=0)"
   ]
  },
  {
   "cell_type": "code",
   "execution_count": 35,
   "metadata": {},
   "outputs": [],
   "source": [
    "### Make score_cat column into type category and assign numeric category codes\n",
    "\n",
    "stackoverflow['score_cat'] = stackoverflow['score_cat'].astype('category')\n",
    "stackoverflow['score_cat'] = stackoverflow.score_cat.cat.codes\n",
    "stackoverflow_copy = stackoverflow.copy()\n",
    "\n",
    "### Make integer to be able to show heatmap in next step\n",
    "\n",
    "stackoverflow_copy['score_cat_int'] = stackoverflow_copy.score_cat.astype(int)"
   ]
  },
  {
   "cell_type": "code",
   "execution_count": 36,
   "metadata": {},
   "outputs": [
    {
     "output_type": "display_data",
     "data": {
      "text/plain": "<Figure size 432x288 with 2 Axes>",
      "image/svg+xml": "<?xml version=\"1.0\" encoding=\"utf-8\" standalone=\"no\"?>\n<!DOCTYPE svg PUBLIC \"-//W3C//DTD SVG 1.1//EN\"\n  \"http://www.w3.org/Graphics/SVG/1.1/DTD/svg11.dtd\">\n<!-- Created with matplotlib (https://matplotlib.org/) -->\n<svg height=\"271.390938pt\" version=\"1.1\" viewBox=\"0 0 349.711375 271.390938\" width=\"349.711375pt\" xmlns=\"http://www.w3.org/2000/svg\" xmlns:xlink=\"http://www.w3.org/1999/xlink\">\n <defs>\n  <style type=\"text/css\">\n*{stroke-linecap:butt;stroke-linejoin:round;}\n  </style>\n </defs>\n <g id=\"figure_1\">\n  <g id=\"patch_1\">\n   <path d=\"M -0 271.390938 \nL 349.711375 271.390938 \nL 349.711375 0 \nL -0 0 \nz\n\" style=\"fill:none;\"/>\n  </g>\n  <g id=\"axes_1\">\n   <g id=\"patch_2\">\n    <path d=\"M 24.15625 228.439219 \nL 291.99625 228.439219 \nL 291.99625 10.999219 \nL 24.15625 10.999219 \nz\n\" style=\"fill:#ffffff;\"/>\n   </g>\n   <g id=\"QuadMesh_1\">\n    <path clip-path=\"url(#p0deee34373)\" d=\"M 24.15625 10.999219 \nL 158.07625 10.999219 \nL 158.07625 119.719219 \nL 24.15625 119.719219 \nL 24.15625 10.999219 \n\" style=\"fill:#faebdd;\"/>\n    <path clip-path=\"url(#p0deee34373)\" d=\"M 158.07625 10.999219 \nL 291.99625 10.999219 \nL 291.99625 119.719219 \nL 158.07625 119.719219 \nL 158.07625 10.999219 \n\" style=\"fill:#03051a;\"/>\n    <path clip-path=\"url(#p0deee34373)\" d=\"M 24.15625 119.719219 \nL 158.07625 119.719219 \nL 158.07625 228.439219 \nL 24.15625 228.439219 \nL 24.15625 119.719219 \n\" style=\"fill:#03051a;\"/>\n    <path clip-path=\"url(#p0deee34373)\" d=\"M 158.07625 119.719219 \nL 291.99625 119.719219 \nL 291.99625 228.439219 \nL 158.07625 228.439219 \nL 158.07625 119.719219 \n\" style=\"fill:#faebdd;\"/>\n   </g>\n   <g id=\"matplotlib.axis_1\">\n    <g id=\"xtick_1\">\n     <g id=\"line2d_1\">\n      <defs>\n       <path d=\"M 0 0 \nL 0 3.5 \n\" id=\"m40b67bc0fc\" style=\"stroke:#000000;stroke-width:0.8;\"/>\n      </defs>\n      <g>\n       <use style=\"stroke:#000000;stroke-width:0.8;\" x=\"91.11625\" xlink:href=\"#m40b67bc0fc\" y=\"228.439219\"/>\n      </g>\n     </g>\n     <g id=\"text_1\">\n      <!-- score_cat_int -->\n      <defs>\n       <path d=\"M 44.28125 53.078125 \nL 44.28125 44.578125 \nQ 40.484375 46.53125 36.375 47.5 \nQ 32.28125 48.484375 27.875 48.484375 \nQ 21.1875 48.484375 17.84375 46.4375 \nQ 14.5 44.390625 14.5 40.28125 \nQ 14.5 37.15625 16.890625 35.375 \nQ 19.28125 33.59375 26.515625 31.984375 \nL 29.59375 31.296875 \nQ 39.15625 29.25 43.1875 25.515625 \nQ 47.21875 21.78125 47.21875 15.09375 \nQ 47.21875 7.46875 41.1875 3.015625 \nQ 35.15625 -1.421875 24.609375 -1.421875 \nQ 20.21875 -1.421875 15.453125 -0.5625 \nQ 10.6875 0.296875 5.421875 2 \nL 5.421875 11.28125 \nQ 10.40625 8.6875 15.234375 7.390625 \nQ 20.0625 6.109375 24.8125 6.109375 \nQ 31.15625 6.109375 34.5625 8.28125 \nQ 37.984375 10.453125 37.984375 14.40625 \nQ 37.984375 18.0625 35.515625 20.015625 \nQ 33.0625 21.96875 24.703125 23.78125 \nL 21.578125 24.515625 \nQ 13.234375 26.265625 9.515625 29.90625 \nQ 5.8125 33.546875 5.8125 39.890625 \nQ 5.8125 47.609375 11.28125 51.796875 \nQ 16.75 56 26.8125 56 \nQ 31.78125 56 36.171875 55.265625 \nQ 40.578125 54.546875 44.28125 53.078125 \nz\n\" id=\"DejaVuSans-115\"/>\n       <path d=\"M 48.78125 52.59375 \nL 48.78125 44.1875 \nQ 44.96875 46.296875 41.140625 47.34375 \nQ 37.3125 48.390625 33.40625 48.390625 \nQ 24.65625 48.390625 19.8125 42.84375 \nQ 14.984375 37.3125 14.984375 27.296875 \nQ 14.984375 17.28125 19.8125 11.734375 \nQ 24.65625 6.203125 33.40625 6.203125 \nQ 37.3125 6.203125 41.140625 7.25 \nQ 44.96875 8.296875 48.78125 10.40625 \nL 48.78125 2.09375 \nQ 45.015625 0.34375 40.984375 -0.53125 \nQ 36.96875 -1.421875 32.421875 -1.421875 \nQ 20.0625 -1.421875 12.78125 6.34375 \nQ 5.515625 14.109375 5.515625 27.296875 \nQ 5.515625 40.671875 12.859375 48.328125 \nQ 20.21875 56 33.015625 56 \nQ 37.15625 56 41.109375 55.140625 \nQ 45.0625 54.296875 48.78125 52.59375 \nz\n\" id=\"DejaVuSans-99\"/>\n       <path d=\"M 30.609375 48.390625 \nQ 23.390625 48.390625 19.1875 42.75 \nQ 14.984375 37.109375 14.984375 27.296875 \nQ 14.984375 17.484375 19.15625 11.84375 \nQ 23.34375 6.203125 30.609375 6.203125 \nQ 37.796875 6.203125 41.984375 11.859375 \nQ 46.1875 17.53125 46.1875 27.296875 \nQ 46.1875 37.015625 41.984375 42.703125 \nQ 37.796875 48.390625 30.609375 48.390625 \nz\nM 30.609375 56 \nQ 42.328125 56 49.015625 48.375 \nQ 55.71875 40.765625 55.71875 27.296875 \nQ 55.71875 13.875 49.015625 6.21875 \nQ 42.328125 -1.421875 30.609375 -1.421875 \nQ 18.84375 -1.421875 12.171875 6.21875 \nQ 5.515625 13.875 5.515625 27.296875 \nQ 5.515625 40.765625 12.171875 48.375 \nQ 18.84375 56 30.609375 56 \nz\n\" id=\"DejaVuSans-111\"/>\n       <path d=\"M 41.109375 46.296875 \nQ 39.59375 47.171875 37.8125 47.578125 \nQ 36.03125 48 33.890625 48 \nQ 26.265625 48 22.1875 43.046875 \nQ 18.109375 38.09375 18.109375 28.8125 \nL 18.109375 0 \nL 9.078125 0 \nL 9.078125 54.6875 \nL 18.109375 54.6875 \nL 18.109375 46.1875 \nQ 20.953125 51.171875 25.484375 53.578125 \nQ 30.03125 56 36.53125 56 \nQ 37.453125 56 38.578125 55.875 \nQ 39.703125 55.765625 41.0625 55.515625 \nz\n\" id=\"DejaVuSans-114\"/>\n       <path d=\"M 56.203125 29.59375 \nL 56.203125 25.203125 \nL 14.890625 25.203125 \nQ 15.484375 15.921875 20.484375 11.0625 \nQ 25.484375 6.203125 34.421875 6.203125 \nQ 39.59375 6.203125 44.453125 7.46875 \nQ 49.3125 8.734375 54.109375 11.28125 \nL 54.109375 2.78125 \nQ 49.265625 0.734375 44.1875 -0.34375 \nQ 39.109375 -1.421875 33.890625 -1.421875 \nQ 20.796875 -1.421875 13.15625 6.1875 \nQ 5.515625 13.8125 5.515625 26.8125 \nQ 5.515625 40.234375 12.765625 48.109375 \nQ 20.015625 56 32.328125 56 \nQ 43.359375 56 49.78125 48.890625 \nQ 56.203125 41.796875 56.203125 29.59375 \nz\nM 47.21875 32.234375 \nQ 47.125 39.59375 43.09375 43.984375 \nQ 39.0625 48.390625 32.421875 48.390625 \nQ 24.90625 48.390625 20.390625 44.140625 \nQ 15.875 39.890625 15.1875 32.171875 \nz\n\" id=\"DejaVuSans-101\"/>\n       <path d=\"M 50.984375 -16.609375 \nL 50.984375 -23.578125 \nL -0.984375 -23.578125 \nL -0.984375 -16.609375 \nz\n\" id=\"DejaVuSans-95\"/>\n       <path d=\"M 34.28125 27.484375 \nQ 23.390625 27.484375 19.1875 25 \nQ 14.984375 22.515625 14.984375 16.5 \nQ 14.984375 11.71875 18.140625 8.90625 \nQ 21.296875 6.109375 26.703125 6.109375 \nQ 34.1875 6.109375 38.703125 11.40625 \nQ 43.21875 16.703125 43.21875 25.484375 \nL 43.21875 27.484375 \nz\nM 52.203125 31.203125 \nL 52.203125 0 \nL 43.21875 0 \nL 43.21875 8.296875 \nQ 40.140625 3.328125 35.546875 0.953125 \nQ 30.953125 -1.421875 24.3125 -1.421875 \nQ 15.921875 -1.421875 10.953125 3.296875 \nQ 6 8.015625 6 15.921875 \nQ 6 25.140625 12.171875 29.828125 \nQ 18.359375 34.515625 30.609375 34.515625 \nL 43.21875 34.515625 \nL 43.21875 35.40625 \nQ 43.21875 41.609375 39.140625 45 \nQ 35.0625 48.390625 27.6875 48.390625 \nQ 23 48.390625 18.546875 47.265625 \nQ 14.109375 46.140625 10.015625 43.890625 \nL 10.015625 52.203125 \nQ 14.9375 54.109375 19.578125 55.046875 \nQ 24.21875 56 28.609375 56 \nQ 40.484375 56 46.34375 49.84375 \nQ 52.203125 43.703125 52.203125 31.203125 \nz\n\" id=\"DejaVuSans-97\"/>\n       <path d=\"M 18.3125 70.21875 \nL 18.3125 54.6875 \nL 36.8125 54.6875 \nL 36.8125 47.703125 \nL 18.3125 47.703125 \nL 18.3125 18.015625 \nQ 18.3125 11.328125 20.140625 9.421875 \nQ 21.96875 7.515625 27.59375 7.515625 \nL 36.8125 7.515625 \nL 36.8125 0 \nL 27.59375 0 \nQ 17.1875 0 13.234375 3.875 \nQ 9.28125 7.765625 9.28125 18.015625 \nL 9.28125 47.703125 \nL 2.6875 47.703125 \nL 2.6875 54.6875 \nL 9.28125 54.6875 \nL 9.28125 70.21875 \nz\n\" id=\"DejaVuSans-116\"/>\n       <path d=\"M 9.421875 54.6875 \nL 18.40625 54.6875 \nL 18.40625 0 \nL 9.421875 0 \nz\nM 9.421875 75.984375 \nL 18.40625 75.984375 \nL 18.40625 64.59375 \nL 9.421875 64.59375 \nz\n\" id=\"DejaVuSans-105\"/>\n       <path d=\"M 54.890625 33.015625 \nL 54.890625 0 \nL 45.90625 0 \nL 45.90625 32.71875 \nQ 45.90625 40.484375 42.875 44.328125 \nQ 39.84375 48.1875 33.796875 48.1875 \nQ 26.515625 48.1875 22.3125 43.546875 \nQ 18.109375 38.921875 18.109375 30.90625 \nL 18.109375 0 \nL 9.078125 0 \nL 9.078125 54.6875 \nL 18.109375 54.6875 \nL 18.109375 46.1875 \nQ 21.34375 51.125 25.703125 53.5625 \nQ 30.078125 56 35.796875 56 \nQ 45.21875 56 50.046875 50.171875 \nQ 54.890625 44.34375 54.890625 33.015625 \nz\n\" id=\"DejaVuSans-110\"/>\n      </defs>\n      <g transform=\"translate(58.392031 243.037656)scale(0.1 -0.1)\">\n       <use xlink:href=\"#DejaVuSans-115\"/>\n       <use x=\"52.099609\" xlink:href=\"#DejaVuSans-99\"/>\n       <use x=\"107.080078\" xlink:href=\"#DejaVuSans-111\"/>\n       <use x=\"168.261719\" xlink:href=\"#DejaVuSans-114\"/>\n       <use x=\"207.125\" xlink:href=\"#DejaVuSans-101\"/>\n       <use x=\"268.648438\" xlink:href=\"#DejaVuSans-95\"/>\n       <use x=\"318.648438\" xlink:href=\"#DejaVuSans-99\"/>\n       <use x=\"373.628906\" xlink:href=\"#DejaVuSans-97\"/>\n       <use x=\"434.908203\" xlink:href=\"#DejaVuSans-116\"/>\n       <use x=\"474.117188\" xlink:href=\"#DejaVuSans-95\"/>\n       <use x=\"524.117188\" xlink:href=\"#DejaVuSans-105\"/>\n       <use x=\"551.900391\" xlink:href=\"#DejaVuSans-110\"/>\n       <use x=\"615.279297\" xlink:href=\"#DejaVuSans-116\"/>\n      </g>\n     </g>\n    </g>\n    <g id=\"xtick_2\">\n     <g id=\"line2d_2\">\n      <g>\n       <use style=\"stroke:#000000;stroke-width:0.8;\" x=\"225.03625\" xlink:href=\"#m40b67bc0fc\" y=\"228.439219\"/>\n      </g>\n     </g>\n     <g id=\"text_2\">\n      <!-- answer_wordcount -->\n      <defs>\n       <path d=\"M 4.203125 54.6875 \nL 13.1875 54.6875 \nL 24.421875 12.015625 \nL 35.59375 54.6875 \nL 46.1875 54.6875 \nL 57.421875 12.015625 \nL 68.609375 54.6875 \nL 77.59375 54.6875 \nL 63.28125 0 \nL 52.6875 0 \nL 40.921875 44.828125 \nL 29.109375 0 \nL 18.5 0 \nz\n\" id=\"DejaVuSans-119\"/>\n       <path d=\"M 45.40625 46.390625 \nL 45.40625 75.984375 \nL 54.390625 75.984375 \nL 54.390625 0 \nL 45.40625 0 \nL 45.40625 8.203125 \nQ 42.578125 3.328125 38.25 0.953125 \nQ 33.9375 -1.421875 27.875 -1.421875 \nQ 17.96875 -1.421875 11.734375 6.484375 \nQ 5.515625 14.40625 5.515625 27.296875 \nQ 5.515625 40.1875 11.734375 48.09375 \nQ 17.96875 56 27.875 56 \nQ 33.9375 56 38.25 53.625 \nQ 42.578125 51.265625 45.40625 46.390625 \nz\nM 14.796875 27.296875 \nQ 14.796875 17.390625 18.875 11.75 \nQ 22.953125 6.109375 30.078125 6.109375 \nQ 37.203125 6.109375 41.296875 11.75 \nQ 45.40625 17.390625 45.40625 27.296875 \nQ 45.40625 37.203125 41.296875 42.84375 \nQ 37.203125 48.484375 30.078125 48.484375 \nQ 22.953125 48.484375 18.875 42.84375 \nQ 14.796875 37.203125 14.796875 27.296875 \nz\n\" id=\"DejaVuSans-100\"/>\n       <path d=\"M 8.5 21.578125 \nL 8.5 54.6875 \nL 17.484375 54.6875 \nL 17.484375 21.921875 \nQ 17.484375 14.15625 20.5 10.265625 \nQ 23.53125 6.390625 29.59375 6.390625 \nQ 36.859375 6.390625 41.078125 11.03125 \nQ 45.3125 15.671875 45.3125 23.6875 \nL 45.3125 54.6875 \nL 54.296875 54.6875 \nL 54.296875 0 \nL 45.3125 0 \nL 45.3125 8.40625 \nQ 42.046875 3.421875 37.71875 1 \nQ 33.40625 -1.421875 27.6875 -1.421875 \nQ 18.265625 -1.421875 13.375 4.4375 \nQ 8.5 10.296875 8.5 21.578125 \nz\nM 31.109375 56 \nz\n\" id=\"DejaVuSans-117\"/>\n      </defs>\n      <g transform=\"translate(178.080781 243.037656)scale(0.1 -0.1)\">\n       <use xlink:href=\"#DejaVuSans-97\"/>\n       <use x=\"61.279297\" xlink:href=\"#DejaVuSans-110\"/>\n       <use x=\"124.658203\" xlink:href=\"#DejaVuSans-115\"/>\n       <use x=\"176.757812\" xlink:href=\"#DejaVuSans-119\"/>\n       <use x=\"258.544922\" xlink:href=\"#DejaVuSans-101\"/>\n       <use x=\"320.068359\" xlink:href=\"#DejaVuSans-114\"/>\n       <use x=\"361.181641\" xlink:href=\"#DejaVuSans-95\"/>\n       <use x=\"411.181641\" xlink:href=\"#DejaVuSans-119\"/>\n       <use x=\"492.96875\" xlink:href=\"#DejaVuSans-111\"/>\n       <use x=\"554.150391\" xlink:href=\"#DejaVuSans-114\"/>\n       <use x=\"593.513672\" xlink:href=\"#DejaVuSans-100\"/>\n       <use x=\"656.990234\" xlink:href=\"#DejaVuSans-99\"/>\n       <use x=\"711.970703\" xlink:href=\"#DejaVuSans-111\"/>\n       <use x=\"773.152344\" xlink:href=\"#DejaVuSans-117\"/>\n       <use x=\"836.53125\" xlink:href=\"#DejaVuSans-110\"/>\n       <use x=\"899.910156\" xlink:href=\"#DejaVuSans-116\"/>\n      </g>\n     </g>\n    </g>\n   </g>\n   <g id=\"matplotlib.axis_2\">\n    <g id=\"ytick_1\">\n     <g id=\"line2d_3\">\n      <defs>\n       <path d=\"M 0 0 \nL -3.5 0 \n\" id=\"m77c9df6537\" style=\"stroke:#000000;stroke-width:0.8;\"/>\n      </defs>\n      <g>\n       <use style=\"stroke:#000000;stroke-width:0.8;\" x=\"24.15625\" xlink:href=\"#m77c9df6537\" y=\"65.359219\"/>\n      </g>\n     </g>\n     <g id=\"text_3\">\n      <!-- score_cat_int -->\n      <g transform=\"translate(14.798438 127.008438)rotate(-90)scale(0.1 -0.1)\">\n       <use xlink:href=\"#DejaVuSans-115\"/>\n       <use x=\"52.099609\" xlink:href=\"#DejaVuSans-99\"/>\n       <use x=\"107.080078\" xlink:href=\"#DejaVuSans-111\"/>\n       <use x=\"168.261719\" xlink:href=\"#DejaVuSans-114\"/>\n       <use x=\"207.125\" xlink:href=\"#DejaVuSans-101\"/>\n       <use x=\"268.648438\" xlink:href=\"#DejaVuSans-95\"/>\n       <use x=\"318.648438\" xlink:href=\"#DejaVuSans-99\"/>\n       <use x=\"373.628906\" xlink:href=\"#DejaVuSans-97\"/>\n       <use x=\"434.908203\" xlink:href=\"#DejaVuSans-116\"/>\n       <use x=\"474.117188\" xlink:href=\"#DejaVuSans-95\"/>\n       <use x=\"524.117188\" xlink:href=\"#DejaVuSans-105\"/>\n       <use x=\"551.900391\" xlink:href=\"#DejaVuSans-110\"/>\n       <use x=\"615.279297\" xlink:href=\"#DejaVuSans-116\"/>\n      </g>\n     </g>\n    </g>\n    <g id=\"ytick_2\">\n     <g id=\"line2d_4\">\n      <g>\n       <use style=\"stroke:#000000;stroke-width:0.8;\" x=\"24.15625\" xlink:href=\"#m77c9df6537\" y=\"174.079219\"/>\n      </g>\n     </g>\n     <g id=\"text_4\">\n      <!-- answer_wordcount -->\n      <g transform=\"translate(14.798438 264.190938)rotate(-90)scale(0.1 -0.1)\">\n       <use xlink:href=\"#DejaVuSans-97\"/>\n       <use x=\"61.279297\" xlink:href=\"#DejaVuSans-110\"/>\n       <use x=\"124.658203\" xlink:href=\"#DejaVuSans-115\"/>\n       <use x=\"176.757812\" xlink:href=\"#DejaVuSans-119\"/>\n       <use x=\"258.544922\" xlink:href=\"#DejaVuSans-101\"/>\n       <use x=\"320.068359\" xlink:href=\"#DejaVuSans-114\"/>\n       <use x=\"361.181641\" xlink:href=\"#DejaVuSans-95\"/>\n       <use x=\"411.181641\" xlink:href=\"#DejaVuSans-119\"/>\n       <use x=\"492.96875\" xlink:href=\"#DejaVuSans-111\"/>\n       <use x=\"554.150391\" xlink:href=\"#DejaVuSans-114\"/>\n       <use x=\"593.513672\" xlink:href=\"#DejaVuSans-100\"/>\n       <use x=\"656.990234\" xlink:href=\"#DejaVuSans-99\"/>\n       <use x=\"711.970703\" xlink:href=\"#DejaVuSans-111\"/>\n       <use x=\"773.152344\" xlink:href=\"#DejaVuSans-117\"/>\n       <use x=\"836.53125\" xlink:href=\"#DejaVuSans-110\"/>\n       <use x=\"899.910156\" xlink:href=\"#DejaVuSans-116\"/>\n      </g>\n     </g>\n    </g>\n   </g>\n   <g id=\"text_5\">\n    <!-- 1 -->\n    <defs>\n     <path d=\"M 12.40625 8.296875 \nL 28.515625 8.296875 \nL 28.515625 63.921875 \nL 10.984375 60.40625 \nL 10.984375 69.390625 \nL 28.421875 72.90625 \nL 38.28125 72.90625 \nL 38.28125 8.296875 \nL 54.390625 8.296875 \nL 54.390625 0 \nL 12.40625 0 \nz\n\" id=\"DejaVuSans-49\"/>\n    </defs>\n    <g style=\"fill:#262626;\" transform=\"translate(87.935 68.118594)scale(0.1 -0.1)\">\n     <use xlink:href=\"#DejaVuSans-49\"/>\n    </g>\n   </g>\n   <g id=\"text_6\">\n    <!-- -0.012 -->\n    <defs>\n     <path d=\"M 4.890625 31.390625 \nL 31.203125 31.390625 \nL 31.203125 23.390625 \nL 4.890625 23.390625 \nz\n\" id=\"DejaVuSans-45\"/>\n     <path d=\"M 31.78125 66.40625 \nQ 24.171875 66.40625 20.328125 58.90625 \nQ 16.5 51.421875 16.5 36.375 \nQ 16.5 21.390625 20.328125 13.890625 \nQ 24.171875 6.390625 31.78125 6.390625 \nQ 39.453125 6.390625 43.28125 13.890625 \nQ 47.125 21.390625 47.125 36.375 \nQ 47.125 51.421875 43.28125 58.90625 \nQ 39.453125 66.40625 31.78125 66.40625 \nz\nM 31.78125 74.21875 \nQ 44.046875 74.21875 50.515625 64.515625 \nQ 56.984375 54.828125 56.984375 36.375 \nQ 56.984375 17.96875 50.515625 8.265625 \nQ 44.046875 -1.421875 31.78125 -1.421875 \nQ 19.53125 -1.421875 13.0625 8.265625 \nQ 6.59375 17.96875 6.59375 36.375 \nQ 6.59375 54.828125 13.0625 64.515625 \nQ 19.53125 74.21875 31.78125 74.21875 \nz\n\" id=\"DejaVuSans-48\"/>\n     <path d=\"M 10.6875 12.40625 \nL 21 12.40625 \nL 21 0 \nL 10.6875 0 \nz\n\" id=\"DejaVuSans-46\"/>\n     <path d=\"M 19.1875 8.296875 \nL 53.609375 8.296875 \nL 53.609375 0 \nL 7.328125 0 \nL 7.328125 8.296875 \nQ 12.9375 14.109375 22.625 23.890625 \nQ 32.328125 33.6875 34.8125 36.53125 \nQ 39.546875 41.84375 41.421875 45.53125 \nQ 43.3125 49.21875 43.3125 52.78125 \nQ 43.3125 58.59375 39.234375 62.25 \nQ 35.15625 65.921875 28.609375 65.921875 \nQ 23.96875 65.921875 18.8125 64.3125 \nQ 13.671875 62.703125 7.8125 59.421875 \nL 7.8125 69.390625 \nQ 13.765625 71.78125 18.9375 73 \nQ 24.125 74.21875 28.421875 74.21875 \nQ 39.75 74.21875 46.484375 68.546875 \nQ 53.21875 62.890625 53.21875 53.421875 \nQ 53.21875 48.921875 51.53125 44.890625 \nQ 49.859375 40.875 45.40625 35.40625 \nQ 44.1875 33.984375 37.640625 27.21875 \nQ 31.109375 20.453125 19.1875 8.296875 \nz\n\" id=\"DejaVuSans-50\"/>\n    </defs>\n    <g style=\"fill:#ffffff;\" transform=\"translate(208.918281 68.118594)scale(0.1 -0.1)\">\n     <use xlink:href=\"#DejaVuSans-45\"/>\n     <use x=\"36.083984\" xlink:href=\"#DejaVuSans-48\"/>\n     <use x=\"99.707031\" xlink:href=\"#DejaVuSans-46\"/>\n     <use x=\"131.494141\" xlink:href=\"#DejaVuSans-48\"/>\n     <use x=\"195.117188\" xlink:href=\"#DejaVuSans-49\"/>\n     <use x=\"258.740234\" xlink:href=\"#DejaVuSans-50\"/>\n    </g>\n   </g>\n   <g id=\"text_7\">\n    <!-- -0.012 -->\n    <g style=\"fill:#ffffff;\" transform=\"translate(74.998281 176.838594)scale(0.1 -0.1)\">\n     <use xlink:href=\"#DejaVuSans-45\"/>\n     <use x=\"36.083984\" xlink:href=\"#DejaVuSans-48\"/>\n     <use x=\"99.707031\" xlink:href=\"#DejaVuSans-46\"/>\n     <use x=\"131.494141\" xlink:href=\"#DejaVuSans-48\"/>\n     <use x=\"195.117188\" xlink:href=\"#DejaVuSans-49\"/>\n     <use x=\"258.740234\" xlink:href=\"#DejaVuSans-50\"/>\n    </g>\n   </g>\n   <g id=\"text_8\">\n    <!-- 1 -->\n    <g style=\"fill:#262626;\" transform=\"translate(221.855 176.838594)scale(0.1 -0.1)\">\n     <use xlink:href=\"#DejaVuSans-49\"/>\n    </g>\n   </g>\n  </g>\n  <g id=\"axes_2\">\n   <g id=\"patch_3\">\n    <path clip-path=\"url(#pabc4f18dd4)\" d=\"M 308.73625 228.439219 \nL 308.73625 227.589844 \nL 308.73625 11.848594 \nL 308.73625 10.999219 \nL 319.60825 10.999219 \nL 319.60825 11.848594 \nL 319.60825 227.589844 \nL 319.60825 228.439219 \nz\n\" style=\"fill:#ffffff;stroke:#ffffff;stroke-linejoin:miter;stroke-width:0.01;\"/>\n   </g>\n   <image height=\"217\" id=\"image96d730ca5d\" transform=\"scale(1 -1)translate(0 -217)\" width=\"11\" x=\"309\" xlink:href=\"data:image/png;base64,\niVBORw0KGgoAAAANSUhEUgAAAAsAAADZCAYAAAD2WsoCAAAABHNCSVQICAgIfAhkiAAAAVhJREFUaIHtmDuuA0EIBPn5Er7/OZ9f7IwKSmIlb4xa1Q3LaCbn9f7E8pvM3NbS4rCUO2tfXJrB8gwWMahhoA56ObN2szSAspgGURaH/4kGjwy/hjGBRnT/mbPhLUaSxr7U3fykeLToWBpauxEGarc3/GZ0QLm9f5BgmO1+HrOH0Zpyra8Hahps1xFlxIzS8DDmBgZrtzZIV9LQMOazlzY30g0MlEaGxQwNWhgdf0AZBC0yJ9gF06S4SDHCgMrrWpoG2DKmQYaxroXKXWD4wVMBjM5Lo4YY1HI2owPKBU76CQ3DKwZX2JicGxjgUKEGkTK5IGjMIgY4Y9lrD2KGxYSZGGQY5JXYSyNJGtH7O73YlCM5J3jhUNtNlNE/OPttrjaF/LAeBkqD7TrUQSs6VsxWwQ2DSLnR8N9gfmAamdogXUnDOyYsg9kvSdkcfivn9FbBz+CX8t7gPxK9KiPTLIenAAAAAElFTkSuQmCC\" y=\"-11\"/>\n   <g id=\"matplotlib.axis_3\"/>\n   <g id=\"matplotlib.axis_4\">\n    <g id=\"ytick_3\">\n     <g id=\"line2d_5\">\n      <defs>\n       <path d=\"M 0 0 \nL 3.5 0 \n\" id=\"mbde66478c9\" style=\"stroke:#000000;stroke-width:0.8;\"/>\n      </defs>\n      <g>\n       <use style=\"stroke:#000000;stroke-width:0.8;\" x=\"319.60825\" xlink:href=\"#mbde66478c9\" y=\"225.930445\"/>\n      </g>\n     </g>\n     <g id=\"text_9\">\n      <!-- 0.0 -->\n      <g transform=\"translate(326.60825 229.729664)scale(0.1 -0.1)\">\n       <use xlink:href=\"#DejaVuSans-48\"/>\n       <use x=\"63.623047\" xlink:href=\"#DejaVuSans-46\"/>\n       <use x=\"95.410156\" xlink:href=\"#DejaVuSans-48\"/>\n      </g>\n     </g>\n    </g>\n    <g id=\"ytick_4\">\n     <g id=\"line2d_6\">\n      <g>\n       <use style=\"stroke:#000000;stroke-width:0.8;\" x=\"319.60825\" xlink:href=\"#mbde66478c9\" y=\"182.9442\"/>\n      </g>\n     </g>\n     <g id=\"text_10\">\n      <!-- 0.2 -->\n      <g transform=\"translate(326.60825 186.743419)scale(0.1 -0.1)\">\n       <use xlink:href=\"#DejaVuSans-48\"/>\n       <use x=\"63.623047\" xlink:href=\"#DejaVuSans-46\"/>\n       <use x=\"95.410156\" xlink:href=\"#DejaVuSans-50\"/>\n      </g>\n     </g>\n    </g>\n    <g id=\"ytick_5\">\n     <g id=\"line2d_7\">\n      <g>\n       <use style=\"stroke:#000000;stroke-width:0.8;\" x=\"319.60825\" xlink:href=\"#mbde66478c9\" y=\"139.957955\"/>\n      </g>\n     </g>\n     <g id=\"text_11\">\n      <!-- 0.4 -->\n      <defs>\n       <path d=\"M 37.796875 64.3125 \nL 12.890625 25.390625 \nL 37.796875 25.390625 \nz\nM 35.203125 72.90625 \nL 47.609375 72.90625 \nL 47.609375 25.390625 \nL 58.015625 25.390625 \nL 58.015625 17.1875 \nL 47.609375 17.1875 \nL 47.609375 0 \nL 37.796875 0 \nL 37.796875 17.1875 \nL 4.890625 17.1875 \nL 4.890625 26.703125 \nz\n\" id=\"DejaVuSans-52\"/>\n      </defs>\n      <g transform=\"translate(326.60825 143.757173)scale(0.1 -0.1)\">\n       <use xlink:href=\"#DejaVuSans-48\"/>\n       <use x=\"63.623047\" xlink:href=\"#DejaVuSans-46\"/>\n       <use x=\"95.410156\" xlink:href=\"#DejaVuSans-52\"/>\n      </g>\n     </g>\n    </g>\n    <g id=\"ytick_6\">\n     <g id=\"line2d_8\">\n      <g>\n       <use style=\"stroke:#000000;stroke-width:0.8;\" x=\"319.60825\" xlink:href=\"#mbde66478c9\" y=\"96.971709\"/>\n      </g>\n     </g>\n     <g id=\"text_12\">\n      <!-- 0.6 -->\n      <defs>\n       <path d=\"M 33.015625 40.375 \nQ 26.375 40.375 22.484375 35.828125 \nQ 18.609375 31.296875 18.609375 23.390625 \nQ 18.609375 15.53125 22.484375 10.953125 \nQ 26.375 6.390625 33.015625 6.390625 \nQ 39.65625 6.390625 43.53125 10.953125 \nQ 47.40625 15.53125 47.40625 23.390625 \nQ 47.40625 31.296875 43.53125 35.828125 \nQ 39.65625 40.375 33.015625 40.375 \nz\nM 52.59375 71.296875 \nL 52.59375 62.3125 \nQ 48.875 64.0625 45.09375 64.984375 \nQ 41.3125 65.921875 37.59375 65.921875 \nQ 27.828125 65.921875 22.671875 59.328125 \nQ 17.53125 52.734375 16.796875 39.40625 \nQ 19.671875 43.65625 24.015625 45.921875 \nQ 28.375 48.1875 33.59375 48.1875 \nQ 44.578125 48.1875 50.953125 41.515625 \nQ 57.328125 34.859375 57.328125 23.390625 \nQ 57.328125 12.15625 50.6875 5.359375 \nQ 44.046875 -1.421875 33.015625 -1.421875 \nQ 20.359375 -1.421875 13.671875 8.265625 \nQ 6.984375 17.96875 6.984375 36.375 \nQ 6.984375 53.65625 15.1875 63.9375 \nQ 23.390625 74.21875 37.203125 74.21875 \nQ 40.921875 74.21875 44.703125 73.484375 \nQ 48.484375 72.75 52.59375 71.296875 \nz\n\" id=\"DejaVuSans-54\"/>\n      </defs>\n      <g transform=\"translate(326.60825 100.770928)scale(0.1 -0.1)\">\n       <use xlink:href=\"#DejaVuSans-48\"/>\n       <use x=\"63.623047\" xlink:href=\"#DejaVuSans-46\"/>\n       <use x=\"95.410156\" xlink:href=\"#DejaVuSans-54\"/>\n      </g>\n     </g>\n    </g>\n    <g id=\"ytick_7\">\n     <g id=\"line2d_9\">\n      <g>\n       <use style=\"stroke:#000000;stroke-width:0.8;\" x=\"319.60825\" xlink:href=\"#mbde66478c9\" y=\"53.985464\"/>\n      </g>\n     </g>\n     <g id=\"text_13\">\n      <!-- 0.8 -->\n      <defs>\n       <path d=\"M 31.78125 34.625 \nQ 24.75 34.625 20.71875 30.859375 \nQ 16.703125 27.09375 16.703125 20.515625 \nQ 16.703125 13.921875 20.71875 10.15625 \nQ 24.75 6.390625 31.78125 6.390625 \nQ 38.8125 6.390625 42.859375 10.171875 \nQ 46.921875 13.96875 46.921875 20.515625 \nQ 46.921875 27.09375 42.890625 30.859375 \nQ 38.875 34.625 31.78125 34.625 \nz\nM 21.921875 38.8125 \nQ 15.578125 40.375 12.03125 44.71875 \nQ 8.5 49.078125 8.5 55.328125 \nQ 8.5 64.0625 14.71875 69.140625 \nQ 20.953125 74.21875 31.78125 74.21875 \nQ 42.671875 74.21875 48.875 69.140625 \nQ 55.078125 64.0625 55.078125 55.328125 \nQ 55.078125 49.078125 51.53125 44.71875 \nQ 48 40.375 41.703125 38.8125 \nQ 48.828125 37.15625 52.796875 32.3125 \nQ 56.78125 27.484375 56.78125 20.515625 \nQ 56.78125 9.90625 50.3125 4.234375 \nQ 43.84375 -1.421875 31.78125 -1.421875 \nQ 19.734375 -1.421875 13.25 4.234375 \nQ 6.78125 9.90625 6.78125 20.515625 \nQ 6.78125 27.484375 10.78125 32.3125 \nQ 14.796875 37.15625 21.921875 38.8125 \nz\nM 18.3125 54.390625 \nQ 18.3125 48.734375 21.84375 45.5625 \nQ 25.390625 42.390625 31.78125 42.390625 \nQ 38.140625 42.390625 41.71875 45.5625 \nQ 45.3125 48.734375 45.3125 54.390625 \nQ 45.3125 60.0625 41.71875 63.234375 \nQ 38.140625 66.40625 31.78125 66.40625 \nQ 25.390625 66.40625 21.84375 63.234375 \nQ 18.3125 60.0625 18.3125 54.390625 \nz\n\" id=\"DejaVuSans-56\"/>\n      </defs>\n      <g transform=\"translate(326.60825 57.784683)scale(0.1 -0.1)\">\n       <use xlink:href=\"#DejaVuSans-48\"/>\n       <use x=\"63.623047\" xlink:href=\"#DejaVuSans-46\"/>\n       <use x=\"95.410156\" xlink:href=\"#DejaVuSans-56\"/>\n      </g>\n     </g>\n    </g>\n    <g id=\"ytick_8\">\n     <g id=\"line2d_10\">\n      <g>\n       <use style=\"stroke:#000000;stroke-width:0.8;\" x=\"319.60825\" xlink:href=\"#mbde66478c9\" y=\"10.999219\"/>\n      </g>\n     </g>\n     <g id=\"text_14\">\n      <!-- 1.0 -->\n      <g transform=\"translate(326.60825 14.798437)scale(0.1 -0.1)\">\n       <use xlink:href=\"#DejaVuSans-49\"/>\n       <use x=\"63.623047\" xlink:href=\"#DejaVuSans-46\"/>\n       <use x=\"95.410156\" xlink:href=\"#DejaVuSans-48\"/>\n      </g>\n     </g>\n    </g>\n   </g>\n   <g id=\"patch_4\">\n    <path d=\"M 308.73625 228.439219 \nL 308.73625 227.589844 \nL 308.73625 11.848594 \nL 308.73625 10.999219 \nL 319.60825 10.999219 \nL 319.60825 11.848594 \nL 319.60825 227.589844 \nL 319.60825 228.439219 \nz\n\" style=\"fill:none;\"/>\n   </g>\n  </g>\n </g>\n <defs>\n  <clipPath id=\"p0deee34373\">\n   <rect height=\"217.44\" width=\"267.84\" x=\"24.15625\" y=\"10.999219\"/>\n  </clipPath>\n  <clipPath id=\"pabc4f18dd4\">\n   <rect height=\"217.44\" width=\"10.872\" x=\"308.73625\" y=\"10.999219\"/>\n  </clipPath>\n </defs>\n</svg>\n",
      "image/png": "[encoded data removed]"
     },
     "metadata": {
      "needs_background": "light"
     }
    }
   ],
   "source": [
    "### Heatmap to check relationship of score_cat and answer_wordcount\n",
    "\n",
    "df = pd.DataFrame(stackoverflow_copy, columns=['score_cat_int', 'answer_wordcount'])\n",
    "corrMatrix = df.corr()\n",
    "sns.heatmap(corrMatrix, annot=True)\n",
    "plt.show()"
   ]
  },
  {
   "cell_type": "code",
   "execution_count": 37,
   "metadata": {},
   "outputs": [],
   "source": [
    "### Creating a binary feature \"code\" holding info on whether or not stackoverflow answer contains code\n",
    "def codecheck(x):\n",
    "    x = 1 if '<code>' in x else 0\n",
    "    return x"
   ]
  },
  {
   "cell_type": "code",
   "execution_count": 40,
   "metadata": {},
   "outputs": [
    {
     "output_type": "execute_result",
     "data": {
      "text/plain": "1    24144\n0     5550\nName: code_binary, dtype: int64"
     },
     "metadata": {},
     "execution_count": 40
    }
   ],
   "source": [
    "### Check of possible patterns in code existence and answer score\n",
    "\n",
    "stackoverflow['code_binary'] = stackoverflow['answer_text'].apply(codecheck)\n",
    "stackoverflow['code_binary'].value_counts()"
   ]
  },
  {
   "cell_type": "code",
   "execution_count": 39,
   "metadata": {},
   "outputs": [
    {
     "output_type": "execute_result",
     "data": {
      "text/plain": "code_binary     0     1\nscore_cat              \n0            1888  7972\n1            1642  8229\n2            2020  7943",
      "text/html": "<div>\n<style scoped>\n    .dataframe tbody tr th:only-of-type {\n        vertical-align: middle;\n    }\n\n    .dataframe tbody tr th {\n        vertical-align: top;\n    }\n\n    .dataframe thead th {\n        text-align: right;\n    }\n</style>\n<table border=\"1\" class=\"dataframe\">\n  <thead>\n    <tr style=\"text-align: right;\">\n      <th>code_binary</th>\n      <th>0</th>\n      <th>1</th>\n    </tr>\n    <tr>\n      <th>score_cat</th>\n      <th></th>\n      <th></th>\n    </tr>\n  </thead>\n  <tbody>\n    <tr>\n      <th>0</th>\n      <td>1888</td>\n      <td>7972</td>\n    </tr>\n    <tr>\n      <th>1</th>\n      <td>1642</td>\n      <td>8229</td>\n    </tr>\n    <tr>\n      <th>2</th>\n      <td>2020</td>\n      <td>7943</td>\n    </tr>\n  </tbody>\n</table>\n</div>"
     },
     "metadata": {},
     "execution_count": 39
    }
   ],
   "source": [
    "### Check of possible patterns in code existence and answer score\n",
    "\n",
    "stackoverflow.groupby(['score_cat', 'code_binary']).size().unstack(fill_value=0)"
   ]
  },
  {
   "cell_type": "code",
   "execution_count": 41,
   "metadata": {},
   "outputs": [],
   "source": [
    "### Creating a feature \"code count\" holding info on how many code-snippets an answer contains\n",
    "\n",
    "def codecount(x):\n",
    "    x = x.count(\"<code>\")\n",
    "    return x"
   ]
  },
  {
   "cell_type": "code",
   "execution_count": 42,
   "metadata": {},
   "outputs": [
    {
     "output_type": "execute_result",
     "data": {
      "text/plain": "code_count   0     1     2     3    4    5    6    7    8    9    ...  69   \\\nscore_cat                                                         ...        \n0           1888  2750  1727  1025  699  488  317  244  165  127  ...    1   \n1           1642  2547  1713  1077  711  546  378  280  208  134  ...    0   \n2           2020  3429  1709   950  553  297  272  160  112   85  ...    0   \n\ncode_count  70   73   74   77   80   85   88   101  102  \nscore_cat                                                \n0             0    0    0    0    1    0    0    0    0  \n1             1    0    0    0    0    1    1    0    0  \n2             0    1    1    2    0    0    0    1    1  \n\n[3 rows x 60 columns]",
      "text/html": "<div>\n<style scoped>\n    .dataframe tbody tr th:only-of-type {\n        vertical-align: middle;\n    }\n\n    .dataframe tbody tr th {\n        vertical-align: top;\n    }\n\n    .dataframe thead th {\n        text-align: right;\n    }\n</style>\n<table border=\"1\" class=\"dataframe\">\n  <thead>\n    <tr style=\"text-align: right;\">\n      <th>code_count</th>\n      <th>0</th>\n      <th>1</th>\n      <th>2</th>\n      <th>3</th>\n      <th>4</th>\n      <th>5</th>\n      <th>6</th>\n      <th>7</th>\n      <th>8</th>\n      <th>9</th>\n      <th>...</th>\n      <th>69</th>\n      <th>70</th>\n      <th>73</th>\n      <th>74</th>\n      <th>77</th>\n      <th>80</th>\n      <th>85</th>\n      <th>88</th>\n      <th>101</th>\n      <th>102</th>\n    </tr>\n    <tr>\n      <th>score_cat</th>\n      <th></th>\n      <th></th>\n      <th></th>\n      <th></th>\n      <th></th>\n      <th></th>\n      <th></th>\n      <th></th>\n      <th></th>\n      <th></th>\n      <th></th>\n      <th></th>\n      <th></th>\n      <th></th>\n      <th></th>\n      <th></th>\n      <th></th>\n      <th></th>\n      <th></th>\n      <th></th>\n      <th></th>\n    </tr>\n  </thead>\n  <tbody>\n    <tr>\n      <th>0</th>\n      <td>1888</td>\n      <td>2750</td>\n      <td>1727</td>\n      <td>1025</td>\n      <td>699</td>\n      <td>488</td>\n      <td>317</td>\n      <td>244</td>\n      <td>165</td>\n      <td>127</td>\n      <td>...</td>\n      <td>1</td>\n      <td>0</td>\n      <td>0</td>\n      <td>0</td>\n      <td>0</td>\n      <td>1</td>\n      <td>0</td>\n      <td>0</td>\n      <td>0</td>\n      <td>0</td>\n    </tr>\n    <tr>\n      <th>1</th>\n      <td>1642</td>\n      <td>2547</td>\n      <td>1713</td>\n      <td>1077</td>\n      <td>711</td>\n      <td>546</td>\n      <td>378</td>\n      <td>280</td>\n      <td>208</td>\n      <td>134</td>\n      <td>...</td>\n      <td>0</td>\n      <td>1</td>\n      <td>0</td>\n      <td>0</td>\n      <td>0</td>\n      <td>0</td>\n      <td>1</td>\n      <td>1</td>\n      <td>0</td>\n      <td>0</td>\n    </tr>\n    <tr>\n      <th>2</th>\n      <td>2020</td>\n      <td>3429</td>\n      <td>1709</td>\n      <td>950</td>\n      <td>553</td>\n      <td>297</td>\n      <td>272</td>\n      <td>160</td>\n      <td>112</td>\n      <td>85</td>\n      <td>...</td>\n      <td>0</td>\n      <td>0</td>\n      <td>1</td>\n      <td>1</td>\n      <td>2</td>\n      <td>0</td>\n      <td>0</td>\n      <td>0</td>\n      <td>1</td>\n      <td>1</td>\n    </tr>\n  </tbody>\n</table>\n<p>3 rows × 60 columns</p>\n</div>"
     },
     "metadata": {},
     "execution_count": 42
    }
   ],
   "source": [
    "### Check of possible patterns in number of code snippets and answer score\n",
    "\n",
    "stackoverflow['code_count'] = stackoverflow['answer_text'].apply(codecount)\n",
    "stackoverflow.groupby(['score_cat', 'code_count']).size().unstack(fill_value=0)"
   ]
  },
  {
   "cell_type": "code",
   "execution_count": 43,
   "metadata": {},
   "outputs": [],
   "source": [
    "### Split into predictors and outcome data\n",
    "\n",
    "y = stackoverflow['score_cat']\n",
    "X = stackoverflow.drop(['score_cat', 'score', 'answer_count', 'comment_count', 'creation_date', 'view_count'] , axis=1)"
   ]
  },
  {
   "cell_type": "code",
   "execution_count": 44,
   "metadata": {},
   "outputs": [
    {
     "output_type": "execute_result",
     "data": {
      "text/plain": "dtype('int8')"
     },
     "metadata": {},
     "execution_count": 44
    }
   ],
   "source": [
    "y.dtype"
   ]
  },
  {
   "cell_type": "code",
   "execution_count": 45,
   "metadata": {},
   "outputs": [],
   "source": [
    "### Compute n grams from a dataframe for a given variable\n",
    "\n",
    "class Ngrams(BaseEstimator, TransformerMixin):\n",
    "\n",
    "    def __init__(self, df):\n",
    "        pass\n",
    "\n",
    "    def transform(self, df):\n",
    "        ### Save name of variable to analyze\n",
    "        name = df.columns\n",
    "        #### Initiate TfidfVectorizer\n",
    "        vectorizer = TfidfVectorizer(strip_accents = 'unicode', use_idf = True, \\\n",
    "                                     stop_words = 'english', analyzer = 'word', \\\n",
    "                                     ngram_range = (1, 1), max_features = 100) \n",
    "                                     # if I remove max_features, I get error that array shape X and Y do not align\n",
    "\n",
    "        ### Fit to data\n",
    "        X_train = vectorizer.fit_transform(df[name[0]].values.astype(str))\n",
    "        ## X_train = X_train.toarray()\n",
    "        # is this needed? how do I address mismatching shape problem\n",
    "\n",
    "        ### Return sparse matrix\n",
    "        return X_train\n",
    "    \n",
    "    def fit(self, df, y=None):\n",
    "        ### Unless error returns self\n",
    "        return self"
   ]
  },
  {
   "cell_type": "code",
   "execution_count": 46,
   "metadata": {},
   "outputs": [],
   "source": [
    "### Split into train and test data\n",
    "\n",
    "X_train, X_test, y_train, y_test = train_test_split(X, y, test_size = 0.3, random_state = 1)"
   ]
  },
  {
   "cell_type": "code",
   "execution_count": 47,
   "metadata": {
    "tags": []
   },
   "outputs": [
    {
     "output_type": "stream",
     "name": "stdout",
     "text": "15451    1\n10261    1\n28352    2\n20142    2\n8401     0\n        ..\n27931    2\n315      0\n13704    1\n25463    2\n7465     0\nName: score_cat, Length: 8909, dtype: int8\n"
    }
   ],
   "source": [
    "print(y_test)"
   ]
  },
  {
   "cell_type": "code",
   "execution_count": 48,
   "metadata": {},
   "outputs": [],
   "source": [
    "### Model selection process: Create list of different classifiers/algorithms to try out\n",
    "\n",
    "classifiers = [\n",
    "    KNeighborsClassifier(),\n",
    "    RandomForestClassifier(random_state=1),\n",
    "    GradientBoostingClassifier(random_state=1)\n",
    "    ## XGBClassifier(random_state=1)\n",
    "    ]"
   ]
  },
  {
   "cell_type": "code",
   "execution_count": 74,
   "metadata": {
    "tags": []
   },
   "outputs": [
    {
     "output_type": "stream",
     "name": "stdout",
     "text": "KNeighborsClassifier()\n[2 2 2 ... 2 2 2]\n              precision    recall  f1-score   support\n\n           0       0.00      0.00      0.00      3025\n           1       1.00      0.00      0.00      2964\n           2       0.33      1.00      0.49      2920\n\n    accuracy                           0.33      8909\n   macro avg       0.44      0.33      0.16      8909\nweighted avg       0.44      0.33      0.16      8909\n\nRandomForestClassifier(random_state=1)\n[1 2 2 ... 2 2 2]\n              precision    recall  f1-score   support\n\n           0       0.74      0.01      0.02      3025\n           1       0.87      0.01      0.02      2964\n           2       0.33      1.00      0.50      2920\n\n    accuracy                           0.33      8909\n   macro avg       0.65      0.34      0.18      8909\nweighted avg       0.65      0.33      0.17      8909\n\nGradientBoostingClassifier(random_state=1)\n[1 2 2 ... 2 2 2]\n              precision    recall  f1-score   support\n\n           0       0.74      0.01      0.02      3025\n           1       0.87      0.01      0.02      2964\n           2       0.33      1.00      0.50      2920\n\n    accuracy                           0.33      8909\n   macro avg       0.65      0.34      0.18      8909\nweighted avg       0.65      0.33      0.17      8909\n\n"
    }
   ],
   "source": [
    "### Model selection process: Loop through the different classifiers using the pipeline\n",
    "\n",
    "for classifier in classifiers:\n",
    "    model_pipeline = Pipeline([\n",
    "        ('feats', FeatureUnion([\n",
    "             # Ngrams\n",
    "            ('ngram_all', Ngrams(X_train[['answer_text_clean']]))])),\n",
    "            # Classifier\n",
    "            ('classifier', classifier)])\n",
    "    model_pipeline.fit(X_train, y_train)\n",
    "    y_predict = model_pipeline.predict(X_test)\n",
    "    print(classifier)\n",
    "    print(y_predict)\n",
    "    print(metrics.classification_report(y_test, y_predict))\n",
    "\n",
    "    # map predictions on to dataframe, then create a column if prediction correct and understand false predictions\n",
    "    # which samples from great answers have been predicted bad\n",
    "    # which samples from bad answers have been predicted great?"
   ]
  },
  {
   "cell_type": "code",
   "execution_count": null,
   "metadata": {},
   "outputs": [],
   "source": [
    "\n",
    "## confusion_matrix(y_test, grid_search.predict(X_test))\n",
    "\n",
    "  # confm_hold = confusion_matrix(y_test, y_predict)\n",
    "    # print(confm_hold)\n",
    "\n",
    "# np.array(s)\n",
    "## confm_hold_df = pd.DataFrame(confm_hold, index = ['No Medal', 'Medal'],\n",
    "                               # columns = ['No Medal', 'Medal'])\n",
    "## plt.figure(figsize=(5,4))\n",
    "## sns.heatmap(confm_hold_df, annot=True, fmt=\".4f\", linewidths=.5, square = True)"
   ]
  },
  {
   "cell_type": "code",
   "execution_count": null,
   "metadata": {},
   "outputs": [],
   "source": [
    "### Pipe different features in with a name so the step can be later called for details\n",
    "\n",
    "pipeline = Pipeline([\n",
    "    ('feats', FeatureUnion([\n",
    "        # Ngrams\n",
    "        ('ngram_all', Ngrams(X_train[['answer_text_clean']]))\n",
    "    ])),\n",
    "     # Classifier\n",
    "     ('kneighbors', KNeighborsClassifier(n_neighbors=5, leaf_size=40))])"
   ]
  },
  {
   "cell_type": "code",
   "execution_count": null,
   "metadata": {},
   "outputs": [],
   "source": [
    "### Cross validation and tuning\n",
    "from sklearn.model_selection import GridSearchCV\n",
    "param_grid = {'kneighbors__n_neighbors': (3, 5, 10),\n",
    "            'kneighbors__leaf_size': (10, 20 , 30),\n",
    "            'kneighbors__p': (1,2)\n",
    "            }"
   ]
  },
  {
   "cell_type": "code",
   "execution_count": null,
   "metadata": {},
   "outputs": [],
   "source": [
    "### Find best model\n",
    "grid_search = GridSearchCV(pipeline, param_grid, cv=5, iid=False, n_jobs=-1, refit = True)\n",
    "grid_search.fit(X_train, y_train)"
   ]
  },
  {
   "cell_type": "code",
   "execution_count": null,
   "metadata": {},
   "outputs": [],
   "source": [
    "### Print best model\n",
    "print(\"Best score:\", grid_search.best_score_)\n",
    "print(\"Best params:\", grid_search.best_params_)\n",
    "\n",
    "print(classification_report(y_test, grid_search.predict(X_test)))"
   ]
  },
  {
   "cell_type": "code",
   "execution_count": null,
   "metadata": {},
   "outputs": [],
   "source": [
    "### To Do\n",
    "\n",
    "# Finalize cleaner function (whitespaces etc.)\n",
    "# Additional features, e.g.\n",
    "    ### Figure out no. of switches from code to explanation\n",
    "    ### Extract tags into separate columns and one-hot-encode\n",
    "\n",
    "# Play with different ngram (1,2,3) and max feature numbers\n",
    "# Incorporate functions/call them in pipeline\n",
    "# Try out different models\n",
    "# Hypertune model"
   ]
  }
 ],
 "metadata": {
  "language_info": {
   "codemirror_mode": {
    "name": "ipython",
    "version": 3
   },
   "file_extension": ".py",
   "mimetype": "text/x-python",
   "name": "python",
   "nbconvert_exporter": "python",
   "pygments_lexer": "ipython3",
   "version": "3.8.0-final"
  },
  "orig_nbformat": 2,
  "kernelspec": {
   "name": "python38064bitstackconda62acee1f2fa049ee9302fd58619215ba",
   "display_name": "Python 3.8.0 64-bit ('stack': conda)"
  }
 },
 "nbformat": 4,
 "nbformat_minor": 2
}