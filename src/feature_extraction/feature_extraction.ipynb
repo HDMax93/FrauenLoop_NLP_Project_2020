{
 "cells": [
  {
   "cell_type": "code",
   "execution_count": null,
   "metadata": {},
   "outputs": [],
   "source": [
    "### To Do\n",
    "\n",
    "# one-hot-encode question tags\n",
    "# try word embeddings using gensim"
   ]
  },
  {
   "cell_type": "code",
   "execution_count": 1,
   "metadata": {},
   "outputs": [],
   "source": [
    "### Import packages to create absolute file path & make code independent of operating system\n",
    "\n",
    "from pathlib import Path\n",
    "import os.path\n",
    "\n",
    "import warnings\n",
    "warnings.filterwarnings(\"ignore\")\n",
    "\n",
    "### Import packages for data manipulation\n",
    "\n",
    "import pandas as pd\n",
    "import numpy as np\n",
    "import re\n",
    "\n",
    "### Import packages to visualize data\n",
    "\n",
    "import matplotlib.pyplot as plt\n",
    "import seaborn as sns\n",
    "\n",
    "### Import packages for feature extraction\n",
    "\n",
    "from sklearn.base import BaseEstimator, TransformerMixin\n",
    "from sklearn.feature_extraction.text import TfidfVectorizer\n",
    "from difflib import SequenceMatcher\n",
    "\n",
    "### Import packages for modeling\n",
    "from sklearn.model_selection import train_test_split\n",
    "from sklearn.pipeline import Pipeline, FeatureUnion\n",
    "from sklearn.svm import SVC\n",
    "from sklearn.neighbors import KNeighborsClassifier\n",
    "from sklearn.ensemble import RandomForestClassifier, GradientBoostingClassifier\n",
    "from sklearn.tree import DecisionTreeClassifier\n",
    "\n",
    "### Import packages for model selection and performance assessment\n",
    "from sklearn import model_selection\n",
    "from sklearn.model_selection import GridSearchCV, train_test_split, KFold, StratifiedKFold, cross_val_score, RandomizedSearchCV, GridSearchCV, learning_curve\n",
    "from sklearn import metrics\n",
    "from sklearn.metrics import accuracy_score, log_loss, classification_report, precision_recall_fscore_support\n",
    "from sklearn.metrics import roc_curve, roc_auc_score, confusion_matrix, mean_squared_error, f1_score"
   ]
  },
  {
   "cell_type": "code",
   "execution_count": 2,
   "metadata": {
    "tags": []
   },
   "outputs": [
    {
     "output_type": "stream",
     "name": "stdout",
     "text": "/Users/HenriekeMax/Documents/Career_Development/GitHub/Predicting-Helpfulness-Of-Stackoverflow-Answers/src/feature_extraction\n"
    }
   ],
   "source": [
    "### Read in dataset\n",
    "\n",
    "print(os.getcwd())\n",
    "\n",
    "base_path = Path(\"__file__\").parent\n",
    "full_path = (base_path / \"../../data/processed/stackoverflow_preprocessed.csv\").resolve()\n",
    "# Depending on running this in interactive shell vs. terminal, I need to include GitHub/FrauenLoop_NLP_Project_2020 in filepath or not...\n",
    "\n",
    "stackoverflow = pd.read_csv(os.path.join(full_path))"
   ]
  },
  {
   "cell_type": "code",
   "execution_count": 3,
   "metadata": {
    "tags": []
   },
   "outputs": [
    {
     "output_type": "stream",
     "name": "stdout",
     "text": "<class 'pandas.core.frame.DataFrame'>\nRangeIndex: 30000 entries, 0 to 29999\nData columns (total 15 columns):\n #   Column                Non-Null Count  Dtype \n---  ------                --------------  ----- \n 0   Unnamed: 0            30000 non-null  int64 \n 1   score                 30000 non-null  int64 \n 2   question_title        30000 non-null  object\n 3   question_text         30000 non-null  object\n 4   answer_count          30000 non-null  int64 \n 5   comment_count         30000 non-null  int64 \n 6   creation_date         30000 non-null  object\n 7   tags                  30000 non-null  object\n 8   view_count            30000 non-null  int64 \n 9   answer_text           30000 non-null  object\n 10  score_cat             30000 non-null  int64 \n 11  question_title_clean  29982 non-null  object\n 12  question_text_clean   29953 non-null  object\n 13  tags_clean            29462 non-null  object\n 14  answer_text_clean     29341 non-null  object\ndtypes: int64(6), object(9)\nmemory usage: 3.4+ MB\n"
    }
   ],
   "source": [
    "stackoverflow.info()"
   ]
  },
  {
   "cell_type": "code",
   "execution_count": 4,
   "metadata": {},
   "outputs": [],
   "source": [
    "### Drop all observations / rows with any missing values in the column \"answer_text_clean\"\n",
    "\n",
    "stackoverflow = stackoverflow.dropna(how='any', subset=['answer_text_clean'])"
   ]
  },
  {
   "cell_type": "code",
   "execution_count": 5,
   "metadata": {
    "tags": []
   },
   "outputs": [
    {
     "output_type": "execute_result",
     "data": {
      "text/plain": "   Unnamed: 0  score                                     question_title  \\\n0           0     -1                     Laravel email template styling   \n1           1     -1   Only show a certain count of textboxes in vb.net   \n2           2     -1  Is there an easy way to convert a vector int s...   \n3           3     -1  Why am I getting Error while updating the flut...   \n4           4     -1  How to add dynamic buttons using a string in f...   \n\n                                       question_text  answer_count  \\\n0  <p>Css is not working in email templates so an...             3   \n1  <p>I'm trying to make several TextBoxes visibl...             2   \n2  <p>I'm attempting to jump into code again and ...             1   \n3  <blockquote>\\n  <p>Waiting for 0 seconds, pres...             1   \n4  <pre><code>List list=[\"A\",\"B\",\"C\",\"D\"];\\n</cod...             2   \n\n   comment_count                     creation_date            tags  \\\n0              4  2018-01-11 08:00:33.623000+00:00     php|laravel   \n1              2  2020-03-07 19:36:53.527000+00:00  vb.net|textbox   \n2              1  2019-09-07 18:45:43.363000+00:00             c++   \n3              0  2020-05-29 21:03:49.267000+00:00         flutter   \n4              0  2019-07-18 12:12:27.033000+00:00         flutter   \n\n   view_count                                        answer_text  score_cat  \\\n0        3230  <p>Use markdown templates\\n<a href=\"https://la...          0   \n1          48  <p>I created a list of text boxes and filled i...          0   \n2          39  <p>Like <em>Bob__</em> said, you can use <a hr...          0   \n3          27  <p>Type these commands in your terminal:</p>\\n...          0   \n4         302  <p><strong>main.dart</strong> full code</p>\\n\\...          0   \n\n                            question_title_clean  \\\n0                 laravel email template styling   \n1             show certain count textboxes vbnet   \n2  easy way convert vector int set string output   \n3                   get error update flutter sdk   \n4          add dynamic button use string flutter   \n\n                                 question_text_clean     tags_clean  \\\n0  cs work email template email client look ugly ...    php laravel   \n1  im try make several text box visible invisible...  vbnet textbox   \n2  im attempt jump code teach ins outs follow cod...            NaN   \n3  wait second press quit check dart version powe...        flutter   \n4  want add char separate raise button generate r...        flutter   \n\n                                   answer_text_clean  \n0  use markdown template https laravelcom doc mai...  \n1  create list text box fill form load use list m...  \n2  like bob say use use dropin replacement side n...  \n3  type command terminal visit http githubcom flu...  \n4                                 maindart full code  ",
      "text/html": "<div>\n<style scoped>\n    .dataframe tbody tr th:only-of-type {\n        vertical-align: middle;\n    }\n\n    .dataframe tbody tr th {\n        vertical-align: top;\n    }\n\n    .dataframe thead th {\n        text-align: right;\n    }\n</style>\n<table border=\"1\" class=\"dataframe\">\n  <thead>\n    <tr style=\"text-align: right;\">\n      <th></th>\n      <th>Unnamed: 0</th>\n      <th>score</th>\n      <th>question_title</th>\n      <th>question_text</th>\n      <th>answer_count</th>\n      <th>comment_count</th>\n      <th>creation_date</th>\n      <th>tags</th>\n      <th>view_count</th>\n      <th>answer_text</th>\n      <th>score_cat</th>\n      <th>question_title_clean</th>\n      <th>question_text_clean</th>\n      <th>tags_clean</th>\n      <th>answer_text_clean</th>\n    </tr>\n  </thead>\n  <tbody>\n    <tr>\n      <th>0</th>\n      <td>0</td>\n      <td>-1</td>\n      <td>Laravel email template styling</td>\n      <td>&lt;p&gt;Css is not working in email templates so an...</td>\n      <td>3</td>\n      <td>4</td>\n      <td>2018-01-11 08:00:33.623000+00:00</td>\n      <td>php|laravel</td>\n      <td>3230</td>\n      <td>&lt;p&gt;Use markdown templates\\n&lt;a href=\"https://la...</td>\n      <td>0</td>\n      <td>laravel email template styling</td>\n      <td>cs work email template email client look ugly ...</td>\n      <td>php laravel</td>\n      <td>use markdown template https laravelcom doc mai...</td>\n    </tr>\n    <tr>\n      <th>1</th>\n      <td>1</td>\n      <td>-1</td>\n      <td>Only show a certain count of textboxes in vb.net</td>\n      <td>&lt;p&gt;I'm trying to make several TextBoxes visibl...</td>\n      <td>2</td>\n      <td>2</td>\n      <td>2020-03-07 19:36:53.527000+00:00</td>\n      <td>vb.net|textbox</td>\n      <td>48</td>\n      <td>&lt;p&gt;I created a list of text boxes and filled i...</td>\n      <td>0</td>\n      <td>show certain count textboxes vbnet</td>\n      <td>im try make several text box visible invisible...</td>\n      <td>vbnet textbox</td>\n      <td>create list text box fill form load use list m...</td>\n    </tr>\n    <tr>\n      <th>2</th>\n      <td>2</td>\n      <td>-1</td>\n      <td>Is there an easy way to convert a vector int s...</td>\n      <td>&lt;p&gt;I'm attempting to jump into code again and ...</td>\n      <td>1</td>\n      <td>1</td>\n      <td>2019-09-07 18:45:43.363000+00:00</td>\n      <td>c++</td>\n      <td>39</td>\n      <td>&lt;p&gt;Like &lt;em&gt;Bob__&lt;/em&gt; said, you can use &lt;a hr...</td>\n      <td>0</td>\n      <td>easy way convert vector int set string output</td>\n      <td>im attempt jump code teach ins outs follow cod...</td>\n      <td>NaN</td>\n      <td>like bob say use use dropin replacement side n...</td>\n    </tr>\n    <tr>\n      <th>3</th>\n      <td>3</td>\n      <td>-1</td>\n      <td>Why am I getting Error while updating the flut...</td>\n      <td>&lt;blockquote&gt;\\n  &lt;p&gt;Waiting for 0 seconds, pres...</td>\n      <td>1</td>\n      <td>0</td>\n      <td>2020-05-29 21:03:49.267000+00:00</td>\n      <td>flutter</td>\n      <td>27</td>\n      <td>&lt;p&gt;Type these commands in your terminal:&lt;/p&gt;\\n...</td>\n      <td>0</td>\n      <td>get error update flutter sdk</td>\n      <td>wait second press quit check dart version powe...</td>\n      <td>flutter</td>\n      <td>type command terminal visit http githubcom flu...</td>\n    </tr>\n    <tr>\n      <th>4</th>\n      <td>4</td>\n      <td>-1</td>\n      <td>How to add dynamic buttons using a string in f...</td>\n      <td>&lt;pre&gt;&lt;code&gt;List list=[\"A\",\"B\",\"C\",\"D\"];\\n&lt;/cod...</td>\n      <td>2</td>\n      <td>0</td>\n      <td>2019-07-18 12:12:27.033000+00:00</td>\n      <td>flutter</td>\n      <td>302</td>\n      <td>&lt;p&gt;&lt;strong&gt;main.dart&lt;/strong&gt; full code&lt;/p&gt;\\n\\...</td>\n      <td>0</td>\n      <td>add dynamic button use string flutter</td>\n      <td>want add char separate raise button generate r...</td>\n      <td>flutter</td>\n      <td>maindart full code</td>\n    </tr>\n  </tbody>\n</table>\n</div>"
     },
     "metadata": {},
     "execution_count": 5
    }
   ],
   "source": [
    "### Print out dataset for overview\n",
    "\n",
    "stackoverflow.head()"
   ]
  },
  {
   "cell_type": "code",
   "execution_count": 44,
   "metadata": {},
   "outputs": [],
   "source": [
    "### Determining similarity of question and answer\n",
    "class Similarity(BaseEstimator, TransformerMixin):\n",
    "\n",
    "    def __init__(self, df):\n",
    "        pass\n",
    "    \n",
    "    def transform(self, df):\n",
    "        \n",
    "        ### Define similarity function\n",
    "        def similar(column1, column2):\n",
    "            return SequenceMatcher(None, column1, column2).ratio()\n",
    "        ### Calculate similarity score between question and answer\n",
    "        df_new = df[['answer_text_clean', 'question_text_clean']].copy()\n",
    "        df_new['similarity_score'] = df_new.apply(lambda x: similar(str(x['answer_text_clean']), str(x['question_text_clean'])), axis = 1)\n",
    "        # df_new['similarity_score'] = df_new.apply(lambda x: x.similar(df_new['answer_text_clean'], df_new['question_text_clean']), axis = 1).ratio()\n",
    "        ### Drop text\n",
    "        df_new = df_new.drop(columns = ['answer_text_clean', 'question_text_clean'], axis = 1)\n",
    "        return df_new\n",
    "    \n",
    "    def fit(self, df, y=None):\n",
    "        ### Unless error returns self\n",
    "        return self"
   ]
  },
  {
   "cell_type": "code",
   "execution_count": 46,
   "metadata": {},
   "outputs": [
    {
     "output_type": "execute_result",
     "data": {
      "text/plain": "   similarity_score\n0          0.298592\n1          0.174387\n2          0.044444\n3          0.194093\n4          0.185567\n5          0.304569\n6          0.330827\n7          0.039216\n8          0.176471\n9          0.004751",
      "text/html": "<div>\n<style scoped>\n    .dataframe tbody tr th:only-of-type {\n        vertical-align: middle;\n    }\n\n    .dataframe tbody tr th {\n        vertical-align: top;\n    }\n\n    .dataframe thead th {\n        text-align: right;\n    }\n</style>\n<table border=\"1\" class=\"dataframe\">\n  <thead>\n    <tr style=\"text-align: right;\">\n      <th></th>\n      <th>similarity_score</th>\n    </tr>\n  </thead>\n  <tbody>\n    <tr>\n      <th>0</th>\n      <td>0.298592</td>\n    </tr>\n    <tr>\n      <th>1</th>\n      <td>0.174387</td>\n    </tr>\n    <tr>\n      <th>2</th>\n      <td>0.044444</td>\n    </tr>\n    <tr>\n      <th>3</th>\n      <td>0.194093</td>\n    </tr>\n    <tr>\n      <th>4</th>\n      <td>0.185567</td>\n    </tr>\n    <tr>\n      <th>5</th>\n      <td>0.304569</td>\n    </tr>\n    <tr>\n      <th>6</th>\n      <td>0.330827</td>\n    </tr>\n    <tr>\n      <th>7</th>\n      <td>0.039216</td>\n    </tr>\n    <tr>\n      <th>8</th>\n      <td>0.176471</td>\n    </tr>\n    <tr>\n      <th>9</th>\n      <td>0.004751</td>\n    </tr>\n  </tbody>\n</table>\n</div>"
     },
     "metadata": {},
     "execution_count": 46
    }
   ],
   "source": [
    "### Check if Similarity score class works as desired\n",
    "\n",
    "similarity_scorer = Similarity(stackoverflow)\n",
    "stackoverflow_new = similarity_scorer.transform(stackoverflow)\n",
    "stackoverflow_new.head(10)"
   ]
  },
  {
   "cell_type": "code",
   "execution_count": 51,
   "metadata": {},
   "outputs": [],
   "source": [
    "### Determining similarity of question and answer\n",
    "class JaccardSimilarity(BaseEstimator, TransformerMixin):\n",
    "\n",
    "    def __init__(self, df):\n",
    "        pass\n",
    "    \n",
    "    def transform(self, df):\n",
    "        \n",
    "        ### Define Jaccard Similarity function\n",
    "        def get_jaccard_sim(column1, column2): \n",
    "            a = set(column1.split()) \n",
    "            b = set(column2.split())\n",
    "            c = a.intersection(b)\n",
    "            return float(len(c)) / (len(a) + len(b) - len(c))\n",
    "            \n",
    "        ### Calculate similarity score between question and answer\n",
    "        df_new = df[['answer_text_clean', 'question_text_clean']].copy()\n",
    "        df_new['jaccard_similarity_score'] = df_new.apply(lambda x: get_jaccard_sim(str(x['answer_text_clean']), str(x['question_text_clean'])), axis = 1)\n",
    "        ### Drop text\n",
    "        df_new = df_new.drop(columns = ['answer_text_clean', 'question_text_clean'], axis = 1)\n",
    "        return df_new\n",
    "    \n",
    "    def fit(self, df, y=None):\n",
    "        ### Unless error returns self\n",
    "        return self"
   ]
  },
  {
   "cell_type": "code",
   "execution_count": 52,
   "metadata": {},
   "outputs": [
    {
     "output_type": "execute_result",
     "data": {
      "text/plain": "   jaccard_similarity_score\n0                  0.047619\n1                  0.063830\n2                  0.048387\n3                  0.033333\n4                  0.000000\n5                  0.040000\n6                  0.000000\n7                  0.074468\n8                  0.035714\n9                  0.044444",
      "text/html": "<div>\n<style scoped>\n    .dataframe tbody tr th:only-of-type {\n        vertical-align: middle;\n    }\n\n    .dataframe tbody tr th {\n        vertical-align: top;\n    }\n\n    .dataframe thead th {\n        text-align: right;\n    }\n</style>\n<table border=\"1\" class=\"dataframe\">\n  <thead>\n    <tr style=\"text-align: right;\">\n      <th></th>\n      <th>jaccard_similarity_score</th>\n    </tr>\n  </thead>\n  <tbody>\n    <tr>\n      <th>0</th>\n      <td>0.047619</td>\n    </tr>\n    <tr>\n      <th>1</th>\n      <td>0.063830</td>\n    </tr>\n    <tr>\n      <th>2</th>\n      <td>0.048387</td>\n    </tr>\n    <tr>\n      <th>3</th>\n      <td>0.033333</td>\n    </tr>\n    <tr>\n      <th>4</th>\n      <td>0.000000</td>\n    </tr>\n    <tr>\n      <th>5</th>\n      <td>0.040000</td>\n    </tr>\n    <tr>\n      <th>6</th>\n      <td>0.000000</td>\n    </tr>\n    <tr>\n      <th>7</th>\n      <td>0.074468</td>\n    </tr>\n    <tr>\n      <th>8</th>\n      <td>0.035714</td>\n    </tr>\n    <tr>\n      <th>9</th>\n      <td>0.044444</td>\n    </tr>\n  </tbody>\n</table>\n</div>"
     },
     "metadata": {},
     "execution_count": 52
    }
   ],
   "source": [
    "### Check if Jaccard Similarity score class works as desired\n",
    "\n",
    "jaccard_similarity = JaccardSimilarity(stackoverflow)\n",
    "stackoverflow_new = jaccard_similarity.transform(stackoverflow)\n",
    "stackoverflow_new.head(10)"
   ]
  },
  {
   "cell_type": "code",
   "execution_count": 167,
   "metadata": {},
   "outputs": [],
   "source": [
    "### Count number of words in an answer\n",
    "\n",
    "class WordCounter(BaseEstimator, TransformerMixin):\n",
    "\n",
    "    def __init__(self, df):\n",
    "        pass\n",
    "\n",
    "    def transform(self, df):\n",
    "        ### Variable name to compute number of words on\n",
    "        name = df.columns\n",
    "        ### Make into list\n",
    "        answer_list = df[name[0]].tolist()\n",
    "        ### Compute number of words for each answer\n",
    "        wordcount = [len(re.findall(r'\\w+', str(answer))) for answer in answer_list]\n",
    "        ### Make into a pandas df\n",
    "        df_new = pd.DataFrame(wordcount)\n",
    "        ### Add suffix\n",
    "        df_new = df_new.add_suffix(name)\n",
    "        return df_new\n",
    "\n",
    "    def fit(self, df, y=None):\n",
    "        ### Unless error returns self\n",
    "        return self"
   ]
  },
  {
   "cell_type": "code",
   "execution_count": 168,
   "metadata": {
    "tags": []
   },
   "outputs": [
    {
     "output_type": "execute_result",
     "data": {
      "text/plain": "   0Index(['answer_text_clean'], dtype='object')\n0                                             41\n1                                            111\n2                                             39\n3                                             11\n4                                             60",
      "text/html": "<div>\n<style scoped>\n    .dataframe tbody tr th:only-of-type {\n        vertical-align: middle;\n    }\n\n    .dataframe tbody tr th {\n        vertical-align: top;\n    }\n\n    .dataframe thead th {\n        text-align: right;\n    }\n</style>\n<table border=\"1\" class=\"dataframe\">\n  <thead>\n    <tr style=\"text-align: right;\">\n      <th></th>\n      <th>0Index(['answer_text_clean'], dtype='object')</th>\n    </tr>\n  </thead>\n  <tbody>\n    <tr>\n      <th>0</th>\n      <td>41</td>\n    </tr>\n    <tr>\n      <th>1</th>\n      <td>111</td>\n    </tr>\n    <tr>\n      <th>2</th>\n      <td>39</td>\n    </tr>\n    <tr>\n      <th>3</th>\n      <td>11</td>\n    </tr>\n    <tr>\n      <th>4</th>\n      <td>60</td>\n    </tr>\n  </tbody>\n</table>\n</div>"
     },
     "metadata": {},
     "execution_count": 168
    }
   ],
   "source": [
    "### Check if WordCounter class works as desired\n",
    "\n",
    "wordcounter = WordCounter(stackoverflow[['answer_text_clean']])\n",
    "stackoverflow_new = wordcounter.transform(stackoverflow[['answer_text_clean']])\n",
    "stackoverflow_new.head()"
   ]
  },
  {
   "cell_type": "code",
   "execution_count": 169,
   "metadata": {},
   "outputs": [],
   "source": [
    "### Determining whether or not answer contains code\n",
    "\n",
    "class CodeCheck(BaseEstimator, TransformerMixin):\n",
    "\n",
    "    def __init__(self, df):\n",
    "        pass\n",
    "    \n",
    "    def transform(self, df):\n",
    "        ### Check if answer contains code or not\n",
    "        df_new = df[['answer_text']].copy()\n",
    "        df_new['code_binary'] = df_new['answer_text'].str.contains('<code>', regex=False)*1      \n",
    "        ### Drop text\n",
    "        df_new = df_new.drop(columns = ['answer_text'], axis = 1)\n",
    "        return df_new\n",
    "    \n",
    "    def fit(self, df, y=None):\n",
    "        ### Unless error returns self\n",
    "        return self"
   ]
  },
  {
   "cell_type": "code",
   "execution_count": 170,
   "metadata": {},
   "outputs": [
    {
     "output_type": "execute_result",
     "data": {
      "text/plain": "1    24747\n0     5242\nName: code_binary, dtype: int64"
     },
     "metadata": {},
     "execution_count": 170
    }
   ],
   "source": [
    "### Check if CodeCheck class works as desired\n",
    "\n",
    "codecheck = CodeCheck(stackoverflow) \n",
    "stackover_new = codecheck.transform(stackoverflow)\n",
    "\n",
    "### Check of possible patterns in code existence and answer score\n",
    "\n",
    "stackover_new['code_binary'].value_counts()"
   ]
  },
  {
   "cell_type": "code",
   "execution_count": 171,
   "metadata": {},
   "outputs": [],
   "source": [
    "### Determining whether or not answer contains code\n",
    "\n",
    "class CodeCounter(BaseEstimator, TransformerMixin):\n",
    "\n",
    "    def __init__(self, df):\n",
    "        pass\n",
    "    \n",
    "    def transform(self, df):\n",
    "        ### Check if answer contains code or not\n",
    "        df_new = df[['answer_text']].copy()\n",
    "        df_new['code_count'] = df_new['answer_text'].str.count('<code>')     \n",
    "        ### Drop text\n",
    "        df_new = df_new.drop(columns = ['answer_text'], axis = 1)\n",
    "        return df_new\n",
    "    \n",
    "    def fit(self, df, y=None):\n",
    "        ### Unless error returns self\n",
    "        return self"
   ]
  },
  {
   "cell_type": "code",
   "execution_count": 172,
   "metadata": {},
   "outputs": [
    {
     "output_type": "execute_result",
     "data": {
      "text/plain": "   code_count\n0           3\n1           7\n2           3\n3           2\n4           1",
      "text/html": "<div>\n<style scoped>\n    .dataframe tbody tr th:only-of-type {\n        vertical-align: middle;\n    }\n\n    .dataframe tbody tr th {\n        vertical-align: top;\n    }\n\n    .dataframe thead th {\n        text-align: right;\n    }\n</style>\n<table border=\"1\" class=\"dataframe\">\n  <thead>\n    <tr style=\"text-align: right;\">\n      <th></th>\n      <th>code_count</th>\n    </tr>\n  </thead>\n  <tbody>\n    <tr>\n      <th>0</th>\n      <td>3</td>\n    </tr>\n    <tr>\n      <th>1</th>\n      <td>7</td>\n    </tr>\n    <tr>\n      <th>2</th>\n      <td>3</td>\n    </tr>\n    <tr>\n      <th>3</th>\n      <td>2</td>\n    </tr>\n    <tr>\n      <th>4</th>\n      <td>1</td>\n    </tr>\n  </tbody>\n</table>\n</div>"
     },
     "metadata": {},
     "execution_count": 172
    }
   ],
   "source": [
    "### Check if CodeCheck class works as desired\n",
    "\n",
    "codecount = CodeCounter(stackoverflow) \n",
    "stack_new = codecount.transform(stackoverflow)\n",
    "\n",
    "stack_new.head()"
   ]
  },
  {
   "cell_type": "code",
   "execution_count": 173,
   "metadata": {},
   "outputs": [
    {
     "output_type": "execute_result",
     "data": {
      "text/plain": "0      5242\n1      8973\n2      5162\n3      3168\n4      2071\n       ... \n82        1\n88        1\n107       1\n118       1\n197       1\nName: code_count, Length: 61, dtype: int64"
     },
     "metadata": {},
     "execution_count": 173
    }
   ],
   "source": [
    "### Check distribution of code counts\n",
    "\n",
    "stack_new['code_count'].value_counts().sort_index()"
   ]
  },
  {
   "cell_type": "code",
   "execution_count": 174,
   "metadata": {},
   "outputs": [],
   "source": [
    "### Compute n grams from a dataframe for a given variable\n",
    "\n",
    "class Ngrams(BaseEstimator, TransformerMixin):\n",
    "\n",
    "    def __init__(self, df):\n",
    "        pass\n",
    "\n",
    "    def transform(self, df):\n",
    "        ### Save name of variable to analyze\n",
    "        name = df.columns\n",
    "        #### Initiate TfidfVectorizer\n",
    "        vectorizer = TfidfVectorizer(strip_accents = 'unicode', use_idf = True, \\\n",
    "                                     stop_words = 'english', analyzer = 'word', \\\n",
    "                                     ngram_range = (1, 1) , max_features = 300)\n",
    "\n",
    "        ### Fit to data\n",
    "        X_train = vectorizer.fit_transform(df[name[0]].values.astype(str))\n",
    "        # X_train = X_train.toarray()\n",
    "        # is this needed? how do I address mismatching shape problem\n",
    "\n",
    "        ### Return sparse matrix\n",
    "        return X_train\n",
    "    \n",
    "    def fit(self, df, y=None):\n",
    "        ### Unless error returns self\n",
    "        return self"
   ]
  },
  {
   "cell_type": "code",
   "execution_count": 122,
   "metadata": {
    "tags": []
   },
   "outputs": [
    {
     "output_type": "stream",
     "name": "stdout",
     "text": "(0, 264)\t0.21376069455645963\n  (0, 67)\t0.3496144910716318\n  (0, 32)\t0.14504142343225496\n  (0, 229)\t0.11918110815552452\n  (0, 28)\t0.18551973473862163\n  (0, 106)\t0.12699088916672527\n  (0, 213)\t0.16622235933935484\n  (0, 253)\t0.20887931301012952\n  (0, 171)\t0.15155337337365532\n  (0, 198)\t0.6775235290901117\n  (0, 291)\t0.3849932484599706\n  (0, 60)\t0.14016542589463377\n  (0, 284)\t0.15861121826221056\n  (1, 81)\t0.12786517017197907\n  (1, 279)\t0.09146996717578719\n  (1, 159)\t0.09168507146574839\n  (1, 112)\t0.06947764321606675\n  (1, 135)\t0.2579355449519641\n  (1, 80)\t0.2880733989757071\n  (1, 113)\t0.2361710738360713\n  (1, 184)\t0.17775583702049533\n  (1, 177)\t0.07470821251915367\n  (1, 206)\t0.33375488597052205\n  (1, 257)\t0.11515758590075796\n  (1, 158)\t0.10952496026997699\n  :\t:\n  (29987, 287)\t0.030738032401505147\n  (29987, 204)\t0.19556369744690183\n  (29987, 37)\t0.017654860179919112\n  (29987, 125)\t0.075570871606756\n  (29987, 41)\t0.014808459832736362\n  (29987, 163)\t0.08753459644622182\n  (29987, 179)\t0.021031768744149908\n  (29987, 126)\t0.021879853499616717\n  (29987, 148)\t0.029200298774762053\n  (29987, 159)\t0.058266775154560406\n  (29987, 112)\t0.029435822363234394\n  (29987, 293)\t0.016327783484264672\n  (29987, 219)\t0.074702612350289\n  (29987, 182)\t0.08167653398473568\n  (29987, 4)\t0.1541932346901355\n  (29987, 151)\t0.01950477024892372\n  (29987, 229)\t0.014455984181512819\n  (29987, 60)\t0.017001261448951456\n  (29987, 284)\t0.01923863016290228\n  (29988, 186)\t0.5982644221516493\n  (29988, 12)\t0.6153567747389467\n  (29988, 230)\t0.31957252695531885\n  (29988, 148)\t0.2010161872808847\n  (29988, 291)\t0.3214675162854197\n  (29988, 284)\t0.13243960665211224\n"
    }
   ],
   "source": [
    "ngrams = Ngrams(stackoverflow['answer_text_clean'])\n",
    "\n",
    "stackover_new = ngrams.transform(stackoverflow[['answer_text_clean']])\n",
    "\n",
    "print(stackover_new)"
   ]
  },
  {
   "cell_type": "code",
   "execution_count": 175,
   "metadata": {},
   "outputs": [],
   "source": [
    "### Split into predictors and outcome data\n",
    "\n",
    "y = stackoverflow['score_cat']\n",
    "# y = label_binarize(y, classes=[0, 1, 2]) --> to accommodate roc\n",
    "X = stackoverflow.drop(['score_cat', 'answer_count', 'comment_count', 'creation_date', 'view_count'] , axis=1)"
   ]
  },
  {
   "cell_type": "code",
   "execution_count": 176,
   "metadata": {},
   "outputs": [],
   "source": [
    "### Split into train and test data\n",
    "\n",
    "X_train, X_test, y_train, y_test = train_test_split(X, y, test_size = 0.3, random_state = 1)"
   ]
  },
  {
   "cell_type": "code",
   "execution_count": 177,
   "metadata": {},
   "outputs": [],
   "source": [
    "### Model selection process: Create list of different classifiers/algorithms to try out\n",
    "\n",
    "classifiers = [\n",
    "    KNeighborsClassifier(),\n",
    "    SVC(random_state=1),\n",
    "    DecisionTreeClassifier(random_state=1),\n",
    "    RandomForestClassifier(random_state=1),\n",
    "    GradientBoostingClassifier(random_state=1)\n",
    "    ]"
   ]
  },
  {
   "cell_type": "code",
   "execution_count": 139,
   "metadata": {
    "tags": []
   },
   "outputs": [
    {
     "output_type": "stream",
     "name": "stdout",
     "text": "KNeighborsClassifier()\n              precision    recall  f1-score   support\n\n           0       0.34      0.59      0.43      3055\n           1       0.39      0.17      0.24      3013\n           2       0.35      0.30      0.32      2929\n\n    accuracy                           0.35      8997\n   macro avg       0.36      0.35      0.33      8997\nweighted avg       0.36      0.35      0.33      8997\n\nSVC(random_state=1)\n              precision    recall  f1-score   support\n\n           0       0.00      0.00      0.00      3055\n           1       0.39      0.41      0.40      3013\n           2       0.36      0.71      0.47      2929\n\n    accuracy                           0.37      8997\n   macro avg       0.25      0.37      0.29      8997\nweighted avg       0.25      0.37      0.29      8997\n\nDecisionTreeClassifier(random_state=1)\n              precision    recall  f1-score   support\n\n           0       0.35      0.07      0.12      3055\n           1       0.39      0.34      0.37      3013\n           2       0.36      0.71      0.48      2929\n\n    accuracy                           0.37      8997\n   macro avg       0.37      0.37      0.32      8997\nweighted avg       0.37      0.37      0.32      8997\n\nRandomForestClassifier(random_state=1)\n              precision    recall  f1-score   support\n\n           0       0.38      0.08      0.13      3055\n           1       0.40      0.35      0.37      3013\n           2       0.36      0.71      0.48      2929\n\n    accuracy                           0.37      8997\n   macro avg       0.38      0.38      0.33      8997\nweighted avg       0.38      0.37      0.33      8997\n\nGradientBoostingClassifier(random_state=1)\n              precision    recall  f1-score   support\n\n           0       0.78      0.03      0.05      3055\n           1       0.40      0.43      0.41      3013\n           2       0.36      0.71      0.48      2929\n\n    accuracy                           0.38      8997\n   macro avg       0.52      0.39      0.31      8997\nweighted avg       0.52      0.38      0.31      8997\n\n"
    }
   ],
   "source": [
    "### Model selection process: Loop through the different classifiers using the pipeline\n",
    "\n",
    "for classifier in classifiers:\n",
    "    model_pipeline = Pipeline([\n",
    "        ('feats', FeatureUnion([\n",
    "            # Ngrams\n",
    "            ('ngram', Ngrams(X_train[['answer_text_clean']])),\n",
    "            # Wordcounter\n",
    "            ('wordcount', WordCounter(X_train[['answer_text_clean']])),\n",
    "            # Code contained\n",
    "            ('codecheck', CodeCheck(X_train)),\n",
    "            # No. of code snippets\n",
    "            ('codecounter', CodeCounter(X_train))\n",
    "            ])),\n",
    "            # Classifier\n",
    "            ('classifier', classifier)])\n",
    "    model_pipeline.fit(X_train, y_train)\n",
    "    y_predict = model_pipeline.predict(X_test)\n",
    "    print(classifier)\n",
    "    print(metrics.classification_report(y_test, y_predict))"
   ]
  },
  {
   "cell_type": "code",
   "execution_count": 138,
   "metadata": {
    "tags": []
   },
   "outputs": [
    {
     "output_type": "stream",
     "name": "stdout",
     "text": "GradientBoostingClassifier(random_state=1)\n              precision    recall  f1-score   support\n\n           0       0.78      0.03      0.05      3055\n           1       0.40      0.43      0.41      3013\n           2       0.36      0.71      0.48      2929\n\n    accuracy                           0.38      8997\n   macro avg       0.52      0.39      0.31      8997\nweighted avg       0.52      0.38      0.31      8997\n\n"
    }
   ],
   "source": [
    "model_pipeline = Pipeline([\n",
    "    ('feats', FeatureUnion([\n",
    "        # Ngrams answers\n",
    "        ('ngram_ans', Ngrams(X_train[['answer_text_clean']])),\n",
    "        # Wordcounter\n",
    "        ('wordcount', WordCounter(X_train[['answer_text_clean']])),\n",
    "        # Code contained\n",
    "        ('codecheck', CodeCheck(X_train)),\n",
    "        # No. of code snippets\n",
    "        ('codecounter', CodeCounter(X_train))\n",
    "        ])),\n",
    "        # Classifier\n",
    "        ('classifier', GradientBoostingClassifier(random_state = 1))])\n",
    "model_pipeline.fit(X_train, y_train)\n",
    "y_predict = model_pipeline.predict(X_test)\n",
    "print(classifier)\n",
    "print(metrics.classification_report(y_test, y_predict))"
   ]
  },
  {
   "cell_type": "code",
   "execution_count": 140,
   "metadata": {},
   "outputs": [
    {
     "output_type": "execute_result",
     "data": {
      "text/plain": "11108    1\n1125     0\n2242     0\n14480    1\n9216     0\nName: score_cat, dtype: int64"
     },
     "metadata": {},
     "execution_count": 140
    }
   ],
   "source": [
    "###\n",
    "\n",
    "y_test.head()"
   ]
  },
  {
   "cell_type": "code",
   "execution_count": 141,
   "metadata": {},
   "outputs": [],
   "source": [
    "### Mapping predicted scores for test data onto actual scores\n",
    " \n",
    "y_predict = model_pipeline.predict(X_test)\n",
    "y_predict_df = pd.DataFrame(data = y_predict, columns=['predicted_score_cat'], index = X_test.index.copy())\n",
    "df_test = pd.merge(X_test, y_predict_df, left_index = True, right_index = True)\n",
    "\n",
    "df_test['score_cat'] = y_test"
   ]
  },
  {
   "cell_type": "code",
   "execution_count": 143,
   "metadata": {},
   "outputs": [
    {
     "output_type": "execute_result",
     "data": {
      "text/plain": "       Unnamed: 0  score                                     question_title  \\\n11108       11108      1  No matches for kind ClusterIssuer on a Digital...   \n1125         1125     -2                  How to do a slideshow in HTML CSS   \n2242         2242     -1       Android: Reading json from sampledata folder   \n14480       14480      1                                  MouseX for a wave   \n9216         9216     -4                         Events operators : noEvent   \n11797       11797      1      Bash find replace multiple files to NEW files   \n11219       11219      1  Is it bad practice to add CR/LF's to logging m...   \n7330         7330     -2       How to load content on touches or mouseover?   \n25418       25418     57  WARNING : No target specified, deploying to em...   \n15831       15831      1  Room persistence with retrofit nested object r...   \n3204         3204     -1  How can I create heightmap for QHeightMapSurfa...   \n21983       21983     22  C# Couldn't process file xxx.resx due to its b...   \n1961         1961     -1                     DB2 database backup encryption   \n22571       22571     26     How to put an image in an AlertDialog? Android   \n15806       15806      5  Not able to display all the data across naviga...   \n22537       22537     14  Give function defaults arguments from a dictio...   \n26518       26518    132  How to have stored properties in Swift, the sa...   \n15604       15604      2  How to convert the string 'pi' to double? (MAT...   \n7776         7776     -1        Get Substring from Value as key in an array   \n22673       22673     40                        Tuple.Create() vs new Tuple   \n\n                                           question_text  \\\n11108  <p>I have been following <a href=\"https://www....   \n1125   <p>I want to do a slideshow like this one : <a...   \n2242   <p>I would like to fill <code>RecyclerView</co...   \n14480  <p>I'm new in Processing and I have a kind of ...   \n9216   <p>Im using Dymola to model an electrical circ...   \n11797  <p>I have a directory of let's call them templ...   \n11219  <p>We have a method which we use to log java e...   \n7330   <p>How to load an <code>HTML</code> content on...   \n25418  <p>I'm trying to run an ionic app on my mobile...   \n15831  <p>I am trying to store some retrofit response...   \n3204   <p>I have the data - 2D discrete Fourier trans...   \n21983  <p>I have issue while i try to build project i...   \n1961   <p>I want to take encrypted backup of my exist...   \n22571  <p>I don't know how to put an image into an Al...   \n15806  <p>Hello I am new to NodeJs. I was making a we...   \n22537  <p>Let's imagine I have a dict :</p>\\n\\n<pre><...   \n26518  <p>I am switching an application from Objectiv...   \n15604  <p>When I try to convert the string 'pi' to a ...   \n7776   <p>I have an array as below.</p>\\n\\n<pre><code...   \n22673  <p>Consider the following expressions:</p>\\n\\n...   \n\n                                                tags  \\\n11108  kubernetes|digital-ocean|lets-encrypt|kubectl   \n1125                   javascript|html|css|slideshow   \n2242                        java|android|json|kotlin   \n14480                                     processing   \n9216                                 modelica|dymola   \n11797                           bash|ubuntu|sed|find   \n11219                             java|logging|owasp   \n7330                                 javascript|html   \n25418                          android|cordova|ionic   \n15831           android|kotlin|retrofit|android-room   \n3204                                c++|qt|heightmap   \n21983                      c#|api|visual-studio-2012   \n1961                          encryption|db2|db2-luw   \n22571                    android|android-alertdialog   \n15806                 javascript|node.js|express|ejs   \n22537                                         python   \n26518                    ios|swift|associated-object   \n15604                    matlab|pi|string-conversion   \n7776                                      php|arrays   \n22673                                      c#|tuples   \n\n                                             answer_text  \\\n11108  <p>Try following <a href=\"https://docs.cert-ma...   \n1125   <p>I recommend you to use the <a href=\"https:/...   \n2242   <p>You should do step by step as below or watc...   \n14480  <p><a href=\"https://processing.org/reference/l...   \n9216   <p>As Matti already mentioned, please use inli...   \n11797  <p>This might work for you (GNU sed and parall...   \n11219  <p>generally - yes.</p>\\n\\n<p>while this seems...   \n7330   <p>For a smooth transition:</p>\\n\\n<pre><code>...   \n25418  <p>Once you are remove the USB plugin from the...   \n15831  <p>Try to make use of <code>@Embedded</code> a...   \n3204   <p><code>QHeightMapSurfaceDataProxy</code>'s c...   \n21983  <p>A quick way to remove this mark of the web ...   \n1961   <p>DB2 encryption feature is introduced in 10....   \n22571  <p>Try this method:</p>\\n\\n<pre><code>private ...   \n15806  <p>The for Each loop gives the last value. Rem...   \n22537  <p>Sure...\\nhope this helps</p>\\n\\n<pre><code>...   \n26518  <p>How about storing static map to class that ...   \n15604  <p>I figured out that I need to use str2num in...   \n7776   <p>This should get it all in one array as you ...   \n22673  <p>Starting with C# 7, you can now simply decl...   \n\n                                    question_title_clean  \\\n11108  match kind clusterissuer digital ocean kuberne...   \n1125                                   slideshow html cs   \n2242                 android read json sampledata folder   \n14480                                        mousex wave   \n9216                              event operator noevent   \n11797           bash find replace multiple file new file   \n11219  bad practice add crlfs log message improve rea...   \n7330                        load content touch mouseover   \n25418                warn target specify deploy emulator   \n15831     room persistence retrofit nest object response   \n3204   create heightmap qheightmapsurfacedataproxy  a...   \n21983   process file xxx resx due internet restrict z...   \n1961                       db database backup encryption   \n22571                      put image alertdialog android   \n15806  able display data across navigation dropdown h...   \n22537   give function default argument dictionary python   \n26518                store property swift way objectivec   \n15604                   convert string pi double matlab    \n7776                       get substring value key array   \n22673                          tuple create vs new tuple   \n\n                                     question_text_clean  \\\n11108  follow guide create nginxingress work fine nex...   \n1125   want slideshow like one httpswww inextenso dig...   \n2242   would like fill custom file stay sampledata fo...   \n14480  im new processing kind easy question add wave ...   \n9216   im use dymola model electrical circuit simulat...   \n11797  directory let call template file one value nee...   \n11219  method use log java exception log file method ...   \n7330   load content mouseover help javascript example...   \n25418  im try run ionic app mobile phone android usbd...   \n15831  try store retrofit response room db retrofit r...   \n3204   data  discrete fourier transform result want g...   \n21983  issue try build project  build due error proce...   \n1961   want take encrypt backup exist database encryp...   \n22571  know put image alertdialog code think possible...   \n15806  hello new nodejs make website dynamic use ejs ...   \n22537  let imagine dict   want create function  exact...   \n26518  switch application objectivec swift couple cat...   \n15604  try convert string pi double get convert nan g...   \n7776   array as array array gt name sip gt status arr...   \n22673  consider follow expression new tupleltintintgt...   \n\n                                        tags_clean  \\\n11108  kubernetes digitalocean letsencrypt kubectl   \n1125                  javascript html cs slideshow   \n2242                      java android json kotlin   \n14480                                   processing   \n9216                               modelica dymola   \n11797                         bash ubuntu sed find   \n11219                               java log owasp   \n7330                               javascript html   \n25418                        android cordova ionic   \n15831          android kotlin retrofit androidroom   \n3204                                  qt heightmap   \n21983                             api visualstudio   \n1961                           encryption db dbluw   \n22571                   android androidalertdialog   \n15806                 javascript node  express ejs   \n22537                                       python   \n26518                    io swift associatedobject   \n15604                   matlab pi stringconversion   \n7776                                     php array   \n22673                                       tuples   \n\n                                       answer_text_clean  predicted_score_cat  \\\n11108  try follow link certmanager letsencrypt notify...                    2   \n1125   recommend use slick library work jquery allow ...                    2   \n2242   step step watch tutorial use kotlin language c...                    1   \n14480  return value range define height leave height ...                    1   \n9216   matti already mention please use inline code t...                    1   \n11797  might work gnu sed parallel sub find template ...                    1   \n11219  generally yes seem nice feature first glance c...                    2   \n7330   smooth transition mydiv opacity transition opa...                    2   \n25418  remove usb plugin computer mean work already o...                    2   \n15831  try make use annotation like show way need sec...                    1   \n3204    constructor take image image file argument ne...                    1   \n21983  quick way remove mark web multiple file folder...                    2   \n1961            db encryption feature introduce fix pack                    2   \n22571  try method private void dialog alertdialog bui...                    2   \n15806  loop give last value remove code maincategorie...                    2   \n22537  sure hope help def funcc  kwargs local update ...                    2   \n26518  store static map class extend like extension u...                    2   \n15604  figure need use strnum instead strdouble strnu...                    2   \n7776   get one array request newarray foreach as inne...                    2   \n22673  start  simply declare value tuple like so var ...                    2   \n\n       score_cat  \n11108          1  \n1125           0  \n2242           0  \n14480          1  \n9216           0  \n11797          1  \n11219          1  \n7330           0  \n25418          2  \n15831          1  \n3204           0  \n21983          2  \n1961           0  \n22571          2  \n15806          1  \n22537          2  \n26518          2  \n15604          1  \n7776           0  \n22673          2  ",
      "text/html": "<div>\n<style scoped>\n    .dataframe tbody tr th:only-of-type {\n        vertical-align: middle;\n    }\n\n    .dataframe tbody tr th {\n        vertical-align: top;\n    }\n\n    .dataframe thead th {\n        text-align: right;\n    }\n</style>\n<table border=\"1\" class=\"dataframe\">\n  <thead>\n    <tr style=\"text-align: right;\">\n      <th></th>\n      <th>Unnamed: 0</th>\n      <th>score</th>\n      <th>question_title</th>\n      <th>question_text</th>\n      <th>tags</th>\n      <th>answer_text</th>\n      <th>question_title_clean</th>\n      <th>question_text_clean</th>\n      <th>tags_clean</th>\n      <th>answer_text_clean</th>\n      <th>predicted_score_cat</th>\n      <th>score_cat</th>\n    </tr>\n  </thead>\n  <tbody>\n    <tr>\n      <th>11108</th>\n      <td>11108</td>\n      <td>1</td>\n      <td>No matches for kind ClusterIssuer on a Digital...</td>\n      <td>&lt;p&gt;I have been following &lt;a href=\"https://www....</td>\n      <td>kubernetes|digital-ocean|lets-encrypt|kubectl</td>\n      <td>&lt;p&gt;Try following &lt;a href=\"https://docs.cert-ma...</td>\n      <td>match kind clusterissuer digital ocean kuberne...</td>\n      <td>follow guide create nginxingress work fine nex...</td>\n      <td>kubernetes digitalocean letsencrypt kubectl</td>\n      <td>try follow link certmanager letsencrypt notify...</td>\n      <td>2</td>\n      <td>1</td>\n    </tr>\n    <tr>\n      <th>1125</th>\n      <td>1125</td>\n      <td>-2</td>\n      <td>How to do a slideshow in HTML CSS</td>\n      <td>&lt;p&gt;I want to do a slideshow like this one : &lt;a...</td>\n      <td>javascript|html|css|slideshow</td>\n      <td>&lt;p&gt;I recommend you to use the &lt;a href=\"https:/...</td>\n      <td>slideshow html cs</td>\n      <td>want slideshow like one httpswww inextenso dig...</td>\n      <td>javascript html cs slideshow</td>\n      <td>recommend use slick library work jquery allow ...</td>\n      <td>2</td>\n      <td>0</td>\n    </tr>\n    <tr>\n      <th>2242</th>\n      <td>2242</td>\n      <td>-1</td>\n      <td>Android: Reading json from sampledata folder</td>\n      <td>&lt;p&gt;I would like to fill &lt;code&gt;RecyclerView&lt;/co...</td>\n      <td>java|android|json|kotlin</td>\n      <td>&lt;p&gt;You should do step by step as below or watc...</td>\n      <td>android read json sampledata folder</td>\n      <td>would like fill custom file stay sampledata fo...</td>\n      <td>java android json kotlin</td>\n      <td>step step watch tutorial use kotlin language c...</td>\n      <td>1</td>\n      <td>0</td>\n    </tr>\n    <tr>\n      <th>14480</th>\n      <td>14480</td>\n      <td>1</td>\n      <td>MouseX for a wave</td>\n      <td>&lt;p&gt;I'm new in Processing and I have a kind of ...</td>\n      <td>processing</td>\n      <td>&lt;p&gt;&lt;a href=\"https://processing.org/reference/l...</td>\n      <td>mousex wave</td>\n      <td>im new processing kind easy question add wave ...</td>\n      <td>processing</td>\n      <td>return value range define height leave height ...</td>\n      <td>1</td>\n      <td>1</td>\n    </tr>\n    <tr>\n      <th>9216</th>\n      <td>9216</td>\n      <td>-4</td>\n      <td>Events operators : noEvent</td>\n      <td>&lt;p&gt;Im using Dymola to model an electrical circ...</td>\n      <td>modelica|dymola</td>\n      <td>&lt;p&gt;As Matti already mentioned, please use inli...</td>\n      <td>event operator noevent</td>\n      <td>im use dymola model electrical circuit simulat...</td>\n      <td>modelica dymola</td>\n      <td>matti already mention please use inline code t...</td>\n      <td>1</td>\n      <td>0</td>\n    </tr>\n    <tr>\n      <th>11797</th>\n      <td>11797</td>\n      <td>1</td>\n      <td>Bash find replace multiple files to NEW files</td>\n      <td>&lt;p&gt;I have a directory of let's call them templ...</td>\n      <td>bash|ubuntu|sed|find</td>\n      <td>&lt;p&gt;This might work for you (GNU sed and parall...</td>\n      <td>bash find replace multiple file new file</td>\n      <td>directory let call template file one value nee...</td>\n      <td>bash ubuntu sed find</td>\n      <td>might work gnu sed parallel sub find template ...</td>\n      <td>1</td>\n      <td>1</td>\n    </tr>\n    <tr>\n      <th>11219</th>\n      <td>11219</td>\n      <td>1</td>\n      <td>Is it bad practice to add CR/LF's to logging m...</td>\n      <td>&lt;p&gt;We have a method which we use to log java e...</td>\n      <td>java|logging|owasp</td>\n      <td>&lt;p&gt;generally - yes.&lt;/p&gt;\\n\\n&lt;p&gt;while this seems...</td>\n      <td>bad practice add crlfs log message improve rea...</td>\n      <td>method use log java exception log file method ...</td>\n      <td>java log owasp</td>\n      <td>generally yes seem nice feature first glance c...</td>\n      <td>2</td>\n      <td>1</td>\n    </tr>\n    <tr>\n      <th>7330</th>\n      <td>7330</td>\n      <td>-2</td>\n      <td>How to load content on touches or mouseover?</td>\n      <td>&lt;p&gt;How to load an &lt;code&gt;HTML&lt;/code&gt; content on...</td>\n      <td>javascript|html</td>\n      <td>&lt;p&gt;For a smooth transition:&lt;/p&gt;\\n\\n&lt;pre&gt;&lt;code&gt;...</td>\n      <td>load content touch mouseover</td>\n      <td>load content mouseover help javascript example...</td>\n      <td>javascript html</td>\n      <td>smooth transition mydiv opacity transition opa...</td>\n      <td>2</td>\n      <td>0</td>\n    </tr>\n    <tr>\n      <th>25418</th>\n      <td>25418</td>\n      <td>57</td>\n      <td>WARNING : No target specified, deploying to em...</td>\n      <td>&lt;p&gt;I'm trying to run an ionic app on my mobile...</td>\n      <td>android|cordova|ionic</td>\n      <td>&lt;p&gt;Once you are remove the USB plugin from the...</td>\n      <td>warn target specify deploy emulator</td>\n      <td>im try run ionic app mobile phone android usbd...</td>\n      <td>android cordova ionic</td>\n      <td>remove usb plugin computer mean work already o...</td>\n      <td>2</td>\n      <td>2</td>\n    </tr>\n    <tr>\n      <th>15831</th>\n      <td>15831</td>\n      <td>1</td>\n      <td>Room persistence with retrofit nested object r...</td>\n      <td>&lt;p&gt;I am trying to store some retrofit response...</td>\n      <td>android|kotlin|retrofit|android-room</td>\n      <td>&lt;p&gt;Try to make use of &lt;code&gt;@Embedded&lt;/code&gt; a...</td>\n      <td>room persistence retrofit nest object response</td>\n      <td>try store retrofit response room db retrofit r...</td>\n      <td>android kotlin retrofit androidroom</td>\n      <td>try make use annotation like show way need sec...</td>\n      <td>1</td>\n      <td>1</td>\n    </tr>\n    <tr>\n      <th>3204</th>\n      <td>3204</td>\n      <td>-1</td>\n      <td>How can I create heightmap for QHeightMapSurfa...</td>\n      <td>&lt;p&gt;I have the data - 2D discrete Fourier trans...</td>\n      <td>c++|qt|heightmap</td>\n      <td>&lt;p&gt;&lt;code&gt;QHeightMapSurfaceDataProxy&lt;/code&gt;'s c...</td>\n      <td>create heightmap qheightmapsurfacedataproxy  a...</td>\n      <td>data  discrete fourier transform result want g...</td>\n      <td>qt heightmap</td>\n      <td>constructor take image image file argument ne...</td>\n      <td>1</td>\n      <td>0</td>\n    </tr>\n    <tr>\n      <th>21983</th>\n      <td>21983</td>\n      <td>22</td>\n      <td>C# Couldn't process file xxx.resx due to its b...</td>\n      <td>&lt;p&gt;I have issue while i try to build project i...</td>\n      <td>c#|api|visual-studio-2012</td>\n      <td>&lt;p&gt;A quick way to remove this mark of the web ...</td>\n      <td>process file xxx resx due internet restrict z...</td>\n      <td>issue try build project  build due error proce...</td>\n      <td>api visualstudio</td>\n      <td>quick way remove mark web multiple file folder...</td>\n      <td>2</td>\n      <td>2</td>\n    </tr>\n    <tr>\n      <th>1961</th>\n      <td>1961</td>\n      <td>-1</td>\n      <td>DB2 database backup encryption</td>\n      <td>&lt;p&gt;I want to take encrypted backup of my exist...</td>\n      <td>encryption|db2|db2-luw</td>\n      <td>&lt;p&gt;DB2 encryption feature is introduced in 10....</td>\n      <td>db database backup encryption</td>\n      <td>want take encrypt backup exist database encryp...</td>\n      <td>encryption db dbluw</td>\n      <td>db encryption feature introduce fix pack</td>\n      <td>2</td>\n      <td>0</td>\n    </tr>\n    <tr>\n      <th>22571</th>\n      <td>22571</td>\n      <td>26</td>\n      <td>How to put an image in an AlertDialog? Android</td>\n      <td>&lt;p&gt;I don't know how to put an image into an Al...</td>\n      <td>android|android-alertdialog</td>\n      <td>&lt;p&gt;Try this method:&lt;/p&gt;\\n\\n&lt;pre&gt;&lt;code&gt;private ...</td>\n      <td>put image alertdialog android</td>\n      <td>know put image alertdialog code think possible...</td>\n      <td>android androidalertdialog</td>\n      <td>try method private void dialog alertdialog bui...</td>\n      <td>2</td>\n      <td>2</td>\n    </tr>\n    <tr>\n      <th>15806</th>\n      <td>15806</td>\n      <td>5</td>\n      <td>Not able to display all the data across naviga...</td>\n      <td>&lt;p&gt;Hello I am new to NodeJs. I was making a we...</td>\n      <td>javascript|node.js|express|ejs</td>\n      <td>&lt;p&gt;The for Each loop gives the last value. Rem...</td>\n      <td>able display data across navigation dropdown h...</td>\n      <td>hello new nodejs make website dynamic use ejs ...</td>\n      <td>javascript node  express ejs</td>\n      <td>loop give last value remove code maincategorie...</td>\n      <td>2</td>\n      <td>1</td>\n    </tr>\n    <tr>\n      <th>22537</th>\n      <td>22537</td>\n      <td>14</td>\n      <td>Give function defaults arguments from a dictio...</td>\n      <td>&lt;p&gt;Let's imagine I have a dict :&lt;/p&gt;\\n\\n&lt;pre&gt;&lt;...</td>\n      <td>python</td>\n      <td>&lt;p&gt;Sure...\\nhope this helps&lt;/p&gt;\\n\\n&lt;pre&gt;&lt;code&gt;...</td>\n      <td>give function default argument dictionary python</td>\n      <td>let imagine dict   want create function  exact...</td>\n      <td>python</td>\n      <td>sure hope help def funcc  kwargs local update ...</td>\n      <td>2</td>\n      <td>2</td>\n    </tr>\n    <tr>\n      <th>26518</th>\n      <td>26518</td>\n      <td>132</td>\n      <td>How to have stored properties in Swift, the sa...</td>\n      <td>&lt;p&gt;I am switching an application from Objectiv...</td>\n      <td>ios|swift|associated-object</td>\n      <td>&lt;p&gt;How about storing static map to class that ...</td>\n      <td>store property swift way objectivec</td>\n      <td>switch application objectivec swift couple cat...</td>\n      <td>io swift associatedobject</td>\n      <td>store static map class extend like extension u...</td>\n      <td>2</td>\n      <td>2</td>\n    </tr>\n    <tr>\n      <th>15604</th>\n      <td>15604</td>\n      <td>2</td>\n      <td>How to convert the string 'pi' to double? (MAT...</td>\n      <td>&lt;p&gt;When I try to convert the string 'pi' to a ...</td>\n      <td>matlab|pi|string-conversion</td>\n      <td>&lt;p&gt;I figured out that I need to use str2num in...</td>\n      <td>convert string pi double matlab</td>\n      <td>try convert string pi double get convert nan g...</td>\n      <td>matlab pi stringconversion</td>\n      <td>figure need use strnum instead strdouble strnu...</td>\n      <td>2</td>\n      <td>1</td>\n    </tr>\n    <tr>\n      <th>7776</th>\n      <td>7776</td>\n      <td>-1</td>\n      <td>Get Substring from Value as key in an array</td>\n      <td>&lt;p&gt;I have an array as below.&lt;/p&gt;\\n\\n&lt;pre&gt;&lt;code...</td>\n      <td>php|arrays</td>\n      <td>&lt;p&gt;This should get it all in one array as you ...</td>\n      <td>get substring value key array</td>\n      <td>array as array array gt name sip gt status arr...</td>\n      <td>php array</td>\n      <td>get one array request newarray foreach as inne...</td>\n      <td>2</td>\n      <td>0</td>\n    </tr>\n    <tr>\n      <th>22673</th>\n      <td>22673</td>\n      <td>40</td>\n      <td>Tuple.Create() vs new Tuple</td>\n      <td>&lt;p&gt;Consider the following expressions:&lt;/p&gt;\\n\\n...</td>\n      <td>c#|tuples</td>\n      <td>&lt;p&gt;Starting with C# 7, you can now simply decl...</td>\n      <td>tuple create vs new tuple</td>\n      <td>consider follow expression new tupleltintintgt...</td>\n      <td>tuples</td>\n      <td>start  simply declare value tuple like so var ...</td>\n      <td>2</td>\n      <td>2</td>\n    </tr>\n  </tbody>\n</table>\n</div>"
     },
     "metadata": {},
     "execution_count": 143
    }
   ],
   "source": [
    "df_test.head(20)"
   ]
  },
  {
   "cell_type": "code",
   "execution_count": 145,
   "metadata": {},
   "outputs": [
    {
     "output_type": "execute_result",
     "data": {
      "text/plain": "predicted_score_cat   0     1     2\nscore_cat                          \n0                    78  1048  1929\n1                    12  1282  1719\n2                    10   843  2076",
      "text/html": "<div>\n<style scoped>\n    .dataframe tbody tr th:only-of-type {\n        vertical-align: middle;\n    }\n\n    .dataframe tbody tr th {\n        vertical-align: top;\n    }\n\n    .dataframe thead th {\n        text-align: right;\n    }\n</style>\n<table border=\"1\" class=\"dataframe\">\n  <thead>\n    <tr style=\"text-align: right;\">\n      <th>predicted_score_cat</th>\n      <th>0</th>\n      <th>1</th>\n      <th>2</th>\n    </tr>\n    <tr>\n      <th>score_cat</th>\n      <th></th>\n      <th></th>\n      <th></th>\n    </tr>\n  </thead>\n  <tbody>\n    <tr>\n      <th>0</th>\n      <td>78</td>\n      <td>1048</td>\n      <td>1929</td>\n    </tr>\n    <tr>\n      <th>1</th>\n      <td>12</td>\n      <td>1282</td>\n      <td>1719</td>\n    </tr>\n    <tr>\n      <th>2</th>\n      <td>10</td>\n      <td>843</td>\n      <td>2076</td>\n    </tr>\n  </tbody>\n</table>\n</div>"
     },
     "metadata": {},
     "execution_count": 145
    }
   ],
   "source": [
    "df_test.groupby(['score_cat', 'predicted_score_cat']).size().unstack(fill_value=0)"
   ]
  },
  {
   "cell_type": "code",
   "execution_count": 147,
   "metadata": {},
   "outputs": [
    {
     "output_type": "execute_result",
     "data": {
      "text/plain": "      Unnamed: 0  score                                     question_title  \\\n4685        4685     -5                            Project Euler #3 Python   \n9784        9784     -1  Can someone explain this little piece of code ...   \n433          433     -2          'which' command outputs nothing in Ubuntu   \n8059        8059     -1  How to find out which window triggered WM_PARE...   \n4850        4850     -1  Add Language colors for the repositories using...   \n3215        3215     -1  My filter app with the following lines of code...   \n4621        4621     -5         char* buffer = new vs char buffer[] in C++   \n5401        5401     -1  React.js library that does same thing as react...   \n8906        8906     -1                   Program instantly stopping in C?   \n7501        7501     -2             How to write leap year detection in C?   \n4111        4111     -1  CORS policy error with Java + Spring in an aja...   \n8135        8135     -2                                Lists to Dictionary   \n8290        8290     -1  I have this very long piece of code that defin...   \n761          761     -1  Is there a way to sort objects created through...   \n7359        7359     -5                \"undefined\" variables and arguments   \n7186        7186     -2  Remove element from associative array and reor...   \n4727        4727     -2  C program to sum the following series: S = 1 +...   \n7219        7219     -1  How to parse multiple JSON values into a strin...   \n3170        3170     -2  Trying to make an API call and created a .env ...   \n488          488     -2  TypeError: \"Cannot read property 'questions' o...   \n5377        5377     -2       total_1 (local) is assigned before reference   \n3537        3537     -2       How to convert List object to string in java   \n8325        8325     -1  `initialize': wrong number of arguments (given...   \n8407        8407     -1  Two methods for building and displaying rooms ...   \n6666        6666     -2               How I compare two picturebox arrays?   \n6997        6997     -1  JPA: how to select data by child ID in OneToMa...   \n8201        8201     -2          Why isn't this led sequence loop Looping?   \n8154        8154     -2                 How to get Format Date from Input?   \n4317        4317     -1  Why sometimes toasterService does not show popup?   \n7424        7424     -3  Java, reading the file from input.txt has an i...   \n\n                                          question_text  \\\n4685  <p>This is my solution to <a href=\"https://pro...   \n9784  <p>The output is :</p>\\n\\n<pre><code>25\\n28ff1...   \n433   <p>I want to figure out path of the executable...   \n8059  <p>When I set the parent of a button (A) to an...   \n4850  <p>I wanted to display all repositories of a u...   \n3215  <p>I am using a box blur algorithm to create a...   \n4621  <pre><code>1. char* buffer = new char[size]\\n2...   \n5401  <p>I'm relatively new to react.js &amp; react-...   \n8906  <p>I have written this code:</p>\\n\\n<pre><code...   \n7501  <p>I posted a blog not long ago, but I have an...   \n4111  <p>working with Java 11, eclipse, Gradle and s...   \n8135  <p>I have lists like this</p>\\n\\n<pre><code>a ...   \n8290  <p>This is what my code is at the moment and I...   \n761   <p>I have an assignment to create a deck of ca...   \n7359  <p>I'm a student writing my first function, so...   \n7186  <p>for example i have this array ;</p>\\n\\n<pre...   \n4727  <p>I am using a nested <code>for</code> loop t...   \n7219  <p>I'm making using of the pokeapi to learn ab...   \n3170  <p>since 'require' is not defined in browsers....   \n488   <p>I'm finishing debbuging an App I've built f...   \n5377  <p>Assigned all my global variables.\\nCollege ...   \n3537  <p>Maybe this is a very silly question but I'm...   \n8325  <pre><code>class LineAnalyzer\\n\\n @@highest_wf...   \n8407  <p>I'm very inexperienced and found these two ...   \n6666  <p>I've been working on this app for long time...   \n6997  <p>I have two models Quality and ExpertsData:<...   \n8201  <p>I have started to learn embedded system, an...   \n8154  <p>I have input control for date field. I wish...   \n4317  <pre><code>public constructor(\\n    private to...   \n7424  <p>I am working on the project. For my purpose...   \n\n                                                   tags  \\\n4685                                             python   \n9784                                                  c   \n433                             linux|bash|shell|ubuntu   \n8059         c++|windows|user-interface|winapi|frontend   \n4850                         javascript|rest|api|github   \n3215                                  c|image|blur|cs50   \n4621                                                c++   \n5401                    javascript|reactjs|react-native   \n8906                                                  c   \n7501                                                  c   \n4111                     java|jquery|spring|gradle|cors   \n8135                         python-3.x|list|dictionary   \n8290                       python|python-3.x|python-3.7   \n761                                python|class|sorting   \n7359                            c++|function|parameters   \n7186                              php|associative-array   \n4727                                  c|for-loop|nested   \n7219                                            c#|json   \n3170               javascript|api|environment-variables   \n488   javascript|reactjs|ecmascript-6|redux|react-redux   \n5377                                  python|python-3.x   \n3537                                        java|string   \n8325                                               ruby   \n8407                                        python|text   \n6666                                            c#|.net   \n6997                java|hibernate|jpa|one-to-many|jpql   \n8201                                         c|embedded   \n8154                                  javascript|jquery   \n4317         angular|angular6|angular8|angular2-toaster   \n7424                                               java   \n\n                                            answer_text  \\\n4685  <p>finding factors of N only need to check upt...   \n9784  <p><em>...but why is the second output the sam...   \n433   <p>If <code>which exe</code> does not return a...   \n8059  <p>Yes, it's sure that it seems strange that s...   \n4850  <p>a simple Google search returns several repo...   \n3215  <p>Nasty little typos...</p>\\n\\n<p>I stripped ...   \n4621  <pre><code>char* buffer = new char[size]\\n</co...   \n5401  <p>You just haven't asked the internet, But th...   \n8906  <p>When you run a console application, a termi...   \n7501  <p>You can add the following condition to chec...   \n4111  <p>You can specifically enable CORS for that e...   \n8135  <pre><code>models = ['CROXE-1478','CROXE-9087'...   \n8290  <p>You are doing <code>quotes[0]</code> and so...   \n761   <p>You can initialize your Card class as follo...   \n7359  <p>Let me tell you issues in your code.</p>\\n\\...   \n7186  <p>As @PatrickQ comment, all I needed to do is...   \n4727  <p>In the line, </p>\\n\\n<pre><code>term = term...   \n7219  <p>Specific to your <code>JSON</code> string t...   \n3170  <p>So this is not common  problem \\nvar config...   \n488   <p>I can't explain as to why those people down...   \n5377  <p>The function will look inside the local sco...   \n3537  <p>Because <code>myproduct</code> is <code>Lis...   \n8325  <p>The issue is in this line</p>\\n\\n<pre><code...   \n8407  <p>From what I understand from your question i...   \n6666  <p>If you ever want to tackle this again, I ha...   \n6997  <pre><code>@Query(value = \"SELECT distinct q F...   \n8201  <pre><code>int main()\\n{\\n   int i = 0;\\n   in...   \n8154  <p>Apply HTML:</p>\\n\\n<pre><code>&lt;input typ...   \n4317  <p>It could be due to Angular lifecycle digest...   \n7424  <pre><code>    int read_line = 0;\\n    int rea...   \n\n                                   question_title_clean  \\\n4685                               project euler python   \n9784                 someone explain little piece code    \n433                 which command output nothing ubuntu   \n8059                 find window trigger wmparentnotify   \n4850         add language color repository use rest api   \n3215  filter app follow line code produce blur effec...   \n4621                      char buffer new  char buffer    \n5401  react  library thing reactnativerouterflux rea...   \n8906                            program instantly stop    \n7501                         write leap year detection    \n4111           cors policy error java spring ajax query   \n8135                                    list dictionary   \n8290      long piece code defines list use  python work   \n761   way sort object create class make string integ...   \n7359                        undefined variable argument   \n7186     remove element associative array reorder value   \n4727                         program sum follow series    \n7219             parse multiple json value string array   \n3170  try make api call create env file also try add...   \n488   typeerror can not read property question undef...   \n5377                       total local assign reference   \n3537                    convert list object string java   \n8325  initialize wrong number argument give expect a...   \n8407  two method build display room text rpg game us...   \n6666                       compare two picturebox array   \n6997        jpa select data child id onetomany relation   \n8201                            lead sequence loop loop   \n8154                              get format date input   \n4317                sometimes toasterservice show popup   \n7424                     java read file input txt issue   \n\n                                    question_text_clean  \\\n4685  solution project euler problem write code proj...   \n9784  output ffc ffc understand first value address ...   \n433   want figure path executable command say nothin...   \n8059  set parent button another button  find trigger...   \n4850  want display repository username use rest api ...   \n3215  use box blur algorithm create blur filter imag...   \n4621  char buffer new charsize char buffersize im ne...   \n5401  im relatively new react  amp reactnative wonde...   \n8906  write code include ltstdio hgt int main printf...   \n7501  post blog long ago another question concern pr...   \n4111  work java eclipse gradle spring ubuntu os post...   \n8135  list like croxecroxecroxe  engineernamedescrip...   \n8290  code moment wonder assign list value like im m...   \n761   assignment create deck card use class method d...   \n7359  im student write first function im sure obviou...   \n7186  example array array gt gt gt gt gt gt gt value...   \n4727  use nested loop use solve give problem integer...   \n7219  im make use pokeapi learn apis im face issue j...   \n3170  since require define browser therefore use bro...   \n488   im finish debbuging app ive build reactredux c...   \n5377  assign global variable college task input numb...   \n3537  maybe silly question im bang head get string v...   \n8325  class lineanalyzer highestwfcount highestwfwor...   \n8407  im inexperienced find two method implement roo...   \n6666  ive work app long time flaw like instead use a...   \n6997  two model quality expertsdata entity name qual...   \n8201  start learn embed system ask write simple prog...   \n8154  input control date field wish date format like...   \n4317  public constructor private toasterservice toas...   \n7424  work project purpose need use find median medi...   \n\n                                          tags_clean  \\\n4685                                          python   \n9784                                             NaN   \n433                          linux bash shell ubuntu   \n8059            window userinterface winapi frontend   \n4850                      javascript rest api github   \n3215                                     image blur    \n4621                                             NaN   \n5401                  javascript reactjs reactnative   \n8906                                             NaN   \n7501                                             NaN   \n4111                  java jquery spring gradle cors   \n8135                         python  list dictionary   \n8290                           python python  python   \n761                                python class sort   \n7359                              function parameter   \n7186                            php associativearray   \n4727                                    forloop nest   \n7219                                            json   \n3170             javascript api environmentvariables   \n488   javascript reactjs ecmascript redux reactredux   \n5377                                  python python    \n3537                                     java string   \n8325                                            ruby   \n8407                                     python text   \n6666                                             net   \n6997               java hibernate jpa onetomany jpql   \n8201                                           embed   \n8154                               javascript jquery   \n4317          angular angular angular angulartoaster   \n7424                                            java   \n\n                                      answer_text_clean  predicted_score_cat  \\\n4685  find factor  need check upto  first basic solu...                    0   \n9784  second output same original code float add int...                    0   \n433   return string mean executable item script bina...                    0   \n8059  yes sure seem strange somebody put button anot...                    0   \n4850  simple google search return several repos data...                    0   \n3215  nasty little typo strip line could obviously c...                    0   \n4621  char buffer new charsize portable avoid really...                    0   \n5401  ask internet go httpsreacttraining comreactrouter                    0   \n8906  run console application terminal window create...                    0   \n7501  add follow condition check day range dd lt amp...                    0   \n4111  specifically enable cors endpoint use follow c...                    0   \n8135  model croxecroxecroxe heading engineernamedesc...                    0   \n8290  on empty contain index etc use function instea...                    0   \n761   initialize card class follow value jack queen ...                    0   \n7359  let tell issue code need tell compiler num num...                    0   \n7186  patrickq comment need be unset ordresarray cou...                    0   \n4727  line term term  dont initialize term zero defa...                    0   \n7219  specific string post refer follow code snippet...                    0   \n3170  common problem var config require dotenv confi...                    0   \n488   explain people downvoted question ill try help...                    0   \n5377  function look inside local scope first find gl...                    0   \n3537  string value example list fruit name listltstr...                    0   \n8325  issue line analyzersarray new arr length linea...                    0   \n8407  understand question would like know implementa...                    0   \n6666  ever want tackle again  class call transparenc...                    0   \n6997  query value select distinct  qualitydepartment...                    0   \n8201  int main int int  xff    xgtgt printf  ndxi pr...                    0   \n8154  apply html ltinput typetext datavaltrue datava...                    0   \n4317  could due angular lifecycle digest try add cod...                    0   \n7424  int readline int readline try string word file...                    0   \n\n      score_cat  \n4685          0  \n9784          0  \n433           0  \n8059          0  \n4850          0  \n3215          0  \n4621          0  \n5401          0  \n8906          0  \n7501          0  \n4111          0  \n8135          0  \n8290          0  \n761           0  \n7359          0  \n7186          0  \n4727          0  \n7219          0  \n3170          0  \n488           0  \n5377          0  \n3537          0  \n8325          0  \n8407          0  \n6666          0  \n6997          0  \n8201          0  \n8154          0  \n4317          0  \n7424          0  ",
      "text/html": "<div>\n<style scoped>\n    .dataframe tbody tr th:only-of-type {\n        vertical-align: middle;\n    }\n\n    .dataframe tbody tr th {\n        vertical-align: top;\n    }\n\n    .dataframe thead th {\n        text-align: right;\n    }\n</style>\n<table border=\"1\" class=\"dataframe\">\n  <thead>\n    <tr style=\"text-align: right;\">\n      <th></th>\n      <th>Unnamed: 0</th>\n      <th>score</th>\n      <th>question_title</th>\n      <th>question_text</th>\n      <th>tags</th>\n      <th>answer_text</th>\n      <th>question_title_clean</th>\n      <th>question_text_clean</th>\n      <th>tags_clean</th>\n      <th>answer_text_clean</th>\n      <th>predicted_score_cat</th>\n      <th>score_cat</th>\n    </tr>\n  </thead>\n  <tbody>\n    <tr>\n      <th>4685</th>\n      <td>4685</td>\n      <td>-5</td>\n      <td>Project Euler #3 Python</td>\n      <td>&lt;p&gt;This is my solution to &lt;a href=\"https://pro...</td>\n      <td>python</td>\n      <td>&lt;p&gt;finding factors of N only need to check upt...</td>\n      <td>project euler python</td>\n      <td>solution project euler problem write code proj...</td>\n      <td>python</td>\n      <td>find factor  need check upto  first basic solu...</td>\n      <td>0</td>\n      <td>0</td>\n    </tr>\n    <tr>\n      <th>9784</th>\n      <td>9784</td>\n      <td>-1</td>\n      <td>Can someone explain this little piece of code ...</td>\n      <td>&lt;p&gt;The output is :&lt;/p&gt;\\n\\n&lt;pre&gt;&lt;code&gt;25\\n28ff1...</td>\n      <td>c</td>\n      <td>&lt;p&gt;&lt;em&gt;...but why is the second output the sam...</td>\n      <td>someone explain little piece code</td>\n      <td>output ffc ffc understand first value address ...</td>\n      <td>NaN</td>\n      <td>second output same original code float add int...</td>\n      <td>0</td>\n      <td>0</td>\n    </tr>\n    <tr>\n      <th>433</th>\n      <td>433</td>\n      <td>-2</td>\n      <td>'which' command outputs nothing in Ubuntu</td>\n      <td>&lt;p&gt;I want to figure out path of the executable...</td>\n      <td>linux|bash|shell|ubuntu</td>\n      <td>&lt;p&gt;If &lt;code&gt;which exe&lt;/code&gt; does not return a...</td>\n      <td>which command output nothing ubuntu</td>\n      <td>want figure path executable command say nothin...</td>\n      <td>linux bash shell ubuntu</td>\n      <td>return string mean executable item script bina...</td>\n      <td>0</td>\n      <td>0</td>\n    </tr>\n    <tr>\n      <th>8059</th>\n      <td>8059</td>\n      <td>-1</td>\n      <td>How to find out which window triggered WM_PARE...</td>\n      <td>&lt;p&gt;When I set the parent of a button (A) to an...</td>\n      <td>c++|windows|user-interface|winapi|frontend</td>\n      <td>&lt;p&gt;Yes, it's sure that it seems strange that s...</td>\n      <td>find window trigger wmparentnotify</td>\n      <td>set parent button another button  find trigger...</td>\n      <td>window userinterface winapi frontend</td>\n      <td>yes sure seem strange somebody put button anot...</td>\n      <td>0</td>\n      <td>0</td>\n    </tr>\n    <tr>\n      <th>4850</th>\n      <td>4850</td>\n      <td>-1</td>\n      <td>Add Language colors for the repositories using...</td>\n      <td>&lt;p&gt;I wanted to display all repositories of a u...</td>\n      <td>javascript|rest|api|github</td>\n      <td>&lt;p&gt;a simple Google search returns several repo...</td>\n      <td>add language color repository use rest api</td>\n      <td>want display repository username use rest api ...</td>\n      <td>javascript rest api github</td>\n      <td>simple google search return several repos data...</td>\n      <td>0</td>\n      <td>0</td>\n    </tr>\n    <tr>\n      <th>3215</th>\n      <td>3215</td>\n      <td>-1</td>\n      <td>My filter app with the following lines of code...</td>\n      <td>&lt;p&gt;I am using a box blur algorithm to create a...</td>\n      <td>c|image|blur|cs50</td>\n      <td>&lt;p&gt;Nasty little typos...&lt;/p&gt;\\n\\n&lt;p&gt;I stripped ...</td>\n      <td>filter app follow line code produce blur effec...</td>\n      <td>use box blur algorithm create blur filter imag...</td>\n      <td>image blur</td>\n      <td>nasty little typo strip line could obviously c...</td>\n      <td>0</td>\n      <td>0</td>\n    </tr>\n    <tr>\n      <th>4621</th>\n      <td>4621</td>\n      <td>-5</td>\n      <td>char* buffer = new vs char buffer[] in C++</td>\n      <td>&lt;pre&gt;&lt;code&gt;1. char* buffer = new char[size]\\n2...</td>\n      <td>c++</td>\n      <td>&lt;pre&gt;&lt;code&gt;char* buffer = new char[size]\\n&lt;/co...</td>\n      <td>char buffer new  char buffer</td>\n      <td>char buffer new charsize char buffersize im ne...</td>\n      <td>NaN</td>\n      <td>char buffer new charsize portable avoid really...</td>\n      <td>0</td>\n      <td>0</td>\n    </tr>\n    <tr>\n      <th>5401</th>\n      <td>5401</td>\n      <td>-1</td>\n      <td>React.js library that does same thing as react...</td>\n      <td>&lt;p&gt;I'm relatively new to react.js &amp;amp; react-...</td>\n      <td>javascript|reactjs|react-native</td>\n      <td>&lt;p&gt;You just haven't asked the internet, But th...</td>\n      <td>react  library thing reactnativerouterflux rea...</td>\n      <td>im relatively new react  amp reactnative wonde...</td>\n      <td>javascript reactjs reactnative</td>\n      <td>ask internet go httpsreacttraining comreactrouter</td>\n      <td>0</td>\n      <td>0</td>\n    </tr>\n    <tr>\n      <th>8906</th>\n      <td>8906</td>\n      <td>-1</td>\n      <td>Program instantly stopping in C?</td>\n      <td>&lt;p&gt;I have written this code:&lt;/p&gt;\\n\\n&lt;pre&gt;&lt;code...</td>\n      <td>c</td>\n      <td>&lt;p&gt;When you run a console application, a termi...</td>\n      <td>program instantly stop</td>\n      <td>write code include ltstdio hgt int main printf...</td>\n      <td>NaN</td>\n      <td>run console application terminal window create...</td>\n      <td>0</td>\n      <td>0</td>\n    </tr>\n    <tr>\n      <th>7501</th>\n      <td>7501</td>\n      <td>-2</td>\n      <td>How to write leap year detection in C?</td>\n      <td>&lt;p&gt;I posted a blog not long ago, but I have an...</td>\n      <td>c</td>\n      <td>&lt;p&gt;You can add the following condition to chec...</td>\n      <td>write leap year detection</td>\n      <td>post blog long ago another question concern pr...</td>\n      <td>NaN</td>\n      <td>add follow condition check day range dd lt amp...</td>\n      <td>0</td>\n      <td>0</td>\n    </tr>\n    <tr>\n      <th>4111</th>\n      <td>4111</td>\n      <td>-1</td>\n      <td>CORS policy error with Java + Spring in an aja...</td>\n      <td>&lt;p&gt;working with Java 11, eclipse, Gradle and s...</td>\n      <td>java|jquery|spring|gradle|cors</td>\n      <td>&lt;p&gt;You can specifically enable CORS for that e...</td>\n      <td>cors policy error java spring ajax query</td>\n      <td>work java eclipse gradle spring ubuntu os post...</td>\n      <td>java jquery spring gradle cors</td>\n      <td>specifically enable cors endpoint use follow c...</td>\n      <td>0</td>\n      <td>0</td>\n    </tr>\n    <tr>\n      <th>8135</th>\n      <td>8135</td>\n      <td>-2</td>\n      <td>Lists to Dictionary</td>\n      <td>&lt;p&gt;I have lists like this&lt;/p&gt;\\n\\n&lt;pre&gt;&lt;code&gt;a ...</td>\n      <td>python-3.x|list|dictionary</td>\n      <td>&lt;pre&gt;&lt;code&gt;models = ['CROXE-1478','CROXE-9087'...</td>\n      <td>list dictionary</td>\n      <td>list like croxecroxecroxe  engineernamedescrip...</td>\n      <td>python  list dictionary</td>\n      <td>model croxecroxecroxe heading engineernamedesc...</td>\n      <td>0</td>\n      <td>0</td>\n    </tr>\n    <tr>\n      <th>8290</th>\n      <td>8290</td>\n      <td>-1</td>\n      <td>I have this very long piece of code that defin...</td>\n      <td>&lt;p&gt;This is what my code is at the moment and I...</td>\n      <td>python|python-3.x|python-3.7</td>\n      <td>&lt;p&gt;You are doing &lt;code&gt;quotes[0]&lt;/code&gt; and so...</td>\n      <td>long piece code defines list use  python work</td>\n      <td>code moment wonder assign list value like im m...</td>\n      <td>python python  python</td>\n      <td>on empty contain index etc use function instea...</td>\n      <td>0</td>\n      <td>0</td>\n    </tr>\n    <tr>\n      <th>761</th>\n      <td>761</td>\n      <td>-1</td>\n      <td>Is there a way to sort objects created through...</td>\n      <td>&lt;p&gt;I have an assignment to create a deck of ca...</td>\n      <td>python|class|sorting</td>\n      <td>&lt;p&gt;You can initialize your Card class as follo...</td>\n      <td>way sort object create class make string integ...</td>\n      <td>assignment create deck card use class method d...</td>\n      <td>python class sort</td>\n      <td>initialize card class follow value jack queen ...</td>\n      <td>0</td>\n      <td>0</td>\n    </tr>\n    <tr>\n      <th>7359</th>\n      <td>7359</td>\n      <td>-5</td>\n      <td>\"undefined\" variables and arguments</td>\n      <td>&lt;p&gt;I'm a student writing my first function, so...</td>\n      <td>c++|function|parameters</td>\n      <td>&lt;p&gt;Let me tell you issues in your code.&lt;/p&gt;\\n\\...</td>\n      <td>undefined variable argument</td>\n      <td>im student write first function im sure obviou...</td>\n      <td>function parameter</td>\n      <td>let tell issue code need tell compiler num num...</td>\n      <td>0</td>\n      <td>0</td>\n    </tr>\n    <tr>\n      <th>7186</th>\n      <td>7186</td>\n      <td>-2</td>\n      <td>Remove element from associative array and reor...</td>\n      <td>&lt;p&gt;for example i have this array ;&lt;/p&gt;\\n\\n&lt;pre...</td>\n      <td>php|associative-array</td>\n      <td>&lt;p&gt;As @PatrickQ comment, all I needed to do is...</td>\n      <td>remove element associative array reorder value</td>\n      <td>example array array gt gt gt gt gt gt gt value...</td>\n      <td>php associativearray</td>\n      <td>patrickq comment need be unset ordresarray cou...</td>\n      <td>0</td>\n      <td>0</td>\n    </tr>\n    <tr>\n      <th>4727</th>\n      <td>4727</td>\n      <td>-2</td>\n      <td>C program to sum the following series: S = 1 +...</td>\n      <td>&lt;p&gt;I am using a nested &lt;code&gt;for&lt;/code&gt; loop t...</td>\n      <td>c|for-loop|nested</td>\n      <td>&lt;p&gt;In the line, &lt;/p&gt;\\n\\n&lt;pre&gt;&lt;code&gt;term = term...</td>\n      <td>program sum follow series</td>\n      <td>use nested loop use solve give problem integer...</td>\n      <td>forloop nest</td>\n      <td>line term term  dont initialize term zero defa...</td>\n      <td>0</td>\n      <td>0</td>\n    </tr>\n    <tr>\n      <th>7219</th>\n      <td>7219</td>\n      <td>-1</td>\n      <td>How to parse multiple JSON values into a strin...</td>\n      <td>&lt;p&gt;I'm making using of the pokeapi to learn ab...</td>\n      <td>c#|json</td>\n      <td>&lt;p&gt;Specific to your &lt;code&gt;JSON&lt;/code&gt; string t...</td>\n      <td>parse multiple json value string array</td>\n      <td>im make use pokeapi learn apis im face issue j...</td>\n      <td>json</td>\n      <td>specific string post refer follow code snippet...</td>\n      <td>0</td>\n      <td>0</td>\n    </tr>\n    <tr>\n      <th>3170</th>\n      <td>3170</td>\n      <td>-2</td>\n      <td>Trying to make an API call and created a .env ...</td>\n      <td>&lt;p&gt;since 'require' is not defined in browsers....</td>\n      <td>javascript|api|environment-variables</td>\n      <td>&lt;p&gt;So this is not common  problem \\nvar config...</td>\n      <td>try make api call create env file also try add...</td>\n      <td>since require define browser therefore use bro...</td>\n      <td>javascript api environmentvariables</td>\n      <td>common problem var config require dotenv confi...</td>\n      <td>0</td>\n      <td>0</td>\n    </tr>\n    <tr>\n      <th>488</th>\n      <td>488</td>\n      <td>-2</td>\n      <td>TypeError: \"Cannot read property 'questions' o...</td>\n      <td>&lt;p&gt;I'm finishing debbuging an App I've built f...</td>\n      <td>javascript|reactjs|ecmascript-6|redux|react-redux</td>\n      <td>&lt;p&gt;I can't explain as to why those people down...</td>\n      <td>typeerror can not read property question undef...</td>\n      <td>im finish debbuging app ive build reactredux c...</td>\n      <td>javascript reactjs ecmascript redux reactredux</td>\n      <td>explain people downvoted question ill try help...</td>\n      <td>0</td>\n      <td>0</td>\n    </tr>\n    <tr>\n      <th>5377</th>\n      <td>5377</td>\n      <td>-2</td>\n      <td>total_1 (local) is assigned before reference</td>\n      <td>&lt;p&gt;Assigned all my global variables.\\nCollege ...</td>\n      <td>python|python-3.x</td>\n      <td>&lt;p&gt;The function will look inside the local sco...</td>\n      <td>total local assign reference</td>\n      <td>assign global variable college task input numb...</td>\n      <td>python python</td>\n      <td>function look inside local scope first find gl...</td>\n      <td>0</td>\n      <td>0</td>\n    </tr>\n    <tr>\n      <th>3537</th>\n      <td>3537</td>\n      <td>-2</td>\n      <td>How to convert List object to string in java</td>\n      <td>&lt;p&gt;Maybe this is a very silly question but I'm...</td>\n      <td>java|string</td>\n      <td>&lt;p&gt;Because &lt;code&gt;myproduct&lt;/code&gt; is &lt;code&gt;Lis...</td>\n      <td>convert list object string java</td>\n      <td>maybe silly question im bang head get string v...</td>\n      <td>java string</td>\n      <td>string value example list fruit name listltstr...</td>\n      <td>0</td>\n      <td>0</td>\n    </tr>\n    <tr>\n      <th>8325</th>\n      <td>8325</td>\n      <td>-1</td>\n      <td>`initialize': wrong number of arguments (given...</td>\n      <td>&lt;pre&gt;&lt;code&gt;class LineAnalyzer\\n\\n @@highest_wf...</td>\n      <td>ruby</td>\n      <td>&lt;p&gt;The issue is in this line&lt;/p&gt;\\n\\n&lt;pre&gt;&lt;code...</td>\n      <td>initialize wrong number argument give expect a...</td>\n      <td>class lineanalyzer highestwfcount highestwfwor...</td>\n      <td>ruby</td>\n      <td>issue line analyzersarray new arr length linea...</td>\n      <td>0</td>\n      <td>0</td>\n    </tr>\n    <tr>\n      <th>8407</th>\n      <td>8407</td>\n      <td>-1</td>\n      <td>Two methods for building and displaying rooms ...</td>\n      <td>&lt;p&gt;I'm very inexperienced and found these two ...</td>\n      <td>python|text</td>\n      <td>&lt;p&gt;From what I understand from your question i...</td>\n      <td>two method build display room text rpg game us...</td>\n      <td>im inexperienced find two method implement roo...</td>\n      <td>python text</td>\n      <td>understand question would like know implementa...</td>\n      <td>0</td>\n      <td>0</td>\n    </tr>\n    <tr>\n      <th>6666</th>\n      <td>6666</td>\n      <td>-2</td>\n      <td>How I compare two picturebox arrays?</td>\n      <td>&lt;p&gt;I've been working on this app for long time...</td>\n      <td>c#|.net</td>\n      <td>&lt;p&gt;If you ever want to tackle this again, I ha...</td>\n      <td>compare two picturebox array</td>\n      <td>ive work app long time flaw like instead use a...</td>\n      <td>net</td>\n      <td>ever want tackle again  class call transparenc...</td>\n      <td>0</td>\n      <td>0</td>\n    </tr>\n    <tr>\n      <th>6997</th>\n      <td>6997</td>\n      <td>-1</td>\n      <td>JPA: how to select data by child ID in OneToMa...</td>\n      <td>&lt;p&gt;I have two models Quality and ExpertsData:&lt;...</td>\n      <td>java|hibernate|jpa|one-to-many|jpql</td>\n      <td>&lt;pre&gt;&lt;code&gt;@Query(value = \"SELECT distinct q F...</td>\n      <td>jpa select data child id onetomany relation</td>\n      <td>two model quality expertsdata entity name qual...</td>\n      <td>java hibernate jpa onetomany jpql</td>\n      <td>query value select distinct  qualitydepartment...</td>\n      <td>0</td>\n      <td>0</td>\n    </tr>\n    <tr>\n      <th>8201</th>\n      <td>8201</td>\n      <td>-2</td>\n      <td>Why isn't this led sequence loop Looping?</td>\n      <td>&lt;p&gt;I have started to learn embedded system, an...</td>\n      <td>c|embedded</td>\n      <td>&lt;pre&gt;&lt;code&gt;int main()\\n{\\n   int i = 0;\\n   in...</td>\n      <td>lead sequence loop loop</td>\n      <td>start learn embed system ask write simple prog...</td>\n      <td>embed</td>\n      <td>int main int int  xff    xgtgt printf  ndxi pr...</td>\n      <td>0</td>\n      <td>0</td>\n    </tr>\n    <tr>\n      <th>8154</th>\n      <td>8154</td>\n      <td>-2</td>\n      <td>How to get Format Date from Input?</td>\n      <td>&lt;p&gt;I have input control for date field. I wish...</td>\n      <td>javascript|jquery</td>\n      <td>&lt;p&gt;Apply HTML:&lt;/p&gt;\\n\\n&lt;pre&gt;&lt;code&gt;&amp;lt;input typ...</td>\n      <td>get format date input</td>\n      <td>input control date field wish date format like...</td>\n      <td>javascript jquery</td>\n      <td>apply html ltinput typetext datavaltrue datava...</td>\n      <td>0</td>\n      <td>0</td>\n    </tr>\n    <tr>\n      <th>4317</th>\n      <td>4317</td>\n      <td>-1</td>\n      <td>Why sometimes toasterService does not show popup?</td>\n      <td>&lt;pre&gt;&lt;code&gt;public constructor(\\n    private to...</td>\n      <td>angular|angular6|angular8|angular2-toaster</td>\n      <td>&lt;p&gt;It could be due to Angular lifecycle digest...</td>\n      <td>sometimes toasterservice show popup</td>\n      <td>public constructor private toasterservice toas...</td>\n      <td>angular angular angular angulartoaster</td>\n      <td>could due angular lifecycle digest try add cod...</td>\n      <td>0</td>\n      <td>0</td>\n    </tr>\n    <tr>\n      <th>7424</th>\n      <td>7424</td>\n      <td>-3</td>\n      <td>Java, reading the file from input.txt has an i...</td>\n      <td>&lt;p&gt;I am working on the project. For my purpose...</td>\n      <td>java</td>\n      <td>&lt;pre&gt;&lt;code&gt;    int read_line = 0;\\n    int rea...</td>\n      <td>java read file input txt issue</td>\n      <td>work project purpose need use find median medi...</td>\n      <td>java</td>\n      <td>int readline int readline try string word file...</td>\n      <td>0</td>\n      <td>0</td>\n    </tr>\n  </tbody>\n</table>\n</div>"
     },
     "metadata": {},
     "execution_count": 147
    }
   ],
   "source": [
    "# Examining if correctly predicted bad answers tend to have negative scores\n",
    "df_test_new = df_test[(df_test['score_cat'] == 0) & \n",
    "          (df_test['predicted_score_cat'] == 0)] \n",
    "\n",
    "df_test_new.head(30)"
   ]
  },
  {
   "cell_type": "code",
   "execution_count": 134,
   "metadata": {},
   "outputs": [
    {
     "output_type": "execute_result",
     "data": {
      "text/plain": "ferent records in one...   \n1025        1025     -1  Read CSV from variable using CsvHelper (or sim...   \n266          266     -1  How to find a specific type of a derived compo...   \n8166        8166     -3  Typecasting with unsigned and assignment to va...   \n5457        5457     -1  Check if current date is between 2 dates in MySQL   \n9651        9651     -1  If exists is not printing pseudo values in SQL...   \n544          544     -1              ffmpeg screen recording in background   \n8751        8751     -1  Select rows based on same conditions across mu...   \n7934        7934     -2  Why does my add like method return \"cannot rea...   \n2978        2978     -1                      What is the %d value of char?   \n1675        1675     -1  Reduce select size: size adjust to filter options   \n1842        1842     -3  Splitting a string on a new line into seperate...   \n6591        6591     -3  Working with Slices and Golang sync.Map Structure   \n69            69     -2  Fetch data from Oracle Database on hourly and ...   \n3564        3564     -1     How to enable SSL on domain without subdomain?   \n7512        7512     -1  forEach works at getElementsByName but not for...   \n2795        2795     -1                     Getting null output from Array   \n292          292     -6  Regex-based line deletion script (JS) not working   \n1954        1954     -1  just started learning python and getting synta...   \n6532        6532     -2  Error in a C program using dynamic memory allo...   \n9286        9286     -1  Can't scroll down to the last item in the List...   \n4577        4577     -1  How to force desktop browser to open in mobile...   \n\n                                          question_text  \\\n1125  <p>I want to do a slideshow like this one : <a...   \n2242  <p>I would like to fill <code>RecyclerView</co...   \n9216  <p>Im using Dymola to model an electrical circ...   \n7330  <p>How to load an <code>HTML</code> content on...   \n3204  <p>I have the data - 2D discrete Fourier trans...   \n1961  <p>I want to take encrypted backup of my exist...   \n7776  <p>I have an array as below.</p>\\n\\n<pre><code...   \n5565  <p>I have the following snippet of code from a...   \n1907  <p>I have tried so many iterations but I dont ...   \n4301  <p>How to build web applications for hyperledg...   \n4297  <p>Take alook at the following idle session:</...   \n1297  <p>where is the mistake?</p>\\n\\n<p>I need it t...   \n9492  <p>I'm pretty new to R. I'm trying to calculat...   \n2531  <p>I want to test if user enter incorrect file...   \n88    <p>I have a smarty template, in it there is a ...   \n6014  <p>I have a python app that builds a dataset f...   \n9342  <p>I want to log query and get it's sql so I t...   \n2461  <p>I' am searching for a way to compose functi...   \n7903  <p>I have one table with this content(There ar...   \n1025  <p>I've got a function that makes something eq...   \n266   <p>I dont know if it's possible or not, but i ...   \n8166  <p>Signed integer is assigned to an unsigned i...   \n5457  <p>I have a contract table in my database and ...   \n9651  <p>I am using a simple <code>if exists</code> ...   \n544   <p>I would like to record my screen with ffmpe...   \n8751  <p>I am working with Python 3.7, and I am tryi...   \n7934  <p>I wrote a method to handle adding a \"like\" ...   \n2978  <p>Can someone explain the result of this? Ple...   \n1675  <p>I have a simple problem I do not know how t...   \n1842  <p>so I have a variable id that outputs </p>\\n...   \n6591  <p>In order to debug some concurrency issues, ...   \n69    <p>I have written query to get data for a part...   \n3564  <p>I have a rails app and am using Heroku. I h...   \n7512  <p>Can somebody help me why this works:</p>\\n\\...   \n2795  <p>I'm trying to print an Array filled with so...   \n292   <p>I have an script that reads the file and co...   \n1954  <p>I am new to python and trying a simple exam...   \n6532  <p>Programming in C for finding maximum in 2D ...   \n9286  <p>I have a <code>ListView</code> using custom...   \n4577  <p>Is there a way that i can force google chro...   \n\n                                                   tags  \\\n1125                      javascript|html|css|slideshow   \n2242                           java|android|json|kotlin   \n9216                                    modelica|dymola   \n7330                                    javascript|html   \n3204                                   c++|qt|heightmap   \n1961                             encryption|db2|db2-luw   \n7776                                         php|arrays   \n5565                                 list|dictionary|go   \n1907                                           html|css   \n4301                web-applications|hyperledger-fabric   \n4297                                    python|datetime   \n1297                         php|html|css|mysql|laravel   \n9492                         r|statistics|data-analysis   \n2531                                                php   \n88                                           php|smarty   \n6014                                             gcloud   \n9342                      laravel|laravel-5|laravel-5.8   \n2461        python|functional-programming|compose|toolz   \n7903                                       mysql|record   \n1025                              c#|.net|csv|csvhelper   \n266                                          c++|vector   \n8166                          c|casting|unsigned|signed   \n5457                            mysql|stored-procedures   \n9651  sql-server-2008|stored-procedures|sql-server-2012   \n544                           video|ffmpeg|azure-devops   \n8751                            python|pandas|dataframe   \n7934                                 javascript|reactjs   \n2978                                                  c   \n1675                                    html|css|select   \n1842                                               java   \n6591      go|concurrency|mutex|race-condition|goroutine   \n69                     sql|oracle|date|timestamp|format   \n3564                                            ssl|dns   \n7512                                         javascript   \n2795                                               java   \n292                            javascript|node.js|regex   \n1954                                         python-3.x   \n6532                                           c|ubuntu   \n9286                            android|listview|scroll   \n4577                           javascript|html|viewport   \n\n                                            answer_text  \\\n1125  <p>I recommend you to use the <a href=\"https:/...   \n2242  <p>You should do step by step as below or watc...   \n9216  <p>As Matti already mentioned, please use inli...   \n7330  <p>For a smooth transition:</p>\\n\\n<pre><code>...   \n3204  <p><code>QHeightMapSurfaceDataProxy</code>'s c...   \n1961  <p>DB2 encryption feature is introduced in 10....   \n7776  <p>This should get it all in one array as you ...   \n5565  <p>I assume the <code>res</code> object are th...   \n1907  <p>I fix it adding height:calc(100% - 42px); t...   \n4301  <p>Hyperledger fabric is a distributed Blockch...   \n4297  <p>You're specifying time in 12-hr format, so ...   \n1297  <p>So let's assume you have something like thi...   \n9492  <p>Here is a way by first creating a <code>Dat...   \n2531  <p>You need to validate your incoming data <em...   \n88    <p>To get the array var_dump, just:</p>\\n\\n<pr...   \n6014  <p>The use of a <a href=\"https://cloud.google....   \n9342  <p>Please first enable query log using below c...   \n2461  <p>You're looking for <code>functools.partial<...   \n7903  <p>Your table design is a mess. If you can cha...   \n1025  <p>You could use <code>StringReader</code>. Th...   \n266   <p>The answer depends on whether you want simp...   \n8166  <p>What you are missing here is the implicit t...   \n5457  <p>Thanks to <a href=\"https://stackoverflow.co...   \n9651  <p>I did it myself, but Big thanks for your an...   \n544   <ul>\\n<li><p>pipelines are the overall definit...   \n8751  <p>Try assigning both the variable separately ...   \n7934  <p>You can code defensively against potentiall...   \n2978  <pre><code>char i=240\\n</code></pre>\\n\\n<p>Ove...   \n1675  <p>Could you disable the second select box so ...   \n1842  <p>Assuming your file contains integer element...   \n6591  <p><code>sync_map.Load</code> returns an <code...   \n69    <p>I assume you want a summary by hour and not...   \n3564  <p>Personally I would redirect www to the 'nak...   \n7512  <p>Try </p>\\n\\n<p><code>Array.from(quantity).f...   \n2795  <pre><code>public Objetos (String nombre, int ...   \n292   <p>First, if the error is \"no such file or dir...   \n1954  <p>The issue is your else statment is indented...   \n6532  <p>You must learn the algorithms and programmi...   \n9286          <p>Set layout_height match_constraint</p>   \n4577  <p>If you only want to take a look of your pro...   \n\n                                   question_title_clean  \\\n1125                                  slideshow html cs   \n2242                android read json sampledata folder   \n9216                             event operator noevent   \n7330                       load content touch mouseover   \n3204  create heightmap qheightmapsurfacedataproxy  a...   \n1961                      db database backup encryption   \n7776                      get substring value key array   \n5565                                      map slice map   \n1907                             bottom site cut scroll   \n4301                 hyperledger fabric web application   \n4297          python improperly convert datetime string   \n1297  query sorted letter without like laravel call ...   \n9492                      calculate mean column factor    \n2531                            fix else statement work   \n88                  display smarty variable information   \n6014    best way deploy longrunning highcompute app gcp   \n9342           dbenablequerylog return undifiend method   \n2461               pas extra parameter compose function   \n7903    get two field different record one record mysql   \n1025    read csv variable use csvhelper similar library   \n266   find specific type derive component inside vec...   \n8166  typecast unsigned assignment variable differen...   \n5457                      check current date date mysql   \n9651  exists print pseudo value sql server store pro...   \n544                     ffmpeg screen record background   \n8751  select row base condition across multiple pand...   \n7934  add like method return can not read property u...   \n2978                                         value char   \n1675       reduce select size size adjust filter option   \n1842            split string new line seperate variable   \n6591               work slice golang sync map structure   \n69    fetch data oracle database hourly daily basis ...   \n3564                enable ssl domain without subdomain   \n7512  foreach work getelementsbyname getelementsbycl...   \n2795                              get null output array   \n292               regexbased line deletion script  work   \n1954  start learn python get syntax error else state...   \n6532  error  program use dynamic memory allocation a...   \n9286                          scroll last item listview   \n4577             force desktop browser open mobile mode   \n\n                                    question_text_clean  \\\n1125  want slideshow like one httpswww inextenso dig...   \n2242  would like fill custom file stay sampledata fo...   \n9216  im use dymola model electrical circuit simulat...   \n7330  load content mouseover help javascript example...   \n3204  data  discrete fourier transform result want g...   \n1961  want take encrypt backup exist database encryp...   \n7776  array as array array gt name sip gt status arr...   \n5565  follow snippet code function return http respo...   \n1907  try many iteration dont know change toppx kont...   \n4301  build web application hyperledger fabric netwo...   \n4297  take alook follow idle session gtgtgt datetime...   \n1297  mistake need organize alphabetical order show ...   \n9492  im pretty new  im try calculate daily mean col...   \n2531  want test user enter incorrect file number ic ...   \n88    smarty template div add variable it ltdiv idli...   \n6014  python app build dataset machine learn task gc...   \n9342  want log query get sql try dbenablequeylog aut...   \n2461   search way compose function option pas extra ...   \n7903  one table content field relevant transaction p...   \n1025  ive get function make something equivalent web...   \n266   dont know possible not would like know let say...   \n8166  sign integer assign unsigned integer behaviour...   \n5457  contract table database contract start date en...   \n9651  use simple statement store procedure output pr...   \n544   would like record screen ffmpeg automation wor...   \n8751  work python try select row multiple panda data...   \n7934  write method handle add like click suppose tog...   \n2978  someone explain result this please explain ste...   \n1675  simple problem know manage simple select recei...   \n1842  variable id output want grab first number add ...   \n6591  order debug concurrency issue process switch p...   \n69    write query get data particular day need query...   \n3564  rail app use heroku ssl enable work fine howev...   \n7512  somebody help work var quantity document getel...   \n2795  im try print array fill object im get null out...   \n292   script read file compare string pattern return...   \n1954  new python try simple example get syntax error...   \n6532  program  find maximum  array use dynamic memor...   \n9286  use custom class name extend class row display...   \n4577  way force google chrome pc open web project mo...   \n\n                                        tags_clean  \\\n1125                  javascript html cs slideshow   \n2242                      java android json kotlin   \n9216                               modelica dymola   \n7330                               javascript html   \n3204                                  qt heightmap   \n1961                           encryption db dbluw   \n7776                                     php array   \n5565                            list dictionary go   \n1907                                       html cs   \n4301             webapplications hyperledgerfabric   \n4297                               python datetime   \n1297                     php html cs mysql laravel   \n9492                        statistic dataanalysis   \n2531                                           php   \n88                                      php smarty   \n6014                                        gcloud   \n9342                       laravel laravel laravel   \n2461    python functionalprogramming compose toolz   \n7903                                  mysql record   \n1025                             net csv csvhelper   \n266                                         vector   \n8166                            cast unsigned sign   \n5457                        mysql storedprocedures   \n9651          sqlserver storedprocedures sqlserver   \n544                       video ffmpeg azuredevops   \n8751                        python panda dataframe   \n7934                            javascript reactjs   \n2978                                           NaN   \n1675                                html cs select   \n1842                                          java   \n6591  go concurrency mutex racecondition goroutine   \n69                sql oracle date timestamp format   \n3564                                       ssl dns   \n7512                                    javascript   \n2795                                          java   \n292                         javascript node  regex   \n1954                                       python    \n6532                                        ubuntu   \n9286                       android listview scroll   \n4577                      javascript html viewport   \n\n                                      answer_text_clean  predicted_score_cat  \\\n1125  recommend use slick library work jquery allow ...                    2   \n2242  step step watch tutorial use kotlin language c...                    2   \n9216  matti already mention please use inline code t...                    2   \n7330  smooth transition mydiv opacity transition opa...                    2   \n3204   constructor take image image file argument ne...                    2   \n1961           db encryption feature introduce fix pack                    2   \n7776  get one array request newarray foreach as inne...                    2   \n5565  assume object slicearray value item map someth...                    2   \n1907       fix add heightcalc px kontenerauto look nice                    2   \n4301  hyperledger fabric distribute blockchain syste...                    2   \n4297  specify time hr format  lambda  datetime strpt...                    2   \n1297  let assume something like return user index me...                    2   \n9492  way first create column call need set time dfd...                    2   \n2531  need validate incoming data insert db look lik...                    2   \n88                 get array vardump just reply vardump                    2   \n6014  use startup script seem good fit bill compare ...                    2   \n9342  please first enable query log use code dbconne...                    2   \n2461             look composeleft functools partial                        2   \n7903  table design mess change would split table thr...                    2   \n1025  could use constructor take argument rather str...                    2   \n266   answer depend whether want simple solution eff...                    2   \n8166  miss implicit type conversion due integer prom...                    2   \n5457  thanks riggsfolly find solution update contrac...                    2   \n9651  myself big thanks answer create procedure test...                    2   \n544   pipeline overall definition ci cd process cont...                    2   \n8751  try assign variable separately ie newdf df loc...                    2   \n7934  code defensively potentially miss property pos...                    2   \n2978  char  overflow bit sign range convert negative...                    2   \n1675  could disable second select box select first d...                    2   \n1842  assume file contains integer element separate ...                    2   \n6591  return thats reason get first error use type a...                    2   \n69    assume want summary hour application so hour s...                    2   \n3564  personally would redirect www naked domain ens...                    2   \n7512  try document getelementsbyname return nodelist...                    2   \n2795  public objetos string nombre int adicion adici...                    2   \n292   first error no file directory file exist pleas...                    2   \n1954  issue else statment indent far python defines ...                    2   \n6532  must learn algorithms program language  find c...                    2   \n9286                   set layoutheight matchconstraint                    2   \n4577  want take look project mobile view would simpl...                    2   \n\n      score_cat  \n1125          0  \n2242          0  \n9216          0  \n7330          0  \n3204          0  \n1961          0  \n7776          0  \n5565          0  \n1907          0  \n4301          0  \n4297          0  \n1297          0  \n9492          0  \n2531          0  \n88            0  \n6014          0  \n9342          0  \n2461          0  \n7903          0  \n1025          0  \n266           0  \n8166          0  \n5457          0  \n9651          0  \n544           0  \n8751          0  \n7934          0  \n2978          0  \n1675          0  \n1842          0  \n6591          0  \n69            0  \n3564          0  \n7512          0  \n2795          0  \n292           0  \n1954          0  \n6532          0  \n9286          0  \n4577          0  ",
      "text/html": "<div>\n<style scoped>\n    .dataframe tbody tr th:only-of-type {\n        vertical-align: middle;\n    }\n\n    .dataframe tbody tr th {\n        vertical-align: top;\n    }\n\n    .dataframe thead th {\n        text-align: right;\n    }\n</style>\n<table border=\"1\" class=\"dataframe\">\n  <thead>\n    <tr style=\"text-align: right;\">\n      <th></th>\n      <th>Unnamed: 0</th>\n      <th>score</th>\n      <th>question_title</th>\n      <th>question_text</th>\n      <th>tags</th>\n      <th>answer_text</th>\n      <th>question_title_clean</th>\n      <th>question_text_clean</th>\n      <th>tags_clean</th>\n      <th>answer_text_clean</th>\n      <th>predicted_score_cat</th>\n      <th>score_cat</th>\n    </tr>\n  </thead>\n  <tbody>\n    <tr>\n      <th>1125</th>\n      <td>1125</td>\n      <td>-2</td>\n      <td>How to do a slideshow in HTML CSS</td>\n      <td>&lt;p&gt;I want to do a slideshow like this one : &lt;a...</td>\n      <td>javascript|html|css|slideshow</td>\n      <td>&lt;p&gt;I recommend you to use the &lt;a href=\"https:/...</td>\n      <td>slideshow html cs</td>\n      <td>want slideshow like one httpswww inextenso dig...</td>\n      <td>javascript html cs slideshow</td>\n      <td>recommend use slick library work jquery allow ...</td>\n      <td>2</td>\n      <td>0</td>\n    </tr>\n    <tr>\n      <th>2242</th>\n      <td>2242</td>\n      <td>-1</td>\n      <td>Android: Reading json from sampledata folder</td>\n      <td>&lt;p&gt;I would like to fill &lt;code&gt;RecyclerView&lt;/co...</td>\n      <td>java|android|json|kotlin</td>\n      <td>&lt;p&gt;You should do step by step as below or watc...</td>\n      <td>android read json sampledata folder</td>\n      <td>would like fill custom file stay sampledata fo...</td>\n      <td>java android json kotlin</td>\n      <td>step step watch tutorial use kotlin language c...</td>\n      <td>2</td>\n      <td>0</td>\n    </tr>\n    <tr>\n      <th>9216</th>\n      <td>9216</td>\n      <td>-4</td>\n      <td>Events operators : noEvent</td>\n      <td>&lt;p&gt;Im using Dymola to model an electrical circ...</td>\n      <td>modelica|dymola</td>\n      <td>&lt;p&gt;As Matti already mentioned, please use inli...</td>\n      <td>event operator noevent</td>\n      <td>im use dymola model electrical circuit simulat...</td>\n      <td>modelica dymola</td>\n      <td>matti already mention please use inline code t...</td>\n      <td>2</td>\n      <td>0</td>\n    </tr>\n    <tr>\n      <th>7330</th>\n      <td>7330</td>\n      <td>-2</td>\n      <td>How to load content on touches or mouseover?</td>\n      <td>&lt;p&gt;How to load an &lt;code&gt;HTML&lt;/code&gt; content on...</td>\n      <td>javascript|html</td>\n      <td>&lt;p&gt;For a smooth transition:&lt;/p&gt;\\n\\n&lt;pre&gt;&lt;code&gt;...</td>\n      <td>load content touch mouseover</td>\n      <td>load content mouseover help javascript example...</td>\n      <td>javascript html</td>\n      <td>smooth transition mydiv opacity transition opa...</td>\n      <td>2</td>\n      <td>0</td>\n    </tr>\n    <tr>\n      <th>3204</th>\n      <td>3204</td>\n      <td>-1</td>\n      <td>How can I create heightmap for QHeightMapSurfa...</td>\n      <td>&lt;p&gt;I have the data - 2D discrete Fourier trans...</td>\n      <td>c++|qt|heightmap</td>\n      <td>&lt;p&gt;&lt;code&gt;QHeightMapSurfaceDataProxy&lt;/code&gt;'s c...</td>\n      <td>create heightmap qheightmapsurfacedataproxy  a...</td>\n      <td>data  discrete fourier transform result want g...</td>\n      <td>qt heightmap</td>\n      <td>constructor take image image file argument ne...</td>\n      <td>2</td>\n      <td>0</td>\n    </tr>\n    <tr>\n      <th>1961</th>\n      <td>1961</td>\n      <td>-1</td>\n      <td>DB2 database backup encryption</td>\n      <td>&lt;p&gt;I want to take encrypted backup of my exist...</td>\n      <td>encryption|db2|db2-luw</td>\n      <td>&lt;p&gt;DB2 encryption feature is introduced in 10....</td>\n      <td>db database backup encryption</td>\n      <td>want take encrypt backup exist database encryp...</td>\n      <td>encryption db dbluw</td>\n      <td>db encryption feature introduce fix pack</td>\n      <td>2</td>\n      <td>0</td>\n    </tr>\n    <tr>\n      <th>7776</th>\n      <td>7776</td>\n      <td>-1</td>\n      <td>Get Substring from Value as key in an array</td>\n      <td>&lt;p&gt;I have an array as below.&lt;/p&gt;\\n\\n&lt;pre&gt;&lt;code...</td>\n      <td>php|arrays</td>\n      <td>&lt;p&gt;This should get it all in one array as you ...</td>\n      <td>get substring value key array</td>\n      <td>array as array array gt name sip gt status arr...</td>\n      <td>php array</td>\n      <td>get one array request newarray foreach as inne...</td>\n      <td>2</td>\n      <td>0</td>\n    </tr>\n    <tr>\n      <th>5565</th>\n      <td>5565</td>\n      <td>-4</td>\n      <td>Map of slice of maps</td>\n      <td>&lt;p&gt;I have the following snippet of code from a...</td>\n      <td>list|dictionary|go</td>\n      <td>&lt;p&gt;I assume the &lt;code&gt;res&lt;/code&gt; object are th...</td>\n      <td>map slice map</td>\n      <td>follow snippet code function return http respo...</td>\n      <td>list dictionary go</td>\n      <td>assume object slicearray value item map someth...</td>\n      <td>2</td>\n      <td>0</td>\n    </tr>\n    <tr>\n      <th>1907</th>\n      <td>1907</td>\n      <td>-1</td>\n      <td>Bottom off the site is cut off when scroll is up</td>\n      <td>&lt;p&gt;I have tried so many iterations but I dont ...</td>\n      <td>html|css</td>\n      <td>&lt;p&gt;I fix it adding height:calc(100% - 42px); t...</td>\n      <td>bottom site cut scroll</td>\n      <td>try many iteration dont know change toppx kont...</td>\n      <td>html cs</td>\n      <td>fix add heightcalc px kontenerauto look nice</td>\n      <td>2</td>\n      <td>0</td>\n    </tr>\n    <tr>\n      <th>4301</th>\n      <td>4301</td>\n      <td>-1</td>\n      <td>Hyperledger fabric web application</td>\n      <td>&lt;p&gt;How to build web applications for hyperledg...</td>\n      <td>web-applications|hyperledger-fabric</td>\n      <td>&lt;p&gt;Hyperledger fabric is a distributed Blockch...</td>\n      <td>hyperledger fabric web application</td>\n      <td>build web application hyperledger fabric netwo...</td>\n      <td>webapplications hyperledgerfabric</td>\n      <td>hyperledger fabric distribute blockchain syste...</td>\n      <td>2</td>\n      <td>0</td>\n    </tr>\n    <tr>\n      <th>4297</th>\n      <td>4297</td>\n      <td>-1</td>\n      <td>Why is python improperly converting these date...</td>\n      <td>&lt;p&gt;Take alook at the following idle session:&lt;/...</td>\n      <td>python|datetime</td>\n      <td>&lt;p&gt;You're specifying time in 12-hr format, so ...</td>\n      <td>python improperly convert datetime string</td>\n      <td>take alook follow idle session gtgtgt datetime...</td>\n      <td>python datetime</td>\n      <td>specify time hr format  lambda  datetime strpt...</td>\n      <td>2</td>\n      <td>0</td>\n    </tr>\n    <tr>\n      <th>1297</th>\n      <td>1297</td>\n      <td>-1</td>\n      <td>query sorted by letter without like() - larave...</td>\n      <td>&lt;p&gt;where is the mistake?&lt;/p&gt;\\n\\n&lt;p&gt;I need it t...</td>\n      <td>php|html|css|mysql|laravel</td>\n      <td>&lt;p&gt;So let's assume you have something like thi...</td>\n      <td>query sorted letter without like laravel call ...</td>\n      <td>mistake need organize alphabetical order show ...</td>\n      <td>php html cs mysql laravel</td>\n      <td>let assume something like return user index me...</td>\n      <td>2</td>\n      <td>0</td>\n    </tr>\n    <tr>\n      <th>9492</th>\n      <td>9492</td>\n      <td>-4</td>\n      <td>How do I calculate the mean of a column by a f...</td>\n      <td>&lt;p&gt;I'm pretty new to R. I'm trying to calculat...</td>\n      <td>r|statistics|data-analysis</td>\n      <td>&lt;p&gt;Here is a way by first creating a &lt;code&gt;Dat...</td>\n      <td>calculate mean column factor</td>\n      <td>im pretty new  im try calculate daily mean col...</td>\n      <td>statistic dataanalysis</td>\n      <td>way first create column call need set time dfd...</td>\n      <td>2</td>\n      <td>0</td>\n    </tr>\n    <tr>\n      <th>2531</th>\n      <td>2531</td>\n      <td>-2</td>\n      <td>How I should fix if else statement didn't work</td>\n      <td>&lt;p&gt;I want to test if user enter incorrect file...</td>\n      <td>php</td>\n      <td>&lt;p&gt;You need to validate your incoming data &lt;em...</td>\n      <td>fix else statement work</td>\n      <td>want test user enter incorrect file number ic ...</td>\n      <td>php</td>\n      <td>need validate incoming data insert db look lik...</td>\n      <td>2</td>\n      <td>0</td>\n    </tr>\n    <tr>\n      <th>88</th>\n      <td>88</td>\n      <td>-1</td>\n      <td>How can I display a smarty variable all inform...</td>\n      <td>&lt;p&gt;I have a smarty template, in it there is a ...</td>\n      <td>php|smarty</td>\n      <td>&lt;p&gt;To get the array var_dump, just:&lt;/p&gt;\\n\\n&lt;pr...</td>\n      <td>display smarty variable information</td>\n      <td>smarty template div add variable it ltdiv idli...</td>\n      <td>php smarty</td>\n      <td>get array vardump just reply vardump</td>\n      <td>2</td>\n      <td>0</td>\n    </tr>\n    <tr>\n      <th>6014</th>\n      <td>6014</td>\n      <td>-1</td>\n      <td>Best way to deploy long-running high-compute a...</td>\n      <td>&lt;p&gt;I have a python app that builds a dataset f...</td>\n      <td>gcloud</td>\n      <td>&lt;p&gt;The use of a &lt;a href=\"https://cloud.google....</td>\n      <td>best way deploy longrunning highcompute app gcp</td>\n      <td>python app build dataset machine learn task gc...</td>\n      <td>gcloud</td>\n      <td>use startup script seem good fit bill compare ...</td>\n      <td>2</td>\n      <td>0</td>\n    </tr>\n    <tr>\n      <th>9342</th>\n      <td>9342</td>\n      <td>-1</td>\n      <td>DB::enableQueryLog() return undifiend method</td>\n      <td>&lt;p&gt;I want to log query and get it's sql so I t...</td>\n      <td>laravel|laravel-5|laravel-5.8</td>\n      <td>&lt;p&gt;Please first enable query log using below c...</td>\n      <td>dbenablequerylog return undifiend method</td>\n      <td>want log query get sql try dbenablequeylog aut...</td>\n      <td>laravel laravel laravel</td>\n      <td>please first enable query log use code dbconne...</td>\n      <td>2</td>\n      <td>0</td>\n    </tr>\n    <tr>\n      <th>2461</th>\n      <td>2461</td>\n      <td>-2</td>\n      <td>How to pass \"extra\" parameter to compose function</td>\n      <td>&lt;p&gt;I' am searching for a way to compose functi...</td>\n      <td>python|functional-programming|compose|toolz</td>\n      <td>&lt;p&gt;You're looking for &lt;code&gt;functools.partial&lt;...</td>\n      <td>pas extra parameter compose function</td>\n      <td>search way compose function option pas extra ...</td>\n      <td>python functionalprogramming compose toolz</td>\n      <td>look composeleft functools partial</td>\n      <td>2</td>\n      <td>0</td>\n    </tr>\n    <tr>\n      <th>7903</th>\n      <td>7903</td>\n      <td>-1</td>\n      <td>How get two fields of different records in one...</td>\n      <td>&lt;p&gt;I have one table with this content(There ar...</td>\n      <td>mysql|record</td>\n      <td>&lt;p&gt;Your table design is a mess. If you can cha...</td>\n      <td>get two field different record one record mysql</td>\n      <td>one table content field relevant transaction p...</td>\n      <td>mysql record</td>\n      <td>table design mess change would split table thr...</td>\n      <td>2</td>\n      <td>0</td>\n    </tr>\n    <tr>\n      <th>1025</th>\n      <td>1025</td>\n      <td>-1</td>\n      <td>Read CSV from variable using CsvHelper (or sim...</td>\n      <td>&lt;p&gt;I've got a function that makes something eq...</td>\n      <td>c#|.net|csv|csvhelper</td>\n      <td>&lt;p&gt;You could use &lt;code&gt;StringReader&lt;/code&gt;. Th...</td>\n      <td>read csv variable use csvhelper similar library</td>\n      <td>ive get function make something equivalent web...</td>\n      <td>net csv csvhelper</td>\n      <td>could use constructor take argument rather str...</td>\n      <td>2</td>\n      <td>0</td>\n    </tr>\n    <tr>\n      <th>266</th>\n      <td>266</td>\n      <td>-1</td>\n      <td>How to find a specific type of a derived compo...</td>\n      <td>&lt;p&gt;I dont know if it's possible or not, but i ...</td>\n      <td>c++|vector</td>\n      <td>&lt;p&gt;The answer depends on whether you want simp...</td>\n      <td>find specific type derive component inside vec...</td>\n      <td>dont know possible not would like know let say...</td>\n      <td>vector</td>\n      <td>answer depend whether want simple solution eff...</td>\n      <td>2</td>\n      <td>0</td>\n    </tr>\n    <tr>\n      <th>8166</th>\n      <td>8166</td>\n      <td>-3</td>\n      <td>Typecasting with unsigned and assignment to va...</td>\n      <td>&lt;p&gt;Signed integer is assigned to an unsigned i...</td>\n      <td>c|casting|unsigned|signed</td>\n      <td>&lt;p&gt;What you are missing here is the implicit t...</td>\n      <td>typecast unsigned assignment variable differen...</td>\n      <td>sign integer assign unsigned integer behaviour...</td>\n      <td>cast unsigned sign</td>\n      <td>miss implicit type conversion due integer prom...</td>\n      <td>2</td>\n      <td>0</td>\n    </tr>\n    <tr>\n      <th>5457</th>\n      <td>5457</td>\n      <td>-1</td>\n      <td>Check if current date is between 2 dates in MySQL</td>\n      <td>&lt;p&gt;I have a contract table in my database and ...</td>\n      <td>mysql|stored-procedures</td>\n      <td>&lt;p&gt;Thanks to &lt;a href=\"https://stackoverflow.co...</td>\n      <td>check current date date mysql</td>\n      <td>contract table database contract start date en...</td>\n      <td>mysql storedprocedures</td>\n      <td>thanks riggsfolly find solution update contrac...</td>\n      <td>2</td>\n      <td>0</td>\n    </tr>\n    <tr>\n      <th>9651</th>\n      <td>9651</td>\n      <td>-1</td>\n      <td>If exists is not printing pseudo values in SQL...</td>\n      <td>&lt;p&gt;I am using a simple &lt;code&gt;if exists&lt;/code&gt; ...</td>\n      <td>sql-server-2008|stored-procedures|sql-server-2012</td>\n      <td>&lt;p&gt;I did it myself, but Big thanks for your an...</td>\n      <td>exists print pseudo value sql server store pro...</td>\n      <td>use simple statement store procedure output pr...</td>\n      <td>sqlserver storedprocedures sqlserver</td>\n      <td>myself big thanks answer create procedure test...</td>\n      <td>2</td>\n      <td>0</td>\n    </tr>\n    <tr>\n      <th>544</th>\n      <td>544</td>\n      <td>-1</td>\n      <td>ffmpeg screen recording in background</td>\n      <td>&lt;p&gt;I would like to record my screen with ffmpe...</td>\n      <td>video|ffmpeg|azure-devops</td>\n      <td>&lt;ul&gt;\\n&lt;li&gt;&lt;p&gt;pipelines are the overall definit...</td>\n      <td>ffmpeg screen record background</td>\n      <td>would like record screen ffmpeg automation wor...</td>\n      <td>video ffmpeg azuredevops</td>\n      <td>pipeline overall definition ci cd process cont...</td>\n      <td>2</td>\n      <td>0</td>\n    </tr>\n    <tr>\n      <th>8751</th>\n      <td>8751</td>\n      <td>-1</td>\n      <td>Select rows based on same conditions across mu...</td>\n      <td>&lt;p&gt;I am working with Python 3.7, and I am tryi...</td>\n      <td>python|pandas|dataframe</td>\n      <td>&lt;p&gt;Try assigning both the variable separately ...</td>\n      <td>select row base condition across multiple pand...</td>\n      <td>work python try select row multiple panda data...</td>\n      <td>python panda dataframe</td>\n      <td>try assign variable separately ie newdf df loc...</td>\n      <td>2</td>\n      <td>0</td>\n    </tr>\n    <tr>\n      <th>7934</th>\n      <td>7934</td>\n      <td>-2</td>\n      <td>Why does my add like method return \"cannot rea...</td>\n      <td>&lt;p&gt;I wrote a method to handle adding a \"like\" ...</td>\n      <td>javascript|reactjs</td>\n      <td>&lt;p&gt;You can code defensively against potentiall...</td>\n      <td>add like method return can not read property u...</td>\n      <td>write method handle add like click suppose tog...</td>\n      <td>javascript reactjs</td>\n      <td>code defensively potentially miss property pos...</td>\n      <td>2</td>\n      <td>0</td>\n    </tr>\n    <tr>\n      <th>2978</th>\n      <td>2978</td>\n      <td>-1</td>\n      <td>What is the %d value of char?</td>\n      <td>&lt;p&gt;Can someone explain the result of this? Ple...</td>\n      <td>c</td>\n      <td>&lt;pre&gt;&lt;code&gt;char i=240\\n&lt;/code&gt;&lt;/pre&gt;\\n\\n&lt;p&gt;Ove...</td>\n      <td>value char</td>\n      <td>someone explain result this please explain ste...</td>\n      <td>NaN</td>\n      <td>char  overflow bit sign range convert negative...</td>\n      <td>2</td>\n      <td>0</td>\n    </tr>\n    <tr>\n      <th>1675</th>\n      <td>1675</td>\n      <td>-1</td>\n      <td>Reduce select size: size adjust to filter options</td>\n      <td>&lt;p&gt;I have a simple problem I do not know how t...</td>\n      <td>html|css|select</td>\n      <td>&lt;p&gt;Could you disable the second select box so ...</td>\n      <td>reduce select size size adjust filter option</td>\n      <td>simple problem know manage simple select recei...</td>\n      <td>html cs select</td>\n      <td>could disable second select box select first d...</td>\n      <td>2</td>\n      <td>0</td>\n    </tr>\n    <tr>\n      <th>1842</th>\n      <td>1842</td>\n      <td>-3</td>\n      <td>Splitting a string on a new line into seperate...</td>\n      <td>&lt;p&gt;so I have a variable id that outputs &lt;/p&gt;\\n...</td>\n      <td>java</td>\n      <td>&lt;p&gt;Assuming your file contains integer element...</td>\n      <td>split string new line seperate variable</td>\n      <td>variable id output want grab first number add ...</td>\n      <td>java</td>\n      <td>assume file contains integer element separate ...</td>\n      <td>2</td>\n      <td>0</td>\n    </tr>\n    <tr>\n      <th>6591</th>\n      <td>6591</td>\n      <td>-3</td>\n      <td>Working with Slices and Golang sync.Map Structure</td>\n      <td>&lt;p&gt;In order to debug some concurrency issues, ...</td>\n      <td>go|concurrency|mutex|race-condition|goroutine</td>\n      <td>&lt;p&gt;&lt;code&gt;sync_map.Load&lt;/code&gt; returns an &lt;code...</td>\n      <td>work slice golang sync map structure</td>\n      <td>order debug concurrency issue process switch p...</td>\n      <td>go concurrency mutex racecondition goroutine</td>\n      <td>return thats reason get first error use type a...</td>\n      <td>2</td>\n      <td>0</td>\n    </tr>\n    <tr>\n      <th>69</th>\n      <td>69</td>\n      <td>-2</td>\n      <td>Fetch data from Oracle Database on hourly and ...</td>\n      <td>&lt;p&gt;I have written query to get data for a part...</td>\n      <td>sql|oracle|date|timestamp|format</td>\n      <td>&lt;p&gt;I assume you want a summary by hour and not...</td>\n      <td>fetch data oracle database hourly daily basis ...</td>\n      <td>write query get data particular day need query...</td>\n      <td>sql oracle date timestamp format</td>\n      <td>assume want summary hour application so hour s...</td>\n      <td>2</td>\n      <td>0</td>\n    </tr>\n    <tr>\n      <th>3564</th>\n      <td>3564</td>\n      <td>-1</td>\n      <td>How to enable SSL on domain without subdomain?</td>\n      <td>&lt;p&gt;I have a rails app and am using Heroku. I h...</td>\n      <td>ssl|dns</td>\n      <td>&lt;p&gt;Personally I would redirect www to the 'nak...</td>\n      <td>enable ssl domain without subdomain</td>\n      <td>rail app use heroku ssl enable work fine howev...</td>\n      <td>ssl dns</td>\n      <td>personally would redirect www naked domain ens...</td>\n      <td>2</td>\n      <td>0</td>\n    </tr>\n    <tr>\n      <th>7512</th>\n      <td>7512</td>\n      <td>-1</td>\n      <td>forEach works at getElementsByName but not for...</td>\n      <td>&lt;p&gt;Can somebody help me why this works:&lt;/p&gt;\\n\\...</td>\n      <td>javascript</td>\n      <td>&lt;p&gt;Try &lt;/p&gt;\\n\\n&lt;p&gt;&lt;code&gt;Array.from(quantity).f...</td>\n      <td>foreach work getelementsbyname getelementsbycl...</td>\n      <td>somebody help work var quantity document getel...</td>\n      <td>javascript</td>\n      <td>try document getelementsbyname return nodelist...</td>\n      <td>2</td>\n      <td>0</td>\n    </tr>\n    <tr>\n      <th>2795</th>\n      <td>2795</td>\n      <td>-1</td>\n      <td>Getting null output from Array</td>\n      <td>&lt;p&gt;I'm trying to print an Array filled with so...</td>\n      <td>java</td>\n      <td>&lt;pre&gt;&lt;code&gt;public Objetos (String nombre, int ...</td>\n      <td>get null output array</td>\n      <td>im try print array fill object im get null out...</td>\n      <td>java</td>\n      <td>public objetos string nombre int adicion adici...</td>\n      <td>2</td>\n      <td>0</td>\n    </tr>\n    <tr>\n      <th>292</th>\n      <td>292</td>\n      <td>-6</td>\n      <td>Regex-based line deletion script (JS) not working</td>\n      <td>&lt;p&gt;I have an script that reads the file and co...</td>\n      <td>javascript|node.js|regex</td>\n      <td>&lt;p&gt;First, if the error is \"no such file or dir...</td>\n      <td>regexbased line deletion script  work</td>\n      <td>script read file compare string pattern return...</td>\n      <td>javascript node  regex</td>\n      <td>first error no file directory file exist pleas...</td>\n      <td>2</td>\n      <td>0</td>\n    </tr>\n    <tr>\n      <th>1954</th>\n      <td>1954</td>\n      <td>-1</td>\n      <td>just started learning python and getting synta...</td>\n      <td>&lt;p&gt;I am new to python and trying a simple exam...</td>\n      <td>python-3.x</td>\n      <td>&lt;p&gt;The issue is your else statment is indented...</td>\n      <td>start learn python get syntax error else state...</td>\n      <td>new python try simple example get syntax error...</td>\n      <td>python</td>\n      <td>issue else statment indent far python defines ...</td>\n      <td>2</td>\n      <td>0</td>\n    </tr>\n    <tr>\n      <th>6532</th>\n      <td>6532</td>\n      <td>-2</td>\n      <td>Error in a C program using dynamic memory allo...</td>\n      <td>&lt;p&gt;Programming in C for finding maximum in 2D ...</td>\n      <td>c|ubuntu</td>\n      <td>&lt;p&gt;You must learn the algorithms and programmi...</td>\n      <td>error  program use dynamic memory allocation a...</td>\n      <td>program  find maximum  array use dynamic memor...</td>\n      <td>ubuntu</td>\n      <td>must learn algorithms program language  find c...</td>\n      <td>2</td>\n      <td>0</td>\n    </tr>\n    <tr>\n      <th>9286</th>\n      <td>9286</td>\n      <td>-1</td>\n      <td>Can't scroll down to the last item in the List...</td>\n      <td>&lt;p&gt;I have a &lt;code&gt;ListView&lt;/code&gt; using custom...</td>\n      <td>android|listview|scroll</td>\n      <td>&lt;p&gt;Set layout_height match_constraint&lt;/p&gt;</td>\n      <td>scroll last item listview</td>\n      <td>use custom class name extend class row display...</td>\n      <td>android listview scroll</td>\n      <td>set layoutheight matchconstraint</td>\n      <td>2</td>\n      <td>0</td>\n    </tr>\n    <tr>\n      <th>4577</th>\n      <td>4577</td>\n      <td>-1</td>\n      <td>How to force desktop browser to open in mobile...</td>\n      <td>&lt;p&gt;Is there a way that i can force google chro...</td>\n      <td>javascript|html|viewport</td>\n      <td>&lt;p&gt;If you only want to take a look of your pro...</td>\n      <td>force desktop browser open mobile mode</td>\n      <td>way force google chrome pc open web project mo...</td>\n      <td>javascript html viewport</td>\n      <td>want take look project mobile view would simpl...</td>\n      <td>2</td>\n      <td>0</td>\n    </tr>\n  </tbody>\n</table>\n</div>"
     },
     "metadata": {},
     "execution_count": 134
    }
   ],
   "source": [
    "### Selecting rows from df_test based on condition that predicted and actual score diverge by 2\n",
    "divergence_df = df_test[(df_test['predicted_score_cat'] - df_test['score_cat'] == abs(2))]\n",
    "\n",
    "divergence_df.head(40)"
   ]
  },
  {
   "cell_type": "code",
   "execution_count": 148,
   "metadata": {},
   "outputs": [
    {
     "output_type": "execute_result",
     "data": {
      "text/plain": "predicted_score_cat     2\nscore                    \n-22                     1\n-11                     1\n-10                     1\n-8                      4\n-7                      5\n-6                     13\n-5                     47\n-4                    104\n-3                    245\n-2                    655\n-1                   1889",
      "text/html": "<div>\n<style scoped>\n    .dataframe tbody tr th:only-of-type {\n        vertical-align: middle;\n    }\n\n    .dataframe tbody tr th {\n        vertical-align: top;\n    }\n\n    .dataframe thead th {\n        text-align: right;\n    }\n</style>\n<table border=\"1\" class=\"dataframe\">\n  <thead>\n    <tr style=\"text-align: right;\">\n      <th>predicted_score_cat</th>\n      <th>2</th>\n    </tr>\n    <tr>\n      <th>score</th>\n      <th></th>\n    </tr>\n  </thead>\n  <tbody>\n    <tr>\n      <th>-22</th>\n      <td>1</td>\n    </tr>\n    <tr>\n      <th>-11</th>\n      <td>1</td>\n    </tr>\n    <tr>\n      <th>-10</th>\n      <td>1</td>\n    </tr>\n    <tr>\n      <th>-8</th>\n      <td>4</td>\n    </tr>\n    <tr>\n      <th>-7</th>\n      <td>5</td>\n    </tr>\n    <tr>\n      <th>-6</th>\n      <td>13</td>\n    </tr>\n    <tr>\n      <th>-5</th>\n      <td>47</td>\n    </tr>\n    <tr>\n      <th>-4</th>\n      <td>104</td>\n    </tr>\n    <tr>\n      <th>-3</th>\n      <td>245</td>\n    </tr>\n    <tr>\n      <th>-2</th>\n      <td>655</td>\n    </tr>\n    <tr>\n      <th>-1</th>\n      <td>1889</td>\n    </tr>\n  </tbody>\n</table>\n</div>"
     },
     "metadata": {},
     "execution_count": 148
    }
   ],
   "source": [
    "divergence_df.groupby(['score', 'predicted_score_cat']).size().unstack(fill_value=0)"
   ]
  },
  {
   "cell_type": "code",
   "execution_count": 149,
   "metadata": {},
   "outputs": [],
   "source": [
    "### Define the model cross-validation configuration\n",
    "\n",
    "cv = KFold(n_splits=5, shuffle=True, random_state=1)"
   ]
  },
  {
   "cell_type": "code",
   "execution_count": 150,
   "metadata": {},
   "outputs": [
    {
     "output_type": "execute_result",
     "data": {
      "text/plain": "array([0.39533222, 0.40747797, 0.39328252, 0.39042401, 0.41924726])"
     },
     "metadata": {},
     "execution_count": 150
    }
   ],
   "source": [
    "cross_val_score(model_pipeline, X_train, y_train, cv=cv)"
   ]
  },
  {
   "cell_type": "code",
   "execution_count": 156,
   "metadata": {
    "tags": []
   },
   "outputs": [
    {
     "output_type": "stream",
     "name": "stdout",
     "text": "{'classifier__n_estimators': [3000], 'classifier__max_features': ['sqrt'], 'classifier__max_depth': [None], 'classifier__min_samples_split': [1, 2], 'classifier__min_samples_leaf': [1, 2]}\n"
    }
   ],
   "source": [
    "### Create param grid based on results from random grid search\n",
    "\n",
    "param_grid = {'classifier__n_estimators': [3000],\n",
    "               'classifier__max_features': ['sqrt'],\n",
    "               'classifier__max_depth': [None],\n",
    "               'classifier__min_samples_split': [1, 2],\n",
    "               'classifier__min_samples_leaf': [1, 2]}\n",
    "\n",
    "print(param_grid)"
   ]
  },
  {
   "cell_type": "code",
   "execution_count": 157,
   "metadata": {},
   "outputs": [],
   "source": [
    "### Choose best-performing model to tune using GridSearchCV\n",
    "\n",
    "grid_classifier = GridSearchCV(model_pipeline, param_grid = param_grid, cv=cv, iid=False, n_jobs=-1, refit = True)\n",
    "# scoring='roc_auc' --> reincorporate"
   ]
  },
  {
   "cell_type": "code",
   "execution_count": 158,
   "metadata": {
    "tags": []
   },
   "outputs": [
    {
     "output_type": "stream",
     "name": "stdout",
     "text": "Best result: 0.402153 using parameters {'classifier__max_depth': None, 'classifier__max_features': 'sqrt', 'classifier__min_samples_leaf': 1, 'classifier__min_samples_split': 2, 'classifier__n_estimators': 3000}\n"
    }
   ],
   "source": [
    "grid_classifier.fit(X_train, y_train)\n",
    "\n",
    "print(\"Best result: %f using parameters %s\" % (grid_classifier.best_score_, grid_classifier.best_params_))"
   ]
  },
  {
   "cell_type": "code",
   "execution_count": 159,
   "metadata": {
    "tags": []
   },
   "outputs": [
    {
     "output_type": "stream",
     "name": "stdout",
     "text": "Model Score assessed on test data: 0.378\nClassification Report:               precision    recall  f1-score   support\n\n           0       0.39      0.09      0.14      3055\n           1       0.41      0.35      0.38      3013\n           2       0.36      0.71      0.48      2929\n\n    accuracy                           0.38      8997\n   macro avg       0.39      0.38      0.33      8997\nweighted avg       0.39      0.38      0.33      8997\n\n"
    }
   ],
   "source": [
    "### Assess model performance on test data\n",
    "print(\"Model Score assessed on test data: %.3f\" % grid_classifier.score(X_test, y_test))\n",
    "\n",
    "print(\"Classification Report:\", classification_report(y_test, grid_classifier.predict(X_test)))\n",
    "\n",
    "# https://scikit-learn.org/stable/modules/generated/sklearn.metrics.roc_auc_score.html"
   ]
  },
  {
   "cell_type": "code",
   "execution_count": 151,
   "metadata": {},
   "outputs": [],
   "source": [
    "### Define classifier with tuned parameters\n",
    "\n",
    "classifier = GradientBoostingClassifier(max_depth = None, \n",
    "                                        max_features = 'sqrt', \n",
    "                                        min_samples_leaf = 1,\n",
    "                                        min_samples_split = 2, \n",
    "                                        n_estimators = 2000, \n",
    "                                        random_state = 1)"
   ]
  },
  {
   "cell_type": "code",
   "execution_count": 90,
   "metadata": {
    "tags": []
   },
   "outputs": [
    {
     "output_type": "stream",
     "name": "stdout",
     "text": "{'classifier__n_estimators': [200, 400, 600, 800, 1000, 1200, 1400, 1600, 1800, 2000], 'classifier__max_features': ['auto', 'sqrt'], 'classifier__max_depth': [10, 20, 30, 40, 50, 60, 70, 80, 90, 100, 110, None], 'classifier__min_samples_split': [2, 5, 10], 'classifier__min_samples_leaf': [1, 2, 4]}\n"
    }
   ],
   "source": [
    "### Choose best-performing model to tune using random hyperparameter grid\n",
    "\n",
    "# Number of trees in random forest\n",
    "n_estimators = [int(x) for x in np.linspace(start = 200, stop = 2000, num = 10)]\n",
    "# Number of features to consider at every split\n",
    "max_features = ['auto', 'sqrt']\n",
    "# Maximum number of levels in tree\n",
    "max_depth = [int(x) for x in np.linspace(10, 110, num = 11)]\n",
    "max_depth.append(None)\n",
    "# Minimum number of samples required to split a node\n",
    "min_samples_split = [2, 5, 10]\n",
    "# Minimum number of samples required at each leaf node\n",
    "min_samples_leaf = [1, 2, 4]\n",
    "\n",
    "### Create random grid\n",
    "random_grid = {'classifier__n_estimators': n_estimators,\n",
    "               'classifier__max_features': max_features,\n",
    "               'classifier__max_depth': max_depth,\n",
    "               'classifier__min_samples_split': min_samples_split,\n",
    "               'classifier__min_samples_leaf': min_samples_leaf}\n",
    "\n",
    "print(random_grid)"
   ]
  },
  {
   "cell_type": "code",
   "execution_count": 91,
   "metadata": {
    "tags": []
   },
   "outputs": [
    {
     "output_type": "stream",
     "name": "stdout",
     "text": "Fitting 5 folds for each of 100 candidates, totalling 500 fits\n[Parallel(n_jobs=-1)]: Using backend LokyBackend with 4 concurrent workers.\n[Parallel(n_jobs=-1)]: Done  33 tasks      | elapsed: 32.9min\n[Parallel(n_jobs=-1)]: Done 154 tasks      | elapsed: 74.2min\n[Parallel(n_jobs=-1)]: Done 357 tasks      | elapsed: 166.2min\n[Parallel(n_jobs=-1)]: Done 500 out of 500 | elapsed: 239.8min finished\n{'classifier__n_estimators': 2000, 'classifier__min_samples_split': 2, 'classifier__min_samples_leaf': 1, 'classifier__max_features': 'sqrt', 'classifier__max_depth': None}\n0.37238393071926873\n"
    }
   ],
   "source": [
    "### Find best combination of parameters using randomized hyperparameter search\n",
    "\n",
    "random_grid_classifier = RandomizedSearchCV(model_pipeline, param_distributions = random_grid, n_iter = 100, cv = cv, verbose=2, random_state=42, n_jobs = -1)\n",
    "\n",
    "random_grid_classifier.fit(X_train, y_train)\n",
    "\n",
    "print(random_grid_classifier.best_params_)\n",
    "\n",
    "print(random_grid_classifier.best_score_)"
   ]
  },
  {
   "cell_type": "code",
   "execution_count": null,
   "metadata": {},
   "outputs": [],
   "source": [
    "### Fitting pipeline to train data\n",
    "\n",
    "model_pipeline.fit(X_train, y_train)\n",
    "\n",
    "### Assess model performance on test data\n",
    "\n",
    "print(\"model score: %.3f\" % model_pipeline.score(X_test, y_test))"
   ]
  },
  {
   "cell_type": "code",
   "execution_count": null,
   "metadata": {},
   "outputs": [],
   "source": [
    "### Pipe different features in with a name so the step can be later called for details\n",
    "\n",
    "pipeline = Pipeline([\n",
    "    ('feats', FeatureUnion([\n",
    "        # Ngrams\n",
    "        ('ngram_all', Ngrams(X_train[['answer_text_clean']]))\n",
    "    ])),\n",
    "     # Classifier\n",
    "     ('kneighbors', KNeighborsClassifier(n_neighbors=5, leaf_size=40))])"
   ]
  },
  {
   "cell_type": "code",
   "execution_count": null,
   "metadata": {},
   "outputs": [],
   "source": [
    "### Cross validation and tuning\n",
    "from sklearn.model_selection import GridSearchCV\n",
    "param_grid = {'kneighbors__n_neighbors': (3, 5, 10),\n",
    "            'kneighbors__leaf_size': (10, 20 , 30),\n",
    "            'kneighbors__p': (1,2)\n",
    "            }"
   ]
  },
  {
   "cell_type": "code",
   "execution_count": null,
   "metadata": {},
   "outputs": [],
   "source": [
    "### Find best model\n",
    "grid_search = GridSearchCV(pipeline, param_grid, cv=5, iid=False, n_jobs=-1, refit = True)\n",
    "grid_search.fit(X_train, y_train)"
   ]
  },
  {
   "cell_type": "code",
   "execution_count": null,
   "metadata": {},
   "outputs": [],
   "source": [
    "### Print best model\n",
    "print(\"Best score:\", grid_search.best_score_)\n",
    "print(\"Best params:\", grid_search.best_params_)\n",
    "\n",
    "print(classification_report(y_test, grid_search.predict(X_test)))"
   ]
  },
  {
   "cell_type": "code",
   "execution_count": null,
   "metadata": {},
   "outputs": [],
   "source": [
    "### To Do\n",
    "\n",
    "# Finalize cleaner function (whitespaces etc.)\n",
    "# Additional features, e.g.\n",
    "    ### Figure out no. of switches from code to explanation\n",
    "    ### Extract tags into separate columns and one-hot-encode\n",
    "\n",
    "# Play with different ngram (1,2,3) and max feature numbers\n",
    "# Incorporate functions/call them in pipeline\n",
    "# Try out different models\n",
    "# Hypertune model\n",
    "\n",
    "\n",
    "# Add cross validation\n",
    "# Look at mispredictions to make more targeted features\n",
    "# Make those features\n",
    "# Model and you can also try additional types of models"
   ]
  }
 ],
 "metadata": {
  "language_info": {
   "codemirror_mode": {
    "name": "ipython",
    "version": 3
   },
   "file_extension": ".py",
   "mimetype": "text/x-python",
   "name": "python",
   "nbconvert_exporter": "python",
   "pygments_lexer": "ipython3",
   "version": "3.8.0-final"
  },
  "orig_nbformat": 2,
  "kernelspec": {
   "name": "python38064bitstackconda62acee1f2fa049ee9302fd58619215ba",
   "display_name": "Python 3.8.0 64-bit ('stack': conda)"
  }
 },
 "nbformat": 4,
 "nbformat_minor": 2
}