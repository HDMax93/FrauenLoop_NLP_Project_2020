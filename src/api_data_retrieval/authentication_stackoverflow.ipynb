{
 "cells": [
  {
   "cell_type": "code",
   "execution_count": 2,
   "metadata": {},
   "outputs": [],
   "source": [
    "### Import packages for authentication\n",
    "\n",
    "from google.cloud import bigquery\n",
    "from google.oauth2 import service_account\n",
    "\n",
    "### Import packages for converting query results into dataframe\n",
    "\n",
    "import pandas as pd \n",
    "\n",
    "## Import packages to create absolute file path &  make code independent of operating system\n",
    "\n",
    "from pathlib import Path\n",
    "import os.path\n",
    "\n",
    "### Import packages to visualize data\n",
    "\n",
    "import matplotlib.pyplot as plt\n",
    "%matplotlib inline\n",
    "import seaborn as sns"
   ]
  },
  {
   "cell_type": "code",
   "execution_count": null,
   "metadata": {},
   "outputs": [],
   "source": [
    "### Authentication \n",
    "\n",
    "base_path = Path(\"__file__\").parent\n",
    "full_path = (base_path / \"../../data/raw/GoogleBigQuery_key.json\").resolve()\n",
    "\n",
    "credentials = service_account.Credentials.from_service_account_file(os.path.join(full_path))"
   ]
  },
  {
   "cell_type": "code",
   "execution_count": null,
   "metadata": {},
   "outputs": [],
   "source": [
    "### Construct a BigQuery client object.\n",
    "\n",
    "client = bigquery.Client(credentials=credentials, \n",
    "project = credentials.project_id)"
   ]
  },
  {
   "cell_type": "code",
   "execution_count": null,
   "metadata": {
    "tags": []
   },
   "outputs": [],
   "source": [
    "### Getting overview of Stackoverflow tables\n",
    "\n",
    "stackoverflow = client.dataset('stackoverflow', project= 'bigquery-public-data')\n",
    "print([x.table_id for x in client.list_tables(stackoverflow)])"
   ]
  },
  {
   "cell_type": "code",
   "execution_count": null,
   "metadata": {},
   "outputs": [],
   "source": [
    "### Make an API request\n",
    "\n",
    "query = \"\"\"\n",
    "SELECT\n",
    "      pq.score, pq.id as question_id, pa.parent_id as question_id_check, pq.title as question_title, pq.body as question_text, pq.answer_count,\n",
    "      pq.comment_count, pq.creation_date, pq.tags, pq.view_count, pa.body as answer_text\n",
    "FROM `bigquery-public-data.stackoverflow.posts_questions` pq\n",
    "INNER JOIN `bigquery-public-data.stackoverflow.posts_answers` pa ON pq.id = pa.parent_id\n",
    "WHERE pa.creation_date > \"2019-05-30 00:00:00.000 UTC\"\n",
    "\"\"\"\n",
    "\n",
    "dataframe = (\n",
    "    client.query(query)\n",
    "    .result()\n",
    "    .to_dataframe()\n",
    ")"
   ]
  },
  {
   "cell_type": "code",
   "execution_count": 4,
   "metadata": {},
   "outputs": [
    {
     "output_type": "execute_result",
     "data": {
      "text/plain": "2463032"
     },
     "metadata": {},
     "execution_count": 4
    }
   ],
   "source": [
    "len(dataframe)"
   ]
  },
  {
   "cell_type": "code",
   "execution_count": null,
   "metadata": {},
   "outputs": [],
   "source": [
    "### Save dataframe to a csv file\n",
    "\n",
    "base_path = Path(\"__file__\").parent\n",
    "full_path = (base_path / \"../../data/raw/stackoverflow_raw.csv\").resolve()\n",
    "\n",
    "dataframe.to_csv(os.path.join(full_path))"
   ]
  },
  {
   "cell_type": "code",
   "execution_count": 4,
   "metadata": {},
   "outputs": [],
   "source": [
    "### Temporary code to quickly open dataset\n",
    "\n",
    "dataframe = pd.read_csv(\"/Users/HenriekeMax/Documents/Career_Development/GitHub/Predicting-Helpfulness-Of-Stackoverflow-Answers/data/raw/stackoverflow_raw.csv\")"
   ]
  },
  {
   "cell_type": "code",
   "execution_count": 3,
   "metadata": {
    "tags": []
   },
   "outputs": [
    {
     "output_type": "display_data",
     "data": {
      "text/plain": "         Unnamed: 0  score  question_id  question_id_check  \\\n0                 0      0     56691024           56691024   \n1                 1      0     56609735           56609735   \n2                 2      1     11120176           11120176   \n3                 3      0     58028556           58028556   \n4                 4     -4     57951169           57951169   \n...             ...    ...          ...                ...   \n2463027     2463027      0     16889968           16889968   \n2463028     2463028      0     61614244           61614244   \n2463029     2463029      1     61658245           61658245   \n2463030     2463030      0     57425396           57425396   \n2463031     2463031      0     59960977           59960977   \n\n                                            question_title  \\\n0                   Laravel query fails but works in Mysql   \n1        How to find the distance between points from t...   \n2        Handle Recent apps click and home press in and...   \n3        How to send an argument with an addEventListen...   \n4          How to get the specified key value in JQuery/JS   \n...                                                    ...   \n2463027                    adding shapelib to Qt's project   \n2463028         not able to get array in the correct shape   \n2463029  How do I to know on which GameObject I clicked...   \n2463030       How to determine the end of string in VFP 9?   \n2463031  I need to update only user name in my app usin...   \n\n                                             question_text  answer_count  \\\n0        <p>I am new to Laravel and using the following...             1   \n1        <p>I was looking here for the answer but o did...             2   \n2        <p>I am making an app for kids where once you'...             3   \n3        <p>I'm quite new to coding and I ran into this...             3   \n4        <blockquote>\\n  <p>console.log(data)</p>\\n</bl...             2   \n...                                                    ...           ...   \n2463027  <p>can you help me, i'm working under ubuntu O...             2   \n2463028  <p>I am trying to create an elasticsearch quer...             1   \n2463029  <p>I want to make a Simple Memory Game using C...             4   \n2463030  <p>In some programming languages, such as C fo...             2   \n2463031  <pre><code>async function update(id, userParam...             2   \n\n         comment_count                     creation_date  \\\n0                    2  2019-06-20 17:21:09.413000+00:00   \n1                    2  2019-06-15 11:02:43.897000+00:00   \n2                    0  2012-06-20 13:01:50.997000+00:00   \n3                    2  2019-09-20 12:37:42.937000+00:00   \n4                    2  2019-09-16 06:05:34.393000+00:00   \n...                ...                               ...   \n2463027              0  2013-06-03 04:20:31.830000+00:00   \n2463028              0  2020-05-05 13:24:08.040000+00:00   \n2463029              0  2020-05-07 12:48:08.220000+00:00   \n2463030              0  2019-08-09 07:32:22.307000+00:00   \n2463031              1  2020-01-29 05:31:03.387000+00:00   \n\n                                           tags  view_count  \\\n0                            mysql|laravel|date          52   \n1                     python|distance|haversine          55   \n2        java|android|security|android-manifest        2221   \n3         javascript|arguments|addeventlistener          38   \n4                             javascript|jquery          39   \n...                                         ...         ...   \n2463027                            qt|shapefile         663   \n2463028                                     php          38   \n2463029                c#|unity3d|2d|gameobject          44   \n2463030                    string|visual-foxpro         151   \n2463031                         node.js|mongodb          39   \n\n                                               answer_text  \n0        <p>I think its because your config database's ...  \n1        <p>Here is an example using <code>iterrows</co...  \n2        <p>This is working like charm since API 14; te...  \n3        <p>You have a lot of options:</p>\\n\\n<p>1) Use...  \n4        <p>Use <code>JSON.parse(data.LoginDetails).ip_...  \n...                                                    ...  \n2463027  <p>If shapelib is installed in your system the...  \n2463028  <p>I think the extra index that you create for...  \n2463029  <p>You could use RaycastHit to trap the GameOb...  \n2463030  <p>VFP strings are not ASCIIZ strings as in C....  \n2463031  <p>You can find the document and update the fi...  \n\n[2463032 rows x 12 columns]",
      "text/html": "<div>\n<style scoped>\n    .dataframe tbody tr th:only-of-type {\n        vertical-align: middle;\n    }\n\n    .dataframe tbody tr th {\n        vertical-align: top;\n    }\n\n    .dataframe thead th {\n        text-align: right;\n    }\n</style>\n<table border=\"1\" class=\"dataframe\">\n  <thead>\n    <tr style=\"text-align: right;\">\n      <th></th>\n      <th>Unnamed: 0</th>\n      <th>score</th>\n      <th>question_id</th>\n      <th>question_id_check</th>\n      <th>question_title</th>\n      <th>question_text</th>\n      <th>answer_count</th>\n      <th>comment_count</th>\n      <th>creation_date</th>\n      <th>tags</th>\n      <th>view_count</th>\n      <th>answer_text</th>\n    </tr>\n  </thead>\n  <tbody>\n    <tr>\n      <th>0</th>\n      <td>0</td>\n      <td>0</td>\n      <td>56691024</td>\n      <td>56691024</td>\n      <td>Laravel query fails but works in Mysql</td>\n      <td>&lt;p&gt;I am new to Laravel and using the following...</td>\n      <td>1</td>\n      <td>2</td>\n      <td>2019-06-20 17:21:09.413000+00:00</td>\n      <td>mysql|laravel|date</td>\n      <td>52</td>\n      <td>&lt;p&gt;I think its because your config database's ...</td>\n    </tr>\n    <tr>\n      <th>1</th>\n      <td>1</td>\n      <td>0</td>\n      <td>56609735</td>\n      <td>56609735</td>\n      <td>How to find the distance between points from t...</td>\n      <td>&lt;p&gt;I was looking here for the answer but o did...</td>\n      <td>2</td>\n      <td>2</td>\n      <td>2019-06-15 11:02:43.897000+00:00</td>\n      <td>python|distance|haversine</td>\n      <td>55</td>\n      <td>&lt;p&gt;Here is an example using &lt;code&gt;iterrows&lt;/co...</td>\n    </tr>\n    <tr>\n      <th>2</th>\n      <td>2</td>\n      <td>1</td>\n      <td>11120176</td>\n      <td>11120176</td>\n      <td>Handle Recent apps click and home press in and...</td>\n      <td>&lt;p&gt;I am making an app for kids where once you'...</td>\n      <td>3</td>\n      <td>0</td>\n      <td>2012-06-20 13:01:50.997000+00:00</td>\n      <td>java|android|security|android-manifest</td>\n      <td>2221</td>\n      <td>&lt;p&gt;This is working like charm since API 14; te...</td>\n    </tr>\n    <tr>\n      <th>3</th>\n      <td>3</td>\n      <td>0</td>\n      <td>58028556</td>\n      <td>58028556</td>\n      <td>How to send an argument with an addEventListen...</td>\n      <td>&lt;p&gt;I'm quite new to coding and I ran into this...</td>\n      <td>3</td>\n      <td>2</td>\n      <td>2019-09-20 12:37:42.937000+00:00</td>\n      <td>javascript|arguments|addeventlistener</td>\n      <td>38</td>\n      <td>&lt;p&gt;You have a lot of options:&lt;/p&gt;\\n\\n&lt;p&gt;1) Use...</td>\n    </tr>\n    <tr>\n      <th>4</th>\n      <td>4</td>\n      <td>-4</td>\n      <td>57951169</td>\n      <td>57951169</td>\n      <td>How to get the specified key value in JQuery/JS</td>\n      <td>&lt;blockquote&gt;\\n  &lt;p&gt;console.log(data)&lt;/p&gt;\\n&lt;/bl...</td>\n      <td>2</td>\n      <td>2</td>\n      <td>2019-09-16 06:05:34.393000+00:00</td>\n      <td>javascript|jquery</td>\n      <td>39</td>\n      <td>&lt;p&gt;Use &lt;code&gt;JSON.parse(data.LoginDetails).ip_...</td>\n    </tr>\n    <tr>\n      <th>...</th>\n      <td>...</td>\n      <td>...</td>\n      <td>...</td>\n      <td>...</td>\n      <td>...</td>\n      <td>...</td>\n      <td>...</td>\n      <td>...</td>\n      <td>...</td>\n      <td>...</td>\n      <td>...</td>\n      <td>...</td>\n    </tr>\n    <tr>\n      <th>2463027</th>\n      <td>2463027</td>\n      <td>0</td>\n      <td>16889968</td>\n      <td>16889968</td>\n      <td>adding shapelib to Qt's project</td>\n      <td>&lt;p&gt;can you help me, i'm working under ubuntu O...</td>\n      <td>2</td>\n      <td>0</td>\n      <td>2013-06-03 04:20:31.830000+00:00</td>\n      <td>qt|shapefile</td>\n      <td>663</td>\n      <td>&lt;p&gt;If shapelib is installed in your system the...</td>\n    </tr>\n    <tr>\n      <th>2463028</th>\n      <td>2463028</td>\n      <td>0</td>\n      <td>61614244</td>\n      <td>61614244</td>\n      <td>not able to get array in the correct shape</td>\n      <td>&lt;p&gt;I am trying to create an elasticsearch quer...</td>\n      <td>1</td>\n      <td>0</td>\n      <td>2020-05-05 13:24:08.040000+00:00</td>\n      <td>php</td>\n      <td>38</td>\n      <td>&lt;p&gt;I think the extra index that you create for...</td>\n    </tr>\n    <tr>\n      <th>2463029</th>\n      <td>2463029</td>\n      <td>1</td>\n      <td>61658245</td>\n      <td>61658245</td>\n      <td>How do I to know on which GameObject I clicked...</td>\n      <td>&lt;p&gt;I want to make a Simple Memory Game using C...</td>\n      <td>4</td>\n      <td>0</td>\n      <td>2020-05-07 12:48:08.220000+00:00</td>\n      <td>c#|unity3d|2d|gameobject</td>\n      <td>44</td>\n      <td>&lt;p&gt;You could use RaycastHit to trap the GameOb...</td>\n    </tr>\n    <tr>\n      <th>2463030</th>\n      <td>2463030</td>\n      <td>0</td>\n      <td>57425396</td>\n      <td>57425396</td>\n      <td>How to determine the end of string in VFP 9?</td>\n      <td>&lt;p&gt;In some programming languages, such as C fo...</td>\n      <td>2</td>\n      <td>0</td>\n      <td>2019-08-09 07:32:22.307000+00:00</td>\n      <td>string|visual-foxpro</td>\n      <td>151</td>\n      <td>&lt;p&gt;VFP strings are not ASCIIZ strings as in C....</td>\n    </tr>\n    <tr>\n      <th>2463031</th>\n      <td>2463031</td>\n      <td>0</td>\n      <td>59960977</td>\n      <td>59960977</td>\n      <td>I need to update only user name in my app usin...</td>\n      <td>&lt;pre&gt;&lt;code&gt;async function update(id, userParam...</td>\n      <td>2</td>\n      <td>1</td>\n      <td>2020-01-29 05:31:03.387000+00:00</td>\n      <td>node.js|mongodb</td>\n      <td>39</td>\n      <td>&lt;p&gt;You can find the document and update the fi...</td>\n    </tr>\n  </tbody>\n</table>\n<p>2463032 rows × 12 columns</p>\n</div>"
     },
     "metadata": {}
    }
   ],
   "source": [
    "### Display query results\n",
    "\n",
    "display(dataframe)"
   ]
  },
  {
   "cell_type": "code",
   "execution_count": 5,
   "metadata": {},
   "outputs": [
    {
     "output_type": "execute_result",
     "data": {
      "text/plain": "Unnamed: 0           0\nscore                0\nquestion_id          0\nquestion_id_check    0\nquestion_title       0\nquestion_text        0\nanswer_count         0\ncomment_count        0\ncreation_date        0\ntags                 1\nview_count           0\nanswer_text          0\ndtype: int64"
     },
     "metadata": {},
     "execution_count": 5
    }
   ],
   "source": [
    "### Check for null values\n",
    "\n",
    "dataframe.isnull().values.any()\n",
    "dataframe.isnull().sum()"
   ]
  },
  {
   "cell_type": "code",
   "execution_count": 6,
   "metadata": {},
   "outputs": [],
   "source": [
    "### Dropping null value from tags column, given that it has only one missing value\n",
    "\n",
    "dataframe = dataframe[dataframe['tags'].notnull()]\n",
    "dataframe = dataframe.reset_index()[dataframe.columns]"
   ]
  },
  {
   "cell_type": "code",
   "execution_count": null,
   "metadata": {},
   "outputs": [],
   "source": [
    "#### Histogram of distribution of the number of views of the question & answer\n",
    "\n",
    "f, ax = plt.subplots(figsize=(40,40))\n",
    "sns.countplot(x='view_count', data=dataframe)\n",
    "plt.xlim(None, 200) \n",
    "plt.ylim(0, None) \n",
    "plt.show()"
   ]
  },
  {
   "cell_type": "code",
   "execution_count": null,
   "metadata": {},
   "outputs": [],
   "source": [
    "### Summarization of variables for only numeric\n",
    "\n",
    "dataframe.describe()\n",
    "\n",
    "# mean score is 7.6 while 50% percentile / median score is 0.\n",
    "# 25th percentile for view count is 39 views, median is 64 views;"
   ]
  },
  {
   "cell_type": "code",
   "execution_count": 7,
   "metadata": {},
   "outputs": [
    {
     "output_type": "execute_result",
     "data": {
      "text/plain": " 0       1167343\n 1        497483\n 2        190425\n-1        151273\n 3         84687\n          ...   \n 1143          1\n 1139          1\n 1132          1\n 1120          1\n 689           1\nName: score, Length: 1612, dtype: int64"
     },
     "metadata": {},
     "execution_count": 7
    }
   ],
   "source": [
    "dataframe['score'].value_counts() # .sort_index()"
   ]
  },
  {
   "cell_type": "code",
   "execution_count": 7,
   "metadata": {},
   "outputs": [
    {
     "output_type": "execute_result",
     "data": {
      "text/plain": "1849906"
     },
     "metadata": {},
     "execution_count": 7
    }
   ],
   "source": [
    "### Drop all datarows with answers that have gotten fewer than 39 views\n",
    "\n",
    "dataframe_views = dataframe.drop(dataframe[dataframe.view_count < 39].index)\n",
    "len(dataframe_views)"
   ]
  },
  {
   "cell_type": "code",
   "execution_count": 8,
   "metadata": {},
   "outputs": [],
   "source": [
    "### Save dataframe with only > 39 to a csv file\n",
    "\n",
    "base_path = Path(\"__file__\").parent\n",
    "full_path = (base_path / \"../../data/raw/stackoverflow_raw_views.csv\").resolve()\n",
    "\n",
    "dataframe_views.to_csv(os.path.join(full_path))"
   ]
  },
  {
   "cell_type": "code",
   "execution_count": 10,
   "metadata": {},
   "outputs": [],
   "source": [
    "### Assign category (bad, good, great) for score\n",
    "\n",
    "score_bucketing_all = lambda x: 'bad' if x < 0 else 'good' if (x >= 1 and x <= 4) else 'great' if x >= 5 else None\n",
    "\n",
    "dataframe_views['score_cat_all'] = dataframe_views['score'].apply(score_bucketing_all)"
   ]
  },
  {
   "cell_type": "code",
   "execution_count": 11,
   "metadata": {
    "tags": []
   },
   "outputs": [
    {
     "output_type": "stream",
     "name": "stdout",
     "text": "score_cat_all unique values in column\n[None 'good' 'bad' 'great'] \n\n"
    }
   ],
   "source": [
    "print(\"{} unique values in column\".format('score_cat_all'))\n",
    "print(\"{}\".format(dataframe_views['score_cat_all'].unique()),\"\\n\")"
   ]
  },
  {
   "cell_type": "code",
   "execution_count": 12,
   "metadata": {},
   "outputs": [],
   "source": [
    "### Assign category (ood, great) for score; ignore negative and zero scores\n",
    "\n",
    "score_bucketing_positive = lambda x: 'good' if (x >= 1 and x <= 4) else 'great' if x >= 5 else None\n",
    "\n",
    "dataframe_views['score_cat_positive'] = dataframe_views['score'].apply(score_bucketing_positive)"
   ]
  },
  {
   "cell_type": "code",
   "execution_count": 13,
   "metadata": {
    "tags": []
   },
   "outputs": [
    {
     "output_type": "stream",
     "name": "stdout",
     "text": "score_cat_positive unique values in column\n[None 'good' 'great'] \n\n"
    }
   ],
   "source": [
    "print(\"{} unique values in column\".format('score_cat_positive'))\n",
    "print(\"{}\".format(dataframe_views['score_cat_positive'].unique()),\"\\n\")"
   ]
  },
  {
   "cell_type": "code",
   "execution_count": 14,
   "metadata": {
    "tags": []
   },
   "outputs": [
    {
     "output_type": "stream",
     "name": "stdout",
     "text": "<class 'pandas.core.frame.DataFrame'>\nInt64Index: 1849906 entries, 0 to 2463030\nData columns (total 14 columns):\n #   Column              Dtype \n---  ------              ----- \n 0   Unnamed: 0          int64 \n 1   score               int64 \n 2   question_id         int64 \n 3   question_id_check   int64 \n 4   question_title      object\n 5   question_text       object\n 6   answer_count        int64 \n 7   comment_count       int64 \n 8   creation_date       object\n 9   tags                object\n 10  view_count          int64 \n 11  answer_text         object\n 12  score_cat_all       object\n 13  score_cat_positive  object\ndtypes: int64(7), object(7)\nmemory usage: 211.7+ MB\nNone\n"
    }
   ],
   "source": [
    "### Look at the data to understand the type and missing values\n",
    "\n",
    "print(dataframe_views.info())"
   ]
  },
  {
   "cell_type": "code",
   "execution_count": 15,
   "metadata": {},
   "outputs": [
    {
     "output_type": "display_data",
     "data": {
      "text/plain": "         Unnamed: 0  score  question_id  question_id_check  \\\n0                 0      0     56691024           56691024   \n1                 1      0     56609735           56609735   \n2                 2      1     11120176           11120176   \n4                 4     -4     57951169           57951169   \n5                 5      1     61865206           61865206   \n...             ...    ...          ...                ...   \n2463025     2463026      0     56929330           56929330   \n2463026     2463027      0     16889968           16889968   \n2463028     2463029      1     61658245           61658245   \n2463029     2463030      0     57425396           57425396   \n2463030     2463031      0     59960977           59960977   \n\n                                            question_title  \\\n0                   Laravel query fails but works in Mysql   \n1        How to find the distance between points from t...   \n2        Handle Recent apps click and home press in and...   \n4          How to get the specified key value in JQuery/JS   \n5         springboot 2.3.0 while connecting to h2 database   \n...                                                    ...   \n2463025  NiFi how to get the response of splitjson(each...   \n2463026                    adding shapelib to Qt's project   \n2463028  How do I to know on which GameObject I clicked...   \n2463029       How to determine the end of string in VFP 9?   \n2463030  I need to update only user name in my app usin...   \n\n                                             question_text  answer_count  \\\n0        <p>I am new to Laravel and using the following...             1   \n1        <p>I was looking here for the answer but o did...             2   \n2        <p>I am making an app for kids where once you'...             3   \n4        <blockquote>\\n  <p>console.log(data)</p>\\n</bl...             2   \n5        <p>In Springboot 2.3.0.RELEASE\\nI am getting t...             1   \n...                                                    ...           ...   \n2463025  <p>I have the below sequence for calling rest ...             1   \n2463026  <p>can you help me, i'm working under ubuntu O...             2   \n2463028  <p>I want to make a Simple Memory Game using C...             4   \n2463029  <p>In some programming languages, such as C fo...             2   \n2463030  <pre><code>async function update(id, userParam...             2   \n\n         comment_count                     creation_date  \\\n0                    2  2019-06-20 17:21:09.413000+00:00   \n1                    2  2019-06-15 11:02:43.897000+00:00   \n2                    0  2012-06-20 13:01:50.997000+00:00   \n4                    2  2019-09-16 06:05:34.393000+00:00   \n5                    2  2020-05-18 08:12:27.733000+00:00   \n...                ...                               ...   \n2463025              0  2019-07-08 06:21:33.223000+00:00   \n2463026              0  2013-06-03 04:20:31.830000+00:00   \n2463028              0  2020-05-07 12:48:08.220000+00:00   \n2463029              0  2019-08-09 07:32:22.307000+00:00   \n2463030              1  2020-01-29 05:31:03.387000+00:00   \n\n                                           tags  view_count  \\\n0                            mysql|laravel|date          52   \n1                     python|distance|haversine          55   \n2        java|android|security|android-manifest        2221   \n4                             javascript|jquery          39   \n5                spring|database|spring-boot|h2          80   \n...                                         ...         ...   \n2463025                             apache-nifi         207   \n2463026                            qt|shapefile         663   \n2463028                c#|unity3d|2d|gameobject          44   \n2463029                    string|visual-foxpro         151   \n2463030                         node.js|mongodb          39   \n\n                                               answer_text score_cat_all  \\\n0        <p>I think its because your config database's ...          None   \n1        <p>Here is an example using <code>iterrows</co...          None   \n2        <p>This is working like charm since API 14; te...          good   \n4        <p>Use <code>JSON.parse(data.LoginDetails).ip_...           bad   \n5        <p>You can fix this by setting the <code>sprin...          good   \n...                                                    ...           ...   \n2463025  <p>It sounds like you're trying to enrich the ...          None   \n2463026  <p>If shapelib is installed in your system the...          None   \n2463028  <p>You could use RaycastHit to trap the GameOb...          good   \n2463029  <p>VFP strings are not ASCIIZ strings as in C....          None   \n2463030  <p>You can find the document and update the fi...          None   \n\n        score_cat_positive  \n0                     None  \n1                     None  \n2                     good  \n4                     None  \n5                     good  \n...                    ...  \n2463025               None  \n2463026               None  \n2463028               good  \n2463029               None  \n2463030               None  \n\n[1849906 rows x 14 columns]",
      "text/html": "<div>\n<style scoped>\n    .dataframe tbody tr th:only-of-type {\n        vertical-align: middle;\n    }\n\n    .dataframe tbody tr th {\n        vertical-align: top;\n    }\n\n    .dataframe thead th {\n        text-align: right;\n    }\n</style>\n<table border=\"1\" class=\"dataframe\">\n  <thead>\n    <tr style=\"text-align: right;\">\n      <th></th>\n      <th>Unnamed: 0</th>\n      <th>score</th>\n      <th>question_id</th>\n      <th>question_id_check</th>\n      <th>question_title</th>\n      <th>question_text</th>\n      <th>answer_count</th>\n      <th>comment_count</th>\n      <th>creation_date</th>\n      <th>tags</th>\n      <th>view_count</th>\n      <th>answer_text</th>\n      <th>score_cat_all</th>\n      <th>score_cat_positive</th>\n    </tr>\n  </thead>\n  <tbody>\n    <tr>\n      <th>0</th>\n      <td>0</td>\n      <td>0</td>\n      <td>56691024</td>\n      <td>56691024</td>\n      <td>Laravel query fails but works in Mysql</td>\n      <td>&lt;p&gt;I am new to Laravel and using the following...</td>\n      <td>1</td>\n      <td>2</td>\n      <td>2019-06-20 17:21:09.413000+00:00</td>\n      <td>mysql|laravel|date</td>\n      <td>52</td>\n      <td>&lt;p&gt;I think its because your config database's ...</td>\n      <td>None</td>\n      <td>None</td>\n    </tr>\n    <tr>\n      <th>1</th>\n      <td>1</td>\n      <td>0</td>\n      <td>56609735</td>\n      <td>56609735</td>\n      <td>How to find the distance between points from t...</td>\n      <td>&lt;p&gt;I was looking here for the answer but o did...</td>\n      <td>2</td>\n      <td>2</td>\n      <td>2019-06-15 11:02:43.897000+00:00</td>\n      <td>python|distance|haversine</td>\n      <td>55</td>\n      <td>&lt;p&gt;Here is an example using &lt;code&gt;iterrows&lt;/co...</td>\n      <td>None</td>\n      <td>None</td>\n    </tr>\n    <tr>\n      <th>2</th>\n      <td>2</td>\n      <td>1</td>\n      <td>11120176</td>\n      <td>11120176</td>\n      <td>Handle Recent apps click and home press in and...</td>\n      <td>&lt;p&gt;I am making an app for kids where once you'...</td>\n      <td>3</td>\n      <td>0</td>\n      <td>2012-06-20 13:01:50.997000+00:00</td>\n      <td>java|android|security|android-manifest</td>\n      <td>2221</td>\n      <td>&lt;p&gt;This is working like charm since API 14; te...</td>\n      <td>good</td>\n      <td>good</td>\n    </tr>\n    <tr>\n      <th>4</th>\n      <td>4</td>\n      <td>-4</td>\n      <td>57951169</td>\n      <td>57951169</td>\n      <td>How to get the specified key value in JQuery/JS</td>\n      <td>&lt;blockquote&gt;\\n  &lt;p&gt;console.log(data)&lt;/p&gt;\\n&lt;/bl...</td>\n      <td>2</td>\n      <td>2</td>\n      <td>2019-09-16 06:05:34.393000+00:00</td>\n      <td>javascript|jquery</td>\n      <td>39</td>\n      <td>&lt;p&gt;Use &lt;code&gt;JSON.parse(data.LoginDetails).ip_...</td>\n      <td>bad</td>\n      <td>None</td>\n    </tr>\n    <tr>\n      <th>5</th>\n      <td>5</td>\n      <td>1</td>\n      <td>61865206</td>\n      <td>61865206</td>\n      <td>springboot 2.3.0 while connecting to h2 database</td>\n      <td>&lt;p&gt;In Springboot 2.3.0.RELEASE\\nI am getting t...</td>\n      <td>1</td>\n      <td>2</td>\n      <td>2020-05-18 08:12:27.733000+00:00</td>\n      <td>spring|database|spring-boot|h2</td>\n      <td>80</td>\n      <td>&lt;p&gt;You can fix this by setting the &lt;code&gt;sprin...</td>\n      <td>good</td>\n      <td>good</td>\n    </tr>\n    <tr>\n      <th>...</th>\n      <td>...</td>\n      <td>...</td>\n      <td>...</td>\n      <td>...</td>\n      <td>...</td>\n      <td>...</td>\n      <td>...</td>\n      <td>...</td>\n      <td>...</td>\n      <td>...</td>\n      <td>...</td>\n      <td>...</td>\n      <td>...</td>\n      <td>...</td>\n    </tr>\n    <tr>\n      <th>2463025</th>\n      <td>2463026</td>\n      <td>0</td>\n      <td>56929330</td>\n      <td>56929330</td>\n      <td>NiFi how to get the response of splitjson(each...</td>\n      <td>&lt;p&gt;I have the below sequence for calling rest ...</td>\n      <td>1</td>\n      <td>0</td>\n      <td>2019-07-08 06:21:33.223000+00:00</td>\n      <td>apache-nifi</td>\n      <td>207</td>\n      <td>&lt;p&gt;It sounds like you're trying to enrich the ...</td>\n      <td>None</td>\n      <td>None</td>\n    </tr>\n    <tr>\n      <th>2463026</th>\n      <td>2463027</td>\n      <td>0</td>\n      <td>16889968</td>\n      <td>16889968</td>\n      <td>adding shapelib to Qt's project</td>\n      <td>&lt;p&gt;can you help me, i'm working under ubuntu O...</td>\n      <td>2</td>\n      <td>0</td>\n      <td>2013-06-03 04:20:31.830000+00:00</td>\n      <td>qt|shapefile</td>\n      <td>663</td>\n      <td>&lt;p&gt;If shapelib is installed in your system the...</td>\n      <td>None</td>\n      <td>None</td>\n    </tr>\n    <tr>\n      <th>2463028</th>\n      <td>2463029</td>\n      <td>1</td>\n      <td>61658245</td>\n      <td>61658245</td>\n      <td>How do I to know on which GameObject I clicked...</td>\n      <td>&lt;p&gt;I want to make a Simple Memory Game using C...</td>\n      <td>4</td>\n      <td>0</td>\n      <td>2020-05-07 12:48:08.220000+00:00</td>\n      <td>c#|unity3d|2d|gameobject</td>\n      <td>44</td>\n      <td>&lt;p&gt;You could use RaycastHit to trap the GameOb...</td>\n      <td>good</td>\n      <td>good</td>\n    </tr>\n    <tr>\n      <th>2463029</th>\n      <td>2463030</td>\n      <td>0</td>\n      <td>57425396</td>\n      <td>57425396</td>\n      <td>How to determine the end of string in VFP 9?</td>\n      <td>&lt;p&gt;In some programming languages, such as C fo...</td>\n      <td>2</td>\n      <td>0</td>\n      <td>2019-08-09 07:32:22.307000+00:00</td>\n      <td>string|visual-foxpro</td>\n      <td>151</td>\n      <td>&lt;p&gt;VFP strings are not ASCIIZ strings as in C....</td>\n      <td>None</td>\n      <td>None</td>\n    </tr>\n    <tr>\n      <th>2463030</th>\n      <td>2463031</td>\n      <td>0</td>\n      <td>59960977</td>\n      <td>59960977</td>\n      <td>I need to update only user name in my app usin...</td>\n      <td>&lt;pre&gt;&lt;code&gt;async function update(id, userParam...</td>\n      <td>2</td>\n      <td>1</td>\n      <td>2020-01-29 05:31:03.387000+00:00</td>\n      <td>node.js|mongodb</td>\n      <td>39</td>\n      <td>&lt;p&gt;You can find the document and update the fi...</td>\n      <td>None</td>\n      <td>None</td>\n    </tr>\n  </tbody>\n</table>\n<p>1849906 rows × 14 columns</p>\n</div>"
     },
     "metadata": {}
    }
   ],
   "source": [
    "display(dataframe_views)"
   ]
  },
  {
   "cell_type": "code",
   "execution_count": 16,
   "metadata": {},
   "outputs": [],
   "source": [
    "### Sample equal amounts of data rows for \"bad\", \"good\" and \"great\" answers from main dataset\n",
    "\n",
    "dataframe_sampled_all = dataframe_views.groupby('score_cat_all', group_keys=False).apply(lambda x: x.sample(n=10000, random_state = 1)).reset_index(drop=True)"
   ]
  },
  {
   "cell_type": "code",
   "execution_count": 17,
   "metadata": {},
   "outputs": [
    {
     "output_type": "execute_result",
     "data": {
      "text/plain": "good     10000\nbad      10000\ngreat    10000\nName: score_cat_all, dtype: int64"
     },
     "metadata": {},
     "execution_count": 17
    }
   ],
   "source": [
    "### Check if equal sampling of \"bad\", \"good\", and \"great\" answers was successful\n",
    "\n",
    "dataframe_sampled_all.score_cat_all.value_counts()"
   ]
  },
  {
   "cell_type": "code",
   "execution_count": 18,
   "metadata": {},
   "outputs": [],
   "source": [
    "### Save dataframe to a csv file\n",
    "\n",
    "base_path = Path(\"__file__\").parent\n",
    "full_path = (base_path / \"../../data/raw/stackoverflow_raw_views_sampled_all.csv\").resolve()\n",
    "\n",
    "dataframe_sampled_all.to_csv(os.path.join(full_path))"
   ]
  },
  {
   "cell_type": "code",
   "execution_count": 25,
   "metadata": {},
   "outputs": [],
   "source": [
    "### Sample only one answer randomly per stackoverflow question\n",
    "\n",
    "df_all_final = dataframe_sampled_all.groupby('question_id', group_keys=False).apply(lambda x: x.sample(n = 1, random_state = 1)).reset_index(drop=True)"
   ]
  },
  {
   "cell_type": "code",
   "execution_count": 26,
   "metadata": {},
   "outputs": [
    {
     "output_type": "execute_result",
     "data": {
      "text/plain": "good     9938\ngreat    9705\nbad      9686\nName: score_cat_all, dtype: int64"
     },
     "metadata": {},
     "execution_count": 26
    }
   ],
   "source": [
    "### Check if classes \"bad\", \"good\", and \"great\" are still roughly balanced\n",
    "\n",
    "df_all_final.score_cat_all.value_counts()"
   ]
  },
  {
   "cell_type": "code",
   "execution_count": 27,
   "metadata": {},
   "outputs": [],
   "source": [
    "### Save sample of dataframe to a csv file\n",
    "\n",
    "base_path = Path(\"__file__\").parent\n",
    "full_path = (base_path / \"../../data/raw/stackoverflow_raw_finalsample_all.csv\").resolve()\n",
    "df_all_final.to_csv(os.path.join(full_path))"
   ]
  },
  {
   "cell_type": "code",
   "execution_count": 19,
   "metadata": {},
   "outputs": [],
   "source": [
    "### Sample equal amounts of data rows for \"good\" and \"great\" answers from main dataset\n",
    "\n",
    "dataframe_sampled_positive = dataframe_views.groupby('score_cat_positive', group_keys=False).apply(lambda x: x.sample(n=15000, random_state = 1)).reset_index(drop=True)"
   ]
  },
  {
   "cell_type": "code",
   "execution_count": 20,
   "metadata": {},
   "outputs": [
    {
     "output_type": "execute_result",
     "data": {
      "text/plain": "good     15000\ngreat    15000\nName: score_cat_positive, dtype: int64"
     },
     "metadata": {},
     "execution_count": 20
    }
   ],
   "source": [
    "### Check if equal sampling of classes \"good\" and \"great\" was successful\n",
    "\n",
    "dataframe_sampled_positive.score_cat_positive.value_counts()"
   ]
  },
  {
   "cell_type": "code",
   "execution_count": 21,
   "metadata": {},
   "outputs": [],
   "source": [
    "### Save dataframe to a csv file\n",
    "\n",
    "base_path = Path(\"__file__\").parent\n",
    "full_path = (base_path / \"../../data/raw/stackoverflow_raw_views_sampled_positive.csv\").resolve()\n",
    "\n",
    "dataframe_sampled_positive.to_csv(os.path.join(full_path))"
   ]
  },
  {
   "cell_type": "code",
   "execution_count": 28,
   "metadata": {},
   "outputs": [],
   "source": [
    "### Sample only one answer randomly per stackoverflow question\n",
    "\n",
    "df_positive_final = dataframe_sampled_positive.groupby('question_id', group_keys=False).apply(lambda x: x.sample(n = 1, random_state = 1)).reset_index(drop=True)"
   ]
  },
  {
   "cell_type": "code",
   "execution_count": 30,
   "metadata": {},
   "outputs": [
    {
     "output_type": "execute_result",
     "data": {
      "text/plain": "good     14856\ngreat    14364\nName: score_cat_positive, dtype: int64"
     },
     "metadata": {},
     "execution_count": 30
    }
   ],
   "source": [
    "### Check if classses \"good\" and \"great\" are still roughly balanced\n",
    "\n",
    "df_positive_final.score_cat_positive.value_counts()"
   ]
  },
  {
   "cell_type": "code",
   "execution_count": 31,
   "metadata": {},
   "outputs": [],
   "source": [
    "### Save dataframe to a csv file\n",
    "\n",
    "base_path = Path(\"__file__\").parent\n",
    "full_path = (base_path / \"../../data/raw/stackoverflow_raw_finalsample_positive.csv\").resolve()\n",
    "\n",
    "df_positive_final.to_csv(os.path.join(full_path))"
   ]
  }
 ],
 "metadata": {
  "language_info": {
   "codemirror_mode": {
    "name": "ipython",
    "version": 3
   },
   "file_extension": ".py",
   "mimetype": "text/x-python",
   "name": "python",
   "nbconvert_exporter": "python",
   "pygments_lexer": "ipython3",
   "version": "3.8.0-final"
  },
  "orig_nbformat": 2,
  "kernelspec": {
   "name": "python38064bitstackconda62acee1f2fa049ee9302fd58619215ba",
   "display_name": "Python 3.8.0 64-bit ('stack': conda)"
  }
 },
 "nbformat": 4,
 "nbformat_minor": 2
}