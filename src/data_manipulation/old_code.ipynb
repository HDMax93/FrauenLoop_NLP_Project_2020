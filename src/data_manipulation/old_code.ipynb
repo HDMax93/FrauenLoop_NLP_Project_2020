{
 "cells": [
  {
   "cell_type": "code",
   "execution_count": null,
   "metadata": {},
   "outputs": [],
   "source": [
    "### Get rid of extras, and of code snippets split, and join\n",
    "\n",
    "def cleaner(text_column):\n",
    "    text_column = re.sub(r'<code>.*?</code>', ' ', text_column.lower())\n",
    "    text_column = re.sub(r'<p>', '', text_column)\n",
    "    ### Make a list of the sentences in observations of text column\n",
    "    list_of_sentences = list()\n",
    "\n",
    "    ### Clean each letter/token in a sentence\n",
    "    for i in range(len(text_column)):\n",
    "        token = [letter for letter in text_column[i] if letter not in punctuation]\n",
    "        sentence = ''.join(token)\n",
    "        list_of_sentences.append(sentence)\n",
    "    ### Make list of strings into one string\n",
    "    text_column = ' '.join([sentence for sentence in list_of_sentences]) \n",
    "    ### Lemmatize strings/sentences\n",
    "    text_column = lemmatize_sentence(text_column)\n",
    "    ### Remove stopwords from strings/sentences\n",
    "    text_column = [w for w in text_column.split() if w not in stopwords]\n",
    "    return ' '.join(text_column)\n",
    "\n",
    "# use function apply to df.varname.to_list?\n"
   ]
  },
  {
   "cell_type": "code",
   "execution_count": null,
   "metadata": {},
   "outputs": [],
   "source": [
    "### possibly useful for later\n",
    "\n",
    "lemma_list = []\n",
    "for token in tokens:\n",
    "    if token.is_stop is False:\n",
    "        token_preprocessed = preprocessor(token.lemma_)\n",
    "        if token_preprocessed != '':\n",
    "             lemma_list.append(token_preprocessed)\n",
    "lemma_list### possibly useful for later\n",
    "\n",
    "lemma_list = []\n",
    "for token in tokens:\n",
    "    if token.is_stop is False:\n",
    "        token_preprocessed = preprocessor(token.lemma_)\n",
    "        if token_preprocessed != '':\n",
    "             lemma_list.append(token_preprocessed)\n",
    "lemma_list"
   ]
  },
  {
   "cell_type": "code",
   "execution_count": null,
   "metadata": {},
   "outputs": [],
   "source": [
    "tokens = []\n",
    "lemma = []\n",
    "\n",
    "for doc in nlp.pipe(stackoverflow['answer_text_nocode'].astype('unicode').values, batch_size=50, n_threads=3):\n",
    "    if doc.is_parsed:\n",
    "        tokens.append([n.text for n in doc])\n",
    "        lemma.append([n.lemma_ for n in doc])\n",
    "    else:\n",
    "        # We want to make sure that the lists of parsed results have the\n",
    "        # same number of entries of the original Dataframe, so add some blanks in case the parse fails\n",
    "        tokens.append(None)\n",
    "        lemma.append(None)\n",
    "\n",
    "stackoverflow['answer_text_tokens'] = tokens\n",
    "stackoverflow['answer_text_lemma'] = lemmatokens = []\n",
    "lemma = []\n",
    "\n",
    "for doc in nlp.pipe(stackoverflow['answer_text_nocode'].astype('unicode').values, batch_size=50, n_threads=3):\n",
    "    if doc.is_parsed:\n",
    "        tokens.append([n.text for n in doc])\n",
    "        lemma.append([n.lemma_ for n in doc])\n",
    "    else:\n",
    "        # We want to make sure that the lists of parsed results have the\n",
    "        # same number of entries of the original Dataframe, so add some blanks in case the parse fails\n",
    "        tokens.append(None)\n",
    "        lemma.append(None)\n",
    "\n",
    "stackoverflow['answer_text_tokens'] = tokens\n",
    "stackoverflow['answer_text_lemma'] = lemma"
   ]
  }
 ],
 "metadata": {
  "language_info": {
   "codemirror_mode": {
    "name": "ipython",
    "version": 3
   },
   "file_extension": ".py",
   "mimetype": "text/x-python",
   "name": "python",
   "nbconvert_exporter": "python",
   "pygments_lexer": "ipython3",
   "version": 3
  },
  "orig_nbformat": 2
 },
 "nbformat": 4,
 "nbformat_minor": 2
}