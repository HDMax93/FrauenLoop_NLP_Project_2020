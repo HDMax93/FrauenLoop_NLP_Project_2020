{
 "cells": [
  {
   "cell_type": "code",
   "execution_count": 21,
   "metadata": {},
   "outputs": [],
   "source": [
    "### import packages for authentication\n",
    "\n",
    "from google.cloud import bigquery\n",
    "from google.oauth2 import service_account\n",
    "\n",
    "### import packages for converting query results into dataframe\n",
    "\n",
    "import pandas as pd "
   ]
  },
  {
   "cell_type": "code",
   "execution_count": 22,
   "metadata": {},
   "outputs": [],
   "source": [
    "### authentication \n",
    "\n",
    "credentials = service_account.Credentials.from_service_account_file(\"/Users/HenriekeMax/Documents/Career_Development/GitHub/FrauenLoop_NLP_Project_2020/data/raw/GoogleBigQuery_key.json\")\n"
   ]
  },
  {
   "cell_type": "code",
   "execution_count": 23,
   "metadata": {},
   "outputs": [],
   "source": [
    "### construct a BigQuery client object.\n",
    "\n",
    "client = bigquery.Client(credentials=credentials, \n",
    "project = credentials.project_id)"
   ]
  },
  {
   "cell_type": "code",
   "execution_count": 24,
   "metadata": {},
   "outputs": [
    {
     "output_type": "stream",
     "name": "stdout",
     "text": "['badges', 'comments', 'post_history', 'post_links', 'posts_answers', 'posts_moderator_nomination', 'posts_orphaned_tag_wiki', 'posts_privilege_wiki', 'posts_questions', 'posts_tag_wiki', 'posts_tag_wiki_excerpt', 'posts_wiki_placeholder', 'stackoverflow_posts', 'tags', 'users', 'votes']\n"
    }
   ],
   "source": [
    "### getting overview of Stack Overflow tables\n",
    "\n",
    "stackoverflow = client.dataset('stackoverflow', project= 'bigquery-public-data')\n",
    "print([x.table_id for x in client.list_tables(stackoverflow)])"
   ]
  },
  {
   "cell_type": "code",
   "execution_count": 25,
   "metadata": {},
   "outputs": [],
   "source": [
    "### make an API request\n",
    "\n",
    "query = \"\"\"\n",
    "SELECT\n",
    "      pq.id as question_id, pa.parent_id as question_id_check, pq.title as question_title, pq.body as question_text, pq.accepted_answer_id, pq.answer_count, pq.comment_count, pq.community_owned_date,\n",
    "      pq.creation_date, pq.favorite_count, pq.last_activity_date, pq.last_edit_date, pq.last_editor_display_name, \n",
    "      pq.last_editor_user_id, pq.owner_display_name, pq.owner_user_id, pq.post_type_id, pq.score,\n",
    "      pq.tags, pq.view_count,\n",
    "      pa.id as answer_id, pa.body as answer_text\n",
    "FROM `bigquery-public-data.stackoverflow.posts_questions` pq\n",
    "INNER JOIN `bigquery-public-data.stackoverflow.posts_answers` pa ON pq.id = pa.parent_id\n",
    "WHERE pa.creation_date > \"2019-05-30 00:00:00.000 UTC\"\n",
    "\"\"\"\n",
    "\n",
    "### query_job = client.query(query) \n",
    "\n",
    "\n",
    "### df = client.query(query).to_dataframe()\n",
    "\n",
    "dataframe = (\n",
    "    client.query(query)\n",
    "    .result()\n",
    "    .to_dataframe()\n",
    ")"
   ]
  },
  {
   "cell_type": "code",
   "execution_count": 26,
   "metadata": {
    "tags": [
     "outputPrepend"
    ]
   },
   "outputs": [
    {
     "output_type": "display_data",
     "data": {
      "text/plain": "         question_id  question_id_check  \\\n0           58830869           58830869   \n1           46307932           46307932   \n2           60400749           60400749   \n3           60400749           60400749   \n4           35327679           35327679   \n...              ...                ...   \n1789025     58132624           58132624   \n1789026     56815815           56815815   \n1789027     56498312           56498312   \n1789028      1040402            1040402   \n1789029     57102694           57102694   \n\n                                            question_title  \\\n0                                django checkbox yes or no   \n1         Network Error in axios post request react-native   \n2        Using correct terminology: What is a \"class re...   \n3        Using correct terminology: What is a \"class re...   \n4           Validate or remove for extra fields in laravel   \n...                                                    ...   \n1789025         How can I order formatted (MMM yyyy) date?   \n1789026          Winston 3.x support for logstash missing?   \n1789027  MongoDB _id returns undefined on frontend (VueJS)   \n1789028        removing html element styles via javascript   \n1789029  Set Location in Google Maps API using JSON and...   \n\n                                             question_text  \\\n0        <pre><code>  &lt;form id=\"form\" name=\"form\"&gt...   \n1        <p>This is my method to checking Auth by axios...   \n2        <p>In an effort to ensure the use of proper te...   \n3        <p>In an effort to ensure the use of proper te...   \n4        <p>It's posible to validate request with rules...   \n...                                                    ...   \n1789025  <p>I tried to change my date format from <code...   \n1789026  <p>I'm trying to integrate a dummy nodejs app ...   \n1789027  <p>I created a simple fullstack webapp using N...   \n1789028  <p>I'm trying to replace an element's inline s...   \n1789029  <p>I made JSON includes latitude and Longitude...   \n\n         accepted_answer_id  answer_count  comment_count community_owned_date  \\\n0                59168090.0             2              4                  NaT   \n1                       NaN             6              6                  NaT   \n2                60400809.0             3             14                  NaT   \n3                60400809.0             3             14                  NaT   \n4                       NaN            11              2                  NaT   \n...                     ...           ...            ...                  ...   \n1789025          58134485.0             1              1                  NaT   \n1789026          56919159.0             1              0                  NaT   \n1789027                 NaN             2              0                  NaT   \n1789028           1040439.0             6              3                  NaT   \n1789029          57103077.0             1              0                  NaT   \n\n                           creation_date  favorite_count  ...  \\\n0       2019-11-13 05:33:13.727000+00:00             NaN  ...   \n1       2017-09-19 18:57:42.003000+00:00             1.0  ...   \n2       2020-02-25 18:06:12.303000+00:00             NaN  ...   \n3       2020-02-25 18:06:12.303000+00:00             NaN  ...   \n4       2016-02-10 22:59:18.777000+00:00             4.0  ...   \n...                                  ...             ...  ...   \n1789025 2019-09-27 10:22:05.733000+00:00             NaN  ...   \n1789026 2019-06-29 07:23:05.597000+00:00             NaN  ...   \n1789027 2019-06-07 16:44:24.477000+00:00             NaN  ...   \n1789028 2009-06-24 19:22:47.503000+00:00            12.0  ...   \n1789029 2019-07-18 21:14:03.470000+00:00             NaN  ...   \n\n        last_editor_display_name last_editor_user_id owner_display_name  \\\n0                   user12324446                 NaN       user12324446   \n1                           None           6411354.0               None   \n2                           None           1345535.0               None   \n3                           None           1345535.0               None   \n4                           None                 NaN               None   \n...                          ...                 ...                ...   \n1789025                     None                 NaN               None   \n1789026                     None                 NaN               None   \n1789027                     None                 NaN               None   \n1789028                 user1228                 NaN               None   \n1789029                     None                 NaN               None   \n\n         owner_user_id post_type_id  score  \\\n0                  NaN            1      0   \n1            6411354.0            1      0   \n2           12095573.0            1      5   \n3           12095573.0            1      5   \n4            1958210.0            1     21   \n...                ...          ...    ...   \n1789025     11495854.0            1      1   \n1789026      1494134.0            1      0   \n1789027      9786502.0            1      0   \n1789028        91748.0            1     86   \n1789029      9563882.0            1      0   \n\n                                         tags  view_count answer_id  \\\n0                           javascript|django          82  59168090   \n1                          react-native|axios        7779  60026866   \n2                                      c#|oop         105  60400871   \n3                                      c#|oop         105  60400809   \n4                           php|forms|laravel       29347  57009561   \n...                                       ...         ...       ...   \n1789025                       google-bigquery          37  58134485   \n1789026  node.js|logging|logstash|winston|elk        1096  56919159   \n1789027     javascript|node.js|mongodb|vue.js          74  56499650   \n1789028            javascript|html|dom|styles      187090  56648232   \n1789029       android|google-maps|geolocation         125  57103077   \n\n                                               answer_text  \n0        <p>you dont need javascript for that,</p>\\n\\n<...  \n1        <p>Add <code>http://</code> to your url. If it...  \n2        <p>As stated, no - <code>myObjectTest</code> r...  \n3        <p>I usually say \"myObjectTest is a variable o...  \n4        <pre><code>$request-&gt;validated(); \\n</code>...  \n...                                                    ...  \n1789025  <p>Below is for BigQuery Standard SQL    </p>\\...  \n1789026  <p>There are two concepts at play here, in Win...  \n1789027  <p>You need to add the property reference <cod...  \n1789028  <p>In jQuery, you can use</p>\\n\\n<pre><code>$(...  \n1789029  <p>In GoogleMap a blue dot represents the loca...  \n\n[1789030 rows x 22 columns]",
      "text/html": "<div>\n<style scoped>\n    .dataframe tbody tr th:only-of-type {\n        vertical-align: middle;\n    }\n\n    .dataframe tbody tr th {\n        vertical-align: top;\n    }\n\n    .dataframe thead th {\n        text-align: right;\n    }\n</style>\n<table border=\"1\" class=\"dataframe\">\n  <thead>\n    <tr style=\"text-align: right;\">\n      <th></th>\n      <th>question_id</th>\n      <th>question_id_check</th>\n      <th>question_title</th>\n      <th>question_text</th>\n      <th>accepted_answer_id</th>\n      <th>answer_count</th>\n      <th>comment_count</th>\n      <th>community_owned_date</th>\n      <th>creation_date</th>\n      <th>favorite_count</th>\n      <th>...</th>\n      <th>last_editor_display_name</th>\n      <th>last_editor_user_id</th>\n      <th>owner_display_name</th>\n      <th>owner_user_id</th>\n      <th>post_type_id</th>\n      <th>score</th>\n      <th>tags</th>\n      <th>view_count</th>\n      <th>answer_id</th>\n      <th>answer_text</th>\n    </tr>\n  </thead>\n  <tbody>\n    <tr>\n      <th>0</th>\n      <td>58830869</td>\n      <td>58830869</td>\n      <td>django checkbox yes or no</td>\n      <td>&lt;pre&gt;&lt;code&gt;  &amp;lt;form id=\"form\" name=\"form\"&amp;gt...</td>\n      <td>59168090.0</td>\n      <td>2</td>\n      <td>4</td>\n      <td>NaT</td>\n      <td>2019-11-13 05:33:13.727000+00:00</td>\n      <td>NaN</td>\n      <td>...</td>\n      <td>user12324446</td>\n      <td>NaN</td>\n      <td>user12324446</td>\n      <td>NaN</td>\n      <td>1</td>\n      <td>0</td>\n      <td>javascript|django</td>\n      <td>82</td>\n      <td>59168090</td>\n      <td>&lt;p&gt;you dont need javascript for that,&lt;/p&gt;\\n\\n&lt;...</td>\n    </tr>\n    <tr>\n      <th>1</th>\n      <td>46307932</td>\n      <td>46307932</td>\n      <td>Network Error in axios post request react-native</td>\n      <td>&lt;p&gt;This is my method to checking Auth by axios...</td>\n      <td>NaN</td>\n      <td>6</td>\n      <td>6</td>\n      <td>NaT</td>\n      <td>2017-09-19 18:57:42.003000+00:00</td>\n      <td>1.0</td>\n      <td>...</td>\n      <td>None</td>\n      <td>6411354.0</td>\n      <td>None</td>\n      <td>6411354.0</td>\n      <td>1</td>\n      <td>0</td>\n      <td>react-native|axios</td>\n      <td>7779</td>\n      <td>60026866</td>\n      <td>&lt;p&gt;Add &lt;code&gt;http://&lt;/code&gt; to your url. If it...</td>\n    </tr>\n    <tr>\n      <th>2</th>\n      <td>60400749</td>\n      <td>60400749</td>\n      <td>Using correct terminology: What is a \"class re...</td>\n      <td>&lt;p&gt;In an effort to ensure the use of proper te...</td>\n      <td>60400809.0</td>\n      <td>3</td>\n      <td>14</td>\n      <td>NaT</td>\n      <td>2020-02-25 18:06:12.303000+00:00</td>\n      <td>NaN</td>\n      <td>...</td>\n      <td>None</td>\n      <td>1345535.0</td>\n      <td>None</td>\n      <td>12095573.0</td>\n      <td>1</td>\n      <td>5</td>\n      <td>c#|oop</td>\n      <td>105</td>\n      <td>60400871</td>\n      <td>&lt;p&gt;As stated, no - &lt;code&gt;myObjectTest&lt;/code&gt; r...</td>\n    </tr>\n    <tr>\n      <th>3</th>\n      <td>60400749</td>\n      <td>60400749</td>\n      <td>Using correct terminology: What is a \"class re...</td>\n      <td>&lt;p&gt;In an effort to ensure the use of proper te...</td>\n      <td>60400809.0</td>\n      <td>3</td>\n      <td>14</td>\n      <td>NaT</td>\n      <td>2020-02-25 18:06:12.303000+00:00</td>\n      <td>NaN</td>\n      <td>...</td>\n      <td>None</td>\n      <td>1345535.0</td>\n      <td>None</td>\n      <td>12095573.0</td>\n      <td>1</td>\n      <td>5</td>\n      <td>c#|oop</td>\n      <td>105</td>\n      <td>60400809</td>\n      <td>&lt;p&gt;I usually say \"myObjectTest is a variable o...</td>\n    </tr>\n    <tr>\n      <th>4</th>\n      <td>35327679</td>\n      <td>35327679</td>\n      <td>Validate or remove for extra fields in laravel</td>\n      <td>&lt;p&gt;It's posible to validate request with rules...</td>\n      <td>NaN</td>\n      <td>11</td>\n      <td>2</td>\n      <td>NaT</td>\n      <td>2016-02-10 22:59:18.777000+00:00</td>\n      <td>4.0</td>\n      <td>...</td>\n      <td>None</td>\n      <td>NaN</td>\n      <td>None</td>\n      <td>1958210.0</td>\n      <td>1</td>\n      <td>21</td>\n      <td>php|forms|laravel</td>\n      <td>29347</td>\n      <td>57009561</td>\n      <td>&lt;pre&gt;&lt;code&gt;$request-&amp;gt;validated(); \\n&lt;/code&gt;...</td>\n    </tr>\n    <tr>\n      <th>...</th>\n      <td>...</td>\n      <td>...</td>\n      <td>...</td>\n      <td>...</td>\n      <td>...</td>\n      <td>...</td>\n      <td>...</td>\n      <td>...</td>\n      <td>...</td>\n      <td>...</td>\n      <td>...</td>\n      <td>...</td>\n      <td>...</td>\n      <td>...</td>\n      <td>...</td>\n      <td>...</td>\n      <td>...</td>\n      <td>...</td>\n      <td>...</td>\n      <td>...</td>\n      <td>...</td>\n    </tr>\n    <tr>\n      <th>1789025</th>\n      <td>58132624</td>\n      <td>58132624</td>\n      <td>How can I order formatted (MMM yyyy) date?</td>\n      <td>&lt;p&gt;I tried to change my date format from &lt;code...</td>\n      <td>58134485.0</td>\n      <td>1</td>\n      <td>1</td>\n      <td>NaT</td>\n      <td>2019-09-27 10:22:05.733000+00:00</td>\n      <td>NaN</td>\n      <td>...</td>\n      <td>None</td>\n      <td>NaN</td>\n      <td>None</td>\n      <td>11495854.0</td>\n      <td>1</td>\n      <td>1</td>\n      <td>google-bigquery</td>\n      <td>37</td>\n      <td>58134485</td>\n      <td>&lt;p&gt;Below is for BigQuery Standard SQL    &lt;/p&gt;\\...</td>\n    </tr>\n    <tr>\n      <th>1789026</th>\n      <td>56815815</td>\n      <td>56815815</td>\n      <td>Winston 3.x support for logstash missing?</td>\n      <td>&lt;p&gt;I'm trying to integrate a dummy nodejs app ...</td>\n      <td>56919159.0</td>\n      <td>1</td>\n      <td>0</td>\n      <td>NaT</td>\n      <td>2019-06-29 07:23:05.597000+00:00</td>\n      <td>NaN</td>\n      <td>...</td>\n      <td>None</td>\n      <td>NaN</td>\n      <td>None</td>\n      <td>1494134.0</td>\n      <td>1</td>\n      <td>0</td>\n      <td>node.js|logging|logstash|winston|elk</td>\n      <td>1096</td>\n      <td>56919159</td>\n      <td>&lt;p&gt;There are two concepts at play here, in Win...</td>\n    </tr>\n    <tr>\n      <th>1789027</th>\n      <td>56498312</td>\n      <td>56498312</td>\n      <td>MongoDB _id returns undefined on frontend (VueJS)</td>\n      <td>&lt;p&gt;I created a simple fullstack webapp using N...</td>\n      <td>NaN</td>\n      <td>2</td>\n      <td>0</td>\n      <td>NaT</td>\n      <td>2019-06-07 16:44:24.477000+00:00</td>\n      <td>NaN</td>\n      <td>...</td>\n      <td>None</td>\n      <td>NaN</td>\n      <td>None</td>\n      <td>9786502.0</td>\n      <td>1</td>\n      <td>0</td>\n      <td>javascript|node.js|mongodb|vue.js</td>\n      <td>74</td>\n      <td>56499650</td>\n      <td>&lt;p&gt;You need to add the property reference &lt;cod...</td>\n    </tr>\n    <tr>\n      <th>1789028</th>\n      <td>1040402</td>\n      <td>1040402</td>\n      <td>removing html element styles via javascript</td>\n      <td>&lt;p&gt;I'm trying to replace an element's inline s...</td>\n      <td>1040439.0</td>\n      <td>6</td>\n      <td>3</td>\n      <td>NaT</td>\n      <td>2009-06-24 19:22:47.503000+00:00</td>\n      <td>12.0</td>\n      <td>...</td>\n      <td>user1228</td>\n      <td>NaN</td>\n      <td>None</td>\n      <td>91748.0</td>\n      <td>1</td>\n      <td>86</td>\n      <td>javascript|html|dom|styles</td>\n      <td>187090</td>\n      <td>56648232</td>\n      <td>&lt;p&gt;In jQuery, you can use&lt;/p&gt;\\n\\n&lt;pre&gt;&lt;code&gt;$(...</td>\n    </tr>\n    <tr>\n      <th>1789029</th>\n      <td>57102694</td>\n      <td>57102694</td>\n      <td>Set Location in Google Maps API using JSON and...</td>\n      <td>&lt;p&gt;I made JSON includes latitude and Longitude...</td>\n      <td>57103077.0</td>\n      <td>1</td>\n      <td>0</td>\n      <td>NaT</td>\n      <td>2019-07-18 21:14:03.470000+00:00</td>\n      <td>NaN</td>\n      <td>...</td>\n      <td>None</td>\n      <td>NaN</td>\n      <td>None</td>\n      <td>9563882.0</td>\n      <td>1</td>\n      <td>0</td>\n      <td>android|google-maps|geolocation</td>\n      <td>125</td>\n      <td>57103077</td>\n      <td>&lt;p&gt;In GoogleMap a blue dot represents the loca...</td>\n    </tr>\n  </tbody>\n</table>\n<p>1789030 rows × 22 columns</p>\n</div>"
     },
     "metadata": {}
    }
   ],
   "source": [
    "### display query results\n",
    "\n",
    "display(dataframe)"
   ]
  },
  {
   "cell_type": "code",
   "execution_count": 27,
   "metadata": {},
   "outputs": [],
   "source": [
    "### save dataframe to a csv file\n",
    "\n",
    "dataframe.to_csv('/Users/HenriekeMax/Documents/Career_Development/GitHub/FrauenLoop_NLP_Project_2020/data/raw/stackoverflow_raw.csv')"
   ]
  },
  {
   "cell_type": "code",
   "execution_count": null,
   "metadata": {},
   "outputs": [],
   "source": [
    "### some code here about experimenting with the retry-parameter in case rate limit is exceeded\n",
    "### did not use this, just found and wanted to keep for now in case it was needed\n",
    "\n",
    "from google.cloud.biquery import DEFAULT_RETRY\n",
    "\n",
    "query_deadline = 5 * 60  # seconds\n",
    "query_retry = DEFAULT_RETRY.with_deadline(query_deadline)\n",
    "job = client.query(query, retry=query_retry)"
   ]
  }
 ],
 "metadata": {
  "language_info": {
   "codemirror_mode": {
    "name": "ipython",
    "version": 3
   },
   "file_extension": ".py",
   "mimetype": "text/x-python",
   "name": "python",
   "nbconvert_exporter": "python",
   "pygments_lexer": "ipython3",
   "version": "3.8.3-final"
  },
  "orig_nbformat": 2,
  "kernelspec": {
   "name": "python38364bitflnlp20condaf19e36b5e4a44bd2add7a160d1759c9a",
   "display_name": "Python 3.8.3 64-bit ('FLNLP20': conda)"
  }
 },
 "nbformat": 4,
 "nbformat_minor": 2
}