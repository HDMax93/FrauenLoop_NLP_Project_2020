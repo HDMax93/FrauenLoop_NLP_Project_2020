{
 "cells": [
  {
   "cell_type": "code",
   "execution_count": 8,
   "metadata": {},
   "outputs": [],
   "source": [
    "### Import packages for authentication\n",
    "\n",
    "from google.cloud import bigquery\n",
    "from google.oauth2 import service_account\n",
    "\n",
    "### Import packages for converting query results into dataframe\n",
    "\n",
    "import pandas as pd \n",
    "\n",
    "## Import packages to create absolute file path &  make code independent of operating system\n",
    "\n",
    "from pathlib import Path\n",
    "import os.path\n"
   ]
  },
  {
   "cell_type": "code",
   "execution_count": 10,
   "metadata": {},
   "outputs": [],
   "source": [
    "### Authentication \n",
    "\n",
    "base_path = Path(\"__file__\").parent\n",
    "full_path = (base_path / \"../data/raw/GoogleBigQuery_key.json\").resolve()\n",
    "\n",
    "credentials = service_account.Credentials.from_service_account_file(os.path.join(full_path))\n",
    "\n",
    "## \"/Users/HenriekeMax/Documents/Career_Development/GitHub/FrauenLoop_NLP_Project_2020/data/raw/GoogleBigQuery_key.json\""
   ]
  },
  {
   "cell_type": "code",
   "execution_count": 11,
   "metadata": {},
   "outputs": [],
   "source": [
    "### Construct a BigQuery client object.\n",
    "\n",
    "client = bigquery.Client(credentials=credentials, \n",
    "project = credentials.project_id)"
   ]
  },
  {
   "cell_type": "code",
   "execution_count": 12,
   "metadata": {},
   "outputs": [
    {
     "output_type": "stream",
     "name": "stdout",
     "text": "['badges', 'comments', 'post_history', 'post_links', 'posts_answers', 'posts_moderator_nomination', 'posts_orphaned_tag_wiki', 'posts_privilege_wiki', 'posts_questions', 'posts_tag_wiki', 'posts_tag_wiki_excerpt', 'posts_wiki_placeholder', 'stackoverflow_posts', 'tags', 'users', 'votes']\n"
    }
   ],
   "source": [
    "### Getting overview of Stack Overflow tables\n",
    "\n",
    "stackoverflow = client.dataset('stackoverflow', project= 'bigquery-public-data')\n",
    "print([x.table_id for x in client.list_tables(stackoverflow)])"
   ]
  },
  {
   "cell_type": "code",
   "execution_count": 14,
   "metadata": {},
   "outputs": [],
   "source": [
    "### Make an API request\n",
    "\n",
    "query = \"\"\"\n",
    "SELECT\n",
    "      pq.id as question_id, pa.parent_id as question_id_check, pq.title as question_title, pq.body as question_text,        pq.accepted_answer_id, pq.answer_count, pq.comment_count, pq.community_owned_date,\n",
    "      pq.creation_date, pq.favorite_count, pq.last_activity_date, pq.last_edit_date, pq.last_editor_display_name, \n",
    "      pq.last_editor_user_id, pq.owner_display_name, pq.owner_user_id, pq.post_type_id, pq.score,\n",
    "      pq.tags, pq.view_count,\n",
    "      pa.id as answer_id, pa.body as answer_text\n",
    "FROM `bigquery-public-data.stackoverflow.posts_questions` pq\n",
    "INNER JOIN `bigquery-public-data.stackoverflow.posts_answers` pa ON pq.id = pa.parent_id\n",
    "WHERE pa.creation_date > \"2019-05-30 00:00:00.000 UTC\"\n",
    "\"\"\"\n",
    "\n",
    "dataframe = (\n",
    "    client.query(query)\n",
    "    .result()\n",
    "    .to_dataframe()\n",
    ")"
   ]
  },
  {
   "cell_type": "code",
   "execution_count": 15,
   "metadata": {
    "tags": [
     "outputPrepend"
    ]
   },
   "outputs": [
    {
     "output_type": "display_data",
     "data": {
      "text/plain": "         question_id  question_id_check  \\\n0            1859864            1859864   \n1           59920382           59920382   \n2           60142014           60142014   \n3           57150458           57150458   \n4           57066427           57066427   \n...              ...                ...   \n1789025     57726645           57726645   \n1789026     58020686           58020686   \n1789027     58003718           58003718   \n1789028     58031827           58031827   \n1789029     59707207           59707207   \n\n                                            question_title  \\\n0                How to create an integer array in Python?   \n1        How can I add rows with same string value in s...   \n2        Custom Sort Using a Comma Separated String Bas...   \n3              Can a Retry be configured to retry on null?   \n4        Sum multiple columns that have specific name i...   \n...                                                    ...   \n1789025  convert text file to html ouput so that data c...   \n1789026                        Unable to use date variable   \n1789027      How to declare a variable in postgres script?   \n1789028    how to show warning\\error for int to long value   \n1789029  Calling a ClassA.Method() as ClassB.Method() b...   \n\n                                             question_text  \\\n0        <p>It should not be so hard. I mean in C, </p>...   \n1        <p>i have tried to make this df to the on afte...   \n2        <p>This is an extension to my original questio...   \n3        <p>I am just starting out with resilience4j an...   \n4        <p>I would like to sum the values of <code>Var...   \n...                                                    ...   \n1789025  <p>I have a text file which has 3 values separ...   \n1789026  <p>I'm still quite new with PowerShell, and wh...   \n1789027  <p>I am fairly new to Postgres and I cannot be...   \n1789028  <p>Maybe somebody will help me or point to the...   \n1789029  <p>In this example I am building an automation...   \n\n         accepted_answer_id  answer_count  comment_count community_owned_date  \\\n0                 1859889.0             8              3                  NaT   \n1                59920693.0             2              3                  NaT   \n2                60142496.0             1              3                  NaT   \n3                57151117.0             1              2                  NaT   \n4                57067383.0             4              2                  NaT   \n...                     ...           ...            ...                  ...   \n1789025          57727047.0             1              2                  NaT   \n1789026                 NaN             1              2                  NaT   \n1789027          58006375.0             2              2                  NaT   \n1789028                 NaN             2              2                  NaT   \n1789029                 NaN             1              2                  NaT   \n\n                           creation_date  favorite_count  ...  \\\n0       2009-12-07 13:08:31.840000+00:00            11.0  ...   \n1       2020-01-26 16:32:52.357000+00:00             NaN  ...   \n2       2020-02-09 22:37:36.787000+00:00             NaN  ...   \n3       2019-07-22 16:48:52.310000+00:00             NaN  ...   \n4       2019-07-16 22:52:19.370000+00:00             NaN  ...   \n...                                  ...             ...  ...   \n1789025 2019-08-30 12:20:10.240000+00:00             NaN  ...   \n1789026 2019-09-20 01:34:35.320000+00:00             NaN  ...   \n1789027 2019-09-19 04:26:39.457000+00:00             NaN  ...   \n1789028 2019-09-20 16:04:31.753000+00:00             NaN  ...   \n1789029 2020-01-12 19:06:42.733000+00:00             NaN  ...   \n\n        last_editor_display_name last_editor_user_id owner_display_name  \\\n0                           None                 NaN               None   \n1                           None          10035985.0               None   \n2                           None          10018602.0               None   \n3                           None                 NaN               None   \n4                           None             89482.0               None   \n...                          ...                 ...                ...   \n1789025                     None          10248678.0               None   \n1789026                     None                 NaN               None   \n1789027                     None                 NaN               None   \n1789028                     None           1102149.0               None   \n1789029                     None           2680509.0               None   \n\n         owner_user_id post_type_id  score  \\\n0             226353.0            1     33   \n1           12786329.0            1      0   \n2           10018602.0            1      1   \n3            1997707.0            1      1   \n4           11725370.0            1      2   \n...                ...          ...    ...   \n1789025      5343483.0            1      0   \n1789026     12093048.0            1      0   \n1789027      2216975.0            1      0   \n1789028      1102149.0            1      0   \n1789029      2680509.0            1      1   \n\n                                         tags  view_count answer_id  \\\n0                               python|arrays      244103  56431492   \n1                               python|pandas          32  59920693   \n2                                   excel|vba          36  60142496   \n3                           java|resilience4j          77  57151117   \n4                                       r|sum          92  57067383   \n...                                       ...         ...       ...   \n1789025                      html|linux|shell          28  57727047   \n1789026          powershell|date|get-winevent          38  58022281   \n1789027                            postgresql          46  58006375   \n1789028                               c#|.net          68  58032175   \n1789029  c#|object|casting|polymorphism|state          46  59707271   \n\n                                               answer_text  \n0        <pre><code>import numpy as np\\n\\nnew_array=np....  \n1        <p>you need <code>reset_index()</code> along w...  \n2        <p>I couldn't get the <code>Worksheet.Sort</co...  \n3        <p>Create a custom <code>RetryConfig</code> wi...  \n4        <p>Another <code>dplyr</code> way is to use he...  \n...                                                    ...  \n1789025  <p>If you can, please consider <code>awk</code...  \n1789026  <p>Still not sure why using the variable $Star...  \n1789027  <p>You are confused on several levels.</p>\\n\\n...  \n1789028  <p>If you write an overload that takes in an <...  \n1789029  <p>The compiler does not know how to conver fr...  \n\n[1789030 rows x 22 columns]",
      "text/html": "<div>\n<style scoped>\n    .dataframe tbody tr th:only-of-type {\n        vertical-align: middle;\n    }\n\n    .dataframe tbody tr th {\n        vertical-align: top;\n    }\n\n    .dataframe thead th {\n        text-align: right;\n    }\n</style>\n<table border=\"1\" class=\"dataframe\">\n  <thead>\n    <tr style=\"text-align: right;\">\n      <th></th>\n      <th>question_id</th>\n      <th>question_id_check</th>\n      <th>question_title</th>\n      <th>question_text</th>\n      <th>accepted_answer_id</th>\n      <th>answer_count</th>\n      <th>comment_count</th>\n      <th>community_owned_date</th>\n      <th>creation_date</th>\n      <th>favorite_count</th>\n      <th>...</th>\n      <th>last_editor_display_name</th>\n      <th>last_editor_user_id</th>\n      <th>owner_display_name</th>\n      <th>owner_user_id</th>\n      <th>post_type_id</th>\n      <th>score</th>\n      <th>tags</th>\n      <th>view_count</th>\n      <th>answer_id</th>\n      <th>answer_text</th>\n    </tr>\n  </thead>\n  <tbody>\n    <tr>\n      <th>0</th>\n      <td>1859864</td>\n      <td>1859864</td>\n      <td>How to create an integer array in Python?</td>\n      <td>&lt;p&gt;It should not be so hard. I mean in C, &lt;/p&gt;...</td>\n      <td>1859889.0</td>\n      <td>8</td>\n      <td>3</td>\n      <td>NaT</td>\n      <td>2009-12-07 13:08:31.840000+00:00</td>\n      <td>11.0</td>\n      <td>...</td>\n      <td>None</td>\n      <td>NaN</td>\n      <td>None</td>\n      <td>226353.0</td>\n      <td>1</td>\n      <td>33</td>\n      <td>python|arrays</td>\n      <td>244103</td>\n      <td>56431492</td>\n      <td>&lt;pre&gt;&lt;code&gt;import numpy as np\\n\\nnew_array=np....</td>\n    </tr>\n    <tr>\n      <th>1</th>\n      <td>59920382</td>\n      <td>59920382</td>\n      <td>How can I add rows with same string value in s...</td>\n      <td>&lt;p&gt;i have tried to make this df to the on afte...</td>\n      <td>59920693.0</td>\n      <td>2</td>\n      <td>3</td>\n      <td>NaT</td>\n      <td>2020-01-26 16:32:52.357000+00:00</td>\n      <td>NaN</td>\n      <td>...</td>\n      <td>None</td>\n      <td>10035985.0</td>\n      <td>None</td>\n      <td>12786329.0</td>\n      <td>1</td>\n      <td>0</td>\n      <td>python|pandas</td>\n      <td>32</td>\n      <td>59920693</td>\n      <td>&lt;p&gt;you need &lt;code&gt;reset_index()&lt;/code&gt; along w...</td>\n    </tr>\n    <tr>\n      <th>2</th>\n      <td>60142014</td>\n      <td>60142014</td>\n      <td>Custom Sort Using a Comma Separated String Bas...</td>\n      <td>&lt;p&gt;This is an extension to my original questio...</td>\n      <td>60142496.0</td>\n      <td>1</td>\n      <td>3</td>\n      <td>NaT</td>\n      <td>2020-02-09 22:37:36.787000+00:00</td>\n      <td>NaN</td>\n      <td>...</td>\n      <td>None</td>\n      <td>10018602.0</td>\n      <td>None</td>\n      <td>10018602.0</td>\n      <td>1</td>\n      <td>1</td>\n      <td>excel|vba</td>\n      <td>36</td>\n      <td>60142496</td>\n      <td>&lt;p&gt;I couldn't get the &lt;code&gt;Worksheet.Sort&lt;/co...</td>\n    </tr>\n    <tr>\n      <th>3</th>\n      <td>57150458</td>\n      <td>57150458</td>\n      <td>Can a Retry be configured to retry on null?</td>\n      <td>&lt;p&gt;I am just starting out with resilience4j an...</td>\n      <td>57151117.0</td>\n      <td>1</td>\n      <td>2</td>\n      <td>NaT</td>\n      <td>2019-07-22 16:48:52.310000+00:00</td>\n      <td>NaN</td>\n      <td>...</td>\n      <td>None</td>\n      <td>NaN</td>\n      <td>None</td>\n      <td>1997707.0</td>\n      <td>1</td>\n      <td>1</td>\n      <td>java|resilience4j</td>\n      <td>77</td>\n      <td>57151117</td>\n      <td>&lt;p&gt;Create a custom &lt;code&gt;RetryConfig&lt;/code&gt; wi...</td>\n    </tr>\n    <tr>\n      <th>4</th>\n      <td>57066427</td>\n      <td>57066427</td>\n      <td>Sum multiple columns that have specific name i...</td>\n      <td>&lt;p&gt;I would like to sum the values of &lt;code&gt;Var...</td>\n      <td>57067383.0</td>\n      <td>4</td>\n      <td>2</td>\n      <td>NaT</td>\n      <td>2019-07-16 22:52:19.370000+00:00</td>\n      <td>NaN</td>\n      <td>...</td>\n      <td>None</td>\n      <td>89482.0</td>\n      <td>None</td>\n      <td>11725370.0</td>\n      <td>1</td>\n      <td>2</td>\n      <td>r|sum</td>\n      <td>92</td>\n      <td>57067383</td>\n      <td>&lt;p&gt;Another &lt;code&gt;dplyr&lt;/code&gt; way is to use he...</td>\n    </tr>\n    <tr>\n      <th>...</th>\n      <td>...</td>\n      <td>...</td>\n      <td>...</td>\n      <td>...</td>\n      <td>...</td>\n      <td>...</td>\n      <td>...</td>\n      <td>...</td>\n      <td>...</td>\n      <td>...</td>\n      <td>...</td>\n      <td>...</td>\n      <td>...</td>\n      <td>...</td>\n      <td>...</td>\n      <td>...</td>\n      <td>...</td>\n      <td>...</td>\n      <td>...</td>\n      <td>...</td>\n      <td>...</td>\n    </tr>\n    <tr>\n      <th>1789025</th>\n      <td>57726645</td>\n      <td>57726645</td>\n      <td>convert text file to html ouput so that data c...</td>\n      <td>&lt;p&gt;I have a text file which has 3 values separ...</td>\n      <td>57727047.0</td>\n      <td>1</td>\n      <td>2</td>\n      <td>NaT</td>\n      <td>2019-08-30 12:20:10.240000+00:00</td>\n      <td>NaN</td>\n      <td>...</td>\n      <td>None</td>\n      <td>10248678.0</td>\n      <td>None</td>\n      <td>5343483.0</td>\n      <td>1</td>\n      <td>0</td>\n      <td>html|linux|shell</td>\n      <td>28</td>\n      <td>57727047</td>\n      <td>&lt;p&gt;If you can, please consider &lt;code&gt;awk&lt;/code...</td>\n    </tr>\n    <tr>\n      <th>1789026</th>\n      <td>58020686</td>\n      <td>58020686</td>\n      <td>Unable to use date variable</td>\n      <td>&lt;p&gt;I'm still quite new with PowerShell, and wh...</td>\n      <td>NaN</td>\n      <td>1</td>\n      <td>2</td>\n      <td>NaT</td>\n      <td>2019-09-20 01:34:35.320000+00:00</td>\n      <td>NaN</td>\n      <td>...</td>\n      <td>None</td>\n      <td>NaN</td>\n      <td>None</td>\n      <td>12093048.0</td>\n      <td>1</td>\n      <td>0</td>\n      <td>powershell|date|get-winevent</td>\n      <td>38</td>\n      <td>58022281</td>\n      <td>&lt;p&gt;Still not sure why using the variable $Star...</td>\n    </tr>\n    <tr>\n      <th>1789027</th>\n      <td>58003718</td>\n      <td>58003718</td>\n      <td>How to declare a variable in postgres script?</td>\n      <td>&lt;p&gt;I am fairly new to Postgres and I cannot be...</td>\n      <td>58006375.0</td>\n      <td>2</td>\n      <td>2</td>\n      <td>NaT</td>\n      <td>2019-09-19 04:26:39.457000+00:00</td>\n      <td>NaN</td>\n      <td>...</td>\n      <td>None</td>\n      <td>NaN</td>\n      <td>None</td>\n      <td>2216975.0</td>\n      <td>1</td>\n      <td>0</td>\n      <td>postgresql</td>\n      <td>46</td>\n      <td>58006375</td>\n      <td>&lt;p&gt;You are confused on several levels.&lt;/p&gt;\\n\\n...</td>\n    </tr>\n    <tr>\n      <th>1789028</th>\n      <td>58031827</td>\n      <td>58031827</td>\n      <td>how to show warning\\error for int to long value</td>\n      <td>&lt;p&gt;Maybe somebody will help me or point to the...</td>\n      <td>NaN</td>\n      <td>2</td>\n      <td>2</td>\n      <td>NaT</td>\n      <td>2019-09-20 16:04:31.753000+00:00</td>\n      <td>NaN</td>\n      <td>...</td>\n      <td>None</td>\n      <td>1102149.0</td>\n      <td>None</td>\n      <td>1102149.0</td>\n      <td>1</td>\n      <td>0</td>\n      <td>c#|.net</td>\n      <td>68</td>\n      <td>58032175</td>\n      <td>&lt;p&gt;If you write an overload that takes in an &lt;...</td>\n    </tr>\n    <tr>\n      <th>1789029</th>\n      <td>59707207</td>\n      <td>59707207</td>\n      <td>Calling a ClassA.Method() as ClassB.Method() b...</td>\n      <td>&lt;p&gt;In this example I am building an automation...</td>\n      <td>NaN</td>\n      <td>1</td>\n      <td>2</td>\n      <td>NaT</td>\n      <td>2020-01-12 19:06:42.733000+00:00</td>\n      <td>NaN</td>\n      <td>...</td>\n      <td>None</td>\n      <td>2680509.0</td>\n      <td>None</td>\n      <td>2680509.0</td>\n      <td>1</td>\n      <td>1</td>\n      <td>c#|object|casting|polymorphism|state</td>\n      <td>46</td>\n      <td>59707271</td>\n      <td>&lt;p&gt;The compiler does not know how to conver fr...</td>\n    </tr>\n  </tbody>\n</table>\n<p>1789030 rows × 22 columns</p>\n</div>"
     },
     "metadata": {}
    }
   ],
   "source": [
    "### Display query results\n",
    "\n",
    "display(dataframe)"
   ]
  },
  {
   "cell_type": "code",
   "execution_count": 16,
   "metadata": {},
   "outputs": [],
   "source": [
    "### Save dataframe to a csv file\n",
    "\n",
    "base_path = Path(\"__file__\").parent\n",
    "full_path = (base_path / \"../data/raw/stackoverflow_raw.csv\").resolve()\n",
    "\n",
    "dataframe.to_csv(os.path.join(full_path))"
   ]
  },
  {
   "cell_type": "code",
   "execution_count": null,
   "metadata": {},
   "outputs": [],
   "source": [
    "### some code here about experimenting with the retry-parameter in case rate limit is exceeded\n",
    "### did not use this, just found and wanted to keep for now in case it was needed\n",
    "\n",
    "from google.cloud.biquery import DEFAULT_RETRY\n",
    "\n",
    "query_deadline = 5 * 60  # seconds\n",
    "query_retry = DEFAULT_RETRY.with_deadline(query_deadline)\n",
    "job = client.query(query, retry=query_retry)"
   ]
  }
 ],
 "metadata": {
  "language_info": {
   "codemirror_mode": {
    "name": "ipython",
    "version": 3
   },
   "file_extension": ".py",
   "mimetype": "text/x-python",
   "name": "python",
   "nbconvert_exporter": "python",
   "pygments_lexer": "ipython3",
   "version": "3.8.3-final"
  },
  "orig_nbformat": 2,
  "kernelspec": {
   "name": "python38364bitflnlp20condaf19e36b5e4a44bd2add7a160d1759c9a",
   "display_name": "Python 3.8.3 64-bit ('FLNLP20': conda)"
  }
 },
 "nbformat": 4,
 "nbformat_minor": 2
}