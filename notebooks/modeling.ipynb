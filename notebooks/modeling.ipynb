{
 "cells": [
  {
   "cell_type": "code",
   "execution_count": null,
   "metadata": {},
   "outputs": [],
   "source": [
    "### To Do\n",
    "\n",
    "# try word embeddings using gensim"
   ]
  },
  {
   "cell_type": "code",
   "execution_count": 10,
   "metadata": {
    "tags": []
   },
   "outputs": [],
   "source": [
    "### Import packages to create absolute file path & make code independent of operating system\n",
    "\n",
    "from pathlib import Path\n",
    "import os.path\n",
    "import sys\n",
    "\n",
    "import warnings\n",
    "warnings.filterwarnings(\"ignore\")\n",
    "\n",
    "### Import packages for data manipulation\n",
    "\n",
    "import pandas as pd\n",
    "import numpy as np\n",
    "import re\n",
    "\n",
    "### Import packages to visualize data\n",
    "\n",
    "import matplotlib.pyplot as plt\n",
    "import seaborn as sns\n",
    "\n",
    "### Import packages for feature extraction\n",
    "\n",
    "from sklearn.base import BaseEstimator, TransformerMixin\n",
    "from sklearn.feature_extraction.text import TfidfVectorizer\n",
    "from difflib import SequenceMatcher\n",
    "\n",
    "### Import packages for modeling\n",
    "from sklearn.model_selection import train_test_split\n",
    "from sklearn.pipeline import Pipeline, FeatureUnion\n",
    "from sklearn.svm import SVC\n",
    "from sklearn.neighbors import KNeighborsClassifier\n",
    "from sklearn.ensemble import RandomForestClassifier, GradientBoostingClassifier\n",
    "from sklearn.tree import DecisionTreeClassifier\n",
    "from sklearn.linear_model import LogisticRegression\n",
    "\n",
    "### Import packages for model selection and performance assessment\n",
    "from sklearn import model_selection\n",
    "from sklearn.model_selection import GridSearchCV, train_test_split, KFold, StratifiedKFold, cross_val_score, RandomizedSearchCV, GridSearchCV, learning_curve\n",
    "from sklearn import metrics\n",
    "from sklearn.metrics import accuracy_score, log_loss, classification_report, precision_recall_fscore_support\n",
    "from sklearn.metrics import roc_curve, roc_auc_score, confusion_matrix, mean_squared_error, f1_score"
   ]
  },
  {
   "cell_type": "code",
   "execution_count": 11,
   "metadata": {
    "tags": []
   },
   "outputs": [
    {
     "output_type": "stream",
     "name": "stdout",
     "text": "/Users/HenriekeMax/Documents/Career_Development/GitHub/Predicting-Helpfulness-Of-Stackoverflow-Answers/src/model_training\n"
    }
   ],
   "source": [
    "### Read in dataset\n",
    "\n",
    "print(os.getcwd())\n",
    "\n",
    "base_path = Path(\"__file__\").parent\n",
    "full_path = (base_path / \"../data/processed/stackoverflow_modeling.csv\").resolve()\n",
    "# Depending on running this in interactive shell vs. terminal, I need to include GitHub/FrauenLoop_NLP_Project_2020 in filepath or not...\n",
    "\n",
    "stackoverflow = pd.read_csv(os.path.join(full_path))"
   ]
  },
  {
   "cell_type": "code",
   "execution_count": 85,
   "metadata": {
    "tags": []
   },
   "outputs": [
    {
     "output_type": "stream",
     "name": "stdout",
     "text": "<class 'pandas.core.frame.DataFrame'>\nRangeIndex: 29969 entries, 0 to 29968\nData columns (total 18 columns):\n #   Column                Non-Null Count  Dtype \n---  ------                --------------  ----- \n 0   Unnamed: 0            29969 non-null  int64 \n 1   Unnamed: 0.1          29969 non-null  int64 \n 2   question_score        29969 non-null  int64 \n 3   answer_score          29969 non-null  int64 \n 4   question_title        29969 non-null  object\n 5   question_text         29969 non-null  object\n 6   answer_count          29969 non-null  int64 \n 7   comment_count         29969 non-null  int64 \n 8   creation_date         29969 non-null  object\n 9   tags                  29969 non-null  object\n 10  view_count            29969 non-null  int64 \n 11  answer_text           29969 non-null  object\n 12  score_cat_all         29969 non-null  int64 \n 13  question_title_clean  29969 non-null  object\n 14  question_text_clean   29969 non-null  object\n 15  tags_clean            29316 non-null  object\n 16  answer_text_clean     29969 non-null  object\n 17  tag_list_clean        29969 non-null  object\ndtypes: int64(8), object(10)\nmemory usage: 4.1+ MB\n"
    }
   ],
   "source": [
    "stackoverflow.info()"
   ]
  },
  {
   "cell_type": "code",
   "execution_count": 86,
   "metadata": {
    "tags": []
   },
   "outputs": [
    {
     "output_type": "execute_result",
     "data": {
      "text/plain": "   Unnamed: 0  Unnamed: 0.1  question_score  answer_score  \\\n0           0             0               1            -1   \n1           1             1              -2            -2   \n2           2             2               0            -1   \n3           3             3               0            -1   \n4           4             4              -1            -1   \n\n                                      question_title  \\\n0   Displaying based upon if NULL is found in Column   \n1             Cannot Update Composer in Command Line   \n2                            How to swap huge string   \n3                      Exception is not being caught   \n4  Spring Boot - Do a new WebClient call with res...   \n\n                                       question_text  answer_count  \\\n0  <p>I have a data base that I update on a daily...             1   \n1  <p>I am updating the composer and it shows up ...             2   \n2  <p>I have huge string e.g (This is just the pa...             2   \n3  <p>Crashlytics reports that the following line...             3   \n4  <p>I'm trying to call an api with 2 call using...             1   \n\n   comment_count                     creation_date  \\\n0              8  2019-10-24 12:57:07.473000+00:00   \n1              6  2019-06-21 08:30:56.677000+00:00   \n2              2  2019-07-23 06:39:24.553000+00:00   \n3              3  2019-06-27 20:02:42.157000+00:00   \n4              1  2019-06-10 14:15:00.307000+00:00   \n\n                                                tags  view_count  \\\n0                                       php|html|sql          52   \n1                           php|laravel|composer-php         450   \n2                                                 c#          98   \n3  ios|swift|nsattributedstring|nsmutableattribut...         131   \n4                       spring-boot|spring-webclient          41   \n\n                                         answer_text  score_cat_all  \\\n0  <p>Rather than checking for NULL you should be...              0   \n1  <p>try following command </p>\\n\\n<p>install fi...              0   \n2  <p>here</p>\\n\\n<pre><code>public static void M...              0   \n3  <p>I guess the crash occurs when you try to co...              0   \n4  <p>This is the last code:</p>\\n\\n<pre><code>pu...              0   \n\n                                question_title_clean  \\\n0                      display base upon find column   \n1               can not update composer command line   \n2                                   swap huge string   \n3                                    exception catch   \n4  spring boot new web client call result another...   \n\n                                 question_text_clean  \\\n0  data base update daily basis attempt create we...   \n1  update composer show error like load composer ...   \n2  huge string part string look bit different val...   \n3  crashlytics report follow line sometimes throw...   \n4  im try call api call use webclient first call ...   \n\n                                          tags_clean  \\\n0                                       php html sql   \n1                           php laravel composer php   \n2                                                NaN   \n3  io swift nsattributedstring nsmutableattribute...   \n4                       spring boot spring webclient   \n\n                                   answer_text_clean  \\\n0  rather check check rowdata rowdata print compl...   \n1  ptry follow command install first curl use fol...   \n2  phere public static void main string nums var ...   \n3  guess crash occur try convert likely get error...   \n4  last code public void get indici try object ma...   \n\n                                      tag_list_clean  \n0                                       php html sql  \n1                           php laravel composer-php  \n2                                                 c#  \n3  ios swift nsattributedstring nsmutableattribut...  \n4                       spring-boot spring-webclient  ",
      "text/html": "<div>\n<style scoped>\n    .dataframe tbody tr th:only-of-type {\n        vertical-align: middle;\n    }\n\n    .dataframe tbody tr th {\n        vertical-align: top;\n    }\n\n    .dataframe thead th {\n        text-align: right;\n    }\n</style>\n<table border=\"1\" class=\"dataframe\">\n  <thead>\n    <tr style=\"text-align: right;\">\n      <th></th>\n      <th>Unnamed: 0</th>\n      <th>Unnamed: 0.1</th>\n      <th>question_score</th>\n      <th>answer_score</th>\n      <th>question_title</th>\n      <th>question_text</th>\n      <th>answer_count</th>\n      <th>comment_count</th>\n      <th>creation_date</th>\n      <th>tags</th>\n      <th>view_count</th>\n      <th>answer_text</th>\n      <th>score_cat_all</th>\n      <th>question_title_clean</th>\n      <th>question_text_clean</th>\n      <th>tags_clean</th>\n      <th>answer_text_clean</th>\n      <th>tag_list_clean</th>\n    </tr>\n  </thead>\n  <tbody>\n    <tr>\n      <th>0</th>\n      <td>0</td>\n      <td>0</td>\n      <td>1</td>\n      <td>-1</td>\n      <td>Displaying based upon if NULL is found in Column</td>\n      <td>&lt;p&gt;I have a data base that I update on a daily...</td>\n      <td>1</td>\n      <td>8</td>\n      <td>2019-10-24 12:57:07.473000+00:00</td>\n      <td>php|html|sql</td>\n      <td>52</td>\n      <td>&lt;p&gt;Rather than checking for NULL you should be...</td>\n      <td>0</td>\n      <td>display base upon find column</td>\n      <td>data base update daily basis attempt create we...</td>\n      <td>php html sql</td>\n      <td>rather check check rowdata rowdata print compl...</td>\n      <td>php html sql</td>\n    </tr>\n    <tr>\n      <th>1</th>\n      <td>1</td>\n      <td>1</td>\n      <td>-2</td>\n      <td>-2</td>\n      <td>Cannot Update Composer in Command Line</td>\n      <td>&lt;p&gt;I am updating the composer and it shows up ...</td>\n      <td>2</td>\n      <td>6</td>\n      <td>2019-06-21 08:30:56.677000+00:00</td>\n      <td>php|laravel|composer-php</td>\n      <td>450</td>\n      <td>&lt;p&gt;try following command &lt;/p&gt;\\n\\n&lt;p&gt;install fi...</td>\n      <td>0</td>\n      <td>can not update composer command line</td>\n      <td>update composer show error like load composer ...</td>\n      <td>php laravel composer php</td>\n      <td>ptry follow command install first curl use fol...</td>\n      <td>php laravel composer-php</td>\n    </tr>\n    <tr>\n      <th>2</th>\n      <td>2</td>\n      <td>2</td>\n      <td>0</td>\n      <td>-1</td>\n      <td>How to swap huge string</td>\n      <td>&lt;p&gt;I have huge string e.g (This is just the pa...</td>\n      <td>2</td>\n      <td>2</td>\n      <td>2019-07-23 06:39:24.553000+00:00</td>\n      <td>c#</td>\n      <td>98</td>\n      <td>&lt;p&gt;here&lt;/p&gt;\\n\\n&lt;pre&gt;&lt;code&gt;public static void M...</td>\n      <td>0</td>\n      <td>swap huge string</td>\n      <td>huge string part string look bit different val...</td>\n      <td>NaN</td>\n      <td>phere public static void main string nums var ...</td>\n      <td>c#</td>\n    </tr>\n    <tr>\n      <th>3</th>\n      <td>3</td>\n      <td>3</td>\n      <td>0</td>\n      <td>-1</td>\n      <td>Exception is not being caught</td>\n      <td>&lt;p&gt;Crashlytics reports that the following line...</td>\n      <td>3</td>\n      <td>3</td>\n      <td>2019-06-27 20:02:42.157000+00:00</td>\n      <td>ios|swift|nsattributedstring|nsmutableattribut...</td>\n      <td>131</td>\n      <td>&lt;p&gt;I guess the crash occurs when you try to co...</td>\n      <td>0</td>\n      <td>exception catch</td>\n      <td>crashlytics report follow line sometimes throw...</td>\n      <td>io swift nsattributedstring nsmutableattribute...</td>\n      <td>guess crash occur try convert likely get error...</td>\n      <td>ios swift nsattributedstring nsmutableattribut...</td>\n    </tr>\n    <tr>\n      <th>4</th>\n      <td>4</td>\n      <td>4</td>\n      <td>-1</td>\n      <td>-1</td>\n      <td>Spring Boot - Do a new WebClient call with res...</td>\n      <td>&lt;p&gt;I'm trying to call an api with 2 call using...</td>\n      <td>1</td>\n      <td>1</td>\n      <td>2019-06-10 14:15:00.307000+00:00</td>\n      <td>spring-boot|spring-webclient</td>\n      <td>41</td>\n      <td>&lt;p&gt;This is the last code:&lt;/p&gt;\\n\\n&lt;pre&gt;&lt;code&gt;pu...</td>\n      <td>0</td>\n      <td>spring boot new web client call result another...</td>\n      <td>im try call api call use webclient first call ...</td>\n      <td>spring boot spring webclient</td>\n      <td>last code public void get indici try object ma...</td>\n      <td>spring-boot spring-webclient</td>\n    </tr>\n  </tbody>\n</table>\n</div>"
     },
     "metadata": {},
     "execution_count": 86
    }
   ],
   "source": [
    "### Print out dataset for overview\n",
    "\n",
    "stackoverflow.head()"
   ]
  },
  {
   "cell_type": "code",
   "execution_count": 12,
   "metadata": {},
   "outputs": [],
   "source": [
    "### Determining similarity of question and answer\n",
    "class Similarity(BaseEstimator, TransformerMixin):\n",
    "\n",
    "    def __init__(self, df):\n",
    "        pass\n",
    "    \n",
    "    def transform(self, df):\n",
    "        \n",
    "        ### Define similarity function\n",
    "        def similar(column1, column2):\n",
    "            return SequenceMatcher(None, column1, column2).ratio()\n",
    "        ### Calculate similarity score between question and answer\n",
    "        df_new = df[['answer_text_clean', 'question_text_clean']].copy()\n",
    "        df_new['similarity_score'] = df_new.apply(lambda x: similar(str(x['answer_text_clean']), str(x['question_text_clean'])), axis = 1)\n",
    "        ### Drop text\n",
    "        df_new = df_new.drop(columns = ['answer_text_clean', 'question_text_clean'], axis = 1)\n",
    "        return df_new\n",
    "    \n",
    "    def fit(self, df, y=None):\n",
    "        ### Unless error returns self\n",
    "        return self"
   ]
  },
  {
   "cell_type": "code",
   "execution_count": 13,
   "metadata": {},
   "outputs": [
    {
     "output_type": "execute_result",
     "data": {
      "text/plain": "   similarity_score\n0          0.011077\n1          0.015982\n2          0.031690\n3          0.037935\n4          0.006579\n5          0.012739\n6          0.155268\n7          0.011614\n8          0.008902\n9          0.012146",
      "text/html": "<div>\n<style scoped>\n    .dataframe tbody tr th:only-of-type {\n        vertical-align: middle;\n    }\n\n    .dataframe tbody tr th {\n        vertical-align: top;\n    }\n\n    .dataframe thead th {\n        text-align: right;\n    }\n</style>\n<table border=\"1\" class=\"dataframe\">\n  <thead>\n    <tr style=\"text-align: right;\">\n      <th></th>\n      <th>similarity_score</th>\n    </tr>\n  </thead>\n  <tbody>\n    <tr>\n      <th>0</th>\n      <td>0.011077</td>\n    </tr>\n    <tr>\n      <th>1</th>\n      <td>0.015982</td>\n    </tr>\n    <tr>\n      <th>2</th>\n      <td>0.031690</td>\n    </tr>\n    <tr>\n      <th>3</th>\n      <td>0.037935</td>\n    </tr>\n    <tr>\n      <th>4</th>\n      <td>0.006579</td>\n    </tr>\n    <tr>\n      <th>5</th>\n      <td>0.012739</td>\n    </tr>\n    <tr>\n      <th>6</th>\n      <td>0.155268</td>\n    </tr>\n    <tr>\n      <th>7</th>\n      <td>0.011614</td>\n    </tr>\n    <tr>\n      <th>8</th>\n      <td>0.008902</td>\n    </tr>\n    <tr>\n      <th>9</th>\n      <td>0.012146</td>\n    </tr>\n  </tbody>\n</table>\n</div>"
     },
     "metadata": {},
     "execution_count": 13
    }
   ],
   "source": [
    "### Check if Similarity score class works as desired\n",
    "\n",
    "similarity_scorer = Similarity(stackoverflow)\n",
    "stackoverflow_new = similarity_scorer.transform(stackoverflow)\n",
    "stackoverflow_new.head(10)"
   ]
  },
  {
   "cell_type": "code",
   "execution_count": 13,
   "metadata": {},
   "outputs": [],
   "source": [
    "### Determining similarity of question and answer\n",
    "class JaccardSimilarity(BaseEstimator, TransformerMixin):\n",
    "\n",
    "    def __init__(self, df):\n",
    "        pass\n",
    "    \n",
    "    def transform(self, df):\n",
    "        \n",
    "        ### Define Jaccard Similarity function\n",
    "        def get_jaccard_sim(column1, column2): \n",
    "            a = set(column1.split()) \n",
    "            b = set(column2.split())\n",
    "            c = a.intersection(b)\n",
    "            return float(len(c)) / (len(a) + len(b) - len(c))\n",
    "            \n",
    "        ### Calculate similarity score between question and answer\n",
    "        df_new = df[['answer_text_clean', 'question_text_clean']].copy()\n",
    "        df_new['jaccard_similarity_score'] = df_new.apply(lambda x: get_jaccard_sim(str(x['answer_text_clean']), str(x['question_text_clean'])), axis = 1)\n",
    "        ### Drop text\n",
    "        df_new = df_new.drop(columns = ['answer_text_clean', 'question_text_clean'], axis = 1)\n",
    "        return df_new\n",
    "    \n",
    "    def fit(self, df, y=None):\n",
    "        ### Unless error returns self\n",
    "        return self"
   ]
  },
  {
   "cell_type": "code",
   "execution_count": 42,
   "metadata": {},
   "outputs": [
    {
     "output_type": "execute_result",
     "data": {
      "text/plain": "   jaccard_similarity_score\n0                  0.045977\n1                  0.056604\n2                  0.142857\n3                  0.147059\n4                  0.114035\n5                  0.180328\n6                  0.057971\n7                  0.350000\n8                  0.062500\n9                  0.122302",
      "text/html": "<div>\n<style scoped>\n    .dataframe tbody tr th:only-of-type {\n        vertical-align: middle;\n    }\n\n    .dataframe tbody tr th {\n        vertical-align: top;\n    }\n\n    .dataframe thead th {\n        text-align: right;\n    }\n</style>\n<table border=\"1\" class=\"dataframe\">\n  <thead>\n    <tr style=\"text-align: right;\">\n      <th></th>\n      <th>jaccard_similarity_score</th>\n    </tr>\n  </thead>\n  <tbody>\n    <tr>\n      <th>0</th>\n      <td>0.045977</td>\n    </tr>\n    <tr>\n      <th>1</th>\n      <td>0.056604</td>\n    </tr>\n    <tr>\n      <th>2</th>\n      <td>0.142857</td>\n    </tr>\n    <tr>\n      <th>3</th>\n      <td>0.147059</td>\n    </tr>\n    <tr>\n      <th>4</th>\n      <td>0.114035</td>\n    </tr>\n    <tr>\n      <th>5</th>\n      <td>0.180328</td>\n    </tr>\n    <tr>\n      <th>6</th>\n      <td>0.057971</td>\n    </tr>\n    <tr>\n      <th>7</th>\n      <td>0.350000</td>\n    </tr>\n    <tr>\n      <th>8</th>\n      <td>0.062500</td>\n    </tr>\n    <tr>\n      <th>9</th>\n      <td>0.122302</td>\n    </tr>\n  </tbody>\n</table>\n</div>"
     },
     "metadata": {},
     "execution_count": 42
    }
   ],
   "source": [
    "### Check if Jaccard Similarity score class works as desired\n",
    "\n",
    "jaccard_similarity = JaccardSimilarity(stackoverflow)\n",
    "stackoverflow_new = jaccard_similarity.transform(stackoverflow)\n",
    "stackoverflow_new.head(10)"
   ]
  },
  {
   "cell_type": "code",
   "execution_count": 14,
   "metadata": {},
   "outputs": [],
   "source": [
    "### Count number of words in an answer\n",
    "\n",
    "class WordCounter(BaseEstimator, TransformerMixin):\n",
    "\n",
    "    def __init__(self, df):\n",
    "        pass\n",
    "\n",
    "    def transform(self, df):\n",
    "        ### Variable name to compute number of words on\n",
    "        name = df.columns\n",
    "        ### Make into list\n",
    "        answer_list = df[name[0]].tolist()\n",
    "        ### Compute number of words for each answer\n",
    "        wordcount = [len(re.findall(r'\\w+', str(answer))) for answer in answer_list]\n",
    "        ### Make into a pandas df\n",
    "        df_new = pd.DataFrame(wordcount)\n",
    "        ### Add suffix\n",
    "        df_new = df_new.add_suffix(name)\n",
    "        return df_new\n",
    "\n",
    "    def fit(self, df, y=None):\n",
    "        ### Unless error returns self\n",
    "        return self"
   ]
  },
  {
   "cell_type": "code",
   "execution_count": 16,
   "metadata": {
    "tags": []
   },
   "outputs": [
    {
     "output_type": "execute_result",
     "data": {
      "text/plain": "   0Index(['answer_text_clean'], dtype='object')\n0                                             12\n1                                             20\n2                                             24\n3                                             29\n4                                            234",
      "text/html": "<div>\n<style scoped>\n    .dataframe tbody tr th:only-of-type {\n        vertical-align: middle;\n    }\n\n    .dataframe tbody tr th {\n        vertical-align: top;\n    }\n\n    .dataframe thead th {\n        text-align: right;\n    }\n</style>\n<table border=\"1\" class=\"dataframe\">\n  <thead>\n    <tr style=\"text-align: right;\">\n      <th></th>\n      <th>0Index(['answer_text_clean'], dtype='object')</th>\n    </tr>\n  </thead>\n  <tbody>\n    <tr>\n      <th>0</th>\n      <td>12</td>\n    </tr>\n    <tr>\n      <th>1</th>\n      <td>20</td>\n    </tr>\n    <tr>\n      <th>2</th>\n      <td>24</td>\n    </tr>\n    <tr>\n      <th>3</th>\n      <td>29</td>\n    </tr>\n    <tr>\n      <th>4</th>\n      <td>234</td>\n    </tr>\n  </tbody>\n</table>\n</div>"
     },
     "metadata": {},
     "execution_count": 16
    }
   ],
   "source": [
    "### Check if WordCounter class works as desired\n",
    "\n",
    "wordcounter = WordCounter(stackoverflow[['answer_text_clean']])\n",
    "stackoverflow_new = wordcounter.transform(stackoverflow[['answer_text_clean']])\n",
    "stackoverflow_new.head()"
   ]
  },
  {
   "cell_type": "code",
   "execution_count": 15,
   "metadata": {},
   "outputs": [],
   "source": [
    "### Determining whether or not answer contains code\n",
    "\n",
    "class CodeCheck(BaseEstimator, TransformerMixin):\n",
    "\n",
    "    def __init__(self, df):\n",
    "        pass\n",
    "    \n",
    "    def transform(self, df):\n",
    "        ### Check if answer contains code or not\n",
    "        df_new = df[['answer_text']].copy()\n",
    "        df_new['code_binary'] = df_new['answer_text'].str.contains('<code>', regex=False)*1      \n",
    "        ### Drop text\n",
    "        df_new = df_new.drop(columns = ['answer_text'], axis = 1)\n",
    "        return df_new\n",
    "    \n",
    "    def fit(self, df, y=None):\n",
    "        ### Unless error returns self\n",
    "        return self"
   ]
  },
  {
   "cell_type": "code",
   "execution_count": 18,
   "metadata": {},
   "outputs": [
    {
     "output_type": "execute_result",
     "data": {
      "text/plain": "1    24849\n0     5120\nName: code_binary, dtype: int64"
     },
     "metadata": {},
     "execution_count": 18
    }
   ],
   "source": [
    "### Check if CodeCheck class works as desired\n",
    "\n",
    "codecheck = CodeCheck(stackoverflow) \n",
    "stackover_new = codecheck.transform(stackoverflow)\n",
    "\n",
    "### Check ratio of code vs. no code in answers\n",
    "\n",
    "stackover_new['code_binary'].value_counts()"
   ]
  },
  {
   "cell_type": "code",
   "execution_count": 16,
   "metadata": {},
   "outputs": [],
   "source": [
    "### Determining whether or not answer contains code\n",
    "\n",
    "class CodeCounter(BaseEstimator, TransformerMixin):\n",
    "\n",
    "    def __init__(self, df):\n",
    "        pass\n",
    "    \n",
    "    def transform(self, df):\n",
    "        ### Check if answer contains code or not\n",
    "        df_new = df[['answer_text']].copy()\n",
    "        df_new['code_count'] = df_new['answer_text'].str.count('<code>')     \n",
    "        ### Drop text\n",
    "        df_new = df_new.drop(columns = ['answer_text'], axis = 1)\n",
    "        return df_new\n",
    "    \n",
    "    def fit(self, df, y=None):\n",
    "        ### Unless error returns self\n",
    "        return self"
   ]
  },
  {
   "cell_type": "code",
   "execution_count": 21,
   "metadata": {},
   "outputs": [
    {
     "output_type": "execute_result",
     "data": {
      "text/plain": "   code_count\n0           0\n1           2\n2           1\n3           3\n4           2",
      "text/html": "<div>\n<style scoped>\n    .dataframe tbody tr th:only-of-type {\n        vertical-align: middle;\n    }\n\n    .dataframe tbody tr th {\n        vertical-align: top;\n    }\n\n    .dataframe thead th {\n        text-align: right;\n    }\n</style>\n<table border=\"1\" class=\"dataframe\">\n  <thead>\n    <tr style=\"text-align: right;\">\n      <th></th>\n      <th>code_count</th>\n    </tr>\n  </thead>\n  <tbody>\n    <tr>\n      <th>0</th>\n      <td>0</td>\n    </tr>\n    <tr>\n      <th>1</th>\n      <td>2</td>\n    </tr>\n    <tr>\n      <th>2</th>\n      <td>1</td>\n    </tr>\n    <tr>\n      <th>3</th>\n      <td>3</td>\n    </tr>\n    <tr>\n      <th>4</th>\n      <td>2</td>\n    </tr>\n  </tbody>\n</table>\n</div>"
     },
     "metadata": {},
     "execution_count": 21
    }
   ],
   "source": [
    "### Check if CodeCounter class works as desired\n",
    "\n",
    "codecount = CodeCounter(stackoverflow) \n",
    "stack_new = codecount.transform(stackoverflow)\n",
    "\n",
    "stack_new.head()"
   ]
  },
  {
   "cell_type": "code",
   "execution_count": 22,
   "metadata": {},
   "outputs": [
    {
     "output_type": "execute_result",
     "data": {
      "text/plain": "0      5120\n1      8040\n2      4872\n3      3030\n4      2092\n       ... \n110       1\n148       1\n152       1\n173       1\n263       1\nName: code_count, Length: 82, dtype: int64"
     },
     "metadata": {},
     "execution_count": 22
    }
   ],
   "source": [
    "### Check distribution of code counts\n",
    "\n",
    "stack_new['code_count'].value_counts().sort_index()"
   ]
  },
  {
   "cell_type": "code",
   "execution_count": 17,
   "metadata": {},
   "outputs": [],
   "source": [
    "### Compute n grams from a dataframe for a given variable\n",
    "\n",
    "class Ngrams(BaseEstimator, TransformerMixin):\n",
    "\n",
    "    def __init__(self, df):\n",
    "        pass\n",
    "\n",
    "    def transform(self, df):\n",
    "        ### Save name of variable to analyze\n",
    "        name = df.columns\n",
    "        #### Initiate TfidfVectorizer\n",
    "        vectorizer = TfidfVectorizer(strip_accents = 'unicode', use_idf = True, \\\n",
    "                                     stop_words = 'english', analyzer = 'word', \\\n",
    "                                     ngram_range = (1, 2) , max_features = 300)\n",
    "        ### Fit to data\n",
    "        X_train = vectorizer.fit_transform(df[name[0]].values.astype(str))\n",
    "\n",
    "        ### Return sparse matrix\n",
    "        return X_train\n",
    "    \n",
    "    def fit(self, df, y=None):\n",
    "        ### Unless error returns self\n",
    "        return self"
   ]
  },
  {
   "cell_type": "code",
   "execution_count": 72,
   "metadata": {
    "tags": []
   },
   "outputs": [
    {
     "output_type": "stream",
     "name": "stdout",
     "text": "(0, 201)\t0.7397285752112934\n  (0, 32)\t0.6729053685443962\n  (1, 282)\t0.2067179708566376\n  (1, 132)\t0.7638785142438582\n  (1, 44)\t0.47425068615455956\n  (1, 102)\t0.3858025177256358\n  (2, 14)\t0.21995484606469434\n  (2, 150)\t0.22029297314401286\n  (2, 298)\t0.22576822480300632\n  (2, 49)\t0.24375649793696597\n  (2, 181)\t0.46007810887925377\n  (2, 286)\t0.44042956240047626\n  (2, 259)\t0.37474309331415956\n  (2, 163)\t0.23723621857620783\n  (2, 290)\t0.2508246398956586\n  (2, 252)\t0.2668817403603042\n  (2, 210)\t0.23706541638356413\n  (3, 16)\t0.34704170178359384\n  (3, 82)\t0.2538723547060552\n  (3, 186)\t0.30424019836743954\n  (3, 65)\t0.2215364428964045\n  (3, 87)\t0.4965548581815757\n  (3, 58)\t0.3222252629716368\n  (3, 278)\t0.4354087519542866\n  (3, 150)\t0.260417879208496\n  :\t:\n  (29967, 151)\t0.022820144639976555\n  (29967, 250)\t0.040479989078968756\n  (29967, 214)\t0.022546981908775566\n  (29967, 45)\t0.024562400945490115\n  (29967, 159)\t0.40348108681687656\n  (29967, 109)\t0.03107171828322712\n  (29967, 248)\t0.13098912526600198\n  (29967, 113)\t0.040863455626539744\n  (29967, 176)\t0.015840866680159327\n  (29967, 38)\t0.029772925071435856\n  (29967, 16)\t0.05259025555860869\n  (29967, 282)\t0.009766322548986791\n  (29967, 32)\t0.01892796662529\n  (29968, 243)\t0.21170600011608118\n  (29968, 179)\t0.17942228582137815\n  (29968, 225)\t0.16239790232088755\n  (29968, 27)\t0.1538754387664571\n  (29968, 242)\t0.19677977554696444\n  (29968, 8)\t0.1743175396265764\n  (29968, 42)\t0.8430223920265023\n  (29968, 292)\t0.15572887812725764\n  (29968, 285)\t0.1309682863564629\n  (29968, 176)\t0.1383228981614611\n  (29968, 282)\t0.08527980612623233\n  (29968, 102)\t0.1591596694680795\n"
    }
   ],
   "source": [
    "ngrams = Ngrams(stackoverflow['answer_text_clean'])\n",
    "\n",
    "stackover_new = ngrams.transform(stackoverflow[['answer_text_clean']])\n",
    "\n",
    "print(stackover_new)"
   ]
  },
  {
   "cell_type": "code",
   "execution_count": 18,
   "metadata": {},
   "outputs": [],
   "source": [
    "### One-hot encode question tags\n",
    "\n",
    "from sklearn.preprocessing import MultiLabelBinarizer\n",
    "\n",
    "class TagEncoder(BaseEstimator, TransformerMixin):\n",
    "\n",
    "    def __init__(self, df):\n",
    "        pass\n",
    "\n",
    "    def transform(self, df):\n",
    "        # One-hot encode list of tags from tag-column\n",
    "        df_copy = df[['tag_list_clean']].copy()\n",
    "        mlb = MultiLabelBinarizer()\n",
    "        df_new = pd.DataFrame(mlb.fit_transform(df_copy.tag_list_clean.values), df.index, mlb.classes_)\n",
    "        return df_new\n",
    "\n",
    "    def fit(self, df, y=None):\n",
    "        ### Unless error returns self\n",
    "        return self\n",
    "\n",
    "### fix this using split to get back to full words"
   ]
  },
  {
   "cell_type": "code",
   "execution_count": 19,
   "metadata": {
    "tags": []
   },
   "outputs": [
    {
     "output_type": "stream",
     "name": "stdout",
     "text": "#  +  -  .  0  1  2  3  4  ...  q  r  s  t  u  v  w  x  y  z\n0      1  0  0  0  0  0  0  0  0  0  ...  1  0  1  1  0  0  0  0  0  0\n1      1  0  0  1  0  0  0  0  0  0  ...  0  1  1  0  0  1  0  0  0  0\n2      0  1  0  0  0  0  0  0  0  0  ...  0  0  0  0  0  0  0  0  0  0\n3      1  0  0  0  0  0  0  0  0  0  ...  0  1  1  1  1  0  1  0  0  0\n4      1  0  0  1  0  0  0  0  0  0  ...  0  1  1  1  0  0  1  0  0  0\n...   .. .. .. .. .. .. .. .. .. ..  ... .. .. .. .. .. .. .. .. .. ..\n29964  1  0  0  1  0  0  0  0  0  0  ...  0  1  1  1  0  1  0  0  0  0\n29965  1  0  0  0  0  0  0  0  0  0  ...  0  1  1  1  1  0  0  0  0  0\n29966  1  0  0  1  0  0  0  0  0  0  ...  0  1  1  1  0  1  1  0  0  1\n29967  1  0  0  0  0  0  0  0  0  0  ...  0  1  1  1  0  1  0  0  0  0\n29968  1  0  0  0  1  0  0  0  0  0  ...  0  1  0  1  0  0  0  0  0  0\n\n[29969 rows x 41 columns]\n"
    }
   ],
   "source": [
    "tag_encoder = TagEncoder(stackoverflow)\n",
    "\n",
    "stackover_new = tag_encoder.transform(stackoverflow)\n",
    "\n",
    "print(stackover_new)"
   ]
  },
  {
   "cell_type": "code",
   "execution_count": 20,
   "metadata": {},
   "outputs": [],
   "source": [
    "### One-hot encode top 50 question tags\n",
    "\n",
    "class TopTagEncoder(BaseEstimator, TransformerMixin):\n",
    "\n",
    "    def __init__(self, df):\n",
    "        pass\n",
    "\n",
    "    def transform(self, df):\n",
    "        df_new = df[['tag_list_clean']].copy()\n",
    "        var_list = ['javascript', 'java', 'python', 'c#', 'php', 'android', 'html', 'c++', 'jquery', 'css', 'ios', 'mysql', 'sql', 'asp.net', 'r', 'node.js', 'arrays', 'c', 'ruby-on-rails', '.net', 'json', 'objective-c', 'sql-server', 'swift', 'angularjs', 'python-3.x', 'django', 'reactjs', 'excel', 'regex', 'angular', 'iphone', 'ruby', 'ajax', 'xml', 'linux', 'asp.net-mvc', 'vba', 'spring', 'database', 'wordpress', 'panas', 'wpf', 'string', 'laravel', 'xcode', 'windows', 'mongodb', 'vb.net', 'bash']\n",
    "        for var in var_list:\n",
    "            ### Create column name \"has_tagname\" for each tag in list\n",
    "            new_var_name = \"%s_%s\" % (\"has\", var)\n",
    "            ### Create dataframe column for each tag, and if original tag-column contains tag, assign 1\n",
    "            df_new[new_var_name] = df_new['tag_list_clean'].str.contains(re.escape(var), regex=True)*1\n",
    "        df_new = df_new.drop(columns = ['tag_list_clean'], axis = 1)\n",
    "        return df_new\n",
    "\n",
    "    def fit(self, df, y=None):\n",
    "        ### Unless error returns self\n",
    "        return self"
   ]
  },
  {
   "cell_type": "code",
   "execution_count": 122,
   "metadata": {
    "tags": []
   },
   "outputs": [
    {
     "output_type": "execute_result",
     "data": {
      "text/plain": "   has_javascript  has_java  has_python  has_c#  has_php  has_android  \\\n0               0         0           0       0        1            0   \n1               0         0           0       0        1            0   \n2               0         0           0       1        0            0   \n3               0         0           0       0        0            0   \n4               0         0           0       0        0            0   \n\n   has_html  has_c++  has_jquery  has_css  ...  has_wordpress  has_panas  \\\n0         1        0           0        0  ...              0          0   \n1         0        0           0        0  ...              0          0   \n2         0        0           0        0  ...              0          0   \n3         0        0           0        0  ...              0          0   \n4         0        0           0        0  ...              0          0   \n\n   has_wpf  has_string  has_laravel  has_xcode  has_windows  has_mongodb  \\\n0        0           0            0          0            0            0   \n1        0           0            1          0            0            0   \n2        0           0            0          0            0            0   \n3        0           1            0          0            0            0   \n4        0           0            0          0            0            0   \n\n   has_vb.net  has_bash  \n0           0         0  \n1           0         0  \n2           0         0  \n3           0         0  \n4           0         0  \n\n[5 rows x 50 columns]",
      "text/html": "<div>\n<style scoped>\n    .dataframe tbody tr th:only-of-type {\n        vertical-align: middle;\n    }\n\n    .dataframe tbody tr th {\n        vertical-align: top;\n    }\n\n    .dataframe thead th {\n        text-align: right;\n    }\n</style>\n<table border=\"1\" class=\"dataframe\">\n  <thead>\n    <tr style=\"text-align: right;\">\n      <th></th>\n      <th>has_javascript</th>\n      <th>has_java</th>\n      <th>has_python</th>\n      <th>has_c#</th>\n      <th>has_php</th>\n      <th>has_android</th>\n      <th>has_html</th>\n      <th>has_c++</th>\n      <th>has_jquery</th>\n      <th>has_css</th>\n      <th>...</th>\n      <th>has_wordpress</th>\n      <th>has_panas</th>\n      <th>has_wpf</th>\n      <th>has_string</th>\n      <th>has_laravel</th>\n      <th>has_xcode</th>\n      <th>has_windows</th>\n      <th>has_mongodb</th>\n      <th>has_vb.net</th>\n      <th>has_bash</th>\n    </tr>\n  </thead>\n  <tbody>\n    <tr>\n      <th>0</th>\n      <td>0</td>\n      <td>0</td>\n      <td>0</td>\n      <td>0</td>\n      <td>1</td>\n      <td>0</td>\n      <td>1</td>\n      <td>0</td>\n      <td>0</td>\n      <td>0</td>\n      <td>...</td>\n      <td>0</td>\n      <td>0</td>\n      <td>0</td>\n      <td>0</td>\n      <td>0</td>\n      <td>0</td>\n      <td>0</td>\n      <td>0</td>\n      <td>0</td>\n      <td>0</td>\n    </tr>\n    <tr>\n      <th>1</th>\n      <td>0</td>\n      <td>0</td>\n      <td>0</td>\n      <td>0</td>\n      <td>1</td>\n      <td>0</td>\n      <td>0</td>\n      <td>0</td>\n      <td>0</td>\n      <td>0</td>\n      <td>...</td>\n      <td>0</td>\n      <td>0</td>\n      <td>0</td>\n      <td>0</td>\n      <td>1</td>\n      <td>0</td>\n      <td>0</td>\n      <td>0</td>\n      <td>0</td>\n      <td>0</td>\n    </tr>\n    <tr>\n      <th>2</th>\n      <td>0</td>\n      <td>0</td>\n      <td>0</td>\n      <td>1</td>\n      <td>0</td>\n      <td>0</td>\n      <td>0</td>\n      <td>0</td>\n      <td>0</td>\n      <td>0</td>\n      <td>...</td>\n      <td>0</td>\n      <td>0</td>\n      <td>0</td>\n      <td>0</td>\n      <td>0</td>\n      <td>0</td>\n      <td>0</td>\n      <td>0</td>\n      <td>0</td>\n      <td>0</td>\n    </tr>\n    <tr>\n      <th>3</th>\n      <td>0</td>\n      <td>0</td>\n      <td>0</td>\n      <td>0</td>\n      <td>0</td>\n      <td>0</td>\n      <td>0</td>\n      <td>0</td>\n      <td>0</td>\n      <td>0</td>\n      <td>...</td>\n      <td>0</td>\n      <td>0</td>\n      <td>0</td>\n      <td>1</td>\n      <td>0</td>\n      <td>0</td>\n      <td>0</td>\n      <td>0</td>\n      <td>0</td>\n      <td>0</td>\n    </tr>\n    <tr>\n      <th>4</th>\n      <td>0</td>\n      <td>0</td>\n      <td>0</td>\n      <td>0</td>\n      <td>0</td>\n      <td>0</td>\n      <td>0</td>\n      <td>0</td>\n      <td>0</td>\n      <td>0</td>\n      <td>...</td>\n      <td>0</td>\n      <td>0</td>\n      <td>0</td>\n      <td>0</td>\n      <td>0</td>\n      <td>0</td>\n      <td>0</td>\n      <td>0</td>\n      <td>0</td>\n      <td>0</td>\n    </tr>\n  </tbody>\n</table>\n<p>5 rows × 50 columns</p>\n</div>"
     },
     "metadata": {},
     "execution_count": 122
    }
   ],
   "source": [
    "top_tag_encoder = TopTagEncoder(stackoverflow)\n",
    "\n",
    "stackover_new_top = top_tag_encoder.transform(stackoverflow)\n",
    "\n",
    "stackover_new_top.head()"
   ]
  },
  {
   "cell_type": "code",
   "execution_count": null,
   "metadata": {},
   "outputs": [],
   "source": [
    "val_freq = df[your_column].value_counts() #finds the frequencies of the values and sorts them\n",
    "good_vals = val_freq[:100].index #takes the top 100 values\n",
    "df[your_column][~df['your_column'].isin(good_vals)]='Other' #replaces the values not in the top 100 by \"Other\"\n",
    "\n",
    "# https://stackoverflow.com/questions/45312377/how-to-one-hot-encode-from-a-pandas-column-containing-a-list/45313942#45313942"
   ]
  },
  {
   "cell_type": "code",
   "execution_count": 21,
   "metadata": {},
   "outputs": [],
   "source": [
    "### Split into predictors and outcome data\n",
    "\n",
    "y = stackoverflow['score_cat_all']\n",
    "X = stackoverflow.drop(['answer_score', 'question_score', 'answer_count', 'comment_count', 'creation_date', 'view_count', 'score_cat_all'] , axis=1)"
   ]
  },
  {
   "cell_type": "code",
   "execution_count": 22,
   "metadata": {},
   "outputs": [],
   "source": [
    "### Split into train and test data\n",
    "\n",
    "X_train, X_test, y_train, y_test = train_test_split(X, y, test_size = 0.3, random_state = 1)"
   ]
  },
  {
   "cell_type": "code",
   "execution_count": 23,
   "metadata": {},
   "outputs": [],
   "source": [
    "### Model selection process: Create list of different classifiers/algorithms to try out\n",
    "\n",
    "classifiers = [\n",
    "    LogisticRegression(random_state=1),\n",
    "    KNeighborsClassifier(),\n",
    "    SVC(random_state=1),\n",
    "    DecisionTreeClassifier(random_state=1),\n",
    "    RandomForestClassifier(random_state=1),\n",
    "    GradientBoostingClassifier(random_state=1)\n",
    "    ]"
   ]
  },
  {
   "cell_type": "code",
   "execution_count": 127,
   "metadata": {
    "tags": []
   },
   "outputs": [
    {
     "output_type": "stream",
     "name": "stdout",
     "text": "LogisticRegression(random_state=1)\n              precision    recall  f1-score   support\n\n           0       0.51      0.60      0.55      3047\n           1       0.48      0.32      0.38      3023\n           2       0.51      0.57      0.54      2921\n\n    accuracy                           0.50      8991\n   macro avg       0.50      0.50      0.49      8991\nweighted avg       0.50      0.50      0.49      8991\n\nKNeighborsClassifier()\n              precision    recall  f1-score   support\n\n           0       0.46      0.56      0.51      3047\n           1       0.40      0.38      0.39      3023\n           2       0.46      0.39      0.42      2921\n\n    accuracy                           0.44      8991\n   macro avg       0.44      0.44      0.44      8991\nweighted avg       0.44      0.44      0.44      8991\n\nSVC(random_state=1)\n              precision    recall  f1-score   support\n\n           0       0.49      0.68      0.57      3047\n           1       0.43      0.37      0.40      3023\n           2       0.55      0.43      0.48      2921\n\n    accuracy                           0.49      8991\n   macro avg       0.49      0.49      0.48      8991\nweighted avg       0.49      0.49      0.48      8991\n\nDecisionTreeClassifier(random_state=1)\n              precision    recall  f1-score   support\n\n           0       0.44      0.42      0.43      3047\n           1       0.36      0.36      0.36      3023\n           2       0.40      0.43      0.42      2921\n\n    accuracy                           0.40      8991\n   macro avg       0.40      0.40      0.40      8991\nweighted avg       0.40      0.40      0.40      8991\n\nRandomForestClassifier(random_state=1)\n              precision    recall  f1-score   support\n\n           0       0.48      0.49      0.48      3047\n           1       0.40      0.37      0.39      3023\n           2       0.46      0.48      0.47      2921\n\n    accuracy                           0.45      8991\n   macro avg       0.45      0.45      0.45      8991\nweighted avg       0.45      0.45      0.45      8991\n\nGradientBoostingClassifier(random_state=1)\n              precision    recall  f1-score   support\n\n           0       0.50      0.66      0.57      3047\n           1       0.48      0.37      0.42      3023\n           2       0.54      0.49      0.52      2921\n\n    accuracy                           0.51      8991\n   macro avg       0.51      0.51      0.50      8991\nweighted avg       0.51      0.51      0.50      8991\n\n"
    }
   ],
   "source": [
    "### Model selection process: Loop through the different classifiers using the pipeline\n",
    "\n",
    "for classifier in classifiers:\n",
    "    model_pipeline = Pipeline([\n",
    "        ('feats', FeatureUnion([\n",
    "            # Ngrams\n",
    "            ('ngram', Ngrams(X_train[['answer_text_clean']])),\n",
    "            # Wordcounter\n",
    "            ('wordcount', WordCounter(X_train[['answer_text_clean']])),\n",
    "            # Code contained\n",
    "            ('codecheck', CodeCheck(X_train)),\n",
    "            # No. of code snippets\n",
    "            ('codecounter', CodeCounter(X_train)),\n",
    "            # JaccardSimilarity of question and answer\n",
    "            ('jaccard', JaccardSimilarity(X_train)),\n",
    "            # Similarity of question and answer\n",
    "            ('similarity', Similarity(X_train)),\n",
    "            # Top tags present\n",
    "            ('toptags', TopTagEncoder(X_train))\n",
    "            ])),\n",
    "            # Classifier\n",
    "            ('classifier', classifier)])\n",
    "    model_pipeline.fit(X_train, y_train)\n",
    "    y_predict = model_pipeline.predict(X_test)\n",
    "    print(classifier)\n",
    "    print(metrics.classification_report(y_test, y_predict))"
   ]
  },
  {
   "cell_type": "code",
   "execution_count": 28,
   "metadata": {
    "tags": []
   },
   "outputs": [
    {
     "output_type": "stream",
     "name": "stdout",
     "text": "GradientBoostingClassifier\n              precision    recall  f1-score   support\n\n           0       0.50      0.66      0.57      3047\n           1       0.48      0.37      0.42      3023\n           2       0.54      0.49      0.52      2921\n\n    accuracy                           0.51      8991\n   macro avg       0.51      0.51      0.50      8991\nweighted avg       0.51      0.51      0.50      8991\n\n"
    }
   ],
   "source": [
    "model_pipeline = Pipeline([\n",
    "    ('feats', FeatureUnion([\n",
    "            # Ngrams\n",
    "            ('ngram', Ngrams(X_train[['answer_text_clean']])),\n",
    "            # Wordcounter\n",
    "            ('wordcount', WordCounter(X_train[['answer_text_clean']])),\n",
    "            # Code contained\n",
    "            ('codecheck', CodeCheck(X_train)),\n",
    "            # No. of code snippets\n",
    "            ('codecounter', CodeCounter(X_train)),\n",
    "            # JaccardSimilarity of question and answer\n",
    "            ('jaccard', JaccardSimilarity(X_train)),\n",
    "            # Similarity of question and answer\n",
    "            ('similarity', Similarity(X_train)),\n",
    "            # Top tags present\n",
    "            ('toptags', TopTagEncoder(X_train))\n",
    "            ])),\n",
    "            # Classifier\n",
    "            ('classifier', GradientBoostingClassifier(random_state=1))])\n",
    "model_pipeline.fit(X_train, y_train)\n",
    "y_predict = model_pipeline.predict(X_test)\n",
    "print(\"GradientBoostingClassifier\")\n",
    "print(metrics.classification_report(y_test, y_predict))"
   ]
  },
  {
   "cell_type": "code",
   "execution_count": 29,
   "metadata": {},
   "outputs": [
    {
     "output_type": "execute_result",
     "data": {
      "text/plain": "5207     0\n10475    1\n13742    1\n6085     0\n13453    1\nName: score_cat_all, dtype: int64"
     },
     "metadata": {},
     "execution_count": 29
    }
   ],
   "source": [
    "###\n",
    "\n",
    "y_test.head()"
   ]
  },
  {
   "cell_type": "code",
   "execution_count": 30,
   "metadata": {},
   "outputs": [],
   "source": [
    "### Mapping predicted scores for test data onto actual scores\n",
    " \n",
    "y_predict = model_pipeline.predict(X_test)\n",
    "y_predict_df = pd.DataFrame(data = y_predict, columns=['predicted_score_cat'], index = X_test.index.copy())\n",
    "df_test = pd.merge(X_test, y_predict_df, left_index = True, right_index = True)\n",
    "\n",
    "df_test['score_cat_all'] = y_test"
   ]
  },
  {
   "cell_type": "code",
   "execution_count": 31,
   "metadata": {},
   "outputs": [
    {
     "output_type": "execute_result",
     "data": {
      "text/plain": "       Unnamed: 0  Unnamed: 0.1  \\\n5207         5213          5213   \n10475       10488         10488   \n13742       13758         13758   \n6085         6092          6092   \n13453       13468         13468   \n1906         1908          1908   \n18549       18569         18569   \n27824       27854         27854   \n2996         3000          3000   \n9280         9292          9292   \n16959       16976         16976   \n19800       19822         19822   \n4558         4563          4563   \n17371       17389         17389   \n17981       17999         17999   \n20076       20099         20099   \n25230       25258         25258   \n3785         3789          3789   \n1436         1438          1438   \n18567       18588         18588   \n\n                                          question_title  \\\n5207   Python: how to copy between lists using lists,...   \n10475  I'm having trouble with the sort order in a kb...   \n13742                CFG: Why is this grammar ambiguous?   \n6085   How to let Kafka Streams send one record per k...   \n13453  delete kubernetes cluster on docker-for-deskto...   \n1906          Resource not found errors in Ruby on rails   \n18549  How to prevent black background under control ...   \n27824         How to create a Capture dynamically (Raku)   \n2996                           Custom sort for histogram   \n9280         remove quotes from a json file using python   \n16959  How to safe_dump the dictionary and list into ...   \n19800  Searching with empty value returning empty arr...   \n4558                  Laravel is unable to read formdata   \n17371  Pickle doesn't work for class inherited from \"...   \n17981  \"The headers or library files could not be fou...   \n20076      Removing all certain duplicates from an array   \n25230  How to interpret: Label Ranking Average Precis...   \n3785              Reading CSV file - Object Oriented way   \n1436   Cards stacking over one another with the grid ...   \n18567  Syntax error near FOR LOOP in stored procedure...   \n\n                                           question_text  \\\n5207   <p>Say we have two lists of values, <code>list...   \n10475  <p>I have a Delphi 10.1 Berlin application tha...   \n13742  <p>The grammar is as follows.</p>\\n\\n<pre><cod...   \n6085   <p>I'm writing a Kafka Streams App. It does th...   \n13453  <p>What is the equivalent command for <code>mi...   \n1906   <p>I'm very new to RoR, I know that ActiveReco...   \n18549  <p><a href=\"https://i.stack.imgur.com/IdW9P.pn...   \n27824  <p>In the following example I try to create a ...   \n2996   <p>After looking at countless questions and an...   \n9280   <p>the dataframe 'dataset' is automatically ge...   \n16959  <p>I want the output as the YAML below:</p>\\n\\...   \n19800  <p>I am creating a crud web app where I have r...   \n4558   <p>I am making a web app, using angular on the...   \n17371  <p>The following code fails</p>\\n\\n<pre class=...   \n17981  <p>I'm trying to run Python's Scrapy in a Dock...   \n20076  <p>I have two different arrays and I want to r...   \n25230  <p>I am new to Array programming and found it ...   \n3785   <p>I'd like to parse a csv file in my course t...   \n1436   <p>I have 4 cards using bootstrap 4.  However,...   \n18567  <p>Below is my stored procedure which I am try...   \n\n                                                    tags  \\\n5207                              python|python-3.x|list   \n10475                            sorting|delphi|indexing   \n13742  grammar|context-free-grammar|context-free-lang...   \n6085                   apache-kafka|apache-kafka-streams   \n13453                 docker|kubernetes|kubectl|minikube   \n1906    ruby-on-rails|http-status-code-404|custom-errors   \n18549                   user-interface|delphi|background   \n27824                               dynamic|capture|raku   \n2996                            python|pandas|matplotlib   \n9280                                              python   \n16959                             python-3.x|yaml|pyyaml   \n19800   javascript|reactjs|redux|react-redux|redux-thunk   \n4558                                 php|angular|laravel   \n17371     python|python-3.x|python-3.5|pickle|namedtuple   \n17981             python|docker|dockerfile|pillow|alpine   \n20076                                  javascript|arrays   \n25230  python|numpy|scikit-learn|multilabel-classific...   \n3785                                    c#|instantiation   \n1436                                html|css|bootstrap-4   \n18567                             sql|postgresql|plpgsql   \n\n                                             answer_text  \\\n5207   <pre><code>list1 = ['a','b','c','d','e']\\nlist...   \n10475  <p>Its because the locale settings defines the...   \n13742  <p>It isn't ambiguous.  Your analysis is corre...   \n6085   <ol>\\n<li>I would recommend you to use exactly...   \n13453  <p>In recent Docker Edge versions for Mac ( 2....   \n1906   <p>Missing </p>\\n\\n<pre><code>def index\\n\\nend...   \n18549  <p>Try this:</p>\\n\\n<pre><code>interface\\n\\n  ...   \n27824  <p>In the class <code>List</code> there is the...   \n2996   <p>Update of your code with the answers in the...   \n9280   <p>simply u can use eval function.</p>\\n\\n<pre...   \n16959  <p>ruamel.yaml (disclaimer: I am the author of...   \n19800  <p>This is happening because you are updating ...   \n4558   <p>Delete 'Content-Type': '...' from headers. ...   \n17371  <p>The reason is quite simple; in general, the...   \n17981  <p>Just in case anyone else is still strugglin...   \n20076  <p>Here you go</p>\\n\\n<p><div class=\"snippet\" ...   \n25230  <p>To better understand how the score is calcu...   \n3785   <p>There is really no reason to use a library ...   \n1436   <p>If you remove the <code>col-sm-3</code> fro...   \n18567  <p>You forgot to declare <code>i</code>, there...   \n\n                                    question_title_clean  \\\n5207     python copy list use list list index list index   \n10475                  im trouble sort order kbmmemtable   \n13742                                  grammar ambiguous   \n6085   let kafka stream send one record per key per h...   \n13453           delete kubernetes cluster docker desktop   \n1906                       resource find error ruby rail   \n18549           prevent black background control repaint   \n27824                    create capture dynamically raku   \n2996                               custom sort histogram   \n9280                   remove quote json file use python   \n16959                           safedump dictionary list   \n19800  search empty value return empty array instead ...   \n4558                        laravel unable read formdata   \n17371  pickle doesnt work class inherit namedtuple ov...   \n17981  header library file could find jpeg instal pil...   \n20076                     remove certain duplicate array   \n25230    interpret label ranking average precision score   \n3785                         read file object orient way   \n1436                  card stack one another grid system   \n18567         syntax error near store procedure postgres   \n\n                                     question_text_clean  \\\n5207   say two list value tow list index copy element...   \n10475  delphi berlin application use kbm mem table ta...   \n13742  grammar follow gt gt way understand derivation...   \n6085   im write kafka stream app follow step consumes...   \n13453  equivalent command docker desktop understand m...   \n1906   im new ro know active record record find map h...   \n18549  screenshot take window activation see control ...   \n27824  follow example try create capture dynamically ...   \n2996   look countless question answer custom sort bar...   \n9280   pthe dataframe dataset automatically generated...   \n16959  want output item foodeat food item id category...   \n19800  create crud web app render user table come thi...   \n4558   make web app use angular frontend laravel back...   \n17371  follow code fails collection import namedtuple...   \n17981  im try run python scrapy docker container base...   \n20076  two different array want remove copy first arr...   \n25230  new array programming find difficult interpret...   \n3785   id like parse csv file course attend cv file l...   \n1436   card use bootstrap however scale card overlap ...   \n18567  store procedure try create convert table data ...   \n\n                                              tags_clean  \\\n5207                                  python python list   \n10475                               sort delphi indexing   \n13742  grammar context free grammar context free lang...   \n6085                    apache kafka apache kafka stream   \n13453                 docker kubernetes kubectl minikube   \n1906             ruby rail http status code custom error   \n18549                   user interface delphi background   \n27824                               dynamic capture raku   \n2996                             python panda matplotlib   \n9280                                              python   \n16959                                 python yaml pyyaml   \n19800   javascript reactjs redux react redux redux thunk   \n4558                                 php angular laravel   \n17371             python python python pickle namedtuple   \n17981             python docker dockerfile pillow alpine   \n20076                                   javascript array   \n25230  python numpy scikit learn multilabel classific...   \n3785                                       instantiation   \n1436                                   html cs bootstrap   \n18567                             sql postgresql plpgsql   \n\n                                       answer_text_clean  \\\n5207   pre list list index index for index list list ...   \n10475  locale setting defines order try set mtifo ign...   \n13742  isnt ambiguous analysis correct heres mechanic...   \n6085   ol would recommend use exactly guarantee provi...   \n13453  recent docker edge version mac design change r...   \n1906   miss def indexend restart computer everything ...   \n18549  try interface form class form protect procedur...   \n27824  class method work exactly want test test test ...   \n2996   update code answer comment matplotlib import p...   \n9280   psimply use eval function new coordinate statu...   \n16959  pruamel yaml disclaimer author package havethi...   \n19800  happen update user array empty array result em...   \n4558   delete content type header work code import fi...   \n17371  reason quite simple general pass stuff around ...   \n17981  case anyone else still struggle like see offic...   \n20076  go let container let remove let difference gt ...   \n25230  well understand score calculate let come simpl...   \n3785   really reason use library code read simple see...   \n1436   remove parrent work fine happen force parrent ...   \n18567  forget declare useless youre try iterate jsonb...   \n\n                                          tag_list_clean  predicted_score_cat  \\\n5207                              python python-3.x list                    0   \n10475                            sorting delphi indexing                    0   \n13742  grammar context-free-grammar context-free-lang...                    2   \n6085                   apache-kafka apache-kafka-streams                    0   \n13453                 docker kubernetes kubectl minikube                    2   \n1906    ruby-on-rails http-status-code-404 custom-errors                    0   \n18549                   user-interface delphi background                    0   \n27824                               dynamic capture raku                    2   \n2996                            python pandas matplotlib                    0   \n9280                                              python                    0   \n16959                             python-3.x yaml pyyaml                    1   \n19800   javascript reactjs redux react-redux redux-thunk                    0   \n4558                                 php angular laravel                    0   \n17371     python python-3.x python-3.5 pickle namedtuple                    1   \n17981             python docker dockerfile pillow alpine                    0   \n20076                                  javascript arrays                    1   \n25230  python numpy scikit-learn multilabel-classific...                    0   \n3785                                    c# instantiation                    0   \n1436                                html css bootstrap-4                    0   \n18567                             sql postgresql plpgsql                    1   \n\n       score_cat_all  \n5207               0  \n10475              1  \n13742              1  \n6085               0  \n13453              1  \n1906               0  \n18549              1  \n27824              2  \n2996               0  \n9280               0  \n16959              1  \n19800              1  \n4558               0  \n17371              1  \n17981              1  \n20076              2  \n25230              2  \n3785               0  \n1436               0  \n18567              1  ",
      "text/html": "<div>\n<style scoped>\n    .dataframe tbody tr th:only-of-type {\n        vertical-align: middle;\n    }\n\n    .dataframe tbody tr th {\n        vertical-align: top;\n    }\n\n    .dataframe thead th {\n        text-align: right;\n    }\n</style>\n<table border=\"1\" class=\"dataframe\">\n  <thead>\n    <tr style=\"text-align: right;\">\n      <th></th>\n      <th>Unnamed: 0</th>\n      <th>Unnamed: 0.1</th>\n      <th>question_title</th>\n      <th>question_text</th>\n      <th>tags</th>\n      <th>answer_text</th>\n      <th>question_title_clean</th>\n      <th>question_text_clean</th>\n      <th>tags_clean</th>\n      <th>answer_text_clean</th>\n      <th>tag_list_clean</th>\n      <th>predicted_score_cat</th>\n      <th>score_cat_all</th>\n    </tr>\n  </thead>\n  <tbody>\n    <tr>\n      <th>5207</th>\n      <td>5213</td>\n      <td>5213</td>\n      <td>Python: how to copy between lists using lists,...</td>\n      <td>&lt;p&gt;Say we have two lists of values, &lt;code&gt;list...</td>\n      <td>python|python-3.x|list</td>\n      <td>&lt;pre&gt;&lt;code&gt;list1 = ['a','b','c','d','e']\\nlist...</td>\n      <td>python copy list use list list index list index</td>\n      <td>say two list value tow list index copy element...</td>\n      <td>python python list</td>\n      <td>pre list list index index for index list list ...</td>\n      <td>python python-3.x list</td>\n      <td>0</td>\n      <td>0</td>\n    </tr>\n    <tr>\n      <th>10475</th>\n      <td>10488</td>\n      <td>10488</td>\n      <td>I'm having trouble with the sort order in a kb...</td>\n      <td>&lt;p&gt;I have a Delphi 10.1 Berlin application tha...</td>\n      <td>sorting|delphi|indexing</td>\n      <td>&lt;p&gt;Its because the locale settings defines the...</td>\n      <td>im trouble sort order kbmmemtable</td>\n      <td>delphi berlin application use kbm mem table ta...</td>\n      <td>sort delphi indexing</td>\n      <td>locale setting defines order try set mtifo ign...</td>\n      <td>sorting delphi indexing</td>\n      <td>0</td>\n      <td>1</td>\n    </tr>\n    <tr>\n      <th>13742</th>\n      <td>13758</td>\n      <td>13758</td>\n      <td>CFG: Why is this grammar ambiguous?</td>\n      <td>&lt;p&gt;The grammar is as follows.&lt;/p&gt;\\n\\n&lt;pre&gt;&lt;cod...</td>\n      <td>grammar|context-free-grammar|context-free-lang...</td>\n      <td>&lt;p&gt;It isn't ambiguous.  Your analysis is corre...</td>\n      <td>grammar ambiguous</td>\n      <td>grammar follow gt gt way understand derivation...</td>\n      <td>grammar context free grammar context free lang...</td>\n      <td>isnt ambiguous analysis correct heres mechanic...</td>\n      <td>grammar context-free-grammar context-free-lang...</td>\n      <td>2</td>\n      <td>1</td>\n    </tr>\n    <tr>\n      <th>6085</th>\n      <td>6092</td>\n      <td>6092</td>\n      <td>How to let Kafka Streams send one record per k...</td>\n      <td>&lt;p&gt;I'm writing a Kafka Streams App. It does th...</td>\n      <td>apache-kafka|apache-kafka-streams</td>\n      <td>&lt;ol&gt;\\n&lt;li&gt;I would recommend you to use exactly...</td>\n      <td>let kafka stream send one record per key per h...</td>\n      <td>im write kafka stream app follow step consumes...</td>\n      <td>apache kafka apache kafka stream</td>\n      <td>ol would recommend use exactly guarantee provi...</td>\n      <td>apache-kafka apache-kafka-streams</td>\n      <td>0</td>\n      <td>0</td>\n    </tr>\n    <tr>\n      <th>13453</th>\n      <td>13468</td>\n      <td>13468</td>\n      <td>delete kubernetes cluster on docker-for-deskto...</td>\n      <td>&lt;p&gt;What is the equivalent command for &lt;code&gt;mi...</td>\n      <td>docker|kubernetes|kubectl|minikube</td>\n      <td>&lt;p&gt;In recent Docker Edge versions for Mac ( 2....</td>\n      <td>delete kubernetes cluster docker desktop</td>\n      <td>equivalent command docker desktop understand m...</td>\n      <td>docker kubernetes kubectl minikube</td>\n      <td>recent docker edge version mac design change r...</td>\n      <td>docker kubernetes kubectl minikube</td>\n      <td>2</td>\n      <td>1</td>\n    </tr>\n    <tr>\n      <th>1906</th>\n      <td>1908</td>\n      <td>1908</td>\n      <td>Resource not found errors in Ruby on rails</td>\n      <td>&lt;p&gt;I'm very new to RoR, I know that ActiveReco...</td>\n      <td>ruby-on-rails|http-status-code-404|custom-errors</td>\n      <td>&lt;p&gt;Missing &lt;/p&gt;\\n\\n&lt;pre&gt;&lt;code&gt;def index\\n\\nend...</td>\n      <td>resource find error ruby rail</td>\n      <td>im new ro know active record record find map h...</td>\n      <td>ruby rail http status code custom error</td>\n      <td>miss def indexend restart computer everything ...</td>\n      <td>ruby-on-rails http-status-code-404 custom-errors</td>\n      <td>0</td>\n      <td>0</td>\n    </tr>\n    <tr>\n      <th>18549</th>\n      <td>18569</td>\n      <td>18569</td>\n      <td>How to prevent black background under control ...</td>\n      <td>&lt;p&gt;&lt;a href=\"https://i.stack.imgur.com/IdW9P.pn...</td>\n      <td>user-interface|delphi|background</td>\n      <td>&lt;p&gt;Try this:&lt;/p&gt;\\n\\n&lt;pre&gt;&lt;code&gt;interface\\n\\n  ...</td>\n      <td>prevent black background control repaint</td>\n      <td>screenshot take window activation see control ...</td>\n      <td>user interface delphi background</td>\n      <td>try interface form class form protect procedur...</td>\n      <td>user-interface delphi background</td>\n      <td>0</td>\n      <td>1</td>\n    </tr>\n    <tr>\n      <th>27824</th>\n      <td>27854</td>\n      <td>27854</td>\n      <td>How to create a Capture dynamically (Raku)</td>\n      <td>&lt;p&gt;In the following example I try to create a ...</td>\n      <td>dynamic|capture|raku</td>\n      <td>&lt;p&gt;In the class &lt;code&gt;List&lt;/code&gt; there is the...</td>\n      <td>create capture dynamically raku</td>\n      <td>follow example try create capture dynamically ...</td>\n      <td>dynamic capture raku</td>\n      <td>class method work exactly want test test test ...</td>\n      <td>dynamic capture raku</td>\n      <td>2</td>\n      <td>2</td>\n    </tr>\n    <tr>\n      <th>2996</th>\n      <td>3000</td>\n      <td>3000</td>\n      <td>Custom sort for histogram</td>\n      <td>&lt;p&gt;After looking at countless questions and an...</td>\n      <td>python|pandas|matplotlib</td>\n      <td>&lt;p&gt;Update of your code with the answers in the...</td>\n      <td>custom sort histogram</td>\n      <td>look countless question answer custom sort bar...</td>\n      <td>python panda matplotlib</td>\n      <td>update code answer comment matplotlib import p...</td>\n      <td>python pandas matplotlib</td>\n      <td>0</td>\n      <td>0</td>\n    </tr>\n    <tr>\n      <th>9280</th>\n      <td>9292</td>\n      <td>9292</td>\n      <td>remove quotes from a json file using python</td>\n      <td>&lt;p&gt;the dataframe 'dataset' is automatically ge...</td>\n      <td>python</td>\n      <td>&lt;p&gt;simply u can use eval function.&lt;/p&gt;\\n\\n&lt;pre...</td>\n      <td>remove quote json file use python</td>\n      <td>pthe dataframe dataset automatically generated...</td>\n      <td>python</td>\n      <td>psimply use eval function new coordinate statu...</td>\n      <td>python</td>\n      <td>0</td>\n      <td>0</td>\n    </tr>\n    <tr>\n      <th>16959</th>\n      <td>16976</td>\n      <td>16976</td>\n      <td>How to safe_dump the dictionary and list into ...</td>\n      <td>&lt;p&gt;I want the output as the YAML below:&lt;/p&gt;\\n\\...</td>\n      <td>python-3.x|yaml|pyyaml</td>\n      <td>&lt;p&gt;ruamel.yaml (disclaimer: I am the author of...</td>\n      <td>safedump dictionary list</td>\n      <td>want output item foodeat food item id category...</td>\n      <td>python yaml pyyaml</td>\n      <td>pruamel yaml disclaimer author package havethi...</td>\n      <td>python-3.x yaml pyyaml</td>\n      <td>1</td>\n      <td>1</td>\n    </tr>\n    <tr>\n      <th>19800</th>\n      <td>19822</td>\n      <td>19822</td>\n      <td>Searching with empty value returning empty arr...</td>\n      <td>&lt;p&gt;I am creating a crud web app where I have r...</td>\n      <td>javascript|reactjs|redux|react-redux|redux-thunk</td>\n      <td>&lt;p&gt;This is happening because you are updating ...</td>\n      <td>search empty value return empty array instead ...</td>\n      <td>create crud web app render user table come thi...</td>\n      <td>javascript reactjs redux react redux redux thunk</td>\n      <td>happen update user array empty array result em...</td>\n      <td>javascript reactjs redux react-redux redux-thunk</td>\n      <td>0</td>\n      <td>1</td>\n    </tr>\n    <tr>\n      <th>4558</th>\n      <td>4563</td>\n      <td>4563</td>\n      <td>Laravel is unable to read formdata</td>\n      <td>&lt;p&gt;I am making a web app, using angular on the...</td>\n      <td>php|angular|laravel</td>\n      <td>&lt;p&gt;Delete 'Content-Type': '...' from headers. ...</td>\n      <td>laravel unable read formdata</td>\n      <td>make web app use angular frontend laravel back...</td>\n      <td>php angular laravel</td>\n      <td>delete content type header work code import fi...</td>\n      <td>php angular laravel</td>\n      <td>0</td>\n      <td>0</td>\n    </tr>\n    <tr>\n      <th>17371</th>\n      <td>17389</td>\n      <td>17389</td>\n      <td>Pickle doesn't work for class inherited from \"...</td>\n      <td>&lt;p&gt;The following code fails&lt;/p&gt;\\n\\n&lt;pre class=...</td>\n      <td>python|python-3.x|python-3.5|pickle|namedtuple</td>\n      <td>&lt;p&gt;The reason is quite simple; in general, the...</td>\n      <td>pickle doesnt work class inherit namedtuple ov...</td>\n      <td>follow code fails collection import namedtuple...</td>\n      <td>python python python pickle namedtuple</td>\n      <td>reason quite simple general pass stuff around ...</td>\n      <td>python python-3.x python-3.5 pickle namedtuple</td>\n      <td>1</td>\n      <td>1</td>\n    </tr>\n    <tr>\n      <th>17981</th>\n      <td>17999</td>\n      <td>17999</td>\n      <td>\"The headers or library files could not be fou...</td>\n      <td>&lt;p&gt;I'm trying to run Python's Scrapy in a Dock...</td>\n      <td>python|docker|dockerfile|pillow|alpine</td>\n      <td>&lt;p&gt;Just in case anyone else is still strugglin...</td>\n      <td>header library file could find jpeg instal pil...</td>\n      <td>im try run python scrapy docker container base...</td>\n      <td>python docker dockerfile pillow alpine</td>\n      <td>case anyone else still struggle like see offic...</td>\n      <td>python docker dockerfile pillow alpine</td>\n      <td>0</td>\n      <td>1</td>\n    </tr>\n    <tr>\n      <th>20076</th>\n      <td>20099</td>\n      <td>20099</td>\n      <td>Removing all certain duplicates from an array</td>\n      <td>&lt;p&gt;I have two different arrays and I want to r...</td>\n      <td>javascript|arrays</td>\n      <td>&lt;p&gt;Here you go&lt;/p&gt;\\n\\n&lt;p&gt;&lt;div class=\"snippet\" ...</td>\n      <td>remove certain duplicate array</td>\n      <td>two different array want remove copy first arr...</td>\n      <td>javascript array</td>\n      <td>go let container let remove let difference gt ...</td>\n      <td>javascript arrays</td>\n      <td>1</td>\n      <td>2</td>\n    </tr>\n    <tr>\n      <th>25230</th>\n      <td>25258</td>\n      <td>25258</td>\n      <td>How to interpret: Label Ranking Average Precis...</td>\n      <td>&lt;p&gt;I am new to Array programming and found it ...</td>\n      <td>python|numpy|scikit-learn|multilabel-classific...</td>\n      <td>&lt;p&gt;To better understand how the score is calcu...</td>\n      <td>interpret label ranking average precision score</td>\n      <td>new array programming find difficult interpret...</td>\n      <td>python numpy scikit learn multilabel classific...</td>\n      <td>well understand score calculate let come simpl...</td>\n      <td>python numpy scikit-learn multilabel-classific...</td>\n      <td>0</td>\n      <td>2</td>\n    </tr>\n    <tr>\n      <th>3785</th>\n      <td>3789</td>\n      <td>3789</td>\n      <td>Reading CSV file - Object Oriented way</td>\n      <td>&lt;p&gt;I'd like to parse a csv file in my course t...</td>\n      <td>c#|instantiation</td>\n      <td>&lt;p&gt;There is really no reason to use a library ...</td>\n      <td>read file object orient way</td>\n      <td>id like parse csv file course attend cv file l...</td>\n      <td>instantiation</td>\n      <td>really reason use library code read simple see...</td>\n      <td>c# instantiation</td>\n      <td>0</td>\n      <td>0</td>\n    </tr>\n    <tr>\n      <th>1436</th>\n      <td>1438</td>\n      <td>1438</td>\n      <td>Cards stacking over one another with the grid ...</td>\n      <td>&lt;p&gt;I have 4 cards using bootstrap 4.  However,...</td>\n      <td>html|css|bootstrap-4</td>\n      <td>&lt;p&gt;If you remove the &lt;code&gt;col-sm-3&lt;/code&gt; fro...</td>\n      <td>card stack one another grid system</td>\n      <td>card use bootstrap however scale card overlap ...</td>\n      <td>html cs bootstrap</td>\n      <td>remove parrent work fine happen force parrent ...</td>\n      <td>html css bootstrap-4</td>\n      <td>0</td>\n      <td>0</td>\n    </tr>\n    <tr>\n      <th>18567</th>\n      <td>18588</td>\n      <td>18588</td>\n      <td>Syntax error near FOR LOOP in stored procedure...</td>\n      <td>&lt;p&gt;Below is my stored procedure which I am try...</td>\n      <td>sql|postgresql|plpgsql</td>\n      <td>&lt;p&gt;You forgot to declare &lt;code&gt;i&lt;/code&gt;, there...</td>\n      <td>syntax error near store procedure postgres</td>\n      <td>store procedure try create convert table data ...</td>\n      <td>sql postgresql plpgsql</td>\n      <td>forget declare useless youre try iterate jsonb...</td>\n      <td>sql postgresql plpgsql</td>\n      <td>1</td>\n      <td>1</td>\n    </tr>\n  </tbody>\n</table>\n</div>"
     },
     "metadata": {},
     "execution_count": 31
    }
   ],
   "source": [
    "df_test.head(20)"
   ]
  },
  {
   "cell_type": "code",
   "execution_count": 38,
   "metadata": {},
   "outputs": [
    {
     "output_type": "execute_result",
     "data": {
      "text/plain": "predicted_score_cat     0     1     2\nscore_cat_all                        \n0                    1994   576   477\n1                    1140  1023   860\n2                     893   676  1352",
      "text/html": "<div>\n<style scoped>\n    .dataframe tbody tr th:only-of-type {\n        vertical-align: middle;\n    }\n\n    .dataframe tbody tr th {\n        vertical-align: top;\n    }\n\n    .dataframe thead th {\n        text-align: right;\n    }\n</style>\n<table border=\"1\" class=\"dataframe\">\n  <thead>\n    <tr style=\"text-align: right;\">\n      <th>predicted_score_cat</th>\n      <th>0</th>\n      <th>1</th>\n      <th>2</th>\n    </tr>\n    <tr>\n      <th>score_cat_all</th>\n      <th></th>\n      <th></th>\n      <th></th>\n    </tr>\n  </thead>\n  <tbody>\n    <tr>\n      <th>0</th>\n      <td>1994</td>\n      <td>576</td>\n      <td>477</td>\n    </tr>\n    <tr>\n      <th>1</th>\n      <td>1140</td>\n      <td>1023</td>\n      <td>860</td>\n    </tr>\n    <tr>\n      <th>2</th>\n      <td>893</td>\n      <td>676</td>\n      <td>1352</td>\n    </tr>\n  </tbody>\n</table>\n</div>"
     },
     "metadata": {},
     "execution_count": 38
    }
   ],
   "source": [
    "df_test.groupby(['score_cat_all', 'predicted_score_cat']).size().unstack(fill_value=0)"
   ]
  },
  {
   "cell_type": "code",
   "execution_count": 42,
   "metadata": {},
   "outputs": [
    {
     "output_type": "execute_result",
     "data": {
      "text/plain": "      Unnamed: 0                                     question_title  \\\n5213        5213  Python: how to copy between lists using lists,...   \n6092        6092  How to let Kafka Streams send one record per k...   \n1908        1908         Resource not found errors in Ruby on rails   \n3000        3000                          Custom sort for histogram   \n9292        9292        remove quotes from a json file using python   \n3789        3789             Reading CSV file - Object Oriented way   \n88            88  How to convert survey results as a percentage ...   \n4417        4417              almostIncreasingSequence - Javascript   \n333          333  I have installed FFMPEG and can't find it insi...   \n4410        4410                     Tensorflow Dataset API : Cache   \n5900        5900               ORA-01843: Not a Valid Month in LINQ   \n3329        3329  How can I convert a String in 2 differents val...   \n6066        6066  This IP, site or mobile application is not aut...   \n9776        9776  Same font, font-weight, and browser, different...   \n3303        3303  Sort one array by columns of another array - P...   \n1291        1291  Postgresql : How do I select top n percent(%) ...   \n1687        1687  h12 error when mongoose try to connect to hero...   \n267          267  How can I set permission for seperate request ...   \n483          483  Removing a view controller from UIPageViewCont...   \n9801        9801  .font(.system(size:17)) - Type of expression i...   \n4499        4499     How to return non blade based view in laravel?   \n3359        3359        CKEditor mentions - remove marker from feed   \n5675        5675  Weird black 'outer border' outside border in IE11   \n5227        5227     Beginner deleting columns from CSV (no pandas)   \n3665        3665  How to determine ABI of Android .so file (i.e....   \n3633        3633  Upgrade python packages from requirements.txt ...   \n9501        9501  VSCode - TypeScript language service died unex...   \n1664        1664  How to handle errors and terminate Goroutine u...   \n4993        4993  Create MongoDB collection with standard JSON s...   \n3023        3023    Unexpected end of JSON input in MongoDB Compass   \n\n                                          question_text  \\\n5213  <p>Say we have two lists of values, <code>list...   \n6092  <p>I'm writing a Kafka Streams App. It does th...   \n1908  <p>I'm very new to RoR, I know that ActiveReco...   \n3000  <p>After looking at countless questions and an...   \n9292  <p>the dataframe 'dataset' is automatically ge...   \n3789  <p>I'd like to parse a csv file in my course t...   \n88    <p>A survey was conducted with <code>2,233</co...   \n4417  <p>Hi guys I'm using Codefights concurrently w...   \n333   <p>I have installed FFMPeg in CentOS. It works...   \n4410  <p>I am trying to use tf.Dataset.cache but it ...   \n5900  <p>I use Oracle is my database, and this is th...   \n3329  <p>I'm new here and idk how this page works, m...   \n6066  <p>I am using <a href=\"https://maps.googleapis...   \n9776  <p>I am making a website and wanting to have t...   \n3303  <p>I have two arrays, <code>a</code> and <code...   \n1291  <p>We are new to postgres, we have following q...   \n1687  <p>My code </p>\\n\\n<pre><code>const mongoose =...   \n267   <p>I'm fairly new to Django and Django Rest Fr...   \n483   <p>It's odd that there's no straightforward wa...   \n9801  <p>I have an error with font size, what does i...   \n4499  <p>I have custom php file (<code>index.php</co...   \n3359  <p>I have a feed with names which comes from m...   \n5675  <p>I've been creating a Leaflet map with Icons...   \n5227  <p>I've just started coding, I'm trying to rem...   \n3665  <p>I have a .so file provided by a third-party...   \n3633  <p>How do I upgrade all my python packages fro...   \n9501  <p>This error message keeps sliding down from ...   \n1664  <p>I have been playing around with Goroutines,...   \n4993  <p>I want to create a MongoDB collection using...   \n3023  <p>I want to import data of type json in Mongo...   \n\n                                                  tags  \\\n5213                            python|python-3.x|list   \n6092                 apache-kafka|apache-kafka-streams   \n1908  ruby-on-rails|http-status-code-404|custom-errors   \n3000                          python|pandas|matplotlib   \n9292                                            python   \n3789                                  c#|instantiation   \n88                                       python|pandas   \n4417                      javascript|performance|big-o   \n333                 php|linux|ffmpeg|centos|ffmpeg-php   \n4410                        caching|tensorflow|dataset   \n5900                  asp.net-mvc|linq|datetime-format   \n3329                                   java|string|int   \n6066                      google-api|google-places-api   \n9776                                    html|css|fonts   \n3303                       python|arrays|numpy|sorting   \n1291            sql|database|postgresql|postgresql-9.1   \n1687                   node.js|mongodb|heroku|mongoose   \n267       python|django|api|http|django-rest-framework   \n483                 iphone|objective-c|ios|cocoa-touch   \n9801                                     swift|swiftui   \n4499                             php|laravel|laravel-7   \n3359                              php|laravel|ckeditor   \n5675                             css|border|stylesheet   \n5227                             python|python-3.x|csv   \n3665                               android|android-ndk   \n3633              python|pip|packages|requirements.txt   \n9501                                visual-studio-code   \n1664                          go|concurrency|goroutine   \n4993                                      json|mongodb   \n3023                                      json|mongodb   \n\n                                            answer_text  score_cat_all  \\\n5213  <pre><code>list1 = ['a','b','c','d','e']\\nlist...              0   \n6092  <ol>\\n<li>I would recommend you to use exactly...              0   \n1908  <p>Missing </p>\\n\\n<pre><code>def index\\n\\nend...              0   \n3000  <p>Update of your code with the answers in the...              0   \n9292  <p>simply u can use eval function.</p>\\n\\n<pre...              0   \n3789  <p>There is really no reason to use a library ...              0   \n88    <pre><code>df = df.astype(float)\\ndf = (df/223...              0   \n4417  <p>I came up with this solution in TypeScript,...              0   \n333   <p>I think to use FFMPFG with php, the fastest...              0   \n4410  <ol>\\n<li><p>The intention of .cache function ...              0   \n5900  <p>I'm guessing that you need to do some maski...              0   \n3329  <p>Save this code as Main.java and run it.</p>...              0   \n6066  <p>Disable both direction api and geocoding ap...              0   \n9776  <p>you can use something like Normalize css <a...              0   \n3303  <p>I am supposing <em>a</em> and <em>b</em> ha...              0   \n1291  <p>The accepted answer did not work for me. I ...              0   \n1687  <p><a href=\"https://i.stack.imgur.com/Qz1aM.pn...              0   \n267   <p>Hi you can use DjangoModelPermissions inste...              0   \n483   <p>we are getting crash on tab change .So one ...              0   \n9801  <p><code>UIFont</code> has no member <code>sys...              0   \n4499  <p>Laravel Already have index.php file in <cod...              0   \n3359  <p>Managed to solve my problem by dividing the...              0   \n5675  <p>remove border and make it as 0.\\nborder: 0;...              0   \n5227  <p>It's possible to simultaneously open the fi...              0   \n3665  <p>Yes you can find ABI version of .SO file us...              0   \n3633  <p>If you install anything in your django proj...              0   \n9501  <p>you can try to install <a href=\"https://mar...              0   \n1664  <p>I have modified your example i don't know i...              0   \n4993  <p>The only option which you can use is adding...              0   \n3023  <p>You can also use the command line of mongod...              0   \n\n                                   question_title_clean  \\\n5213    python copy list use list list index list index   \n6092  let kafka stream send one record per key per h...   \n1908                      resource find error ruby rail   \n3000                              custom sort histogram   \n9292                  remove quote json file use python   \n3789                        read file object orient way   \n88    convert survey result percentage total respond...   \n4417                almost increase sequence javascript   \n333                      instal cant find inside script   \n4410                           tensorflow dataset cache   \n5900                                        valid month   \n3329     convert string differents value differents int   \n6066          site mobile application authorize use key   \n9776  font font weight browser different website giv...   \n3303        sort one array columns another array python   \n1291  postgresql select top percent entry group cate...   \n1687  error mongoose try connect heroku mlab mongo d...   \n267   set permission seperate request method model v...   \n483         remove view controller page view controller   \n9801  font system size type expression ambiguous wit...   \n4499                 return non blade base view laravel   \n3359                  editor mention remove marker feed   \n5675            weird black outer border outside border   \n5227                       beginner delete column panda   \n3665          determine android file armeabi armeabi va   \n3633  upgrade python package requirement txt use pip...   \n9501  code type script language service die unexpect...   \n1664    handle error terminate goroutine use wait group   \n4993            create mongo collection standard schema   \n3023                 unexpected end input mongo compass   \n\n                                    question_text_clean  \\\n5213  say two list value tow list index copy element...   \n6092  im write kafka stream app follow step consumes...   \n1908  im new ro know active record record find map h...   \n3000  look countless question answer custom sort bar...   \n9292  pthe dataframe dataset automatically generated...   \n3789  id like parse csv file course attend cv file l...   \n88    survey conduct respondent follow result come f...   \n4417  hi guy im use codefights concurrently learn al...   \n333   instal peg cent work perfectly inside usr bin ...   \n4410  try use tf dataset cache seem affect question ...   \n5900  use oracle database query signing flow current...   \n3329  im new idk page work problem think simple im s...   \n6066  use https map googleapis com map api geocode j...   \n9776  make website want look font website however gi...   \n3303  two array follow array array would like sort f...   \n1291  new postgres follow query select top record ca...   \n1687  code const mongoose require mongoose mongoose ...   \n267   im fairly new django django rest framework can...   \n483   odd there straightforward way consider follow ...   \n9801  error font size mean button action label text ...   \n4499  custom php file amp code use file view laravel...   \n3359  fee name come back end first last name editor ...   \n5675  ive create leaflet map icon icon pixel white b...   \n5227  ive start cod im try remove certain column pro...   \n3665  file provide third party vendor include androi...   \n3633  upgrade python package requirement txt file us...   \n9501  error message keep slide top every second clic...   \n1664  play around goroutines channel wait group toda...   \n4993  want create mongo collection use schema file s...   \n3023  want import data type json mongo compass impor...   \n\n                                        tags_clean  \\\n5213                            python python list   \n6092              apache kafka apache kafka stream   \n1908       ruby rail http status code custom error   \n3000                       python panda matplotlib   \n9292                                        python   \n3789                                 instantiation   \n88                                    python panda   \n4417                    javascript performance big   \n333             php linux ffmpeg centos ffmpeg php   \n4410                      cache tensorflow dataset   \n5900              asp net mvc linq datetime format   \n3329                               java string int   \n6066                   google api google place api   \n9776                                  html cs font   \n3303                       python array numpy sort   \n1291            sql database postgresql postgresql   \n1687                  node mongodb heroku mongoose   \n267   python django api http django rest framework   \n483                iphone objective io cocoa touch   \n9801                                 swift swiftui   \n4499                           php laravel laravel   \n3359                          php laravel ckeditor   \n5675                          cs border stylesheet   \n5227                             python python csv   \n3665                           android android ndk   \n3633            python pip package requirement txt   \n9501                            visual studio code   \n1664                      go concurrency goroutine   \n4993                                  json mongodb   \n3023                                  json mongodb   \n\n                                      answer_text_clean  predicted_score_cat  \n5213  pre list list index index for index list list ...                    0  \n6092  ol would recommend use exactly guarantee provi...                    0  \n1908  miss def indexend restart computer everything ...                    0  \n3000  update code answer comment matplotlib import p...                    0  \n9292  psimply use eval function new coordinate statu...                    0  \n3789  really reason use library code read simple see...                    0  \n88                   pre df df astype float df df round                    0  \n4417  come solution type script put feedback work bo...                    0  \n333   think use php fast way use package http github...                    0  \n4410  ol intention cache function speed data pipelin...                    0  \n5900  im guess need mask possibly change look https ...                    0  \n3329  save code main java run public class main publ...                    0  \n6066  disable direction api geocoding api enable wor...                    0  \n9776  pyou use something like normalize cs http neco...                    0  \n3303  suppose dimension first column contains set el...                    0  \n1291  accept answer work find solution work temp val...                    0  \n1687  check mongo atlas make sure ip adress configur...                    0  \n267   hi use django model permission instead group p...                    0  \n483   pwe get crash tab change one solution get chan...                    0  \n9801                           member could use instead                    0  \n4499  laravel already index php file try rename some...                    0  \n3359  manage solve problem dividing name back end fi...                    0  \n5675                         premove border make border                    0  \n5227  possible simultaneously open file read file wr...                    0  \n3665  yes find version file use read elf java refere...                    0  \n3633  install anything django project installation w...                    0  \n9501  pyou try install vscode extension make vscode ...                    0  \n1664  modify example dont know clean solution avoids...                    0  \n4993  option use add json schema validator collectio...                    0  \n3023  also use command line mongodb like db user ins...                    0  ",
      "text/html": "<div>\n<style scoped>\n    .dataframe tbody tr th:only-of-type {\n        vertical-align: middle;\n    }\n\n    .dataframe tbody tr th {\n        vertical-align: top;\n    }\n\n    .dataframe thead th {\n        text-align: right;\n    }\n</style>\n<table border=\"1\" class=\"dataframe\">\n  <thead>\n    <tr style=\"text-align: right;\">\n      <th></th>\n      <th>Unnamed: 0</th>\n      <th>question_title</th>\n      <th>question_text</th>\n      <th>tags</th>\n      <th>answer_text</th>\n      <th>score_cat_all</th>\n      <th>question_title_clean</th>\n      <th>question_text_clean</th>\n      <th>tags_clean</th>\n      <th>answer_text_clean</th>\n      <th>predicted_score_cat</th>\n    </tr>\n  </thead>\n  <tbody>\n    <tr>\n      <th>5213</th>\n      <td>5213</td>\n      <td>Python: how to copy between lists using lists,...</td>\n      <td>&lt;p&gt;Say we have two lists of values, &lt;code&gt;list...</td>\n      <td>python|python-3.x|list</td>\n      <td>&lt;pre&gt;&lt;code&gt;list1 = ['a','b','c','d','e']\\nlist...</td>\n      <td>0</td>\n      <td>python copy list use list list index list index</td>\n      <td>say two list value tow list index copy element...</td>\n      <td>python python list</td>\n      <td>pre list list index index for index list list ...</td>\n      <td>0</td>\n    </tr>\n    <tr>\n      <th>6092</th>\n      <td>6092</td>\n      <td>How to let Kafka Streams send one record per k...</td>\n      <td>&lt;p&gt;I'm writing a Kafka Streams App. It does th...</td>\n      <td>apache-kafka|apache-kafka-streams</td>\n      <td>&lt;ol&gt;\\n&lt;li&gt;I would recommend you to use exactly...</td>\n      <td>0</td>\n      <td>let kafka stream send one record per key per h...</td>\n      <td>im write kafka stream app follow step consumes...</td>\n      <td>apache kafka apache kafka stream</td>\n      <td>ol would recommend use exactly guarantee provi...</td>\n      <td>0</td>\n    </tr>\n    <tr>\n      <th>1908</th>\n      <td>1908</td>\n      <td>Resource not found errors in Ruby on rails</td>\n      <td>&lt;p&gt;I'm very new to RoR, I know that ActiveReco...</td>\n      <td>ruby-on-rails|http-status-code-404|custom-errors</td>\n      <td>&lt;p&gt;Missing &lt;/p&gt;\\n\\n&lt;pre&gt;&lt;code&gt;def index\\n\\nend...</td>\n      <td>0</td>\n      <td>resource find error ruby rail</td>\n      <td>im new ro know active record record find map h...</td>\n      <td>ruby rail http status code custom error</td>\n      <td>miss def indexend restart computer everything ...</td>\n      <td>0</td>\n    </tr>\n    <tr>\n      <th>3000</th>\n      <td>3000</td>\n      <td>Custom sort for histogram</td>\n      <td>&lt;p&gt;After looking at countless questions and an...</td>\n      <td>python|pandas|matplotlib</td>\n      <td>&lt;p&gt;Update of your code with the answers in the...</td>\n      <td>0</td>\n      <td>custom sort histogram</td>\n      <td>look countless question answer custom sort bar...</td>\n      <td>python panda matplotlib</td>\n      <td>update code answer comment matplotlib import p...</td>\n      <td>0</td>\n    </tr>\n    <tr>\n      <th>9292</th>\n      <td>9292</td>\n      <td>remove quotes from a json file using python</td>\n      <td>&lt;p&gt;the dataframe 'dataset' is automatically ge...</td>\n      <td>python</td>\n      <td>&lt;p&gt;simply u can use eval function.&lt;/p&gt;\\n\\n&lt;pre...</td>\n      <td>0</td>\n      <td>remove quote json file use python</td>\n      <td>pthe dataframe dataset automatically generated...</td>\n      <td>python</td>\n      <td>psimply use eval function new coordinate statu...</td>\n      <td>0</td>\n    </tr>\n    <tr>\n      <th>3789</th>\n      <td>3789</td>\n      <td>Reading CSV file - Object Oriented way</td>\n      <td>&lt;p&gt;I'd like to parse a csv file in my course t...</td>\n      <td>c#|instantiation</td>\n      <td>&lt;p&gt;There is really no reason to use a library ...</td>\n      <td>0</td>\n      <td>read file object orient way</td>\n      <td>id like parse csv file course attend cv file l...</td>\n      <td>instantiation</td>\n      <td>really reason use library code read simple see...</td>\n      <td>0</td>\n    </tr>\n    <tr>\n      <th>88</th>\n      <td>88</td>\n      <td>How to convert survey results as a percentage ...</td>\n      <td>&lt;p&gt;A survey was conducted with &lt;code&gt;2,233&lt;/co...</td>\n      <td>python|pandas</td>\n      <td>&lt;pre&gt;&lt;code&gt;df = df.astype(float)\\ndf = (df/223...</td>\n      <td>0</td>\n      <td>convert survey result percentage total respond...</td>\n      <td>survey conduct respondent follow result come f...</td>\n      <td>python panda</td>\n      <td>pre df df astype float df df round</td>\n      <td>0</td>\n    </tr>\n    <tr>\n      <th>4417</th>\n      <td>4417</td>\n      <td>almostIncreasingSequence - Javascript</td>\n      <td>&lt;p&gt;Hi guys I'm using Codefights concurrently w...</td>\n      <td>javascript|performance|big-o</td>\n      <td>&lt;p&gt;I came up with this solution in TypeScript,...</td>\n      <td>0</td>\n      <td>almost increase sequence javascript</td>\n      <td>hi guy im use codefights concurrently learn al...</td>\n      <td>javascript performance big</td>\n      <td>come solution type script put feedback work bo...</td>\n      <td>0</td>\n    </tr>\n    <tr>\n      <th>333</th>\n      <td>333</td>\n      <td>I have installed FFMPEG and can't find it insi...</td>\n      <td>&lt;p&gt;I have installed FFMPeg in CentOS. It works...</td>\n      <td>php|linux|ffmpeg|centos|ffmpeg-php</td>\n      <td>&lt;p&gt;I think to use FFMPFG with php, the fastest...</td>\n      <td>0</td>\n      <td>instal cant find inside script</td>\n      <td>instal peg cent work perfectly inside usr bin ...</td>\n      <td>php linux ffmpeg centos ffmpeg php</td>\n      <td>think use php fast way use package http github...</td>\n      <td>0</td>\n    </tr>\n    <tr>\n      <th>4410</th>\n      <td>4410</td>\n      <td>Tensorflow Dataset API : Cache</td>\n      <td>&lt;p&gt;I am trying to use tf.Dataset.cache but it ...</td>\n      <td>caching|tensorflow|dataset</td>\n      <td>&lt;ol&gt;\\n&lt;li&gt;&lt;p&gt;The intention of .cache function ...</td>\n      <td>0</td>\n      <td>tensorflow dataset cache</td>\n      <td>try use tf dataset cache seem affect question ...</td>\n      <td>cache tensorflow dataset</td>\n      <td>ol intention cache function speed data pipelin...</td>\n      <td>0</td>\n    </tr>\n    <tr>\n      <th>5900</th>\n      <td>5900</td>\n      <td>ORA-01843: Not a Valid Month in LINQ</td>\n      <td>&lt;p&gt;I use Oracle is my database, and this is th...</td>\n      <td>asp.net-mvc|linq|datetime-format</td>\n      <td>&lt;p&gt;I'm guessing that you need to do some maski...</td>\n      <td>0</td>\n      <td>valid month</td>\n      <td>use oracle database query signing flow current...</td>\n      <td>asp net mvc linq datetime format</td>\n      <td>im guess need mask possibly change look https ...</td>\n      <td>0</td>\n    </tr>\n    <tr>\n      <th>3329</th>\n      <td>3329</td>\n      <td>How can I convert a String in 2 differents val...</td>\n      <td>&lt;p&gt;I'm new here and idk how this page works, m...</td>\n      <td>java|string|int</td>\n      <td>&lt;p&gt;Save this code as Main.java and run it.&lt;/p&gt;...</td>\n      <td>0</td>\n      <td>convert string differents value differents int</td>\n      <td>im new idk page work problem think simple im s...</td>\n      <td>java string int</td>\n      <td>save code main java run public class main publ...</td>\n      <td>0</td>\n    </tr>\n    <tr>\n      <th>6066</th>\n      <td>6066</td>\n      <td>This IP, site or mobile application is not aut...</td>\n      <td>&lt;p&gt;I am using &lt;a href=\"https://maps.googleapis...</td>\n      <td>google-api|google-places-api</td>\n      <td>&lt;p&gt;Disable both direction api and geocoding ap...</td>\n      <td>0</td>\n      <td>site mobile application authorize use key</td>\n      <td>use https map googleapis com map api geocode j...</td>\n      <td>google api google place api</td>\n      <td>disable direction api geocoding api enable wor...</td>\n      <td>0</td>\n    </tr>\n    <tr>\n      <th>9776</th>\n      <td>9776</td>\n      <td>Same font, font-weight, and browser, different...</td>\n      <td>&lt;p&gt;I am making a website and wanting to have t...</td>\n      <td>html|css|fonts</td>\n      <td>&lt;p&gt;you can use something like Normalize css &lt;a...</td>\n      <td>0</td>\n      <td>font font weight browser different website giv...</td>\n      <td>make website want look font website however gi...</td>\n      <td>html cs font</td>\n      <td>pyou use something like normalize cs http neco...</td>\n      <td>0</td>\n    </tr>\n    <tr>\n      <th>3303</th>\n      <td>3303</td>\n      <td>Sort one array by columns of another array - P...</td>\n      <td>&lt;p&gt;I have two arrays, &lt;code&gt;a&lt;/code&gt; and &lt;code...</td>\n      <td>python|arrays|numpy|sorting</td>\n      <td>&lt;p&gt;I am supposing &lt;em&gt;a&lt;/em&gt; and &lt;em&gt;b&lt;/em&gt; ha...</td>\n      <td>0</td>\n      <td>sort one array columns another array python</td>\n      <td>two array follow array array would like sort f...</td>\n      <td>python array numpy sort</td>\n      <td>suppose dimension first column contains set el...</td>\n      <td>0</td>\n    </tr>\n    <tr>\n      <th>1291</th>\n      <td>1291</td>\n      <td>Postgresql : How do I select top n percent(%) ...</td>\n      <td>&lt;p&gt;We are new to postgres, we have following q...</td>\n      <td>sql|database|postgresql|postgresql-9.1</td>\n      <td>&lt;p&gt;The accepted answer did not work for me. I ...</td>\n      <td>0</td>\n      <td>postgresql select top percent entry group cate...</td>\n      <td>new postgres follow query select top record ca...</td>\n      <td>sql database postgresql postgresql</td>\n      <td>accept answer work find solution work temp val...</td>\n      <td>0</td>\n    </tr>\n    <tr>\n      <th>1687</th>\n      <td>1687</td>\n      <td>h12 error when mongoose try to connect to hero...</td>\n      <td>&lt;p&gt;My code &lt;/p&gt;\\n\\n&lt;pre&gt;&lt;code&gt;const mongoose =...</td>\n      <td>node.js|mongodb|heroku|mongoose</td>\n      <td>&lt;p&gt;&lt;a href=\"https://i.stack.imgur.com/Qz1aM.pn...</td>\n      <td>0</td>\n      <td>error mongoose try connect heroku mlab mongo d...</td>\n      <td>code const mongoose require mongoose mongoose ...</td>\n      <td>node mongodb heroku mongoose</td>\n      <td>check mongo atlas make sure ip adress configur...</td>\n      <td>0</td>\n    </tr>\n    <tr>\n      <th>267</th>\n      <td>267</td>\n      <td>How can I set permission for seperate request ...</td>\n      <td>&lt;p&gt;I'm fairly new to Django and Django Rest Fr...</td>\n      <td>python|django|api|http|django-rest-framework</td>\n      <td>&lt;p&gt;Hi you can use DjangoModelPermissions inste...</td>\n      <td>0</td>\n      <td>set permission seperate request method model v...</td>\n      <td>im fairly new django django rest framework can...</td>\n      <td>python django api http django rest framework</td>\n      <td>hi use django model permission instead group p...</td>\n      <td>0</td>\n    </tr>\n    <tr>\n      <th>483</th>\n      <td>483</td>\n      <td>Removing a view controller from UIPageViewCont...</td>\n      <td>&lt;p&gt;It's odd that there's no straightforward wa...</td>\n      <td>iphone|objective-c|ios|cocoa-touch</td>\n      <td>&lt;p&gt;we are getting crash on tab change .So one ...</td>\n      <td>0</td>\n      <td>remove view controller page view controller</td>\n      <td>odd there straightforward way consider follow ...</td>\n      <td>iphone objective io cocoa touch</td>\n      <td>pwe get crash tab change one solution get chan...</td>\n      <td>0</td>\n    </tr>\n    <tr>\n      <th>9801</th>\n      <td>9801</td>\n      <td>.font(.system(size:17)) - Type of expression i...</td>\n      <td>&lt;p&gt;I have an error with font size, what does i...</td>\n      <td>swift|swiftui</td>\n      <td>&lt;p&gt;&lt;code&gt;UIFont&lt;/code&gt; has no member &lt;code&gt;sys...</td>\n      <td>0</td>\n      <td>font system size type expression ambiguous wit...</td>\n      <td>error font size mean button action label text ...</td>\n      <td>swift swiftui</td>\n      <td>member could use instead</td>\n      <td>0</td>\n    </tr>\n    <tr>\n      <th>4499</th>\n      <td>4499</td>\n      <td>How to return non blade based view in laravel?</td>\n      <td>&lt;p&gt;I have custom php file (&lt;code&gt;index.php&lt;/co...</td>\n      <td>php|laravel|laravel-7</td>\n      <td>&lt;p&gt;Laravel Already have index.php file in &lt;cod...</td>\n      <td>0</td>\n      <td>return non blade base view laravel</td>\n      <td>custom php file amp code use file view laravel...</td>\n      <td>php laravel laravel</td>\n      <td>laravel already index php file try rename some...</td>\n      <td>0</td>\n    </tr>\n    <tr>\n      <th>3359</th>\n      <td>3359</td>\n      <td>CKEditor mentions - remove marker from feed</td>\n      <td>&lt;p&gt;I have a feed with names which comes from m...</td>\n      <td>php|laravel|ckeditor</td>\n      <td>&lt;p&gt;Managed to solve my problem by dividing the...</td>\n      <td>0</td>\n      <td>editor mention remove marker feed</td>\n      <td>fee name come back end first last name editor ...</td>\n      <td>php laravel ckeditor</td>\n      <td>manage solve problem dividing name back end fi...</td>\n      <td>0</td>\n    </tr>\n    <tr>\n      <th>5675</th>\n      <td>5675</td>\n      <td>Weird black 'outer border' outside border in IE11</td>\n      <td>&lt;p&gt;I've been creating a Leaflet map with Icons...</td>\n      <td>css|border|stylesheet</td>\n      <td>&lt;p&gt;remove border and make it as 0.\\nborder: 0;...</td>\n      <td>0</td>\n      <td>weird black outer border outside border</td>\n      <td>ive create leaflet map icon icon pixel white b...</td>\n      <td>cs border stylesheet</td>\n      <td>premove border make border</td>\n      <td>0</td>\n    </tr>\n    <tr>\n      <th>5227</th>\n      <td>5227</td>\n      <td>Beginner deleting columns from CSV (no pandas)</td>\n      <td>&lt;p&gt;I've just started coding, I'm trying to rem...</td>\n      <td>python|python-3.x|csv</td>\n      <td>&lt;p&gt;It's possible to simultaneously open the fi...</td>\n      <td>0</td>\n      <td>beginner delete column panda</td>\n      <td>ive start cod im try remove certain column pro...</td>\n      <td>python python csv</td>\n      <td>possible simultaneously open file read file wr...</td>\n      <td>0</td>\n    </tr>\n    <tr>\n      <th>3665</th>\n      <td>3665</td>\n      <td>How to determine ABI of Android .so file (i.e....</td>\n      <td>&lt;p&gt;I have a .so file provided by a third-party...</td>\n      <td>android|android-ndk</td>\n      <td>&lt;p&gt;Yes you can find ABI version of .SO file us...</td>\n      <td>0</td>\n      <td>determine android file armeabi armeabi va</td>\n      <td>file provide third party vendor include androi...</td>\n      <td>android android ndk</td>\n      <td>yes find version file use read elf java refere...</td>\n      <td>0</td>\n    </tr>\n    <tr>\n      <th>3633</th>\n      <td>3633</td>\n      <td>Upgrade python packages from requirements.txt ...</td>\n      <td>&lt;p&gt;How do I upgrade all my python packages fro...</td>\n      <td>python|pip|packages|requirements.txt</td>\n      <td>&lt;p&gt;If you install anything in your django proj...</td>\n      <td>0</td>\n      <td>upgrade python package requirement txt use pip...</td>\n      <td>upgrade python package requirement txt file us...</td>\n      <td>python pip package requirement txt</td>\n      <td>install anything django project installation w...</td>\n      <td>0</td>\n    </tr>\n    <tr>\n      <th>9501</th>\n      <td>9501</td>\n      <td>VSCode - TypeScript language service died unex...</td>\n      <td>&lt;p&gt;This error message keeps sliding down from ...</td>\n      <td>visual-studio-code</td>\n      <td>&lt;p&gt;you can try to install &lt;a href=\"https://mar...</td>\n      <td>0</td>\n      <td>code type script language service die unexpect...</td>\n      <td>error message keep slide top every second clic...</td>\n      <td>visual studio code</td>\n      <td>pyou try install vscode extension make vscode ...</td>\n      <td>0</td>\n    </tr>\n    <tr>\n      <th>1664</th>\n      <td>1664</td>\n      <td>How to handle errors and terminate Goroutine u...</td>\n      <td>&lt;p&gt;I have been playing around with Goroutines,...</td>\n      <td>go|concurrency|goroutine</td>\n      <td>&lt;p&gt;I have modified your example i don't know i...</td>\n      <td>0</td>\n      <td>handle error terminate goroutine use wait group</td>\n      <td>play around goroutines channel wait group toda...</td>\n      <td>go concurrency goroutine</td>\n      <td>modify example dont know clean solution avoids...</td>\n      <td>0</td>\n    </tr>\n    <tr>\n      <th>4993</th>\n      <td>4993</td>\n      <td>Create MongoDB collection with standard JSON s...</td>\n      <td>&lt;p&gt;I want to create a MongoDB collection using...</td>\n      <td>json|mongodb</td>\n      <td>&lt;p&gt;The only option which you can use is adding...</td>\n      <td>0</td>\n      <td>create mongo collection standard schema</td>\n      <td>want create mongo collection use schema file s...</td>\n      <td>json mongodb</td>\n      <td>option use add json schema validator collectio...</td>\n      <td>0</td>\n    </tr>\n    <tr>\n      <th>3023</th>\n      <td>3023</td>\n      <td>Unexpected end of JSON input in MongoDB Compass</td>\n      <td>&lt;p&gt;I want to import data of type json in Mongo...</td>\n      <td>json|mongodb</td>\n      <td>&lt;p&gt;You can also use the command line of mongod...</td>\n      <td>0</td>\n      <td>unexpected end input mongo compass</td>\n      <td>want import data type json mongo compass impor...</td>\n      <td>json mongodb</td>\n      <td>also use command line mongodb like db user ins...</td>\n      <td>0</td>\n    </tr>\n  </tbody>\n</table>\n</div>"
     },
     "metadata": {},
     "execution_count": 42
    }
   ],
   "source": [
    "# Examining if correctly predicted bad answers tend to have negative scores\n",
    "df_test_new = df_test[(df_test['score_cat_all'] == 0) & \n",
    "          (df_test['predicted_score_cat'] == 0)] \n",
    "\n",
    "df_test_new.head(30)"
   ]
  },
  {
   "cell_type": "code",
   "execution_count": 34,
   "metadata": {},
   "outputs": [
    {
     "output_type": "execute_result",
     "data": {
      "text/plain": "      7169  Building \"Typescript\" folder to legacy javascr...   \n4174        4174  Any other way to write a loop for multiplicati...   \n1829        1829  Find method to get records in DB returning emp...   \n2029        2029                   Network Byte[] to Int64 problems   \n5648        5648  How do I use convertAndSendToUser() with an ex...   \n5212        5212  HTML script tag function not reading in in-lin...   \n8823        8823  Difference between Foreground Service and JobS...   \n693          693        What does a grey icon in remote GitHub mean   \n6776        6776  Gradient descent from scratch in python not wo...   \n1686        1686               MongoDB - shutting down with code:62   \n1524        1524  Getting a \"Future Warning\" when importing for ...   \n7382        7382  Vim create more junk files and cannot be remov...   \n\n                                          question_text  \\\n1438  <p>I have 4 cards using bootstrap 4.  However,...   \n1543  <p>I'm using Flutter version 1.12.13+hotfix.</...   \n7389  <p>I don't want to use autoload!</p>\\n\\n<p>I h...   \n538   <p>I need to check cache status using apache i...   \n5232  <p>I have to take a large list of words in the...   \n69    <p>I have a page having iframe whose width is ...   \n6905  <p>The trick to use <code>requests</code> from...   \n4347  <p>I want to add integration tests to my Gradl...   \n7260  <p>I'm having trouble understanding what .join...   \n6833  <p>I've been trying to import sklearn but it s...   \n1600  <p>I want to fetch full URL path \"<a href=\"htt...   \n3276  <p>My Tests are using the trait <code>RefreshD...   \n5577  <p>The problem occurs in wordpress and I simpl...   \n9080  <p>Is there a bug with Chart.js? Every time I ...   \n6230  <p>Good afternoon , </p>\\n\\n<p>I know this que...   \n4135  <p>I am trying to use data table to sort and s...   \n4393  <p>When I use iPython to run some scripts, I'v...   \n8016  <p>I have a \"ViewControllerA\" [VCA] and a view...   \n1043  <pre><code>$flutter doctor\\n</code></pre>\\n\\n<...   \n1843  <p>I am currently trying to read data from .da...   \n9890  <p>I have a figure inside a column inside a ro...   \n5995  <p>I´m not able to run the metrics-server pod,...   \n9673  <p>I'd like to know what happens when calling ...   \n8365  <p>I'm trying to build a project to distribute...   \n793   <p>wkhtmltopdf version(s) affected: wkhtmltox-...   \n9871  <p>Lets say I have an integer:</p>\\n\\n<pre cla...   \n8477  <p>I am new to the OPC UA world. Can anybody g...   \n8109  <p>I am trying to read the below file line by ...   \n7169  <p>I'm working on a project that was originall...   \n4174  <p>To print multiplication tables, I'm using a...   \n1829  <p>Now, I try to make an API with using GAE+Cl...   \n2029  <p>I am gathering binary information from a mu...   \n5648  <p>I am trying to configure web socket support...   \n5212  <p>I have some code that is supposed to switch...   \n8823  <p>I have an app where I use a foreground serv...   \n693   <p>Can anyone please tell me why i have the gr...   \n6776  <p>I am trying to implement a gradient descent...   \n1686  <p>I followed the MongoDB Docs to run my Mongo...   \n1524  <p>I am currently , successfully, importing st...   \n7382  <p>Just upgrade gitbash to last version. \\nThe...   \n\n                                                   tags  \\\n1438                               html|css|bootstrap-4   \n1543                             flutter|flutter-layout   \n7389                                                php   \n538                                         java|ignite   \n5232                                  python|list|strip   \n69                    javascript|jquery|html|css|iframe   \n6905       python|aws-lambda|python-requests|python-3.8   \n4347  java|gradle|build|integration-testing|source-sets   \n7260                            python|sorting|escaping   \n6833            python|python-3.x|scikit-learn|anaconda   \n1600                     php|laravel|url|url-parameters   \n3276           laravel|testing|pdo|transactions|mariadb   \n5577                                 php|json|wordpress   \n9080              javascript|html|html5-canvas|chart.js   \n6230                         javascript|jquery|html|css   \n4135                                    php|bootstrap-4   \n4393                visual-studio|ipython|jupyter|pyzmq   \n8016                                          ios|swift   \n1043                                   flutter|dart-sdk   \n1843                      java|spring-boot|spring-batch   \n9890                  css|twitter-bootstrap|bootstrap-4   \n5995  kubernetes|horizontal-pod-autoscaling|metrics-...   \n9673                         c++|constructor|allocation   \n8365           objective-c|implicit-conversion|implicit   \n793                             wkhtmltopdf|html-to-pdf   \n9871                                 c++|floating-point   \n8477  c#|opc|.net-standard-2.0|opc-ua|complex-data-t...   \n8109                                           unix|sed   \n7169                    javascript|typescript|migration   \n4174                                              c++|c   \n1829      google-app-engine|go|google-cloud-sql|go-gorm   \n2029                               c#|byte|bitconverter   \n5648           java|spring|spring-boot|spring-websocket   \n5212                                    javascript|html   \n8823                                            android   \n693                       git|github|github-for-windows   \n6776         python|numpy|optimization|gradient-descent   \n1686                                            mongodb   \n1524                           python|pandas-datareader   \n7382                                       vim|git-bash   \n\n                                            answer_text  score_cat_all  \\\n1438  <p>If you remove the <code>col-sm-3</code> fro...              0   \n1543  <p>Usually when I come across an issue like th...              0   \n7389  <p>You need read:\\n1) Php namespaces\\n2) Php a...              0   \n538   <p>You can see the interface Ignite</p>\\n\\n<pr...              0   \n5232  <pre><code>my_list = ['this\\n', 'is\\n', 'a\\n',...              0   \n69    <p>Try replace jquery or add css once, this mi...              0   \n6905  <p>Install the <code>requests</code> dependenc...              0   \n4347  <p>I'm new to Gradle, using Gradle 6.0.1 JUnit...              0   \n7260  <p>There is nothing weird in <code>reverse=Tru...              0   \n6833  <p><a href=\"https://i.stack.imgur.com/L3yYy.pn...              0   \n1600  <p>If I got your question right, you want to g...              0   \n3276  <p>Change file phpunit.xml</p>\\n\\n<pre><code>&...              0   \n5577  <pre><code>&lt;?php\\n\\n$str= \"{\\\"7\\\":{\\\"text\\\"...              0   \n9080  <p>Change <code>&lt;script src='Chart.min.js'&...              0   \n6230  <p>Can you use <code>data</code> property for ...              0   \n4135  <p>Because you have to put <code>&lt;tbody&gt;...              0   \n4393  <h2>Remedy Option A)</h2>\\n\\n<p>Use <strong><c...              0   \n8016  <p>This framework is making use of embedded vi...              0   \n1043  <p>This is an openssl certificates error. This...              0   \n1843  <p>You need to add <code>@EnableBatchProcessin...              0   \n9890  <pre><code>.img-fluid {\\n   max-width: 100%;\\n...              0   \n5995  <p>Looks to me issue with the container (or) t...              0   \n9673  <p>A <code>Class</code> is defined by a user a...              0   \n8365  <p>The warning is pretty clear: <code>timeOutP...              0   \n793   <p>In the <code>div</code> you are using insid...              0   \n9871  <p>You can use <code>reinterpret_cast</code>:<...              0   \n8477  <p>if you don't want to use code generator the...              0   \n8109  <p>Try to echo the line content along with sed...              0   \n7169  <h3>Summary</h3>\\n\\n<p><strike>The answer is n...              0   \n4174  <p>This is not a Python For loop</p>\\n\\n<p>In ...              0   \n1829  <p>I found how to be able to get correct <code...              0   \n2029  <p>You say it's a value in the range \"30XXX\" -...              0   \n5648  <p>Remove the <code>\"/user\"</code> from <code>...              0   \n5212  <p>This line of code has a rouge bracket which...              0   \n8823  <p>For your use case, you will be better off u...              0   \n693   <p>Git thinks it's a submodule as it has a <co...              0   \n6776  <p>I guess you were hit by broadcasting. Varia...              0   \n1686  <p>Although the accepted answer works, it remo...              0   \n1524  <p>For mac OS open <code>/Library/Frameworks/P...              0   \n7382  <p><a href=\"https://unix.stackexchange.com/a/3...              0   \n\n                                   question_title_clean  \\\n1438                 card stack one another grid system   \n1543  flutter list view scroll parent list view chil...   \n7389  include relative path change class strange beh...   \n538                           check cache status ignite   \n5232           remove trail newline element string list   \n69                               iframe set wrong width   \n6905                       import request lambda python   \n4347                           add new sourceset gradle   \n7260         trouble understand join map escape example   \n6833                       sklearn module find anaconda   \n1600        fetch full path http admin document laravel   \n3276        laravel test dont rollback transaction test   \n5577               jsondecode decode standard code work   \n9080               reference error chart define chartjs   \n6230                         show another div click div   \n4135                  bootstrap datatable php code work   \n4393  solve visible deprecation warn zmq eventloop m...   \n8016  dynamically change theme view controller anoth...   \n1043   flutter doctor command fail retrieve dart ubuntu   \n1843  context holder available step scope use thread...   \n9890            image equal height bootstrap figure row   \n5995                      metric server crash loop back   \n9673                         happens inside constructor   \n8365  implicit conversion lose integer precision int...   \n793                       unwanted space tr wkhtmltopdf   \n9871                  convert integer binary data float   \n8477           create custom complex datatypes standard   \n8109                 able read file content sed command   \n7169  building typescript folder legacy javascript f...   \n4174  way write loop multiplication table take run t...   \n1829       find method get record return empty datasets   \n2029                           network byte int problem   \n5648  use convert send user external broker rabbit s...   \n5212   script tag function read line onchange attribute   \n8823        difference foreground service job scheduler   \n693                       grey icon remote git hub mean   \n6776               gradient descent scratch python work   \n1686                                mongo shutting code   \n1524      get future warn import yahoo panda datareader   \n7382  vim create junk file can not remove rm rf gitb...   \n\n                                    question_text_clean  \\\n1438  card use bootstrap however scale card overlap ...   \n1543  im use flutter version hotfix im look solution...   \n7389  dont want use autoload class method include fi...   \n538   need check cache status use apache ignite chec...   \n5232  take large list word form list word use strip ...   \n69    page iframe whose width assign dynamically jqu...   \n6905  trick use botocore vendored long work python l...   \n4347  want add integration test gradle build version...   \n7260  im trouble understand join map escape example ...   \n6833  ive try import sklearn say module find python ...   \n1600  want fetch full path http admin document use l...   \n3276  test use trait migrate fresh starting test use...   \n5577  problem occur wordpress simply cant figure wro...   \n9080  bug chart every time add graphs chart website ...   \n6230  good afternoon know question ask lot time answ...   \n4135  try use data table sort search work like sort ...   \n4393  use python run script ive get follow warn mess...   \n8016  view controller view slide view swipe hamburge...   \n1043  pre flutter doctor run command produce output ...   \n1843  currently try read data dat file persist datab...   \n9890  figure inside column inside row col md image p...   \n5995  im able run metric server pod get crashloopbac...   \n9673  id like know happen call constructor class spe...   \n8365  im try build project distribute app applicatio...   \n793   pwkhtmltopdf version affect wkhtmltox msvc win...   \n9871  let say integer unsigned long long int data wa...   \n8477  new world anybody guide create custom complex ...   \n8109  try read file line line perform operation extr...   \n7169  im work project originally write plain javascr...   \n4174  print multiplication table im use loop fix val...   \n1829  try make use cloud make code package mainimpor...   \n2029  gather binary information multicast stream old...   \n5648  try configure web socket support spring use ra...   \n5212  code suppose switch theme use tag attribute sa...   \n8823  app use foreground service start number thread...   \n693   anyone please tell grey icon push file github ...   \n6776  try implement gradient descent algorithm scrat...   \n1686  follow mongo doc run mongo mac start mongo use...   \n1524  currently successfully import stock informatio...   \n7382  upgrade gitbash last version try create file u...   \n\n                                             tags_clean  \\\n1438                                  html cs bootstrap   \n1543                             flutter flutter layout   \n7389                                                php   \n538                                         java ignite   \n5232                                  python list strip   \n69                     javascript jquery html cs iframe   \n6905            python aws lambda python request python   \n4347      java gradle build integration test source set   \n7260                                 python sort escape   \n6833                python python scikit learn anaconda   \n1600                      php laravel url url parameter   \n3276               laravel test pdo transaction mariadb   \n5577                                 php json wordpress   \n9080                  javascript html html canvas chart   \n6230                          javascript jquery html cs   \n4135                                      php bootstrap   \n4393                visual studio ipython jupyter pyzmq   \n8016                                           io swift   \n1043                                   flutter dart sdk   \n1843                      java spring boot spring batch   \n9890                     cs twitter bootstrap bootstrap   \n5995  kubernetes horizontal pod autoscaling metric s...   \n9673                             constructor allocation   \n8365             objective implicit conversion implicit   \n793                                wkhtmltopdf html pdf   \n9871                                        float point   \n8477          opc net standard opc ua complex data type   \n8109                                           unix sed   \n7169                    javascript typescript migration   \n4174                                                NaN   \n1829      google app engine go google cloud sql go gorm   \n2029                                  byte bitconverter   \n5648           java spring spring boot spring websocket   \n5212                                    javascript html   \n8823                                            android   \n693                            git github github window   \n6776         python numpy optimization gradient descent   \n1686                                            mongodb   \n1524                            python panda datareader   \n7382                                       vim git bash   \n\n                                      answer_text_clean  predicted_score_cat  \\\n1438  remove parrent work fine happen force parrent ...                    2   \n1543  usually come across issue like use child whate...                    2   \n7389  need read php namespaces php autoload class im...                    2   \n538   see interface ignite check ignite grid active ...                    2   \n5232  pre mylist list word print strip mylist output...                    2   \n69    try replace jquery add cs might help iframe bo...                    2   \n6905  install dependency separately use import impor...                    2   \n4347  im new gradle use gradle unit here come solve ...                    2   \n7260  nothing weird ry comment change introduce sort...                    2   \n6833  although skleran module work well py charm skl...                    2   \n1600  get question right want get current page thats...                    2   \n3276  change file phpunit xml lt phpgt lt env name v...                    2   \n5577  pre lt phpstr text sdf direction horizontal fo...                    2   \n9080      change change name chart min folder chart min                    2   \n6230  use property topic lt div class titlesgt lt bu...                    2   \n4135  put outside loop also forget add table raw tag...                    2   \n4393  remedy option use tool separate environment sa...                    2   \n8016  framework making use embed view controller nee...                    2   \n1043  openssl certificate error mean problem try est...                    2   \n1843  need add annotation configuration class manual...                    2   \n9890  pre img fluid max width height auto tell class...                    2   \n5995  look issue container master node check logs de...                    2   \n9673  define user contains method attribute object i...                    2   \n8365  warn pretty clear declare bit integer return b...                    2   \n793                   use inside add see solves problem                    2   \n9871  use float reinterpretcastlt floatamp gt data v...                    2   \n8477  pif dont want use code generator two way write...                    2   \n8109         try echo line content along sed logic like                    2   \n7169  summary answer least single build step config ...                    2   \n4174  python loop python use range function nice mul...                    2   \n1829  find able get correct ive write function call ...                    2   \n2029  say value range decimal hex big endian hex lit...                    2   \n5648  remove add spring automatically add subscibe b...                    2   \n5212         line code rouge bracket break see demo fix                    2   \n8823  use case well use accord android documentation...                    2   \n693   git think submodule directory inside fix chang...                    2   \n6776  guess hit broadcast variable ys shape subtract...                    2   \n1686  although accepted answer work remove data work...                    2   \n1524                                    mac open change                    2   \n7382  invalid request code seem sure issue cygwin in...                    2   \n\n      score_cat  \n1438          0  \n1543          0  \n7389          0  \n538           0  \n5232          0  \n69            0  \n6905          0  \n4347          0  \n7260          0  \n6833          0  \n1600          0  \n3276          0  \n5577          0  \n9080          0  \n6230          0  \n4135          0  \n4393          0  \n8016          0  \n1043          0  \n1843          0  \n9890          0  \n5995          0  \n9673          0  \n8365          0  \n793           0  \n9871          0  \n8477          0  \n8109          0  \n7169          0  \n4174          0  \n1829          0  \n2029          0  \n5648          0  \n5212          0  \n8823          0  \n693           0  \n6776          0  \n1686          0  \n1524          0  \n7382          0  ",
      "text/html": "<div>\n<style scoped>\n    .dataframe tbody tr th:only-of-type {\n        vertical-align: middle;\n    }\n\n    .dataframe tbody tr th {\n        vertical-align: top;\n    }\n\n    .dataframe thead th {\n        text-align: right;\n    }\n</style>\n<table border=\"1\" class=\"dataframe\">\n  <thead>\n    <tr style=\"text-align: right;\">\n      <th></th>\n      <th>Unnamed: 0</th>\n      <th>question_title</th>\n      <th>question_text</th>\n      <th>tags</th>\n      <th>answer_text</th>\n      <th>score_cat_all</th>\n      <th>question_title_clean</th>\n      <th>question_text_clean</th>\n      <th>tags_clean</th>\n      <th>answer_text_clean</th>\n      <th>predicted_score_cat</th>\n      <th>score_cat</th>\n    </tr>\n  </thead>\n  <tbody>\n    <tr>\n      <th>1438</th>\n      <td>1438</td>\n      <td>Cards stacking over one another with the grid ...</td>\n      <td>&lt;p&gt;I have 4 cards using bootstrap 4.  However,...</td>\n      <td>html|css|bootstrap-4</td>\n      <td>&lt;p&gt;If you remove the &lt;code&gt;col-sm-3&lt;/code&gt; fro...</td>\n      <td>0</td>\n      <td>card stack one another grid system</td>\n      <td>card use bootstrap however scale card overlap ...</td>\n      <td>html cs bootstrap</td>\n      <td>remove parrent work fine happen force parrent ...</td>\n      <td>2</td>\n      <td>0</td>\n    </tr>\n    <tr>\n      <th>1543</th>\n      <td>1543</td>\n      <td>Flutter : ListView : Scroll parent ListView wh...</td>\n      <td>&lt;p&gt;I'm using Flutter version 1.12.13+hotfix.&lt;/...</td>\n      <td>flutter|flutter-layout</td>\n      <td>&lt;p&gt;Usually when I come across an issue like th...</td>\n      <td>0</td>\n      <td>flutter list view scroll parent list view chil...</td>\n      <td>im use flutter version hotfix im look solution...</td>\n      <td>flutter flutter layout</td>\n      <td>usually come across issue like use child whate...</td>\n      <td>2</td>\n      <td>0</td>\n    </tr>\n    <tr>\n      <th>7389</th>\n      <td>7389</td>\n      <td>include relative path changes in class (strang...</td>\n      <td>&lt;p&gt;I don't want to use autoload!&lt;/p&gt;\\n\\n&lt;p&gt;I h...</td>\n      <td>php</td>\n      <td>&lt;p&gt;You need read:\\n1) Php namespaces\\n2) Php a...</td>\n      <td>0</td>\n      <td>include relative path change class strange beh...</td>\n      <td>dont want use autoload class method include fi...</td>\n      <td>php</td>\n      <td>need read php namespaces php autoload class im...</td>\n      <td>2</td>\n      <td>0</td>\n    </tr>\n    <tr>\n      <th>538</th>\n      <td>538</td>\n      <td>How to check cache status in ignite</td>\n      <td>&lt;p&gt;I need to check cache status using apache i...</td>\n      <td>java|ignite</td>\n      <td>&lt;p&gt;You can see the interface Ignite&lt;/p&gt;\\n\\n&lt;pr...</td>\n      <td>0</td>\n      <td>check cache status ignite</td>\n      <td>need check cache status use apache ignite chec...</td>\n      <td>java ignite</td>\n      <td>see interface ignite check ignite grid active ...</td>\n      <td>2</td>\n      <td>0</td>\n    </tr>\n    <tr>\n      <th>5232</th>\n      <td>5232</td>\n      <td>Remove trailing newline from the elements of a...</td>\n      <td>&lt;p&gt;I have to take a large list of words in the...</td>\n      <td>python|list|strip</td>\n      <td>&lt;pre&gt;&lt;code&gt;my_list = ['this\\n', 'is\\n', 'a\\n',...</td>\n      <td>0</td>\n      <td>remove trail newline element string list</td>\n      <td>take large list word form list word use strip ...</td>\n      <td>python list strip</td>\n      <td>pre mylist list word print strip mylist output...</td>\n      <td>2</td>\n      <td>0</td>\n    </tr>\n    <tr>\n      <th>69</th>\n      <td>69</td>\n      <td>Iframe sets wrong width</td>\n      <td>&lt;p&gt;I have a page having iframe whose width is ...</td>\n      <td>javascript|jquery|html|css|iframe</td>\n      <td>&lt;p&gt;Try replace jquery or add css once, this mi...</td>\n      <td>0</td>\n      <td>iframe set wrong width</td>\n      <td>page iframe whose width assign dynamically jqu...</td>\n      <td>javascript jquery html cs iframe</td>\n      <td>try replace jquery add cs might help iframe bo...</td>\n      <td>2</td>\n      <td>0</td>\n    </tr>\n    <tr>\n      <th>6905</th>\n      <td>6905</td>\n      <td>import requests on AWS Lambda for python 3.8</td>\n      <td>&lt;p&gt;The trick to use &lt;code&gt;requests&lt;/code&gt; from...</td>\n      <td>python|aws-lambda|python-requests|python-3.8</td>\n      <td>&lt;p&gt;Install the &lt;code&gt;requests&lt;/code&gt; dependenc...</td>\n      <td>0</td>\n      <td>import request lambda python</td>\n      <td>trick use botocore vendored long work python l...</td>\n      <td>python aws lambda python request python</td>\n      <td>install dependency separately use import impor...</td>\n      <td>2</td>\n      <td>0</td>\n    </tr>\n    <tr>\n      <th>4347</th>\n      <td>4347</td>\n      <td>How do I add a new sourceset to Gradle?</td>\n      <td>&lt;p&gt;I want to add integration tests to my Gradl...</td>\n      <td>java|gradle|build|integration-testing|source-sets</td>\n      <td>&lt;p&gt;I'm new to Gradle, using Gradle 6.0.1 JUnit...</td>\n      <td>0</td>\n      <td>add new sourceset gradle</td>\n      <td>want add integration test gradle build version...</td>\n      <td>java gradle build integration test source set</td>\n      <td>im new gradle use gradle unit here come solve ...</td>\n      <td>2</td>\n      <td>0</td>\n    </tr>\n    <tr>\n      <th>7260</th>\n      <td>7260</td>\n      <td>Having trouble understanding .join(map(re.esca...</td>\n      <td>&lt;p&gt;I'm having trouble understanding what .join...</td>\n      <td>python|sorting|escaping</td>\n      <td>&lt;p&gt;There is nothing weird in &lt;code&gt;reverse=Tru...</td>\n      <td>0</td>\n      <td>trouble understand join map escape example</td>\n      <td>im trouble understand join map escape example ...</td>\n      <td>python sort escape</td>\n      <td>nothing weird ry comment change introduce sort...</td>\n      <td>2</td>\n      <td>0</td>\n    </tr>\n    <tr>\n      <th>6833</th>\n      <td>6833</td>\n      <td>sklearn module not found in anaconda</td>\n      <td>&lt;p&gt;I've been trying to import sklearn but it s...</td>\n      <td>python|python-3.x|scikit-learn|anaconda</td>\n      <td>&lt;p&gt;&lt;a href=\"https://i.stack.imgur.com/L3yYy.pn...</td>\n      <td>0</td>\n      <td>sklearn module find anaconda</td>\n      <td>ive try import sklearn say module find python ...</td>\n      <td>python python scikit learn anaconda</td>\n      <td>although skleran module work well py charm skl...</td>\n      <td>2</td>\n      <td>0</td>\n    </tr>\n    <tr>\n      <th>1600</th>\n      <td>1600</td>\n      <td>How to fetch full URL path \"http://127.0.0.1:8...</td>\n      <td>&lt;p&gt;I want to fetch full URL path \"&lt;a href=\"htt...</td>\n      <td>php|laravel|url|url-parameters</td>\n      <td>&lt;p&gt;If I got your question right, you want to g...</td>\n      <td>0</td>\n      <td>fetch full path http admin document laravel</td>\n      <td>want fetch full path http admin document use l...</td>\n      <td>php laravel url url parameter</td>\n      <td>get question right want get current page thats...</td>\n      <td>2</td>\n      <td>0</td>\n    </tr>\n    <tr>\n      <th>3276</th>\n      <td>3276</td>\n      <td>Laravel tests don't rollback transaction after...</td>\n      <td>&lt;p&gt;My Tests are using the trait &lt;code&gt;RefreshD...</td>\n      <td>laravel|testing|pdo|transactions|mariadb</td>\n      <td>&lt;p&gt;Change file phpunit.xml&lt;/p&gt;\\n\\n&lt;pre&gt;&lt;code&gt;&amp;...</td>\n      <td>0</td>\n      <td>laravel test dont rollback transaction test</td>\n      <td>test use trait migrate fresh starting test use...</td>\n      <td>laravel test pdo transaction mariadb</td>\n      <td>change file phpunit xml lt phpgt lt env name v...</td>\n      <td>2</td>\n      <td>0</td>\n    </tr>\n    <tr>\n      <th>5577</th>\n      <td>5577</td>\n      <td>json_decode - Decoding standard JSON code not ...</td>\n      <td>&lt;p&gt;The problem occurs in wordpress and I simpl...</td>\n      <td>php|json|wordpress</td>\n      <td>&lt;pre&gt;&lt;code&gt;&amp;lt;?php\\n\\n$str= \"{\\\"7\\\":{\\\"text\\\"...</td>\n      <td>0</td>\n      <td>jsondecode decode standard code work</td>\n      <td>problem occur wordpress simply cant figure wro...</td>\n      <td>php json wordpress</td>\n      <td>pre lt phpstr text sdf direction horizontal fo...</td>\n      <td>2</td>\n      <td>0</td>\n    </tr>\n    <tr>\n      <th>9080</th>\n      <td>9080</td>\n      <td>ReferenceError: Chart is not defined - chartjs</td>\n      <td>&lt;p&gt;Is there a bug with Chart.js? Every time I ...</td>\n      <td>javascript|html|html5-canvas|chart.js</td>\n      <td>&lt;p&gt;Change &lt;code&gt;&amp;lt;script src='Chart.min.js'&amp;...</td>\n      <td>0</td>\n      <td>reference error chart define chartjs</td>\n      <td>bug chart every time add graphs chart website ...</td>\n      <td>javascript html html canvas chart</td>\n      <td>change change name chart min folder chart min</td>\n      <td>2</td>\n      <td>0</td>\n    </tr>\n    <tr>\n      <th>6230</th>\n      <td>6230</td>\n      <td>How to show another div when clicking on a div?</td>\n      <td>&lt;p&gt;Good afternoon , &lt;/p&gt;\\n\\n&lt;p&gt;I know this que...</td>\n      <td>javascript|jquery|html|css</td>\n      <td>&lt;p&gt;Can you use &lt;code&gt;data&lt;/code&gt; property for ...</td>\n      <td>0</td>\n      <td>show another div click div</td>\n      <td>good afternoon know question ask lot time answ...</td>\n      <td>javascript jquery html cs</td>\n      <td>use property topic lt div class titlesgt lt bu...</td>\n      <td>2</td>\n      <td>0</td>\n    </tr>\n    <tr>\n      <th>4135</th>\n      <td>4135</td>\n      <td>bootstrap datatable with php code does not work</td>\n      <td>&lt;p&gt;I am trying to use data table to sort and s...</td>\n      <td>php|bootstrap-4</td>\n      <td>&lt;p&gt;Because you have to put &lt;code&gt;&amp;lt;tbody&amp;gt;...</td>\n      <td>0</td>\n      <td>bootstrap datatable php code work</td>\n      <td>try use data table sort search work like sort ...</td>\n      <td>php bootstrap</td>\n      <td>put outside loop also forget add table raw tag...</td>\n      <td>2</td>\n      <td>0</td>\n    </tr>\n    <tr>\n      <th>4393</th>\n      <td>4393</td>\n      <td>How to solve \"VisibleDeprecationWarning: zmq.e...</td>\n      <td>&lt;p&gt;When I use iPython to run some scripts, I'v...</td>\n      <td>visual-studio|ipython|jupyter|pyzmq</td>\n      <td>&lt;h2&gt;Remedy Option A)&lt;/h2&gt;\\n\\n&lt;p&gt;Use &lt;strong&gt;&lt;c...</td>\n      <td>0</td>\n      <td>solve visible deprecation warn zmq eventloop m...</td>\n      <td>use python run script ive get follow warn mess...</td>\n      <td>visual studio ipython jupyter pyzmq</td>\n      <td>remedy option use tool separate environment sa...</td>\n      <td>2</td>\n      <td>0</td>\n    </tr>\n    <tr>\n      <th>8016</th>\n      <td>8016</td>\n      <td>Dynamically Changing Theme of a view controlle...</td>\n      <td>&lt;p&gt;I have a \"ViewControllerA\" [VCA] and a view...</td>\n      <td>ios|swift</td>\n      <td>&lt;p&gt;This framework is making use of embedded vi...</td>\n      <td>0</td>\n      <td>dynamically change theme view controller anoth...</td>\n      <td>view controller view slide view swipe hamburge...</td>\n      <td>io swift</td>\n      <td>framework making use embed view controller nee...</td>\n      <td>2</td>\n      <td>0</td>\n    </tr>\n    <tr>\n      <th>1043</th>\n      <td>1043</td>\n      <td>flutter doctor command failed to retrieve the ...</td>\n      <td>&lt;pre&gt;&lt;code&gt;$flutter doctor\\n&lt;/code&gt;&lt;/pre&gt;\\n\\n&lt;...</td>\n      <td>flutter|dart-sdk</td>\n      <td>&lt;p&gt;This is an openssl certificates error. This...</td>\n      <td>0</td>\n      <td>flutter doctor command fail retrieve dart ubuntu</td>\n      <td>pre flutter doctor run command produce output ...</td>\n      <td>flutter dart sdk</td>\n      <td>openssl certificate error mean problem try est...</td>\n      <td>2</td>\n      <td>0</td>\n    </tr>\n    <tr>\n      <th>1843</th>\n      <td>1843</td>\n      <td>SPRING-BATCH ERROR: No context holder availabl...</td>\n      <td>&lt;p&gt;I am currently trying to read data from .da...</td>\n      <td>java|spring-boot|spring-batch</td>\n      <td>&lt;p&gt;You need to add &lt;code&gt;@EnableBatchProcessin...</td>\n      <td>0</td>\n      <td>context holder available step scope use thread...</td>\n      <td>currently try read data dat file persist datab...</td>\n      <td>java spring boot spring batch</td>\n      <td>need add annotation configuration class manual...</td>\n      <td>2</td>\n      <td>0</td>\n    </tr>\n    <tr>\n      <th>9890</th>\n      <td>9890</td>\n      <td>image equal heights in bootstrap figure/row</td>\n      <td>&lt;p&gt;I have a figure inside a column inside a ro...</td>\n      <td>css|twitter-bootstrap|bootstrap-4</td>\n      <td>&lt;pre&gt;&lt;code&gt;.img-fluid {\\n   max-width: 100%;\\n...</td>\n      <td>0</td>\n      <td>image equal height bootstrap figure row</td>\n      <td>figure inside column inside row col md image p...</td>\n      <td>cs twitter bootstrap bootstrap</td>\n      <td>pre img fluid max width height auto tell class...</td>\n      <td>2</td>\n      <td>0</td>\n    </tr>\n    <tr>\n      <th>5995</th>\n      <td>5995</td>\n      <td>metrics-server with CrashLoopBackOff</td>\n      <td>&lt;p&gt;I´m not able to run the metrics-server pod,...</td>\n      <td>kubernetes|horizontal-pod-autoscaling|metrics-...</td>\n      <td>&lt;p&gt;Looks to me issue with the container (or) t...</td>\n      <td>0</td>\n      <td>metric server crash loop back</td>\n      <td>im able run metric server pod get crashloopbac...</td>\n      <td>kubernetes horizontal pod autoscaling metric s...</td>\n      <td>look issue container master node check logs de...</td>\n      <td>2</td>\n      <td>0</td>\n    </tr>\n    <tr>\n      <th>9673</th>\n      <td>9673</td>\n      <td>What happens inside of a C++ constructor?</td>\n      <td>&lt;p&gt;I'd like to know what happens when calling ...</td>\n      <td>c++|constructor|allocation</td>\n      <td>&lt;p&gt;A &lt;code&gt;Class&lt;/code&gt; is defined by a user a...</td>\n      <td>0</td>\n      <td>happens inside constructor</td>\n      <td>id like know happen call constructor class spe...</td>\n      <td>constructor allocation</td>\n      <td>define user contains method attribute object i...</td>\n      <td>2</td>\n      <td>0</td>\n    </tr>\n    <tr>\n      <th>8365</th>\n      <td>8365</td>\n      <td>Implicit conversion loses integer precision: '...</td>\n      <td>&lt;p&gt;I'm trying to build a project to distribute...</td>\n      <td>objective-c|implicit-conversion|implicit</td>\n      <td>&lt;p&gt;The warning is pretty clear: &lt;code&gt;timeOutP...</td>\n      <td>0</td>\n      <td>implicit conversion lose integer precision int...</td>\n      <td>im try build project distribute app applicatio...</td>\n      <td>objective implicit conversion implicit</td>\n      <td>warn pretty clear declare bit integer return b...</td>\n      <td>2</td>\n      <td>0</td>\n    </tr>\n    <tr>\n      <th>793</th>\n      <td>793</td>\n      <td>unwanted space in tr wkhtmltopdf</td>\n      <td>&lt;p&gt;wkhtmltopdf version(s) affected: wkhtmltox-...</td>\n      <td>wkhtmltopdf|html-to-pdf</td>\n      <td>&lt;p&gt;In the &lt;code&gt;div&lt;/code&gt; you are using insid...</td>\n      <td>0</td>\n      <td>unwanted space tr wkhtmltopdf</td>\n      <td>pwkhtmltopdf version affect wkhtmltox msvc win...</td>\n      <td>wkhtmltopdf html pdf</td>\n      <td>use inside add see solves problem</td>\n      <td>2</td>\n      <td>0</td>\n    </tr>\n    <tr>\n      <th>9871</th>\n      <td>9871</td>\n      <td>Convert an integer's binary data to float</td>\n      <td>&lt;p&gt;Lets say I have an integer:&lt;/p&gt;\\n\\n&lt;pre cla...</td>\n      <td>c++|floating-point</td>\n      <td>&lt;p&gt;You can use &lt;code&gt;reinterpret_cast&lt;/code&gt;:&lt;...</td>\n      <td>0</td>\n      <td>convert integer binary data float</td>\n      <td>let say integer unsigned long long int data wa...</td>\n      <td>float point</td>\n      <td>use float reinterpretcastlt floatamp gt data v...</td>\n      <td>2</td>\n      <td>0</td>\n    </tr>\n    <tr>\n      <th>8477</th>\n      <td>8477</td>\n      <td>Create Custom complex Datatypes in OPC UA (UA-...</td>\n      <td>&lt;p&gt;I am new to the OPC UA world. Can anybody g...</td>\n      <td>c#|opc|.net-standard-2.0|opc-ua|complex-data-t...</td>\n      <td>&lt;p&gt;if you don't want to use code generator the...</td>\n      <td>0</td>\n      <td>create custom complex datatypes standard</td>\n      <td>new world anybody guide create custom complex ...</td>\n      <td>opc net standard opc ua complex data type</td>\n      <td>pif dont want use code generator two way write...</td>\n      <td>2</td>\n      <td>0</td>\n    </tr>\n    <tr>\n      <th>8109</th>\n      <td>8109</td>\n      <td>Not able to read file content with sed command</td>\n      <td>&lt;p&gt;I am trying to read the below file line by ...</td>\n      <td>unix|sed</td>\n      <td>&lt;p&gt;Try to echo the line content along with sed...</td>\n      <td>0</td>\n      <td>able read file content sed command</td>\n      <td>try read file line line perform operation extr...</td>\n      <td>unix sed</td>\n      <td>try echo line content along sed logic like</td>\n      <td>2</td>\n      <td>0</td>\n    </tr>\n    <tr>\n      <th>7169</th>\n      <td>7169</td>\n      <td>Building \"Typescript\" folder to legacy javascr...</td>\n      <td>&lt;p&gt;I'm working on a project that was originall...</td>\n      <td>javascript|typescript|migration</td>\n      <td>&lt;h3&gt;Summary&lt;/h3&gt;\\n\\n&lt;p&gt;&lt;strike&gt;The answer is n...</td>\n      <td>0</td>\n      <td>building typescript folder legacy javascript f...</td>\n      <td>im work project originally write plain javascr...</td>\n      <td>javascript typescript migration</td>\n      <td>summary answer least single build step config ...</td>\n      <td>2</td>\n      <td>0</td>\n    </tr>\n    <tr>\n      <th>4174</th>\n      <td>4174</td>\n      <td>Any other way to write a loop for multiplicati...</td>\n      <td>&lt;p&gt;To print multiplication tables, I'm using a...</td>\n      <td>c++|c</td>\n      <td>&lt;p&gt;This is not a Python For loop&lt;/p&gt;\\n\\n&lt;p&gt;In ...</td>\n      <td>0</td>\n      <td>way write loop multiplication table take run t...</td>\n      <td>print multiplication table im use loop fix val...</td>\n      <td>NaN</td>\n      <td>python loop python use range function nice mul...</td>\n      <td>2</td>\n      <td>0</td>\n    </tr>\n    <tr>\n      <th>1829</th>\n      <td>1829</td>\n      <td>Find method to get records in DB returning emp...</td>\n      <td>&lt;p&gt;Now, I try to make an API with using GAE+Cl...</td>\n      <td>google-app-engine|go|google-cloud-sql|go-gorm</td>\n      <td>&lt;p&gt;I found how to be able to get correct &lt;code...</td>\n      <td>0</td>\n      <td>find method get record return empty datasets</td>\n      <td>try make use cloud make code package mainimpor...</td>\n      <td>google app engine go google cloud sql go gorm</td>\n      <td>find able get correct ive write function call ...</td>\n      <td>2</td>\n      <td>0</td>\n    </tr>\n    <tr>\n      <th>2029</th>\n      <td>2029</td>\n      <td>Network Byte[] to Int64 problems</td>\n      <td>&lt;p&gt;I am gathering binary information from a mu...</td>\n      <td>c#|byte|bitconverter</td>\n      <td>&lt;p&gt;You say it's a value in the range \"30XXX\" -...</td>\n      <td>0</td>\n      <td>network byte int problem</td>\n      <td>gather binary information multicast stream old...</td>\n      <td>byte bitconverter</td>\n      <td>say value range decimal hex big endian hex lit...</td>\n      <td>2</td>\n      <td>0</td>\n    </tr>\n    <tr>\n      <th>5648</th>\n      <td>5648</td>\n      <td>How do I use convertAndSendToUser() with an ex...</td>\n      <td>&lt;p&gt;I am trying to configure web socket support...</td>\n      <td>java|spring|spring-boot|spring-websocket</td>\n      <td>&lt;p&gt;Remove the &lt;code&gt;\"/user\"&lt;/code&gt; from &lt;code&gt;...</td>\n      <td>0</td>\n      <td>use convert send user external broker rabbit s...</td>\n      <td>try configure web socket support spring use ra...</td>\n      <td>java spring spring boot spring websocket</td>\n      <td>remove add spring automatically add subscibe b...</td>\n      <td>2</td>\n      <td>0</td>\n    </tr>\n    <tr>\n      <th>5212</th>\n      <td>5212</td>\n      <td>HTML script tag function not reading in in-lin...</td>\n      <td>&lt;p&gt;I have some code that is supposed to switch...</td>\n      <td>javascript|html</td>\n      <td>&lt;p&gt;This line of code has a rouge bracket which...</td>\n      <td>0</td>\n      <td>script tag function read line onchange attribute</td>\n      <td>code suppose switch theme use tag attribute sa...</td>\n      <td>javascript html</td>\n      <td>line code rouge bracket break see demo fix</td>\n      <td>2</td>\n      <td>0</td>\n    </tr>\n    <tr>\n      <th>8823</th>\n      <td>8823</td>\n      <td>Difference between Foreground Service and JobS...</td>\n      <td>&lt;p&gt;I have an app where I use a foreground serv...</td>\n      <td>android</td>\n      <td>&lt;p&gt;For your use case, you will be better off u...</td>\n      <td>0</td>\n      <td>difference foreground service job scheduler</td>\n      <td>app use foreground service start number thread...</td>\n      <td>android</td>\n      <td>use case well use accord android documentation...</td>\n      <td>2</td>\n      <td>0</td>\n    </tr>\n    <tr>\n      <th>693</th>\n      <td>693</td>\n      <td>What does a grey icon in remote GitHub mean</td>\n      <td>&lt;p&gt;Can anyone please tell me why i have the gr...</td>\n      <td>git|github|github-for-windows</td>\n      <td>&lt;p&gt;Git thinks it's a submodule as it has a &lt;co...</td>\n      <td>0</td>\n      <td>grey icon remote git hub mean</td>\n      <td>anyone please tell grey icon push file github ...</td>\n      <td>git github github window</td>\n      <td>git think submodule directory inside fix chang...</td>\n      <td>2</td>\n      <td>0</td>\n    </tr>\n    <tr>\n      <th>6776</th>\n      <td>6776</td>\n      <td>Gradient descent from scratch in python not wo...</td>\n      <td>&lt;p&gt;I am trying to implement a gradient descent...</td>\n      <td>python|numpy|optimization|gradient-descent</td>\n      <td>&lt;p&gt;I guess you were hit by broadcasting. Varia...</td>\n      <td>0</td>\n      <td>gradient descent scratch python work</td>\n      <td>try implement gradient descent algorithm scrat...</td>\n      <td>python numpy optimization gradient descent</td>\n      <td>guess hit broadcast variable ys shape subtract...</td>\n      <td>2</td>\n      <td>0</td>\n    </tr>\n    <tr>\n      <th>1686</th>\n      <td>1686</td>\n      <td>MongoDB - shutting down with code:62</td>\n      <td>&lt;p&gt;I followed the MongoDB Docs to run my Mongo...</td>\n      <td>mongodb</td>\n      <td>&lt;p&gt;Although the accepted answer works, it remo...</td>\n      <td>0</td>\n      <td>mongo shutting code</td>\n      <td>follow mongo doc run mongo mac start mongo use...</td>\n      <td>mongodb</td>\n      <td>although accepted answer work remove data work...</td>\n      <td>2</td>\n      <td>0</td>\n    </tr>\n    <tr>\n      <th>1524</th>\n      <td>1524</td>\n      <td>Getting a \"Future Warning\" when importing for ...</td>\n      <td>&lt;p&gt;I am currently , successfully, importing st...</td>\n      <td>python|pandas-datareader</td>\n      <td>&lt;p&gt;For mac OS open &lt;code&gt;/Library/Frameworks/P...</td>\n      <td>0</td>\n      <td>get future warn import yahoo panda datareader</td>\n      <td>currently successfully import stock informatio...</td>\n      <td>python panda datareader</td>\n      <td>mac open change</td>\n      <td>2</td>\n      <td>0</td>\n    </tr>\n    <tr>\n      <th>7382</th>\n      <td>7382</td>\n      <td>Vim create more junk files and cannot be remov...</td>\n      <td>&lt;p&gt;Just upgrade gitbash to last version. \\nThe...</td>\n      <td>vim|git-bash</td>\n      <td>&lt;p&gt;&lt;a href=\"https://unix.stackexchange.com/a/3...</td>\n      <td>0</td>\n      <td>vim create junk file can not remove rm rf gitb...</td>\n      <td>upgrade gitbash last version try create file u...</td>\n      <td>vim git bash</td>\n      <td>invalid request code seem sure issue cygwin in...</td>\n      <td>2</td>\n      <td>0</td>\n    </tr>\n  </tbody>\n</table>\n</div>"
     },
     "metadata": {},
     "execution_count": 34
    }
   ],
   "source": [
    "### Selecting rows from df_test based on condition that predicted and actual score diverge by 2\n",
    "divergence_df = df_test[(df_test['predicted_score_cat'] - df_test['score_cat_all'] == abs(2))]\n",
    "\n",
    "divergence_df.head(40)"
   ]
  },
  {
   "cell_type": "code",
   "execution_count": 43,
   "metadata": {},
   "outputs": [
    {
     "output_type": "error",
     "ename": "KeyError",
     "evalue": "'score'",
     "traceback": [
      "\u001b[0;31m---------------------------------------------------------------------------\u001b[0m",
      "\u001b[0;31mKeyError\u001b[0m                                  Traceback (most recent call last)",
      "\u001b[0;32m<ipython-input-43-33761034eeef>\u001b[0m in \u001b[0;36m<module>\u001b[0;34m\u001b[0m\n\u001b[0;32m----> 1\u001b[0;31m \u001b[0mdivergence_df\u001b[0m\u001b[0;34m.\u001b[0m\u001b[0mgroupby\u001b[0m\u001b[0;34m(\u001b[0m\u001b[0;34m[\u001b[0m\u001b[0;34m'score'\u001b[0m\u001b[0;34m,\u001b[0m \u001b[0;34m'predicted_score_cat'\u001b[0m\u001b[0;34m]\u001b[0m\u001b[0;34m)\u001b[0m\u001b[0;34m.\u001b[0m\u001b[0msize\u001b[0m\u001b[0;34m(\u001b[0m\u001b[0;34m)\u001b[0m\u001b[0;34m.\u001b[0m\u001b[0munstack\u001b[0m\u001b[0;34m(\u001b[0m\u001b[0mfill_value\u001b[0m\u001b[0;34m=\u001b[0m\u001b[0;36m0\u001b[0m\u001b[0;34m)\u001b[0m\u001b[0;34m\u001b[0m\u001b[0;34m\u001b[0m\u001b[0m\n\u001b[0m",
      "\u001b[0;32m~/anaconda3/envs/stack/lib/python3.8/site-packages/pandas/core/frame.py\u001b[0m in \u001b[0;36mgroupby\u001b[0;34m(self, by, axis, level, as_index, sort, group_keys, squeeze, observed)\u001b[0m\n\u001b[1;32m   5799\u001b[0m         \u001b[0maxis\u001b[0m \u001b[0;34m=\u001b[0m \u001b[0mself\u001b[0m\u001b[0;34m.\u001b[0m\u001b[0m_get_axis_number\u001b[0m\u001b[0;34m(\u001b[0m\u001b[0maxis\u001b[0m\u001b[0;34m)\u001b[0m\u001b[0;34m\u001b[0m\u001b[0;34m\u001b[0m\u001b[0m\n\u001b[1;32m   5800\u001b[0m \u001b[0;34m\u001b[0m\u001b[0m\n\u001b[0;32m-> 5801\u001b[0;31m         return groupby_generic.DataFrameGroupBy(\n\u001b[0m\u001b[1;32m   5802\u001b[0m             \u001b[0mobj\u001b[0m\u001b[0;34m=\u001b[0m\u001b[0mself\u001b[0m\u001b[0;34m,\u001b[0m\u001b[0;34m\u001b[0m\u001b[0;34m\u001b[0m\u001b[0m\n\u001b[1;32m   5803\u001b[0m             \u001b[0mkeys\u001b[0m\u001b[0;34m=\u001b[0m\u001b[0mby\u001b[0m\u001b[0;34m,\u001b[0m\u001b[0;34m\u001b[0m\u001b[0;34m\u001b[0m\u001b[0m\n",
      "\u001b[0;32m~/anaconda3/envs/stack/lib/python3.8/site-packages/pandas/core/groupby/groupby.py\u001b[0m in \u001b[0;36m__init__\u001b[0;34m(self, obj, keys, axis, level, grouper, exclusions, selection, as_index, sort, group_keys, squeeze, observed, mutated)\u001b[0m\n\u001b[1;32m    400\u001b[0m             \u001b[0;32mfrom\u001b[0m \u001b[0mpandas\u001b[0m\u001b[0;34m.\u001b[0m\u001b[0mcore\u001b[0m\u001b[0;34m.\u001b[0m\u001b[0mgroupby\u001b[0m\u001b[0;34m.\u001b[0m\u001b[0mgrouper\u001b[0m \u001b[0;32mimport\u001b[0m \u001b[0mget_grouper\u001b[0m\u001b[0;34m\u001b[0m\u001b[0;34m\u001b[0m\u001b[0m\n\u001b[1;32m    401\u001b[0m \u001b[0;34m\u001b[0m\u001b[0m\n\u001b[0;32m--> 402\u001b[0;31m             grouper, exclusions, obj = get_grouper(\n\u001b[0m\u001b[1;32m    403\u001b[0m                 \u001b[0mobj\u001b[0m\u001b[0;34m,\u001b[0m\u001b[0;34m\u001b[0m\u001b[0;34m\u001b[0m\u001b[0m\n\u001b[1;32m    404\u001b[0m                 \u001b[0mkeys\u001b[0m\u001b[0;34m,\u001b[0m\u001b[0;34m\u001b[0m\u001b[0;34m\u001b[0m\u001b[0m\n",
      "\u001b[0;32m~/anaconda3/envs/stack/lib/python3.8/site-packages/pandas/core/groupby/grouper.py\u001b[0m in \u001b[0;36mget_grouper\u001b[0;34m(obj, key, axis, level, sort, observed, mutated, validate)\u001b[0m\n\u001b[1;32m    596\u001b[0m                 \u001b[0min_axis\u001b[0m\u001b[0;34m,\u001b[0m \u001b[0mname\u001b[0m\u001b[0;34m,\u001b[0m \u001b[0mlevel\u001b[0m\u001b[0;34m,\u001b[0m \u001b[0mgpr\u001b[0m \u001b[0;34m=\u001b[0m \u001b[0;32mFalse\u001b[0m\u001b[0;34m,\u001b[0m \u001b[0;32mNone\u001b[0m\u001b[0;34m,\u001b[0m \u001b[0mgpr\u001b[0m\u001b[0;34m,\u001b[0m \u001b[0;32mNone\u001b[0m\u001b[0;34m\u001b[0m\u001b[0;34m\u001b[0m\u001b[0m\n\u001b[1;32m    597\u001b[0m             \u001b[0;32melse\u001b[0m\u001b[0;34m:\u001b[0m\u001b[0;34m\u001b[0m\u001b[0;34m\u001b[0m\u001b[0m\n\u001b[0;32m--> 598\u001b[0;31m                 \u001b[0;32mraise\u001b[0m \u001b[0mKeyError\u001b[0m\u001b[0;34m(\u001b[0m\u001b[0mgpr\u001b[0m\u001b[0;34m)\u001b[0m\u001b[0;34m\u001b[0m\u001b[0;34m\u001b[0m\u001b[0m\n\u001b[0m\u001b[1;32m    599\u001b[0m         \u001b[0;32melif\u001b[0m \u001b[0misinstance\u001b[0m\u001b[0;34m(\u001b[0m\u001b[0mgpr\u001b[0m\u001b[0;34m,\u001b[0m \u001b[0mGrouper\u001b[0m\u001b[0;34m)\u001b[0m \u001b[0;32mand\u001b[0m \u001b[0mgpr\u001b[0m\u001b[0;34m.\u001b[0m\u001b[0mkey\u001b[0m \u001b[0;32mis\u001b[0m \u001b[0;32mnot\u001b[0m \u001b[0;32mNone\u001b[0m\u001b[0;34m:\u001b[0m\u001b[0;34m\u001b[0m\u001b[0;34m\u001b[0m\u001b[0m\n\u001b[1;32m    600\u001b[0m             \u001b[0;31m# Add key to exclusions\u001b[0m\u001b[0;34m\u001b[0m\u001b[0;34m\u001b[0m\u001b[0;34m\u001b[0m\u001b[0m\n",
      "\u001b[0;31mKeyError\u001b[0m: 'score'"
     ]
    }
   ],
   "source": [
    "divergence_df.groupby(['score_cat_all', 'predicted_score_cat']).size().unstack(fill_value=0)"
   ]
  },
  {
   "cell_type": "code",
   "execution_count": 49,
   "metadata": {},
   "outputs": [],
   "source": [
    "### Define the model cross-validation configuration\n",
    "\n",
    "cv = KFold(n_splits=5, shuffle=True, random_state=1)"
   ]
  },
  {
   "cell_type": "code",
   "execution_count": 50,
   "metadata": {},
   "outputs": [
    {
     "output_type": "execute_result",
     "data": {
      "text/plain": "array([0.47926597, 0.47878932, 0.46520496, 0.4965435 , 0.47175209])"
     },
     "metadata": {},
     "execution_count": 50
    }
   ],
   "source": [
    "cross_val_score(model_pipeline, X_train, y_train, cv=cv)"
   ]
  },
  {
   "cell_type": "code",
   "execution_count": 156,
   "metadata": {
    "tags": []
   },
   "outputs": [
    {
     "output_type": "stream",
     "name": "stdout",
     "text": "{'classifier__n_estimators': [3000], 'classifier__max_features': ['sqrt'], 'classifier__max_depth': [None], 'classifier__min_samples_split': [1, 2], 'classifier__min_samples_leaf': [1, 2]}\n"
    }
   ],
   "source": [
    "### Create param grid based on results from random grid search\n",
    "\n",
    "param_grid = {'classifier__n_estimators': [3000],\n",
    "               'classifier__max_features': ['sqrt'],\n",
    "               'classifier__max_depth': [None],\n",
    "               'classifier__min_samples_split': [1, 2],\n",
    "               'classifier__min_samples_leaf': [1, 2]}\n",
    "\n",
    "print(param_grid)"
   ]
  },
  {
   "cell_type": "code",
   "execution_count": 157,
   "metadata": {},
   "outputs": [],
   "source": [
    "### Choose best-performing model to tune using GridSearchCV\n",
    "\n",
    "grid_classifier = GridSearchCV(model_pipeline, param_grid = param_grid, cv=cv, iid=False, n_jobs=-1, refit = True)\n",
    "# scoring='roc_auc' --> reincorporate"
   ]
  },
  {
   "cell_type": "code",
   "execution_count": 158,
   "metadata": {
    "tags": []
   },
   "outputs": [
    {
     "output_type": "stream",
     "name": "stdout",
     "text": "Best result: 0.402153 using parameters {'classifier__max_depth': None, 'classifier__max_features': 'sqrt', 'classifier__min_samples_leaf': 1, 'classifier__min_samples_split': 2, 'classifier__n_estimators': 3000}\n"
    }
   ],
   "source": [
    "grid_classifier.fit(X_train, y_train)\n",
    "\n",
    "print(\"Best result: %f using parameters %s\" % (grid_classifier.best_score_, grid_classifier.best_params_))"
   ]
  },
  {
   "cell_type": "code",
   "execution_count": 159,
   "metadata": {
    "tags": []
   },
   "outputs": [
    {
     "output_type": "stream",
     "name": "stdout",
     "text": "Model Score assessed on test data: 0.378\nClassification Report:               precision    recall  f1-score   support\n\n           0       0.39      0.09      0.14      3055\n           1       0.41      0.35      0.38      3013\n           2       0.36      0.71      0.48      2929\n\n    accuracy                           0.38      8997\n   macro avg       0.39      0.38      0.33      8997\nweighted avg       0.39      0.38      0.33      8997\n\n"
    }
   ],
   "source": [
    "### Assess model performance on test data\n",
    "print(\"Model Score assessed on test data: %.3f\" % grid_classifier.score(X_test, y_test))\n",
    "\n",
    "print(\"Classification Report:\", classification_report(y_test, grid_classifier.predict(X_test)))\n",
    "\n",
    "# https://scikit-learn.org/stable/modules/generated/sklearn.metrics.roc_auc_score.html"
   ]
  },
  {
   "cell_type": "code",
   "execution_count": 151,
   "metadata": {},
   "outputs": [],
   "source": [
    "### Define classifier with tuned parameters\n",
    "\n",
    "classifier = GradientBoostingClassifier(max_depth = None, \n",
    "                                        max_features = 'sqrt', \n",
    "                                        min_samples_leaf = 1,\n",
    "                                        min_samples_split = 2, \n",
    "                                        n_estimators = 2000, \n",
    "                                        random_state = 1)"
   ]
  },
  {
   "cell_type": "code",
   "execution_count": 90,
   "metadata": {
    "tags": []
   },
   "outputs": [
    {
     "output_type": "stream",
     "name": "stdout",
     "text": "{'classifier__n_estimators': [200, 400, 600, 800, 1000, 1200, 1400, 1600, 1800, 2000], 'classifier__max_features': ['auto', 'sqrt'], 'classifier__max_depth': [10, 20, 30, 40, 50, 60, 70, 80, 90, 100, 110, None], 'classifier__min_samples_split': [2, 5, 10], 'classifier__min_samples_leaf': [1, 2, 4]}\n"
    }
   ],
   "source": [
    "### Choose best-performing model to tune using random hyperparameter grid\n",
    "\n",
    "# Number of trees in random forest\n",
    "n_estimators = [int(x) for x in np.linspace(start = 200, stop = 2000, num = 10)]\n",
    "# Number of features to consider at every split\n",
    "max_features = ['auto', 'sqrt']\n",
    "# Maximum number of levels in tree\n",
    "max_depth = [int(x) for x in np.linspace(10, 110, num = 11)]\n",
    "max_depth.append(None)\n",
    "# Minimum number of samples required to split a node\n",
    "min_samples_split = [2, 5, 10]\n",
    "# Minimum number of samples required at each leaf node\n",
    "min_samples_leaf = [1, 2, 4]\n",
    "\n",
    "### Create random grid\n",
    "random_grid = {'classifier__n_estimators': n_estimators,\n",
    "               'classifier__max_features': max_features,\n",
    "               'classifier__max_depth': max_depth,\n",
    "               'classifier__min_samples_split': min_samples_split,\n",
    "               'classifier__min_samples_leaf': min_samples_leaf}\n",
    "\n",
    "print(random_grid)"
   ]
  },
  {
   "cell_type": "code",
   "execution_count": 91,
   "metadata": {
    "tags": []
   },
   "outputs": [
    {
     "output_type": "stream",
     "name": "stdout",
     "text": "Fitting 5 folds for each of 100 candidates, totalling 500 fits\n[Parallel(n_jobs=-1)]: Using backend LokyBackend with 4 concurrent workers.\n[Parallel(n_jobs=-1)]: Done  33 tasks      | elapsed: 32.9min\n[Parallel(n_jobs=-1)]: Done 154 tasks      | elapsed: 74.2min\n[Parallel(n_jobs=-1)]: Done 357 tasks      | elapsed: 166.2min\n[Parallel(n_jobs=-1)]: Done 500 out of 500 | elapsed: 239.8min finished\n{'classifier__n_estimators': 2000, 'classifier__min_samples_split': 2, 'classifier__min_samples_leaf': 1, 'classifier__max_features': 'sqrt', 'classifier__max_depth': None}\n0.37238393071926873\n"
    }
   ],
   "source": [
    "### Find best combination of parameters using randomized hyperparameter search\n",
    "\n",
    "random_grid_classifier = RandomizedSearchCV(model_pipeline, param_distributions = random_grid, n_iter = 100, cv = cv, verbose=2, random_state=42, n_jobs = -1)\n",
    "\n",
    "random_grid_classifier.fit(X_train, y_train)\n",
    "\n",
    "print(random_grid_classifier.best_params_)\n",
    "\n",
    "print(random_grid_classifier.best_score_)"
   ]
  },
  {
   "cell_type": "code",
   "execution_count": null,
   "metadata": {},
   "outputs": [],
   "source": [
    "### Fitting pipeline to train data\n",
    "\n",
    "model_pipeline.fit(X_train, y_train)\n",
    "\n",
    "### Assess model performance on test data\n",
    "\n",
    "print(\"model score: %.3f\" % model_pipeline.score(X_test, y_test))"
   ]
  },
  {
   "cell_type": "code",
   "execution_count": null,
   "metadata": {},
   "outputs": [],
   "source": [
    "### Pipe different features in with a name so the step can be later called for details\n",
    "\n",
    "pipeline = Pipeline([\n",
    "    ('feats', FeatureUnion([\n",
    "        # Ngrams\n",
    "        ('ngram_all', Ngrams(X_train[['answer_text_clean']]))\n",
    "    ])),\n",
    "     # Classifier\n",
    "     ('kneighbors', KNeighborsClassifier(n_neighbors=5, leaf_size=40))])"
   ]
  },
  {
   "cell_type": "code",
   "execution_count": null,
   "metadata": {},
   "outputs": [],
   "source": [
    "### Cross validation and tuning\n",
    "from sklearn.model_selection import GridSearchCV\n",
    "param_grid = {'kneighbors__n_neighbors': (3, 5, 10),\n",
    "            'kneighbors__leaf_size': (10, 20 , 30),\n",
    "            'kneighbors__p': (1,2)\n",
    "            }"
   ]
  }
 ],
 "metadata": {
  "language_info": {
   "codemirror_mode": {
    "name": "ipython",
    "version": 3
   },
   "file_extension": ".py",
   "mimetype": "text/x-python",
   "name": "python",
   "nbconvert_exporter": "python",
   "pygments_lexer": "ipython3",
   "version": "3.8.0-final"
  },
  "orig_nbformat": 2,
  "kernelspec": {
   "name": "python38064bitstackconda62acee1f2fa049ee9302fd58619215ba",
   "display_name": "Python 3.8.0 64-bit ('stack': conda)"
  }
 },
 "nbformat": 4,
 "nbformat_minor": 2
}