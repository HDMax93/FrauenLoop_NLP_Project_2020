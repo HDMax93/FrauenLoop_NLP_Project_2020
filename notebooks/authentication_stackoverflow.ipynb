{
 "cells": [
  {
   "cell_type": "code",
   "execution_count": 4,
   "metadata": {},
   "outputs": [],
   "source": [
    "### Import packages for authentication\n",
    "\n",
    "from google.cloud import bigquery\n",
    "from google.oauth2 import service_account\n",
    "\n",
    "### Import packages for converting query results into dataframe\n",
    "\n",
    "import pandas as pd \n",
    "\n",
    "## Import packages to create absolute file path &  make code independent of operating system\n",
    "\n",
    "from pathlib import Path\n",
    "import os.path"
   ]
  },
  {
   "cell_type": "code",
   "execution_count": 6,
   "metadata": {},
   "outputs": [],
   "source": [
    "### Authentication \n",
    "\n",
    "base_path = Path(\"__file__\").parent\n",
    "full_path = (base_path / \"../data/raw/GoogleBigQuery_key.json\").resolve()\n",
    "\n",
    "credentials = service_account.Credentials.from_service_account_file(os.path.join(full_path))"
   ]
  },
  {
   "cell_type": "code",
   "execution_count": 8,
   "metadata": {},
   "outputs": [],
   "source": [
    "### Construct a BigQuery client object.\n",
    "\n",
    "client = bigquery.Client(credentials=credentials, \n",
    "project = credentials.project_id)"
   ]
  },
  {
   "cell_type": "code",
   "execution_count": 9,
   "metadata": {},
   "outputs": [
    {
     "output_type": "stream",
     "name": "stdout",
     "text": "['badges', 'comments', 'post_history', 'post_links', 'posts_answers', 'posts_moderator_nomination', 'posts_orphaned_tag_wiki', 'posts_privilege_wiki', 'posts_questions', 'posts_tag_wiki', 'posts_tag_wiki_excerpt', 'posts_wiki_placeholder', 'stackoverflow_posts', 'tags', 'users', 'votes']\n"
    }
   ],
   "source": [
    "### Getting overview of Stack Overflow tables\n",
    "\n",
    "stackoverflow = client.dataset('stackoverflow', project= 'bigquery-public-data')\n",
    "print([x.table_id for x in client.list_tables(stackoverflow)])"
   ]
  },
  {
   "cell_type": "code",
   "execution_count": 6,
   "metadata": {},
   "outputs": [],
   "source": [
    "### Make an API request\n",
    "\n",
    "query = \"\"\"\n",
    "SELECT\n",
    "      pq.score, pq.id as question_id, pa.parent_id as question_id_check, pq.title as question_title, pq.body as question_text, pq.answer_count,\n",
    "      pq.comment_count, pq.creation_date, pq.favorite_count, pq.tags, pq.view_count, pa.body as answer_text\n",
    "FROM `bigquery-public-data.stackoverflow.posts_questions` pq\n",
    "INNER JOIN `bigquery-public-data.stackoverflow.posts_answers` pa ON pq.id = pa.parent_id\n",
    "WHERE pa.creation_date > \"2019-05-30 00:00:00.000 UTC\"\n",
    "\"\"\"\n",
    "\n",
    "dataframe = (\n",
    "    client.query(query)\n",
    "    .result()\n",
    "    .to_dataframe()\n",
    ")"
   ]
  },
  {
   "cell_type": "code",
   "execution_count": 7,
   "metadata": {
    "tags": [
     "outputPrepend"
    ]
   },
   "outputs": [
    {
     "output_type": "display_data",
     "data": {
      "text/plain": "         score  question_id  question_id_check  \\\n0           -2     59318968           59318968   \n1          117     14940660           14940660   \n2            1     43315796           43315796   \n3            0     57089771           57089771   \n4            1     57429407           57429407   \n...        ...          ...                ...   \n2463027      1     60836246           60836246   \n2463028     -1     59485298           59485298   \n2463029     -1     57494584           57494584   \n2463030      1     57648623           57648623   \n2463031      1     57617812           57617812   \n\n                                            question_title  \\\n0        how can i have an logout option in my flutter ...   \n1        What's Mongoose error Cast to ObjectId failed ...   \n2                           Angular2- Radio button testing   \n3        Filter out records in specified day of week in...   \n4        Serializing a map getting an additional empty ...   \n...                                                    ...   \n2463027                 Standard library ABI compatibility   \n2463028  Why view.height is 3 times bigger than actual ...   \n2463029                 C# MVC Ajax call returns undefined   \n2463030  How to create an expandeble multible imagebutt...   \n2463031  Is it possible to regex match a certain group ...   \n\n                                             question_text  answer_count  \\\n0        <p>i have developed an admin app in that i hav...             2   \n1        <p>When sending a request to <code>/customers/...            21   \n2        <p>I'm trying to test an HTML radio button wit...             2   \n3        <p>I have inner query which is returning a spe...             2   \n4        <p>I am trying to serialize an object of <code...             1   \n...                                                    ...           ...   \n2463027  <p>Suppose we have a shared library which acce...             2   \n2463028  <p>I have an ImageView with height set to 120d...             5   \n2463029  <p>I am new to ajax, am trying to send usernam...             2   \n2463030  <p>I want to have multiple images displayed in...             1   \n2463031  <p>I'm trying to filter out files from a direc...             2   \n\n         comment_count                    creation_date  favorite_count  \\\n0                    1 2019-12-13 08:47:25.110000+00:00             NaN   \n1                    0 2013-02-18 16:18:03.700000+00:00            31.0   \n2                    7 2017-04-10 05:49:49.340000+00:00             NaN   \n3                    7 2019-07-18 08:02:50.267000+00:00             1.0   \n4                    8 2019-08-09 11:45:44.507000+00:00             NaN   \n...                ...                              ...             ...   \n2463027              0 2020-03-24 17:28:38.407000+00:00             NaN   \n2463028              0 2019-12-26 07:31:51.597000+00:00             NaN   \n2463029              3 2019-08-14 12:21:15.717000+00:00             NaN   \n2463030              4 2019-08-25 18:20:28.320000+00:00             0.0   \n2463031              4 2019-08-22 22:39:29.743000+00:00             1.0   \n\n                                                  tags  view_count  \\\n0        firebase|flutter|dart|firebase-authentication         189   \n1                                     mongodb|mongoose      166823   \n2               angular|karma-jasmine|angular2-testing        2018   \n3             sql|database|postgresql|date|inner-query         124   \n4                                               c++|qt          53   \n...                                                ...         ...   \n2463027                                  linux|gcc|g++          41   \n2463028                        android|xml|kotlin|view          72   \n2463029       javascript|c#|ajax|model-view-controller         131   \n2463030                               c#|xamarin.forms          52   \n2463031                                   python|regex          65   \n\n                                               answer_text  \n0        <p>replace this line</p>\\n\\n<pre><code>Navigat...  \n1        <p>If anyone runs into this, \\nwhat solved it ...  \n2        <p>id attributes do need to be unique.  To mak...  \n3        <pre><code>SELECT id, to_char(markupdate, 'Day...  \n4        <p>You need to test the stream <em>after</em> ...  \n...                                                    ...  \n2463027  <p>ABIs in practice are not linked to the stan...  \n2463028  <p>Because in xml file you have given size in ...  \n2463029  <p>Specific to your case, you can refer to thi...  \n2463030  <p>I solved the problem by placing the grid in...  \n2463031  <p>You could also use a single lookahead to as...  \n\n[2463032 rows x 12 columns]",
      "text/html": "<div>\n<style scoped>\n    .dataframe tbody tr th:only-of-type {\n        vertical-align: middle;\n    }\n\n    .dataframe tbody tr th {\n        vertical-align: top;\n    }\n\n    .dataframe thead th {\n        text-align: right;\n    }\n</style>\n<table border=\"1\" class=\"dataframe\">\n  <thead>\n    <tr style=\"text-align: right;\">\n      <th></th>\n      <th>score</th>\n      <th>question_id</th>\n      <th>question_id_check</th>\n      <th>question_title</th>\n      <th>question_text</th>\n      <th>answer_count</th>\n      <th>comment_count</th>\n      <th>creation_date</th>\n      <th>favorite_count</th>\n      <th>tags</th>\n      <th>view_count</th>\n      <th>answer_text</th>\n    </tr>\n  </thead>\n  <tbody>\n    <tr>\n      <th>0</th>\n      <td>-2</td>\n      <td>59318968</td>\n      <td>59318968</td>\n      <td>how can i have an logout option in my flutter ...</td>\n      <td>&lt;p&gt;i have developed an admin app in that i hav...</td>\n      <td>2</td>\n      <td>1</td>\n      <td>2019-12-13 08:47:25.110000+00:00</td>\n      <td>NaN</td>\n      <td>firebase|flutter|dart|firebase-authentication</td>\n      <td>189</td>\n      <td>&lt;p&gt;replace this line&lt;/p&gt;\\n\\n&lt;pre&gt;&lt;code&gt;Navigat...</td>\n    </tr>\n    <tr>\n      <th>1</th>\n      <td>117</td>\n      <td>14940660</td>\n      <td>14940660</td>\n      <td>What's Mongoose error Cast to ObjectId failed ...</td>\n      <td>&lt;p&gt;When sending a request to &lt;code&gt;/customers/...</td>\n      <td>21</td>\n      <td>0</td>\n      <td>2013-02-18 16:18:03.700000+00:00</td>\n      <td>31.0</td>\n      <td>mongodb|mongoose</td>\n      <td>166823</td>\n      <td>&lt;p&gt;If anyone runs into this, \\nwhat solved it ...</td>\n    </tr>\n    <tr>\n      <th>2</th>\n      <td>1</td>\n      <td>43315796</td>\n      <td>43315796</td>\n      <td>Angular2- Radio button testing</td>\n      <td>&lt;p&gt;I'm trying to test an HTML radio button wit...</td>\n      <td>2</td>\n      <td>7</td>\n      <td>2017-04-10 05:49:49.340000+00:00</td>\n      <td>NaN</td>\n      <td>angular|karma-jasmine|angular2-testing</td>\n      <td>2018</td>\n      <td>&lt;p&gt;id attributes do need to be unique.  To mak...</td>\n    </tr>\n    <tr>\n      <th>3</th>\n      <td>0</td>\n      <td>57089771</td>\n      <td>57089771</td>\n      <td>Filter out records in specified day of week in...</td>\n      <td>&lt;p&gt;I have inner query which is returning a spe...</td>\n      <td>2</td>\n      <td>7</td>\n      <td>2019-07-18 08:02:50.267000+00:00</td>\n      <td>1.0</td>\n      <td>sql|database|postgresql|date|inner-query</td>\n      <td>124</td>\n      <td>&lt;pre&gt;&lt;code&gt;SELECT id, to_char(markupdate, 'Day...</td>\n    </tr>\n    <tr>\n      <th>4</th>\n      <td>1</td>\n      <td>57429407</td>\n      <td>57429407</td>\n      <td>Serializing a map getting an additional empty ...</td>\n      <td>&lt;p&gt;I am trying to serialize an object of &lt;code...</td>\n      <td>1</td>\n      <td>8</td>\n      <td>2019-08-09 11:45:44.507000+00:00</td>\n      <td>NaN</td>\n      <td>c++|qt</td>\n      <td>53</td>\n      <td>&lt;p&gt;You need to test the stream &lt;em&gt;after&lt;/em&gt; ...</td>\n    </tr>\n    <tr>\n      <th>...</th>\n      <td>...</td>\n      <td>...</td>\n      <td>...</td>\n      <td>...</td>\n      <td>...</td>\n      <td>...</td>\n      <td>...</td>\n      <td>...</td>\n      <td>...</td>\n      <td>...</td>\n      <td>...</td>\n      <td>...</td>\n    </tr>\n    <tr>\n      <th>2463027</th>\n      <td>1</td>\n      <td>60836246</td>\n      <td>60836246</td>\n      <td>Standard library ABI compatibility</td>\n      <td>&lt;p&gt;Suppose we have a shared library which acce...</td>\n      <td>2</td>\n      <td>0</td>\n      <td>2020-03-24 17:28:38.407000+00:00</td>\n      <td>NaN</td>\n      <td>linux|gcc|g++</td>\n      <td>41</td>\n      <td>&lt;p&gt;ABIs in practice are not linked to the stan...</td>\n    </tr>\n    <tr>\n      <th>2463028</th>\n      <td>-1</td>\n      <td>59485298</td>\n      <td>59485298</td>\n      <td>Why view.height is 3 times bigger than actual ...</td>\n      <td>&lt;p&gt;I have an ImageView with height set to 120d...</td>\n      <td>5</td>\n      <td>0</td>\n      <td>2019-12-26 07:31:51.597000+00:00</td>\n      <td>NaN</td>\n      <td>android|xml|kotlin|view</td>\n      <td>72</td>\n      <td>&lt;p&gt;Because in xml file you have given size in ...</td>\n    </tr>\n    <tr>\n      <th>2463029</th>\n      <td>-1</td>\n      <td>57494584</td>\n      <td>57494584</td>\n      <td>C# MVC Ajax call returns undefined</td>\n      <td>&lt;p&gt;I am new to ajax, am trying to send usernam...</td>\n      <td>2</td>\n      <td>3</td>\n      <td>2019-08-14 12:21:15.717000+00:00</td>\n      <td>NaN</td>\n      <td>javascript|c#|ajax|model-view-controller</td>\n      <td>131</td>\n      <td>&lt;p&gt;Specific to your case, you can refer to thi...</td>\n    </tr>\n    <tr>\n      <th>2463030</th>\n      <td>1</td>\n      <td>57648623</td>\n      <td>57648623</td>\n      <td>How to create an expandeble multible imagebutt...</td>\n      <td>&lt;p&gt;I want to have multiple images displayed in...</td>\n      <td>1</td>\n      <td>4</td>\n      <td>2019-08-25 18:20:28.320000+00:00</td>\n      <td>0.0</td>\n      <td>c#|xamarin.forms</td>\n      <td>52</td>\n      <td>&lt;p&gt;I solved the problem by placing the grid in...</td>\n    </tr>\n    <tr>\n      <th>2463031</th>\n      <td>1</td>\n      <td>57617812</td>\n      <td>57617812</td>\n      <td>Is it possible to regex match a certain group ...</td>\n      <td>&lt;p&gt;I'm trying to filter out files from a direc...</td>\n      <td>2</td>\n      <td>4</td>\n      <td>2019-08-22 22:39:29.743000+00:00</td>\n      <td>1.0</td>\n      <td>python|regex</td>\n      <td>65</td>\n      <td>&lt;p&gt;You could also use a single lookahead to as...</td>\n    </tr>\n  </tbody>\n</table>\n<p>2463032 rows × 12 columns</p>\n</div>"
     },
     "metadata": {}
    }
   ],
   "source": [
    "### Display query results\n",
    "\n",
    "display(dataframe)"
   ]
  },
  {
   "cell_type": "code",
   "execution_count": 11,
   "metadata": {},
   "outputs": [],
   "source": [
    "### Save dataframe to a csv file\n",
    "\n",
    "base_path = Path(\"__file__\").parent\n",
    "full_path = (base_path / \"../data/raw/stackoverflow_raw.csv\").resolve()\n",
    "\n",
    "dataframe.to_csv(os.path.join(full_path))"
   ]
  },
  {
   "cell_type": "code",
   "execution_count": null,
   "metadata": {},
   "outputs": [],
   "source": [
    "# Sample from main dataset\n",
    "\n",
    "stackoverflow = dataframe.sample(n = 30000, random_state = 1)"
   ]
  },
  {
   "cell_type": "code",
   "execution_count": null,
   "metadata": {},
   "outputs": [],
   "source": [
    "### Save sample of dataframe to a csv file\n",
    "\n",
    "base_path = Path(\"__file__\").parent\n",
    "full_path = (base_path / \"../../data/raw/stackoverflow_raw_sample.csv\").resolve()\n",
    "stackoverflow.to_csv(os.path.join(full_path))"
   ]
  }
 ],
 "metadata": {
  "language_info": {
   "codemirror_mode": {
    "name": "ipython",
    "version": 3
   },
   "file_extension": ".py",
   "mimetype": "text/x-python",
   "name": "python",
   "nbconvert_exporter": "python",
   "pygments_lexer": "ipython3",
   "version": "3.8.0-final"
  },
  "orig_nbformat": 2,
  "kernelspec": {
   "name": "python38064bitstackconda62acee1f2fa049ee9302fd58619215ba",
   "display_name": "Python 3.8.0 64-bit ('stack': conda)"
  }
 },
 "nbformat": 4,
 "nbformat_minor": 2
}